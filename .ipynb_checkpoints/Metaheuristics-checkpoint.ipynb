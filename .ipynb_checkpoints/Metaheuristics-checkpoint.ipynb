{
 "cells": [
  {
   "cell_type": "markdown",
   "id": "77f27592-08b0-4dd6-80c3-0396c2a1fc08",
   "metadata": {},
   "source": [
    "# Metaheuristics - Flowshop problemm"
   ]
  },
  {
   "cell_type": "markdown",
   "id": "44b0addf-4dcd-40c6-a31a-25f4e5003253",
   "metadata": {},
   "source": [
    "### About this notebook\n",
    "This notebook contains a hands-on the flowshop problem. We will focus on implementing some of the most known metaheuristic in order to solve this problem.\n",
    "\n",
    "### Used ressources\n",
    "- [Benchmarks for Basic Scheduling Problems](http://mistic.heig-vd.ch/taillard/articles.dir/Taillard1993EJOR.pdf)\n",
    "- [Implement Simulated annealing in Python](https://medium.com/swlh/how-to-implement-simulated-annealing-algorithm-in-python-ab196c2f56a0)"
   ]
  },
  {
   "cell_type": "code",
   "execution_count": 22,
   "id": "605c8752-b209-4806-a627-f522d8bcd2c0",
   "metadata": {},
   "outputs": [],
   "source": [
    "import numpy as np\n",
    "import matplotlib as plt\n",
    "import itertools\n",
    "import time\n",
    "import pandas as pd\n",
    "import math\n",
    "import random"
   ]
  },
  {
   "cell_type": "code",
   "execution_count": 2,
   "id": "09fa172d-7df7-4b79-a5bd-5d15c06ab60a",
   "metadata": {},
   "outputs": [],
   "source": [
    "def evaluate_sequence(sequence, processing_times):\n",
    "    _, num_machines = processing_times.shape\n",
    "    num_jobs = len(sequence)\n",
    "    completion_times = np.zeros((num_jobs, num_machines))\n",
    "    \n",
    "    # Calculate the completion times for the first machine\n",
    "    completion_times[0][0] = processing_times[sequence[0]][0]\n",
    "    for i in range(1, num_jobs):\n",
    "        completion_times[i][0] = completion_times[i-1][0] + processing_times[sequence[i]][0]\n",
    "    \n",
    "    # Calculate the completion times for the remaining machines\n",
    "    for j in range(1, num_machines):\n",
    "        completion_times[0][j] = completion_times[0][j-1] + processing_times[sequence[0]][j]\n",
    "        for i in range(1, num_jobs):\n",
    "            completion_times[i][j] = max(completion_times[i-1][j], completion_times[i][j-1]) + processing_times[sequence[i]][j]\n",
    "    \n",
    "    # Return the total completion time, which is the completion time of the last job in the last machine\n",
    "    return completion_times[num_jobs-1][num_machines-1]"
   ]
  },
  {
   "cell_type": "code",
   "execution_count": 4,
   "id": "fe1ca7e2-b67c-4af6-be0c-0fc65c2a93b6",
   "metadata": {},
   "outputs": [
    {
     "name": "stdout",
     "output_type": "stream",
     "text": [
      "[[ 57  27  82  63  32  83  83 112  12 109]\n",
      " [ 66 108  74  12  27  65 114  82  46  26]\n",
      " [ 52  33  72  27 108  94  36 113  78  58]\n",
      " [109  84  96  86  68 104  19   8  24  74]\n",
      " [ 67  12   5  53  76  94  86  20  37  55]\n",
      " [  6 108  63  11  24 113  80  51  17  37]\n",
      " [ 59  71  49  39  16  20  19  55  71  79]\n",
      " [117  28  39  91  57  79 109  58  37 111]\n",
      " [ 53  32  59  38  39  41  39 117  70   8]\n",
      " [  6  94 110  90  12  17  17  94  22  75]\n",
      " [ 62  95  12   7  75  94  10  73 101  16]\n",
      " [ 49  70  30  49  16  31  52  14 113  96]\n",
      " [ 55  99  25  82  49  14  42  97  87  93]\n",
      " [ 76  92  42  77  31  40  77  15  76  56]\n",
      " [ 75  98  27  76  70  57  33  74 100  58]] \n",
      "\n",
      "Initial solution: [2, 3, 0, 5, 9, 1, 8, 6, 4, 7] \n",
      "\n",
      "Makespan: 1607.0\n"
     ]
    }
   ],
   "source": [
    "# Generate a random example to work with 7 jobs and 2 machines\n",
    "rnd_data = np.random.randint(size=(15,10), low=5, high=120)\n",
    "permutation = np.random.permutation(10).tolist()\n",
    "print(rnd_data, \"\\n\")\n",
    "print('Initial solution:', permutation, \"\\n\")\n",
    "\n",
    "Cmax = evaluate_sequence(permutation, rnd_data)\n",
    "print(f'Makespan: {Cmax}')"
   ]
  },
  {
   "cell_type": "markdown",
   "id": "c8a5b5c0-3fac-43ab-838c-353dcbe41ddf",
   "metadata": {},
   "source": [
    "## Simulated annealing"
   ]
  },
  {
   "cell_type": "code",
   "execution_count": 17,
   "id": "25e80a8a-198d-4d3f-86d7-845675e09add",
   "metadata": {},
   "outputs": [],
   "source": [
    "def get_neighbor(solution):\n",
    "    i = np.random.choice(list(solution))\n",
    "    k = np.random.choice(list(solution))\n",
    "    # Generating two different random positions\n",
    "    while (i == k):\n",
    "        k = np.random.choice(list(solution))\n",
    "    # Switch between job i and job k in the given sequence\n",
    "    neighbor = solution.copy()\n",
    "    neighbor[i] = solution[k]\n",
    "    neighbor[k] = solution[i]\n",
    "    return neighbor"
   ]
  },
  {
   "cell_type": "code",
   "execution_count": 33,
   "id": "5231a745-f2d5-4e7e-8dd5-8bdfefdfd19e",
   "metadata": {},
   "outputs": [],
   "source": [
    "def simulated_annealing(initial_solution, processing_times, initial_temp=90, final_temp=1, alpha=0.1):\n",
    "    current_temp = initial_temp\n",
    "    current_solution = initial_solution.copy()\n",
    "    current_cost = evaluate_sequence(initial_solution, processing_times)\n",
    "    while current_temp > final_temp:\n",
    "        neighbor = get_neighbor(current_solution)\n",
    "        cost_diff = current_cost - evaluate_sequence(neighbor, processing_times)\n",
    "        if cost_diff > 0:\n",
    "            current_solution = neighbor\n",
    "            current_cost = evaluate_sequence(current_solution, processing_times)\n",
    "        else:\n",
    "            if random.uniform(0, 1) < math.exp(-cost_diff / current_temp):\n",
    "                solution = neighbor\n",
    "        current_temp -= alpha\n",
    "    return current_solution, current_cost"
   ]
  },
  {
   "cell_type": "code",
   "execution_count": 39,
   "id": "024b0466-c819-485a-921d-ffe9e557946a",
   "metadata": {},
   "outputs": [
    {
     "name": "stdout",
     "output_type": "stream",
     "text": [
      "Best solution found:  [2, 4, 9, 0, 5, 7, 3, 6, 8, 1]\n",
      "Makespan:  1298.0\n",
      "Elapsed time: 0.5146279335021973 seconds\n"
     ]
    }
   ],
   "source": [
    "start_time = time.time()\n",
    "best_solution, best_solution_length = simulated_annealing(permutation, rnd_data)\n",
    "elapsed_time = time.time() - start_time\n",
    "\n",
    "print(\"Best solution found: \", best_solution)\n",
    "print(\"Makespan: \", evaluate_sequence(best_solution, rnd_data))\n",
    "print(\"Elapsed time:\", elapsed_time, \"seconds\")"
   ]
  },
  {
   "cell_type": "markdown",
   "id": "807ef91d-acfc-442d-a76a-c9fecb463695",
   "metadata": {},
   "source": [
    "## Tabu Search"
   ]
  },
  {
   "cell_type": "markdown",
   "id": "de42ba9c-d4ca-4c0b-9cba-42189c383ba1",
   "metadata": {},
   "source": [
    "## Genetic Algorithm"
   ]
  }
 ],
 "metadata": {
  "kernelspec": {
   "display_name": "Python 3 (ipykernel)",
   "language": "python",
   "name": "python3"
  },
  "language_info": {
   "codemirror_mode": {
    "name": "ipython",
    "version": 3
   },
   "file_extension": ".py",
   "mimetype": "text/x-python",
   "name": "python",
   "nbconvert_exporter": "python",
   "pygments_lexer": "ipython3",
   "version": "3.10.9"
  }
 },
 "nbformat": 4,
 "nbformat_minor": 5
}
