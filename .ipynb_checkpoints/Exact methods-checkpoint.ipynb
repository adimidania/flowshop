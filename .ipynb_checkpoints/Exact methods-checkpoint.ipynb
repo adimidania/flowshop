{
 "cells": [
  {
   "cell_type": "markdown",
   "id": "23a51b08",
   "metadata": {},
   "source": [
    "# Exhaustive search - Flowshop problem"
   ]
  },
  {
   "cell_type": "markdown",
   "id": "1d9c5ea6",
   "metadata": {},
   "source": [
    "### About this notebook\n",
    "This notebook contains a hands-on the flowshop problem. We will focus on implementing the exact methods to solve this problem. These methods guarantee to find the optimal solution for our problem. Note that some heuristics such as NEH are also being implemented in order to initialize the best makespan..\n",
    "\n",
    "### Used ressources\n",
    "- [Finding an Optimal Sequence in the Flowshop Scheduling Using Johnson’s Algorithm](https://ijiset.com/vol2/v2s1/IJISET_V2_I1_50.pdf)\n",
    "- [Benchmarks for Basic Scheduling Problems](http://mistic.heig-vd.ch/taillard/articles.dir/Taillard1993EJOR.pdf)"
   ]
  },
  {
   "cell_type": "code",
   "execution_count": 1,
   "id": "a14487ae",
   "metadata": {},
   "outputs": [],
   "source": [
    "import numpy as np\n",
    "import matplotlib as plt\n",
    "import itertools\n",
    "import time"
   ]
  },
  {
   "cell_type": "markdown",
   "id": "c70c0db4",
   "metadata": {},
   "source": [
    "# Brute force"
   ]
  },
  {
   "cell_type": "code",
   "execution_count": 2,
   "id": "51ec15bb",
   "metadata": {},
   "outputs": [],
   "source": [
    "def all_permutations(iterable):\n",
    "    permutations = list(itertools.permutations(iterable))\n",
    "    permutations_as_lists = [list(p) for p in permutations]\n",
    "    return permutations_as_lists"
   ]
  },
  {
   "cell_type": "code",
   "execution_count": 3,
   "id": "bf4ec211",
   "metadata": {},
   "outputs": [],
   "source": [
    "'''\n",
    "    This function calculates the makespan of a given sequence.\n",
    "    The makespan is the time it takes to complete all the jobs on all the machines.\n",
    "    \n",
    "    Inputs:\n",
    "        processing_times : the matrix that contains the execution time of each Job in each machine.\n",
    "        sequence :  a sequence of jobs e.g [0, 2, 1].\n",
    "    \n",
    "    Output: The makespan of the sequence.\n",
    "'''\n",
    "def evaluate_sequence(sequence, processing_times):\n",
    "    _, num_machines = processing_times.shape\n",
    "    num_jobs = len(sequence)\n",
    "    completion_times = np.zeros((num_jobs, num_machines))\n",
    "    \n",
    "    # Calculate the completion times for the first machine\n",
    "    completion_times[0][0] = processing_times[sequence[0]][0]\n",
    "    for i in range(1, num_jobs):\n",
    "        completion_times[i][0] = completion_times[i-1][0] + processing_times[sequence[i]][0]\n",
    "    \n",
    "    # Calculate the completion times for the remaining machines\n",
    "    for j in range(1, num_machines):\n",
    "        completion_times[0][j] = completion_times[0][j-1] + processing_times[sequence[0]][j]\n",
    "        for i in range(1, num_jobs):\n",
    "            completion_times[i][j] = max(completion_times[i-1][j], completion_times[i][j-1]) + processing_times[sequence[i]][j]\n",
    "    \n",
    "    # Return the total completion time, which is the completion time of the last job in the last machine\n",
    "    return completion_times[num_jobs-1][num_machines-1]"
   ]
  },
  {
   "cell_type": "code",
   "execution_count": 4,
   "id": "646baf38",
   "metadata": {},
   "outputs": [],
   "source": [
    "'''\n",
    "    This function will return the sequence with the smallest makespan.\n",
    "\n",
    "    Inputs:\n",
    "        processing_times : the matrix that contains the execution time of each Job in each machine.\n",
    "        permutations : all possible sequences.\n",
    "    \n",
    "    Outputs:\n",
    "        sol : the optimal sequence.\n",
    "        M : the makespan of the sequence\n",
    "'''\n",
    "def brute_force(processing_times, permutations):\n",
    "    M = float('inf')\n",
    "    sol = []\n",
    "    for permutation in permutations:\n",
    "        m = evaluate_sequence(permutation, processing_times)\n",
    "        if m < M:\n",
    "            M = m\n",
    "            sol = permutation\n",
    "    return sol, M"
   ]
  },
  {
   "cell_type": "markdown",
   "id": "0bdab97e",
   "metadata": {},
   "source": [
    "# NEH Algorithm"
   ]
  },
  {
   "cell_type": "code",
   "execution_count": 5,
   "id": "07f43b4e",
   "metadata": {},
   "outputs": [],
   "source": [
    "def order_jobs_in_descending_order_of_total_completion_time(processing_times):\n",
    "    total_completion_time = processing_times.sum(axis=1)\n",
    "    return np.argsort(total_completion_time, axis=0).tolist()"
   ]
  },
  {
   "cell_type": "code",
   "execution_count": 6,
   "id": "2dff1614",
   "metadata": {},
   "outputs": [],
   "source": [
    "def insertion(sequence, position, value):\n",
    "    new_seq = sequence[:]\n",
    "    new_seq.insert(position, value)\n",
    "    return new_seq"
   ]
  },
  {
   "cell_type": "code",
   "execution_count": 7,
   "id": "72c7b39a",
   "metadata": {},
   "outputs": [],
   "source": [
    "def neh_algorithm(processing_times):\n",
    "    ordered_sequence = order_jobs_in_descending_order_of_total_completion_time(processing_times)\n",
    "    # Define the initial order\n",
    "    J1, J2 = ordered_sequence[:2]\n",
    "    sequence = [J1, J2] if evaluate_sequence([J1, J2], processing_times) < evaluate_sequence([J2, J1], processing_times) else [J2, J1]\n",
    "    del ordered_sequence[:2]\n",
    "    # Add remaining jobs\n",
    "    for job in ordered_sequence:\n",
    "        Cmax = float('inf')\n",
    "        best_sequence = []\n",
    "        for i in range(len(sequence)+1):\n",
    "            new_sequence = insertion(sequence, i, job)\n",
    "            Cmax_eval = evaluate_sequence(new_sequence, processing_times)\n",
    "            if Cmax_eval < Cmax:\n",
    "                Cmax = Cmax_eval\n",
    "                best_sequence = new_sequence\n",
    "        sequence = best_sequence\n",
    "    return sequence, Cmax"
   ]
  },
  {
   "cell_type": "markdown",
   "id": "1d09c8ba",
   "metadata": {},
   "source": [
    "# Johnson Algorithm"
   ]
  },
  {
   "cell_type": "markdown",
   "id": "ce91b4c8",
   "metadata": {},
   "source": [
    "### Description\n",
    "Johnson's algorithm is a way to find the shortest paths between all pairs of vertices in a sparse directed graph. In\n",
    "operations research Johnson's rule is a method of scheduling jobs in two work centers. Its primary objective is to find an optimal sequence of jobs to reduce makespan (the total amount of time it takes to complete all jobs). It also reduces the number of idle time between the two work centers. Results are not always optimal, especially for a small group of jobs.\n",
    "### Idea behind \n",
    "- List the jobs and their times at each work center.\n",
    "- Select the job with the shortest activity time. If that activity time is for the first work center, then schedule the job first. If that activity time is for the second work center then schedule the job last. Break ties arbitrarily.\n",
    "- Eliminate the shortest job from further consideration."
   ]
  },
  {
   "cell_type": "code",
   "execution_count": 8,
   "id": "8e7518ba",
   "metadata": {},
   "outputs": [],
   "source": [
    "'''\n",
    "    The johnson method is only possible when we have two machines.\n",
    "    \n",
    "    Input : the matrix that contains the execution time of each Job in each machine.\n",
    "    Output : the optimal sequence.\n",
    "'''\n",
    "\n",
    "def johnson_method(processing_times):\n",
    "    jobs, machines = processing_times.shape\n",
    "    copy_processing_times = processing_times.copy()\n",
    "    maximum = processing_times.max() + 1\n",
    "    m1 = []\n",
    "    m2 = []\n",
    "    \n",
    "    if machines != 2:\n",
    "        raise Exception(\"Johson method only works with two machines\")\n",
    "        \n",
    "    for i in range(jobs):\n",
    "        minimum = copy_processing_times.min()\n",
    "        position = np.where(copy_processing_times == minimum)\n",
    "        \n",
    "        if position[1][0] == 0:\n",
    "            m1.append(position[0][0])\n",
    "        else:\n",
    "            m2.insert(0, position[0][0])\n",
    "        \n",
    "        copy_processing_times[position[0][0]] = maximum\n",
    "        # Delete the job appended\n",
    "        \n",
    "    return m1+m2"
   ]
  },
  {
   "cell_type": "markdown",
   "id": "5305d103",
   "metadata": {},
   "source": [
    "### Tests"
   ]
  },
  {
   "cell_type": "code",
   "execution_count": 9,
   "id": "eea7148c",
   "metadata": {},
   "outputs": [
    {
     "name": "stdout",
     "output_type": "stream",
     "text": [
      "[[12 18]\n",
      " [13 12]\n",
      " [ 9 15]\n",
      " [11  6]\n",
      " [12 13]\n",
      " [ 5 17]\n",
      " [15  5]] \n",
      "\n",
      "Best sequence found by Johnson is [5, 2, 0, 4, 1, 3, 6] with a makespan of 91.0\n",
      "Elapsed time: 0.0 seconds\n"
     ]
    }
   ],
   "source": [
    "# Generate a random example to work with 7 jobs and 2 machines\n",
    "rnd_data = np.random.randint(size=(7,2), low=5, high=23)\n",
    "print(rnd_data, \"\\n\")\n",
    "\n",
    "start_time = time.time()\n",
    "sol = johnson_method(rnd_data)\n",
    "elapsed_time = time.time() - start_time\n",
    "\n",
    "print(f'Best sequence found by Johnson is {sol} with a makespan of {evaluate_sequence(sol, rnd_data)}')\n",
    "print(\"Elapsed time:\", elapsed_time, \"seconds\")"
   ]
  },
  {
   "cell_type": "code",
   "execution_count": 10,
   "id": "cdb22439",
   "metadata": {},
   "outputs": [
    {
     "name": "stdout",
     "output_type": "stream",
     "text": [
      "[[12 18]\n",
      " [13 12]\n",
      " [ 9 15]\n",
      " [11  6]\n",
      " [12 13]\n",
      " [ 5 17]\n",
      " [15  5]] \n",
      "\n",
      "Best sequence found by Brute Force [5, 0, 1, 2, 3, 4, 6] with a makespan of 91.0\n",
      "Elapsed time: 0.13178253173828125 seconds\n"
     ]
    }
   ],
   "source": [
    "init_jobs = 7\n",
    "init_job_list = list(range(init_jobs))\n",
    "print(rnd_data, \"\\n\")\n",
    "\n",
    "start_time = time.time()\n",
    "sequence_list = all_permutations(init_job_list)\n",
    "sol, M = brute_force(rnd_data, sequence_list)\n",
    "elapsed_time = time.time() - start_time\n",
    "\n",
    "print(f'Best sequence found by Brute Force {sol} with a makespan of {M}')\n",
    "print(\"Elapsed time:\", elapsed_time, \"seconds\")"
   ]
  },
  {
   "cell_type": "markdown",
   "id": "44f15289",
   "metadata": {},
   "source": [
    "# Branch and Bound"
   ]
  },
  {
   "cell_type": "markdown",
   "id": "0a4b10ba",
   "metadata": {},
   "source": [
    "- Branch & Bound without pruning.\n",
    "- Branch & Bound with pruning using `evaluate_sequence`.\n",
    "- Branch & Bound with pruning using `lower_bound`."
   ]
  },
  {
   "cell_type": "code",
   "execution_count": 11,
   "id": "06006686",
   "metadata": {},
   "outputs": [],
   "source": [
    "# Define the Node structure of the seach tree that we will be using\n",
    "class Node:\n",
    "    def __init__(self, jobs, remaining_jobs, parent=None, lower_bound=1e100):\n",
    "        self.jobs = jobs\n",
    "        self.remaining_jobs = remaining_jobs\n",
    "        self.parent = parent\n",
    "        self.lower_bound = lower_bound\n",
    "    def __str__(self):\n",
    "        return f\"Node(jobs={self.jobs}, remaining_jobs={self.remaining_jobs}, lower_bound={self.lower_bound})\""
   ]
  },
  {
   "cell_type": "markdown",
   "id": "a88f2773",
   "metadata": {},
   "source": [
    "## Branch & Bound without pruning"
   ]
  },
  {
   "cell_type": "code",
   "execution_count": 12,
   "id": "e8ed32b5",
   "metadata": {},
   "outputs": [],
   "source": [
    "def branch_and_bound_no_pruning(processing_times,initial_solution, initial_cost):\n",
    "    jobs, machines = processing_times.shape\n",
    "    # Initialize the nodes list to the `root_node`\n",
    "    root_node = Node([], set(range(jobs)))\n",
    "    best_solution = initial_solution.copy()\n",
    "    best_solution_cost = initial_cost\n",
    "    nodes = [root_node]\n",
    "    # Initialize the `best_solution` to range(jobs) and initialize `best_solution_cost` its cost\n",
    "    i = 1\n",
    "    while nodes:\n",
    "        node = nodes.pop()\n",
    "        # Explore neighbours of the node `node`\n",
    "        for job in node.remaining_jobs:\n",
    "            child_jobs = node.jobs + [job]\n",
    "            child_remaining_jobs = node.remaining_jobs - {job}\n",
    "            # If the child node is a leaf node (i.e., all jobs have been assigned) then calculate its cost\n",
    "            if not child_remaining_jobs:\n",
    "                child_lower_bound = evaluate_sequence(child_jobs, processing_times)\n",
    "                if child_lower_bound < best_solution_cost:\n",
    "                    best_solution = child_jobs\n",
    "                    best_solution_cost = child_lower_bound   \n",
    "                    continue\n",
    "            else:\n",
    "                # If the child node is not a leaf then calculate its lower bound and compare it with current `best_solution_cost`\n",
    "                child_lower_bound = evaluate_sequence(child_jobs, processing_times)\n",
    "                child_node = Node(child_jobs, child_remaining_jobs, parent=node, lower_bound=child_lower_bound)\n",
    "                nodes.append(child_node)\n",
    "        i += 1\n",
    "    return best_solution, best_solution_cost, i"
   ]
  },
  {
   "cell_type": "code",
   "execution_count": 13,
   "id": "7c0917a7",
   "metadata": {},
   "outputs": [],
   "source": [
    "# Parallelization for optimisation \n",
    "def sub_branch_and_bound_no_pruning(processing_times,initial_solution, initial_cost,root):\n",
    "    jobs, machines = processing_times.shape\n",
    "    # Creating threads (`jobs` thread) each one will explore a sub tree of the main tree.\n",
    "    # There's no synchronization between them so they will all start with the same best_solution and best_solution_cost.\n",
    "    # And by the end will take the best solution generated by each thread.\n",
    "    # Not optimal but who cares :v at least it gets improved.\n",
    "    # Initialize the nodes list to the `root_node`\n",
    "    root_node = Node([root], set(range(jobs)) - {root}, [], processing_times[root, :].sum())\n",
    "    best_solution = initial_solution.copy()\n",
    "    best_solution_cost = initial_cost\n",
    "    nodes = [root_node]\n",
    "    # Initialize the `best_solution` to range(jobs) and initialize `best_solution_cost` its cost\n",
    "    i = 1\n",
    "    while nodes:\n",
    "        node = nodes.pop()\n",
    "        # Explore neighbours of the node `node`\n",
    "        for job in node.remaining_jobs:\n",
    "            child_jobs = node.jobs + [job]\n",
    "            child_remaining_jobs = node.remaining_jobs - {job}\n",
    "            # If the child node is a leaf node (i.e., all jobs have been assigned) then calculate its cost\n",
    "            if not child_remaining_jobs:\n",
    "                child_lower_bound = evaluate_sequence(child_jobs, processing_times)\n",
    "                if child_lower_bound < best_solution_cost:\n",
    "                    best_solution = child_jobs\n",
    "                    best_solution_cost = child_lower_bound   \n",
    "                    continue\n",
    "            else:\n",
    "                # If the child node is not a leaf then calculate its lower bound and compare it with current `best_solution_cost`\n",
    "                child_lower_bound = evaluate_sequence(child_jobs, processing_times)\n",
    "                child_node = Node(child_jobs, child_remaining_jobs, parent=node, lower_bound=child_lower_bound)\n",
    "                nodes.append(child_node)\n",
    "        i += 1\n",
    "    return best_solution, best_solution_cost, i"
   ]
  },
  {
   "cell_type": "markdown",
   "id": "ba373ca3",
   "metadata": {},
   "source": [
    "## Branch & Bound with pruning using `evaluate_sequence`"
   ]
  },
  {
   "cell_type": "code",
   "execution_count": 14,
   "id": "f53bea8a",
   "metadata": {},
   "outputs": [],
   "source": [
    "def branch_and_bound_eval(processing_times, initial_solution, initial_cost):\n",
    "    jobs, machines = processing_times.shape\n",
    "    # Initialize the nodes list to the `root_node`\n",
    "    root_node = Node([], set(range(jobs)))\n",
    "    best_solution = initial_solution.copy()\n",
    "    best_solution_cost = initial_cost\n",
    "    print(\"M:\", best_solution_cost)\n",
    "    nodes = [root_node]\n",
    "    # Initialize the `best_solution` to range(jobs) and initialize `best_solution_cost` its cost\n",
    "    i = 1\n",
    "    while nodes:\n",
    "        node = nodes.pop()\n",
    "        # Explore neighbours of the node `node`\n",
    "        for job in node.remaining_jobs:\n",
    "            child_jobs = node.jobs + [job]\n",
    "            child_remaining_jobs = node.remaining_jobs - {job}\n",
    "            child_lower_bound = evaluate_sequence(child_jobs, processing_times)\n",
    "            # If the child node is a leaf node (i.e., all jobs have been assigned) then calculate its cost\n",
    "            if not child_remaining_jobs:\n",
    "                if child_lower_bound < best_solution_cost:\n",
    "                    best_solution = child_jobs\n",
    "                    best_solution_cost = child_lower_bound   \n",
    "                    continue\n",
    "            # If the child node is not a leaf then calculate its lower bound and compare it with current `best_solution_cost`\n",
    "            if child_lower_bound < best_solution_cost:\n",
    "                child_node = Node(child_jobs, child_remaining_jobs, parent=node, lower_bound=child_lower_bound)\n",
    "                nodes.append(child_node)\n",
    "        i += 1\n",
    "    return best_solution, best_solution_cost, i"
   ]
  },
  {
   "cell_type": "code",
   "execution_count": 15,
   "id": "137a2790",
   "metadata": {},
   "outputs": [],
   "source": [
    "# Parallelization for optimisation \n",
    "def sub_branch_and_bound_eval(processing_times,initial_solution, initial_cost,root):\n",
    "    jobs, machines = processing_times.shape\n",
    "    # Creating threads (`jobs` thread) each one will explore a sub tree of the main tree.\n",
    "    # There's no synchronization between them so they will all start with the same best_solution and best_solution_cost.\n",
    "    # And by the end will take the best solution generated by each thread.\n",
    "    # Not optimal but who cares :v at least it gets improved.\n",
    "    # Initialize the nodes list to the `root_node`\n",
    "    root_node = Node([root], set(range(jobs)) - {root}, [], processing_times[root, :].sum())\n",
    "    best_solution = initial_solution.copy()\n",
    "    best_solution_cost = initial_cost\n",
    "    nodes = [root_node]\n",
    "    # Initialize the `best_solution` to range(jobs) and initialize `best_solution_cost` its cost\n",
    "    i = 1\n",
    "    while nodes:\n",
    "        node = nodes.pop()\n",
    "        # Explore neighbours of the node `node`\n",
    "        for job in node.remaining_jobs:\n",
    "            child_jobs = node.jobs + [job]\n",
    "            child_remaining_jobs = node.remaining_jobs - {job}\n",
    "            child_lower_bound = evaluate_sequence(child_jobs, processing_times)\n",
    "            # If the child node is a leaf node (i.e., all jobs have been assigned) then calculate its cost\n",
    "            if not child_remaining_jobs:\n",
    "                if child_lower_bound < best_solution_cost:\n",
    "                    best_solution = child_jobs\n",
    "                    best_solution_cost = child_lower_bound   \n",
    "                    continue\n",
    "            # If the child node is not a leaf then calculate its lower bound and compare it with current `best_solution_cost`\n",
    "            if child_lower_bound < best_solution_cost:\n",
    "                child_node = Node(child_jobs, child_remaining_jobs, parent=node, lower_bound=child_lower_bound)\n",
    "                nodes.append(child_node)\n",
    "        i += 1\n",
    "    return best_solution, best_solution_cost, i"
   ]
  },
  {
   "cell_type": "markdown",
   "id": "82f2f7bd",
   "metadata": {},
   "source": [
    "## Branch & Bound with pruning using `lower_bound`"
   ]
  },
  {
   "cell_type": "code",
   "execution_count": 16,
   "id": "c0a6e266",
   "metadata": {},
   "outputs": [],
   "source": [
    "'''\n",
    "    This lowerbound was taken from the technical report\n",
    "    Have no idea how It works, all I know is It's pretty slow :p\n",
    "'''\n",
    "def lower_bound(sequence, remaining_jobs, processing_times):\n",
    "    nb_jobs, nb_machines = processing_times.shape\n",
    "    total_completion = processing_times[sequence,:].sum(axis=0)\n",
    "    lower_bound = 0\n",
    "    for i in range(nb_machines):\n",
    "        b = []\n",
    "        a = []\n",
    "        for j in sequence:\n",
    "            b.append(processing_times[j][:i].sum())\n",
    "            a.append(processing_times[j][i+1:].sum())\n",
    "        l = min(a) + min(b) + total_completion[i]\n",
    "        if (l > lower_bound):\n",
    "            lower_bound = l\n",
    "    return lower_bound"
   ]
  },
  {
   "cell_type": "code",
   "execution_count": 24,
   "id": "4987d284-9269-412d-bdd8-8b45f5b3236d",
   "metadata": {},
   "outputs": [],
   "source": [
    "'''\n",
    "    This is another lowerbound that is so used in Scheduling problems.\n",
    "'''\n",
    "def lower_bound(sequence, remaining_jobs, processing_times): \n",
    "    lower_bound = processing_times[sequence,:].max() + processing_times[list(remaining_jobs),:].sum(axis=0).max()\n",
    "    return lower_bound"
   ]
  },
  {
   "cell_type": "code",
   "execution_count": 25,
   "id": "e9fcabbf",
   "metadata": {},
   "outputs": [],
   "source": [
    "def branch_and_bound_lb(processing_times,initial_solution, initial_cost):\n",
    "    jobs, machines = processing_times.shape\n",
    "    # Initialize the nodes list to the `root_node`\n",
    "    root_node = Node([], set(range(jobs)))\n",
    "    best_solution = initial_solution.copy()\n",
    "    best_solution_cost = initial_cost\n",
    "    nodes = [root_node]\n",
    "    # Initialize the `best_solution` to range(jobs) and initialize `best_solution_cost` its cost\n",
    "    i = 1\n",
    "    while nodes:\n",
    "        node = nodes.pop()\n",
    "        # Explore neighbours of the node `node`\n",
    "        for job in node.remaining_jobs:\n",
    "            child_jobs = node.jobs + [job]\n",
    "            child_remaining_jobs = node.remaining_jobs - {job}\n",
    "            # If the child node is a leaf node (i.e., all jobs have been assigned) then calculate its cost\n",
    "            if not child_remaining_jobs:\n",
    "                child_lower_bound = evaluate_sequence(child_jobs, processing_times)\n",
    "                if child_lower_bound < best_solution_cost:\n",
    "                    best_solution = child_jobs\n",
    "                    best_solution_cost = child_lower_bound   \n",
    "                    continue\n",
    "            else:\n",
    "                # If the child node is not a leaf then calculate its lower bound and compare it with current `best_solution_cost`\n",
    "                child_lower_bound = lower_bound(child_jobs, child_remaining_jobs, processing_times)\n",
    "                if child_lower_bound < best_solution_cost:\n",
    "                    child_node = Node(child_jobs, child_remaining_jobs, parent=node, lower_bound=child_lower_bound)\n",
    "                    nodes.append(child_node)\n",
    "        i += 1\n",
    "    return best_solution, best_solution_cost, i"
   ]
  },
  {
   "cell_type": "markdown",
   "id": "869e95b5",
   "metadata": {},
   "source": [
    "# Tests"
   ]
  },
  {
   "cell_type": "markdown",
   "id": "51bfbb6e",
   "metadata": {},
   "source": [
    "## Using Parallelized B&B Pure"
   ]
  },
  {
   "cell_type": "code",
   "execution_count": 18,
   "id": "c66ca472",
   "metadata": {},
   "outputs": [],
   "source": [
    "import concurrent.futures"
   ]
  },
  {
   "cell_type": "code",
   "execution_count": 19,
   "id": "933a24ac",
   "metadata": {},
   "outputs": [
    {
     "name": "stdout",
     "output_type": "stream",
     "text": [
      "[[22 19 14 22 13 17 10 18  9 17]\n",
      " [17 10 16  9 13  8  6 16 18 11]\n",
      " [ 6 16 20 17 13 11 20 17 13 17]\n",
      " [22 12 13 21  8 13 13 21 18  7]\n",
      " [15  8 19 11  6 18 13  5  9  7]] \n",
      "\n"
     ]
    }
   ],
   "source": [
    "rnd_data = np.random.randint(size=(5,10), low=5, high=23)\n",
    "print(rnd_data, \"\\n\")"
   ]
  },
  {
   "cell_type": "code",
   "execution_count": 20,
   "id": "d2d0b40a",
   "metadata": {},
   "outputs": [
    {
     "name": "stdout",
     "output_type": "stream",
     "text": [
      "Results are: [([0, 1, 2, 3, 4], 224.0, 42), ([1, 2, 3, 0, 4], 214.0, 42), ([2, 0, 1, 4, 3], 211.0, 42), ([3, 2, 1, 0, 4], 217.0, 42), ([4, 2, 1, 0, 3], 220.0, 42)]\n",
      "\n",
      "Best sequence is [2, 0, 1, 4, 3] with a makespan of 211.0 \n",
      "Elapsed time: 0.03444051742553711 seconds\n"
     ]
    }
   ],
   "source": [
    "initial_solution = [i for i in range(5)]\n",
    "initial_cost = evaluate_sequence(initial_solution, rnd_data)\n",
    "\n",
    "# Code starts here\n",
    "start_time = time.time()\n",
    "results = []\n",
    "with concurrent.futures.ThreadPoolExecutor(max_workers=5) as executor:\n",
    "    # Submit the function to the executor five times\n",
    "    futures = [executor.submit(sub_branch_and_bound_no_pruning, rnd_data, initial_solution, initial_cost, i) for i in range(5)]\n",
    "    \n",
    "    # Collect the results from the futures\n",
    "    results = [future.result() for future in futures]\n",
    "\n",
    "elapsed_time = time.time() - start_time\n",
    "print(f'Results are: {results}')\n",
    "min_tuple = min(results, key=lambda x: x[1])\n",
    "print(f'\\nBest sequence is {min_tuple[0]} with a makespan of {min_tuple[1]} ')\n",
    "print(\"Elapsed time:\", elapsed_time, \"seconds\")"
   ]
  },
  {
   "cell_type": "code",
   "execution_count": 21,
   "id": "14340ee0",
   "metadata": {},
   "outputs": [
    {
     "name": "stdout",
     "output_type": "stream",
     "text": [
      "\n",
      "Best sequence is [2, 0, 1, 4, 3] with a makespan of 211.0\n",
      "Elapsed time: 0.02706623077392578 seconds\n"
     ]
    }
   ],
   "source": [
    "initial_solution = [i for i in range(5)]\n",
    "initial_cost = evaluate_sequence(initial_solution, rnd_data)\n",
    "\n",
    "start_time = time.time()\n",
    "best_solution, best_cost, i = branch_and_bound_no_pruning(rnd_data, initial_solution, initial_cost)\n",
    "elapsed_time = time.time() - start_time\n",
    "\n",
    "print(f'\\nBest sequence is {best_solution} with a makespan of {best_cost}')\n",
    "print(\"Elapsed time:\", elapsed_time, \"seconds\")"
   ]
  },
  {
   "cell_type": "markdown",
   "id": "b930a42d",
   "metadata": {},
   "source": [
    "## Common Instance"
   ]
  },
  {
   "cell_type": "code",
   "execution_count": 22,
   "id": "4bd1ac1c",
   "metadata": {},
   "outputs": [],
   "source": [
    "instance_common = np.array([\n",
    "    [71, 79, 85, 82, 83], \n",
    "    [84, 71, 66, 68, 81],\n",
    "    [78, 81, 75, 72, 87],\n",
    "    [78, 75, 66, 72, 88],\n",
    "    [72, 88, 83, 85, 88],\n",
    "    [86, 88, 79, 82, 78],\n",
    "    [75, 66, 86, 78, 78],\n",
    "    [80, 79, 66, 83, 78],\n",
    "    [73, 73, 67, 77, 71],\n",
    "    [80, 77, 83, 78, 67],\n",
    "])"
   ]
  }
 ],
 "metadata": {
  "kernelspec": {
   "display_name": "Python 3 (ipykernel)",
   "language": "python",
   "name": "python3"
  },
  "language_info": {
   "codemirror_mode": {
    "name": "ipython",
    "version": 3
   },
   "file_extension": ".py",
   "mimetype": "text/x-python",
   "name": "python",
   "nbconvert_exporter": "python",
   "pygments_lexer": "ipython3",
   "version": "3.10.9"
  }
 },
 "nbformat": 4,
 "nbformat_minor": 5
}
