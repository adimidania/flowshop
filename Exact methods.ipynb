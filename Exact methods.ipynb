{
 "cells": [
  {
   "cell_type": "markdown",
   "id": "23a51b08",
   "metadata": {},
   "source": [
    "# Exhaustive search - Flowshop problem"
   ]
  },
  {
   "cell_type": "markdown",
   "id": "1d9c5ea6",
   "metadata": {},
   "source": [
    "### About this notebook\n",
    "This notebook contains a hands-on the flowshop problem. We will focus on implementing the exact methods to solve this problem. These methods guarantee to find the optimal solution for our problem. Note that some heuristics such as NEH are also being implemented in order to initialize the best makespan..\n",
    "\n",
    "### Used ressources\n",
    "- [Finding an Optimal Sequence in the Flowshop Scheduling Using Johnson’s Algorithm](https://ijiset.com/vol2/v2s1/IJISET_V2_I1_50.pdf)\n",
    "- [Benchmarks for Basic Scheduling Problems](http://mistic.heig-vd.ch/taillard/articles.dir/Taillard1993EJOR.pdf)"
   ]
  },
  {
   "cell_type": "code",
   "execution_count": 1,
   "id": "a14487ae",
   "metadata": {},
   "outputs": [],
   "source": [
    "import numpy as np\n",
    "import matplotlib as plt\n",
    "import itertools\n",
    "import time"
   ]
  },
  {
   "cell_type": "markdown",
   "id": "c70c0db4",
   "metadata": {},
   "source": [
    "# Brute force"
   ]
  },
  {
   "cell_type": "code",
   "execution_count": 2,
   "id": "51ec15bb",
   "metadata": {},
   "outputs": [],
   "source": [
    "def all_permutations(iterable):\n",
    "    permutations = list(itertools.permutations(iterable))\n",
    "    permutations_as_lists = [list(p) for p in permutations]\n",
    "    return permutations_as_lists"
   ]
  },
  {
   "cell_type": "code",
   "execution_count": 3,
   "id": "bf4ec211",
   "metadata": {},
   "outputs": [],
   "source": [
    "'''\n",
    "    This function calculates the makespan of a given sequence.\n",
    "    The makespan is the time it takes to complete all the jobs on all the machines.\n",
    "    \n",
    "    Inputs:\n",
    "        processing_times : the matrix that contains the execution time of each Job in each machine.\n",
    "        sequence :  a sequence of jobs e.g [0, 2, 1].\n",
    "    \n",
    "    Output: The makespan of the sequence.\n",
    "'''\n",
    "def evaluate_sequence(sequence, processing_times):\n",
    "    _, num_machines = processing_times.shape\n",
    "    num_jobs = len(sequence)\n",
    "    completion_times = np.zeros((num_jobs, num_machines))\n",
    "    \n",
    "    # Calculate the completion times for the first machine\n",
    "    completion_times[0][0] = processing_times[sequence[0]][0]\n",
    "    for i in range(1, num_jobs):\n",
    "        completion_times[i][0] = completion_times[i-1][0] + processing_times[sequence[i]][0]\n",
    "    \n",
    "    # Calculate the completion times for the remaining machines\n",
    "    for j in range(1, num_machines):\n",
    "        completion_times[0][j] = completion_times[0][j-1] + processing_times[sequence[0]][j]\n",
    "        for i in range(1, num_jobs):\n",
    "            completion_times[i][j] = max(completion_times[i-1][j], completion_times[i][j-1]) + processing_times[sequence[i]][j]\n",
    "    \n",
    "    # Return the total completion time, which is the completion time of the last job in the last machine\n",
    "    return completion_times[num_jobs-1][num_machines-1]"
   ]
  },
  {
   "cell_type": "code",
   "execution_count": 4,
   "id": "646baf38",
   "metadata": {},
   "outputs": [],
   "source": [
    "'''\n",
    "    This function will return the sequence with the smallest makespan.\n",
    "\n",
    "    Inputs:\n",
    "        processing_times : the matrix that contains the execution time of each Job in each machine.\n",
    "        permutations : all possible sequences.\n",
    "    \n",
    "    Outputs:\n",
    "        sol : the optimal sequence.\n",
    "        M : the makespan of the sequence\n",
    "'''\n",
    "\n",
    "def brute_force(processing_times, permutations):\n",
    "    M = float('inf')\n",
    "    sol = []\n",
    "    for permutation in permutations:\n",
    "        m = evaluate_sequence(permutation, processing_times)\n",
    "        if m < M:\n",
    "            M = m\n",
    "            sol = permutation\n",
    "    return sol, M"
   ]
  },
  {
   "cell_type": "markdown",
   "id": "0bdab97e",
   "metadata": {},
   "source": [
    "# NEH Algorithm"
   ]
  },
  {
   "cell_type": "code",
   "execution_count": 15,
   "id": "07f43b4e",
   "metadata": {},
   "outputs": [],
   "source": [
    "def order_jobs_in_descending_order_of_total_completion_time(processing_times):\n",
    "    total_completion_time = processing_times.sum(axis=1)\n",
    "    return np.argsort(total_completion_time, axis=0).tolist()"
   ]
  },
  {
   "cell_type": "code",
   "execution_count": 16,
   "id": "2dff1614",
   "metadata": {},
   "outputs": [],
   "source": [
    "def insertion(sequence, position, value):\n",
    "    new_seq = sequence[:]\n",
    "    new_seq.insert(position, value)\n",
    "    return new_seq"
   ]
  },
  {
   "cell_type": "code",
   "execution_count": 17,
   "id": "72c7b39a",
   "metadata": {},
   "outputs": [],
   "source": [
    "def neh_algorithm(processing_times):\n",
    "    ordered_sequence = order_jobs_in_descending_order_of_total_completion_time(processing_times)\n",
    "    # Define the initial order\n",
    "    J1, J2 = ordered_sequence[:2]\n",
    "    sequence = [J1, J2] if evaluate_sequence([J1, J2], processing_times) < evaluate_sequence([J2, J1], processing_times) else [J2, J1]\n",
    "    del ordered_sequence[:2]\n",
    "    # Add remaining jobs\n",
    "    for job in ordered_sequence:\n",
    "        Cmax = float('inf')\n",
    "        best_sequence = []\n",
    "        for i in range(len(sequence)+1):\n",
    "            new_sequence = insertion(sequence, i, job)\n",
    "            Cmax_eval = evaluate_sequence(new_sequence, processing_times)\n",
    "            if Cmax_eval < Cmax:\n",
    "                Cmax = Cmax_eval\n",
    "                best_sequence = new_sequence\n",
    "        sequence = best_sequence\n",
    "    return sequence, Cmax"
   ]
  },
  {
   "cell_type": "markdown",
   "id": "1d09c8ba",
   "metadata": {},
   "source": [
    "# Johnson Algorithm"
   ]
  },
  {
   "cell_type": "markdown",
   "id": "ce91b4c8",
   "metadata": {},
   "source": [
    "### Description\n",
    "Johnson's algorithm is a way to find the shortest paths between all pairs of vertices in a sparse directed graph. In\n",
    "operations research Johnson's rule is a method of scheduling jobs in two work centers. Its primary objective is to find an optimal sequence of jobs to reduce makespan (the total amount of time it takes to complete all jobs). It also reduces the number of idle time between the two work centers. Results are not always optimal, especially for a small group of jobs.\n",
    "### Idea behind \n",
    "- List the jobs and their times at each work center.\n",
    "- Select the job with the shortest activity time. If that activity time is for the first work center, then schedule the job first. If that activity time is for the second work center then schedule the job last. Break ties arbitrarily.\n",
    "- Eliminate the shortest job from further consideration."
   ]
  },
  {
   "cell_type": "code",
   "execution_count": 5,
   "id": "8e7518ba",
   "metadata": {},
   "outputs": [],
   "source": [
    "'''\n",
    "    The johnson method is only possible when we have two machines.\n",
    "    \n",
    "    Input : the matrix that contains the execution time of each Job in each machine.\n",
    "    Output : the optimal sequence.\n",
    "'''\n",
    "\n",
    "def johnson_method(processing_times):\n",
    "    jobs, machines = processing_times.shape\n",
    "    copy_processing_times = processing_times.copy()\n",
    "    maximum = processing_times.max() + 1\n",
    "    m1 = []\n",
    "    m2 = []\n",
    "    \n",
    "    if machines != 2:\n",
    "        raise Exception(\"Johson method only works with two machines\")\n",
    "        \n",
    "    for i in range(jobs):\n",
    "        minimum = copy_processing_times.min()\n",
    "        position = np.where(copy_processing_times == minimum)\n",
    "        \n",
    "        if position[1][0] == 0:\n",
    "            m1.append(position[0][0])\n",
    "        else:\n",
    "            m2.insert(0, position[0][0])\n",
    "        \n",
    "        copy_processing_times[position[0][0]] = maximum\n",
    "        # Delete the job appended\n",
    "        \n",
    "    return m1+m2"
   ]
  },
  {
   "cell_type": "markdown",
   "id": "5305d103",
   "metadata": {},
   "source": [
    "### Tests"
   ]
  },
  {
   "cell_type": "code",
   "execution_count": 7,
   "id": "eea7148c",
   "metadata": {},
   "outputs": [
    {
     "name": "stdout",
     "output_type": "stream",
     "text": [
      "[[22 17]\n",
      " [21 16]\n",
      " [ 6 22]\n",
      " [ 6 20]\n",
      " [15 19]\n",
      " [15 17]\n",
      " [21 20]] \n",
      "\n",
      "Best sequence found by Johnson is [2, 3, 4, 5, 6, 0, 1] with a makespan of 137.0\n",
      "Elapsed time: 0.0012052059173583984 seconds\n"
     ]
    }
   ],
   "source": [
    "# Generate a random example to work with 7 jobs and 2 machines\n",
    "rnd_data = np.random.randint(size=(7,2), low=5, high=23)\n",
    "print(rnd_data, \"\\n\")\n",
    "\n",
    "start_time = time.time()\n",
    "sol = johnson_method(rnd_data)\n",
    "elapsed_time = time.time() - start_time\n",
    "\n",
    "print(f'Best sequence found by Johnson is {sol} with a makespan of {evaluate_sequence(sol, rnd_data)}')\n",
    "print(\"Elapsed time:\", elapsed_time, \"seconds\")"
   ]
  },
  {
   "cell_type": "code",
   "execution_count": 8,
   "id": "cdb22439",
   "metadata": {},
   "outputs": [
    {
     "name": "stdout",
     "output_type": "stream",
     "text": [
      "[[22 17]\n",
      " [21 16]\n",
      " [ 6 22]\n",
      " [ 6 20]\n",
      " [15 19]\n",
      " [15 17]\n",
      " [21 20]] \n",
      "\n",
      "Best sequence found by Brute Force [2, 0, 3, 1, 4, 5, 6] with a makespan of 137.0\n",
      "Elapsed time: 0.17924880981445312 seconds\n"
     ]
    }
   ],
   "source": [
    "init_jobs = 7\n",
    "init_job_list = list(range(init_jobs))\n",
    "print(rnd_data, \"\\n\")\n",
    "\n",
    "start_time = time.time()\n",
    "sequence_list = all_permutations(init_job_list)\n",
    "sol, M = brute_force(rnd_data, sequence_list)\n",
    "elapsed_time = time.time() - start_time\n",
    "\n",
    "print(f'Best sequence found by Brute Force {sol} with a makespan of {M}')\n",
    "print(\"Elapsed time:\", elapsed_time, \"seconds\")"
   ]
  },
  {
   "cell_type": "markdown",
   "id": "44f15289",
   "metadata": {},
   "source": [
    "# Branch and Bound"
   ]
  },
  {
   "cell_type": "markdown",
   "id": "0a4b10ba",
   "metadata": {},
   "source": [
    "- Branch & Bound without pruning.\n",
    "- Branch & Bound with pruning using `evaluate_sequence`.\n",
    "- Branch & Bound with pruning using `lower_bound`."
   ]
  },
  {
   "cell_type": "code",
   "execution_count": 9,
   "id": "06006686",
   "metadata": {},
   "outputs": [],
   "source": [
    "# Define the Node structure of the seach tree that we will be using\n",
    "class Node:\n",
    "    def __init__(self, jobs, remaining_jobs, parent=None, lower_bound=1e100):\n",
    "        self.jobs = jobs\n",
    "        self.remaining_jobs = remaining_jobs\n",
    "        self.parent = parent\n",
    "        self.lower_bound = lower_bound\n",
    "    def __str__(self):\n",
    "        return f\"Node(jobs={self.jobs}, remaining_jobs={self.remaining_jobs}, lower_bound={self.lower_bound})\""
   ]
  },
  {
   "cell_type": "markdown",
   "id": "a88f2773",
   "metadata": {},
   "source": [
    "## Branch & Bound without pruning"
   ]
  },
  {
   "cell_type": "code",
   "execution_count": 10,
   "id": "e8ed32b5",
   "metadata": {},
   "outputs": [],
   "source": [
    "def branch_and_bound_no_pruning(processing_times,initial_solution, initial_cost):\n",
    "    jobs, machines = processing_times.shape\n",
    "    # Initialize the nodes list to the `root_node`\n",
    "    root_node = Node([], set(range(jobs)))\n",
    "    best_solution = initial_solution.copy()\n",
    "    best_solution_cost = initial_cost\n",
    "    nodes = [root_node]\n",
    "    # Initialize the `best_solution` to range(jobs) and initialize `best_solution_cost` its cost\n",
    "    i = 1\n",
    "    while nodes:\n",
    "        node = nodes.pop()\n",
    "        # Explore neighbours of the node `node`\n",
    "        for job in node.remaining_jobs:\n",
    "            child_jobs = node.jobs + [job]\n",
    "            child_remaining_jobs = node.remaining_jobs - {job}\n",
    "            # If the child node is a leaf node (i.e., all jobs have been assigned) then calculate its cost\n",
    "            if not child_remaining_jobs:\n",
    "                child_lower_bound = evaluate_sequence(child_jobs, processing_times)\n",
    "                if child_lower_bound < best_solution_cost:\n",
    "                    best_solution = child_jobs\n",
    "                    best_solution_cost = child_lower_bound   \n",
    "                    continue\n",
    "            else:\n",
    "                # If the child node is not a leaf then calculate its lower bound and compare it with current `best_solution_cost`\n",
    "                child_lower_bound = evaluate_sequence(child_jobs, processing_times)\n",
    "                child_node = Node(child_jobs, child_remaining_jobs, parent=node, lower_bound=child_lower_bound)\n",
    "                nodes.append(child_node)\n",
    "        i += 1\n",
    "    return best_solution, best_solution_cost, i"
   ]
  },
  {
   "cell_type": "code",
   "execution_count": 27,
   "id": "7c0917a7",
   "metadata": {},
   "outputs": [],
   "source": [
    "# Parallelization for optimisation \n",
    "def sub_branch_and_bound_no_pruning(processing_times,initial_solution, initial_cost,root):\n",
    "    jobs, machines = processing_times.shape\n",
    "    # Creating threads (`jobs` thread) each one will explore a sub tree of the main tree.\n",
    "    # There's no synchronization between them so they will all start with the same best_solution and best_solution_cost.\n",
    "    # And by the end will take the best solution generated by each thread.\n",
    "    # Not optimal but who cares :v at least it gets improved.\n",
    "    # Initialize the nodes list to the `root_node`\n",
    "    root_node = Node([root], set(range(jobs)) - {root}, [], processing_times[root, :].sum())\n",
    "    best_solution = initial_solution.copy()\n",
    "    best_solution_cost = initial_cost\n",
    "    nodes = [root_node]\n",
    "    # Initialize the `best_solution` to range(jobs) and initialize `best_solution_cost` its cost\n",
    "    i = 1\n",
    "    while nodes:\n",
    "        node = nodes.pop()\n",
    "        # Explore neighbours of the node `node`\n",
    "        for job in node.remaining_jobs:\n",
    "            child_jobs = node.jobs + [job]\n",
    "            child_remaining_jobs = node.remaining_jobs - {job}\n",
    "            # If the child node is a leaf node (i.e., all jobs have been assigned) then calculate its cost\n",
    "            if not child_remaining_jobs:\n",
    "                child_lower_bound = evaluate_sequence(child_jobs, processing_times)\n",
    "                if child_lower_bound < best_solution_cost:\n",
    "                    best_solution = child_jobs\n",
    "                    best_solution_cost = child_lower_bound   \n",
    "                    continue\n",
    "            else:\n",
    "                # If the child node is not a leaf then calculate its lower bound and compare it with current `best_solution_cost`\n",
    "                child_lower_bound = evaluate_sequence(child_jobs, processing_times)\n",
    "                child_node = Node(child_jobs, child_remaining_jobs, parent=node, lower_bound=child_lower_bound)\n",
    "                nodes.append(child_node)\n",
    "        i += 1\n",
    "    return best_solution, best_solution_cost, i"
   ]
  },
  {
   "cell_type": "markdown",
   "id": "ba373ca3",
   "metadata": {},
   "source": [
    "## Branch & Bound with pruning using `evaluate_sequence`"
   ]
  },
  {
   "cell_type": "code",
   "execution_count": 11,
   "id": "f53bea8a",
   "metadata": {},
   "outputs": [],
   "source": [
    "def branch_and_bound_eval(processing_times, initial_solution, initial_cost):\n",
    "    jobs, machines = processing_times.shape\n",
    "    # Initialize the nodes list to the `root_node`\n",
    "    root_node = Node([], set(range(jobs)))\n",
    "    best_solution = initial_solution.copy()\n",
    "    best_solution_cost = initial_cost\n",
    "    print(\"M:\", best_solution_cost)\n",
    "    nodes = [root_node]\n",
    "    # Initialize the `best_solution` to range(jobs) and initialize `best_solution_cost` its cost\n",
    "    i = 1\n",
    "    while nodes:\n",
    "        node = nodes.pop()\n",
    "        # Explore neighbours of the node `node`\n",
    "        for job in node.remaining_jobs:\n",
    "            child_jobs = node.jobs + [job]\n",
    "            child_remaining_jobs = node.remaining_jobs - {job}\n",
    "            child_lower_bound = evaluate_sequence(child_jobs, processing_times)\n",
    "            # If the child node is a leaf node (i.e., all jobs have been assigned) then calculate its cost\n",
    "            if not child_remaining_jobs:\n",
    "                if child_lower_bound < best_solution_cost:\n",
    "                    best_solution = child_jobs\n",
    "                    best_solution_cost = child_lower_bound   \n",
    "                    continue\n",
    "            # If the child node is not a leaf then calculate its lower bound and compare it with current `best_solution_cost`\n",
    "            if child_lower_bound < best_solution_cost:\n",
    "                child_node = Node(child_jobs, child_remaining_jobs, parent=node, lower_bound=child_lower_bound)\n",
    "                nodes.append(child_node)\n",
    "        i += 1\n",
    "    return best_solution, best_solution_cost, i"
   ]
  },
  {
   "cell_type": "code",
   "execution_count": 28,
   "id": "137a2790",
   "metadata": {},
   "outputs": [],
   "source": [
    "# Parallelization for optimisation \n",
    "def sub_branch_and_bound_eval(processing_times,initial_solution, initial_cost,root):\n",
    "    jobs, machines = processing_times.shape\n",
    "    # Creating threads (`jobs` thread) each one will explore a sub tree of the main tree.\n",
    "    # There's no synchronization between them so they will all start with the same best_solution and best_solution_cost.\n",
    "    # And by the end will take the best solution generated by each thread.\n",
    "    # Not optimal but who cares :v at least it gets improved.\n",
    "    # Initialize the nodes list to the `root_node`\n",
    "    root_node = Node([root], set(range(jobs)) - {root}, [], processing_times[root, :].sum())\n",
    "    best_solution = initial_solution.copy()\n",
    "    best_solution_cost = initial_cost\n",
    "    nodes = [root_node]\n",
    "    # Initialize the `best_solution` to range(jobs) and initialize `best_solution_cost` its cost\n",
    "    i = 1\n",
    "    while nodes:\n",
    "        node = nodes.pop()\n",
    "        # Explore neighbours of the node `node`\n",
    "        for job in node.remaining_jobs:\n",
    "            child_jobs = node.jobs + [job]\n",
    "            child_remaining_jobs = node.remaining_jobs - {job}\n",
    "            child_lower_bound = evaluate_sequence(child_jobs, processing_times)\n",
    "            # If the child node is a leaf node (i.e., all jobs have been assigned) then calculate its cost\n",
    "            if not child_remaining_jobs:\n",
    "                if child_lower_bound < best_solution_cost:\n",
    "                    best_solution = child_jobs\n",
    "                    best_solution_cost = child_lower_bound   \n",
    "                    continue\n",
    "            # If the child node is not a leaf then calculate its lower bound and compare it with current `best_solution_cost`\n",
    "            if child_lower_bound < best_solution_cost:\n",
    "                child_node = Node(child_jobs, child_remaining_jobs, parent=node, lower_bound=child_lower_bound)\n",
    "                nodes.append(child_node)\n",
    "        i += 1\n",
    "    return best_solution, best_solution_cost, i"
   ]
  },
  {
   "cell_type": "markdown",
   "id": "82f2f7bd",
   "metadata": {},
   "source": [
    "## Branch & Bound with pruning using `lower_bound`"
   ]
  },
  {
   "cell_type": "code",
   "execution_count": 12,
   "id": "c0a6e266",
   "metadata": {},
   "outputs": [],
   "source": [
    "'''\n",
    "    This lowerbound was taken from the technical report\n",
    "    Have no idea how It works, all I know is It's pretty slow\n",
    "'''\n",
    "def lower_bound(sequence, remaining_jobs, processing_times):\n",
    "    nb_jobs, nb_machines = processing_times.shape\n",
    "    total_completion = processing_times[sequence,:].sum(axis=0)\n",
    "    lower_bound = 0\n",
    "    for i in range(nb_machines):\n",
    "        b = []\n",
    "        a = []\n",
    "        for j in sequence:\n",
    "            b.append(processing_times[j][:i].sum())\n",
    "            a.append(processing_times[j][i+1:].sum())\n",
    "        l = min(a) + min(b) + total_completion[i]\n",
    "        if (l > lower_bound):\n",
    "            lower_bound = l\n",
    "    return lower_bound"
   ]
  },
  {
   "cell_type": "code",
   "execution_count": 13,
   "id": "e9fcabbf",
   "metadata": {},
   "outputs": [],
   "source": [
    "def branch_and_bound_lb(processing_times,initial_solution, initial_cost):\n",
    "    jobs, machines = processing_times.shape\n",
    "    # Initialize the nodes list to the `root_node`\n",
    "    root_node = Node([], set(range(jobs)))\n",
    "    best_solution = initial_solution.copy()\n",
    "    best_solution_cost = initial_cost\n",
    "    nodes = [root_node]\n",
    "    # Initialize the `best_solution` to range(jobs) and initialize `best_solution_cost` its cost\n",
    "    i = 1\n",
    "    while nodes:\n",
    "        node = nodes.pop()\n",
    "        # Explore neighbours of the node `node`\n",
    "        for job in node.remaining_jobs:\n",
    "            child_jobs = node.jobs + [job]\n",
    "            child_remaining_jobs = node.remaining_jobs - {job}\n",
    "            # If the child node is a leaf node (i.e., all jobs have been assigned) then calculate its cost\n",
    "            if not child_remaining_jobs:\n",
    "                child_lower_bound = evaluate_sequence(child_jobs, processing_times)\n",
    "                if child_lower_bound < best_solution_cost:\n",
    "                    best_solution = child_jobs\n",
    "                    best_solution_cost = child_lower_bound   \n",
    "                    continue\n",
    "            else:\n",
    "                # If the child node is not a leaf then calculate its lower bound and compare it with current `best_solution_cost`\n",
    "                child_lower_bound = lower_bound(child_jobs, child_remaining_jobs, processing_times)\n",
    "                if child_lower_bound < best_solution_cost:\n",
    "                    child_node = Node(child_jobs, child_remaining_jobs, parent=node, lower_bound=child_lower_bound)\n",
    "                    nodes.append(child_node)\n",
    "        i += 1\n",
    "    return best_solution, best_solution_cost, i"
   ]
  },
  {
   "cell_type": "markdown",
   "id": "869e95b5",
   "metadata": {},
   "source": [
    "# Tests"
   ]
  },
  {
   "cell_type": "markdown",
   "id": "51bfbb6e",
   "metadata": {},
   "source": [
    "## Using Parallelized B&B Pure"
   ]
  },
  {
   "cell_type": "code",
   "execution_count": 23,
   "id": "c66ca472",
   "metadata": {},
   "outputs": [],
   "source": [
    "import concurrent.futures"
   ]
  },
  {
   "cell_type": "code",
   "execution_count": 41,
   "id": "933a24ac",
   "metadata": {},
   "outputs": [
    {
     "name": "stdout",
     "output_type": "stream",
     "text": [
      "[[ 8 10 18 10  6 21 12 12  6  8]\n",
      " [10 20 15 12 22 16 11 16 18  6]\n",
      " [ 8 16 22  9 13 19  6 21 19 11]\n",
      " [12 12 21  9 17 11 15 17 17 21]\n",
      " [11 13 21  9  9  9 22 10 12  5]] \n",
      "\n"
     ]
    }
   ],
   "source": [
    "rnd_data = np.random.randint(size=(5,10), low=5, high=23)\n",
    "print(rnd_data, \"\\n\")"
   ]
  },
  {
   "cell_type": "code",
   "execution_count": 47,
   "id": "d2d0b40a",
   "metadata": {},
   "outputs": [
    {
     "name": "stdout",
     "output_type": "stream",
     "text": [
      "Results are: [([0, 1, 3, 2, 4], 204.0, 42), ([1, 3, 2, 4, 0], 205.0, 42), ([2, 3, 1, 4, 0], 203.0, 42), ([3, 2, 1, 4, 0], 203.0, 42), ([4, 3, 2, 1, 0], 212.0, 42)]\n",
      "\n",
      "Best sequence is [2, 3, 1, 4, 0] with a makespan of 203.0 \n",
      "Elapsed time: 0.05596518516540527 seconds\n"
     ]
    }
   ],
   "source": [
    "initial_solution = [i for i in range(5)]\n",
    "initial_cost = evaluate_sequence(initial_solution, rnd_data)\n",
    "\n",
    "# Code starts here\n",
    "start_time = time.time()\n",
    "results = []\n",
    "with concurrent.futures.ThreadPoolExecutor(max_workers=5) as executor:\n",
    "    # Submit the function to the executor five times\n",
    "    futures = [executor.submit(sub_branch_and_bound_no_pruning, rnd_data, initial_solution, initial_cost, i) for i in range(5)]\n",
    "    \n",
    "    # Collect the results from the futures\n",
    "    results = [future.result() for future in futures]\n",
    "\n",
    "elapsed_time = time.time() - start_time\n",
    "print(f'Results are: {results}')\n",
    "min_tuple = min(results, key=lambda x: x[1])\n",
    "print(f'\\nBest sequence is {min_tuple[0]} with a makespan of {min_tuple[1]} ')\n",
    "print(\"Elapsed time:\", elapsed_time, \"seconds\")"
   ]
  },
  {
   "cell_type": "code",
   "execution_count": 48,
   "id": "14340ee0",
   "metadata": {},
   "outputs": [
    {
     "name": "stdout",
     "output_type": "stream",
     "text": [
      "\n",
      "Best sequence is [3, 2, 1, 4, 0] with a makespan of 203.0\n",
      "Elapsed time: 0.04200243949890137 seconds\n"
     ]
    }
   ],
   "source": [
    "initial_solution = [i for i in range(5)]\n",
    "initial_cost = evaluate_sequence(initial_solution, rnd_data)\n",
    "\n",
    "start_time = time.time()\n",
    "best_solution, best_cost, i = branch_and_bound_no_pruning(rnd_data, initial_solution, initial_cost)\n",
    "elapsed_time = time.time() - start_time\n",
    "\n",
    "print(f'\\nBest sequence is {best_solution} with a makespan of {best_cost}')\n",
    "print(\"Elapsed time:\", elapsed_time, \"seconds\")"
   ]
  },
  {
   "cell_type": "markdown",
   "id": "b930a42d",
   "metadata": {},
   "source": [
    "## Common Instance"
   ]
  },
  {
   "cell_type": "code",
   "execution_count": 22,
   "id": "4bd1ac1c",
   "metadata": {},
   "outputs": [],
   "source": [
    "instance_common = np.array([\n",
    "    [71, 79, 85, 82, 83], \n",
    "    [84, 71, 66, 68, 81],\n",
    "    [78, 81, 75, 72, 87],\n",
    "    [78, 75, 66, 72, 88],\n",
    "    [72, 88, 83, 85, 88],\n",
    "    [86, 88, 79, 82, 78],\n",
    "    [75, 66, 86, 78, 78],\n",
    "    [80, 79, 66, 83, 78],\n",
    "    [73, 73, 67, 77, 71],\n",
    "    [80, 77, 83, 78, 67],\n",
    "])"
   ]
  },
  {
   "cell_type": "markdown",
   "id": "942c55f5",
   "metadata": {},
   "source": [
    "### B&B with `evaluate_sequence`"
   ]
  },
  {
   "cell_type": "markdown",
   "id": "f387b3c9",
   "metadata": {},
   "source": [
    "#### Random initial solution"
   ]
  },
  {
   "cell_type": "code",
   "execution_count": 56,
   "id": "f2d8bfd1",
   "metadata": {},
   "outputs": [
    {
     "name": "stdout",
     "output_type": "stream",
     "text": [
      "M: 1116.0\n",
      "\n",
      "Best sequence is [3, 2, 7, 6, 8, 0, 1, 4, 5, 9] with a makespan of 1102.0\n",
      "Elapsed time: 1016.035453081131 seconds\n"
     ]
    }
   ],
   "source": [
    "initial_solution = [i for i in range(10)]\n",
    "initial_cost = evaluate_sequence(initial_solution, instance_common)\n",
    "\n",
    "start_time = time.time()\n",
    "best_solution, best_cost, i = branch_and_bound_eval(instance_common, initial_solution, initial_cost)\n",
    "elapsed_time = time.time() - start_time\n",
    "\n",
    "print(f'\\nBest sequence is {best_solution} with a makespan of {best_cost}')\n",
    "print(\"Elapsed time:\", elapsed_time, \"seconds\")"
   ]
  },
  {
   "cell_type": "markdown",
   "id": "c7714d27",
   "metadata": {},
   "source": [
    "#### Solution initialized with NEH"
   ]
  },
  {
   "cell_type": "code",
   "execution_count": 54,
   "id": "9336c6da",
   "metadata": {},
   "outputs": [
    {
     "name": "stdout",
     "output_type": "stream",
     "text": [
      "M: 1105.0\n",
      "\n",
      "Best sequence is [3, 2, 7, 6, 8, 0, 1, 4, 5, 9] with a makespan of 1102.0\n",
      "Elapsed time: 1040.4345321655273 seconds\n"
     ]
    }
   ],
   "source": [
    "initial_solution, initial_cost = neh_algorithm(instance_common)\n",
    "\n",
    "start_time = time.time()\n",
    "best_solution, best_cost, i = branch_and_bound_eval(instance_common, initial_solution, initial_cost)\n",
    "elapsed_time = time.time() - start_time\n",
    "\n",
    "print(f'\\nBest sequence is {best_solution} with a makespan of {best_cost}')\n",
    "print(\"Elapsed time:\", elapsed_time, \"seconds\")"
   ]
  },
  {
   "cell_type": "markdown",
   "id": "99016045",
   "metadata": {},
   "source": [
    "### B&B pure"
   ]
  },
  {
   "cell_type": "code",
   "execution_count": 73,
   "id": "f463f7a5",
   "metadata": {},
   "outputs": [
    {
     "name": "stdout",
     "output_type": "stream",
     "text": [
      "\n",
      "Best sequence is [3, 2, 7, 6, 8, 0, 1, 4, 5, 9] with a makespan of 1102.0\n",
      "Elapsed time: 1248.8050439357758 seconds\n"
     ]
    }
   ],
   "source": [
    "initial_solution = [i for i in range(10)]\n",
    "initial_cost = evaluate_sequence(initial_solution, instance_common)\n",
    "\n",
    "start_time = time.time()\n",
    "best_solution, best_cost, i = branch_and_bound_no_pruning(instance_common, initial_solution, initial_cost)\n",
    "elapsed_time = time.time() - start_time\n",
    "\n",
    "print(f'\\nBest sequence is {best_solution} with a makespan of {best_cost}')\n",
    "print(\"Elapsed time:\", elapsed_time, \"seconds\")"
   ]
  },
  {
   "cell_type": "markdown",
   "id": "a84fd3f3",
   "metadata": {},
   "source": [
    "## Taillard Instances"
   ]
  },
  {
   "cell_type": "code",
   "execution_count": 75,
   "id": "1bb33d95",
   "metadata": {},
   "outputs": [
    {
     "name": "stdout",
     "output_type": "stream",
     "text": [
      "Number of instances in this file 10.\n",
      "\n",
      "\n",
      "[[54, 83, 15, 71, 77, 36, 53, 38, 27, 87, 76, 91, 14, 29, 12, 77, 32, 87, 68, 94], [79, 3, 11, 99, 56, 70, 99, 60, 5, 56, 3, 61, 73, 75, 47, 14, 21, 86, 5, 77], [16, 89, 49, 15, 89, 45, 60, 23, 57, 64, 7, 1, 63, 41, 63, 47, 26, 75, 77, 40], [66, 58, 31, 68, 78, 91, 13, 59, 49, 85, 85, 9, 39, 41, 56, 40, 54, 77, 51, 31], [58, 56, 20, 85, 53, 35, 53, 41, 69, 13, 86, 72, 8, 49, 47, 87, 58, 18, 68, 28]]\n",
      "\n",
      "\n",
      "[[26, 38, 27, 88, 95, 55, 54, 63, 23, 45, 86, 43, 43, 40, 37, 54, 35, 59, 43, 50], [59, 62, 44, 10, 23, 64, 47, 68, 54, 9, 30, 31, 92, 7, 14, 95, 76, 82, 91, 37], [78, 90, 64, 49, 47, 20, 61, 93, 36, 47, 70, 54, 87, 13, 40, 34, 55, 13, 11, 5], [88, 54, 47, 83, 84, 9, 30, 11, 92, 63, 62, 75, 48, 23, 85, 23, 4, 31, 13, 98], [69, 30, 61, 35, 53, 98, 94, 33, 77, 31, 54, 71, 78, 9, 79, 51, 76, 56, 80, 72]]\n",
      "\n",
      "\n",
      "[[77, 94, 9, 57, 29, 79, 55, 73, 65, 86, 25, 39, 76, 24, 38, 5, 91, 29, 22, 27], [39, 31, 46, 18, 93, 58, 85, 58, 97, 10, 79, 93, 2, 87, 17, 18, 10, 50, 8, 26], [14, 21, 15, 10, 85, 46, 42, 18, 36, 2, 44, 89, 6, 3, 1, 43, 81, 57, 76, 59], [11, 2, 36, 30, 89, 10, 88, 22, 31, 9, 43, 91, 26, 3, 75, 99, 63, 83, 70, 84], [83, 13, 84, 46, 20, 33, 74, 42, 33, 71, 32, 48, 42, 99, 7, 54, 8, 73, 30, 75]]\n",
      "\n",
      "\n",
      "[[53, 19, 99, 62, 88, 93, 34, 72, 42, 65, 39, 79, 9, 26, 72, 29, 36, 48, 57, 95], [93, 79, 88, 77, 94, 39, 74, 46, 17, 30, 62, 77, 43, 98, 48, 14, 45, 25, 98, 30], [90, 92, 35, 13, 75, 55, 80, 67, 3, 93, 54, 67, 25, 77, 38, 98, 96, 20, 15, 36], [65, 97, 27, 25, 61, 24, 97, 61, 75, 92, 73, 21, 29, 3, 96, 51, 26, 44, 56, 31], [64, 38, 44, 46, 66, 31, 48, 27, 82, 51, 90, 63, 85, 36, 69, 67, 81, 18, 81, 72]]\n",
      "\n",
      "\n",
      "[[61, 86, 16, 42, 14, 92, 67, 77, 46, 41, 78, 3, 72, 95, 53, 59, 34, 66, 42, 63], [27, 92, 8, 65, 34, 6, 42, 39, 2, 7, 85, 32, 14, 74, 59, 95, 48, 37, 59, 4], [42, 93, 32, 30, 16, 95, 58, 12, 95, 21, 74, 38, 4, 31, 62, 39, 97, 57, 9, 54], [13, 47, 6, 70, 19, 97, 41, 1, 57, 60, 62, 14, 90, 76, 12, 89, 37, 35, 91, 69], [55, 48, 56, 84, 22, 51, 43, 50, 62, 61, 10, 87, 99, 40, 91, 64, 62, 53, 33, 16]]\n",
      "\n",
      "\n",
      "[[71, 27, 55, 90, 11, 18, 42, 64, 73, 95, 22, 53, 32, 5, 94, 12, 41, 85, 75, 38], [13, 11, 73, 43, 27, 33, 57, 42, 71, 3, 11, 49, 8, 3, 47, 58, 23, 79, 99, 23], [61, 25, 52, 72, 89, 75, 60, 28, 94, 95, 18, 73, 40, 61, 68, 75, 37, 13, 65, 7], [21, 8, 5, 8, 58, 59, 85, 35, 84, 97, 93, 60, 99, 29, 94, 41, 51, 87, 97, 11], [91, 13, 7, 95, 20, 69, 45, 44, 29, 32, 94, 84, 60, 49, 49, 65, 85, 52, 8, 58]]\n",
      "\n",
      "\n",
      "[[15, 64, 64, 48, 9, 91, 27, 34, 42, 3, 11, 54, 27, 30, 9, 15, 88, 55, 50, 57], [28, 4, 43, 93, 1, 81, 77, 69, 52, 28, 28, 77, 42, 53, 46, 49, 15, 43, 65, 41], [77, 36, 57, 15, 81, 82, 98, 97, 12, 35, 84, 70, 27, 37, 59, 42, 57, 16, 11, 34], [1, 59, 95, 49, 90, 78, 3, 69, 99, 41, 73, 28, 99, 13, 59, 47, 8, 92, 87, 62], [45, 73, 59, 63, 54, 98, 39, 75, 33, 8, 86, 41, 41, 22, 43, 34, 80, 16, 37, 94]]\n",
      "\n",
      "\n",
      "[[34, 20, 57, 47, 62, 40, 74, 94, 9, 62, 86, 13, 78, 46, 83, 52, 13, 70, 40, 60], [5, 48, 80, 43, 34, 2, 87, 68, 28, 84, 30, 35, 42, 39, 85, 34, 36, 9, 96, 84], [86, 35, 5, 93, 74, 12, 40, 95, 80, 6, 92, 14, 83, 49, 36, 38, 43, 89, 94, 33], [28, 39, 55, 21, 25, 88, 59, 40, 90, 18, 33, 10, 59, 92, 15, 77, 31, 85, 85, 99], [8, 91, 45, 55, 75, 18, 59, 86, 45, 89, 11, 54, 38, 41, 64, 98, 83, 36, 61, 19]]\n",
      "\n",
      "\n",
      "[[37, 36, 1, 4, 64, 74, 32, 67, 73, 7, 78, 64, 98, 60, 89, 49, 2, 79, 79, 53], [59, 16, 90, 3, 76, 74, 22, 30, 89, 61, 39, 15, 69, 57, 9, 13, 71, 2, 34, 49], [65, 94, 96, 47, 35, 34, 84, 3, 60, 34, 70, 57, 8, 74, 13, 37, 87, 71, 89, 57], [70, 3, 43, 14, 26, 83, 26, 65, 47, 94, 75, 30, 1, 71, 46, 87, 78, 76, 75, 55], [94, 98, 63, 83, 19, 79, 54, 78, 29, 8, 38, 97, 61, 10, 37, 16, 78, 96, 9, 91]]\n",
      "\n",
      "\n",
      "[[27, 92, 75, 94, 18, 41, 37, 58, 56, 20, 2, 39, 91, 81, 33, 14, 88, 22, 36, 65], [79, 23, 66, 5, 15, 51, 2, 81, 12, 40, 59, 32, 16, 87, 78, 41, 43, 94, 1, 93], [22, 93, 62, 53, 30, 34, 27, 30, 54, 77, 24, 47, 39, 66, 41, 46, 24, 23, 68, 50], [93, 22, 64, 81, 94, 97, 54, 82, 11, 91, 23, 32, 26, 22, 12, 23, 34, 87, 59, 2], [38, 84, 62, 10, 11, 93, 57, 81, 10, 40, 62, 49, 90, 34, 11, 81, 51, 21, 39, 2]]\n"
     ]
    }
   ],
   "source": [
    "# Open the file that contains the instances\n",
    "file = open(\"Benchmarks/tai20_5.txt\", \"r\")\n",
    "\n",
    "# Read the file line by line to retrieve the instances\n",
    "n = 0\n",
    "instances = [[]]\n",
    "line = file.readline()\n",
    "\n",
    "while line:\n",
    "    if line != '\\n':\n",
    "        line = line.strip(' ')\n",
    "        line = line[:-1]\n",
    "        line = line.split()\n",
    "        line = [int(num) for num in line]\n",
    "        instances[n].append(line)\n",
    "    else:\n",
    "        instances.append([])\n",
    "        n += 1\n",
    "    line = file.readline()\n",
    "    \n",
    "print(f'Number of instances in this file {len(instances)}.')\n",
    "\n",
    "for instance in instances:\n",
    "    print(\"\\n\")\n",
    "    print(instance)\n",
    "    "
   ]
  }
 ],
 "metadata": {
  "kernelspec": {
   "display_name": "Python 3 (ipykernel)",
   "language": "python",
   "name": "python3"
  },
  "language_info": {
   "codemirror_mode": {
    "name": "ipython",
    "version": 3
   },
   "file_extension": ".py",
   "mimetype": "text/x-python",
   "name": "python",
   "nbconvert_exporter": "python",
   "pygments_lexer": "ipython3",
   "version": "3.8.12"
  }
 },
 "nbformat": 4,
 "nbformat_minor": 5
}
