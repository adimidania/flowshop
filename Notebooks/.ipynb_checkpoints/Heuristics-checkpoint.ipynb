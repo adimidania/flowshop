{
 "cells": [
  {
   "cell_type": "markdown",
   "id": "23a51b08",
   "metadata": {},
   "source": [
    "# Heuristics - Flowshop problem"
   ]
  },
  {
   "cell_type": "markdown",
   "id": "1d9c5ea6",
   "metadata": {
    "tags": []
   },
   "source": [
    "This notebook contains a hands-on the flowshop problem. We will focus on implementing some of the most known heuristics to solve this problem. These heuristics can quickly generate good solutions, even for large problem instances, with a reasonable amount of computational resources. This is particularly useful in production environments where quick turnaround times are important.\n",
    "\n",
    "### Table of content\n",
    "- [NEH Heuristic](#NEH)\n",
    "- [Johnson Heuristic](#Johnson)\n",
    "- [Ham Heuristic](#Ham)\n",
    "- [Palmer Heuristic](#Palmer)\n",
    "- [CDS Heuristic](#CDS)\n",
    "- [Gupta Heuristic](#Gupta)\n",
    "- [PRSKE Heuristic](#PRSKE)\n",
    "- [Artificial Heuristic](#Artificial-Heuristic)\n",
    "- [Tests](#Tests)\n",
    "\n",
    "### References\n",
    "- [Finding an Optimal Sequence in the Flowshop Scheduling Using Johnson’s Algorithm](https://ijiset.com/vol2/v2s1/IJISET_V2_I1_50.pdf)\n",
    "- [Benchmarks for Basic Scheduling Problems](http://mistic.heig-vd.ch/taillard/articles.dir/Taillard1993EJOR.pdf)\n",
    "- [Selected heuristic algorithms for solving job shop and flow shop scheduling problems](https://core.ac.uk/display/53190359?utm_source=pdf&utm_medium=banner&utm_campaign=pdf-decoration-v1)"
   ]
  },
  {
   "cell_type": "code",
   "execution_count": 27,
   "id": "a14487ae",
   "metadata": {},
   "outputs": [],
   "source": [
    "import numpy as np\n",
    "import matplotlib as plt\n",
    "import itertools\n",
    "import time\n",
    "import pandas as pd"
   ]
  },
  {
   "cell_type": "code",
   "execution_count": 2,
   "id": "bf4ec211",
   "metadata": {},
   "outputs": [],
   "source": [
    "def evaluate_sequence(sequence, processing_times):\n",
    "    _, num_machines = processing_times.shape\n",
    "    num_jobs = len(sequence)\n",
    "    completion_times = np.zeros((num_jobs, num_machines))\n",
    "    \n",
    "    # Calculate the completion times for the first machine\n",
    "    completion_times[0][0] = processing_times[sequence[0]][0]\n",
    "    for i in range(1, num_jobs):\n",
    "        completion_times[i][0] = completion_times[i-1][0] + processing_times[sequence[i]][0]\n",
    "    \n",
    "    # Calculate the completion times for the remaining machines\n",
    "    for j in range(1, num_machines):\n",
    "        completion_times[0][j] = completion_times[0][j-1] + processing_times[sequence[0]][j]\n",
    "        for i in range(1, num_jobs):\n",
    "            completion_times[i][j] = max(completion_times[i-1][j], completion_times[i][j-1]) + processing_times[sequence[i]][j]\n",
    "    \n",
    "    # Return the total completion time, which is the completion time of the last job in the last machine\n",
    "    return completion_times[num_jobs-1][num_machines-1]"
   ]
  },
  {
   "cell_type": "markdown",
   "id": "0bdab97e",
   "metadata": {},
   "source": [
    "# NEH"
   ]
  },
  {
   "cell_type": "code",
   "execution_count": 3,
   "id": "07f43b4e",
   "metadata": {},
   "outputs": [],
   "source": [
    "def order_jobs_in_descending_order_of_total_completion_time(processing_times):\n",
    "    total_completion_time = processing_times.sum(axis=1)\n",
    "    return np.argsort(total_completion_time, axis=0).tolist()"
   ]
  },
  {
   "cell_type": "code",
   "execution_count": 4,
   "id": "2dff1614",
   "metadata": {},
   "outputs": [],
   "source": [
    "def insertion(sequence, position, value):\n",
    "    new_seq = sequence[:]\n",
    "    new_seq.insert(position, value)\n",
    "    return new_seq"
   ]
  },
  {
   "cell_type": "code",
   "execution_count": 5,
   "id": "72c7b39a",
   "metadata": {},
   "outputs": [],
   "source": [
    "def neh_algorithm(processing_times):\n",
    "    ordered_sequence = order_jobs_in_descending_order_of_total_completion_time(processing_times)\n",
    "    # Define the initial order\n",
    "    J1, J2 = ordered_sequence[:2]\n",
    "    sequence = [J1, J2] if evaluate_sequence([J1, J2], processing_times) < evaluate_sequence([J2, J1], processing_times) else [J2, J1]\n",
    "    del ordered_sequence[:2]\n",
    "    # Add remaining jobs\n",
    "    for job in ordered_sequence:\n",
    "        Cmax = float('inf')\n",
    "        best_sequence = []\n",
    "        for i in range(len(sequence)+1):\n",
    "            new_sequence = insertion(sequence, i, job)\n",
    "            Cmax_eval = evaluate_sequence(new_sequence, processing_times)\n",
    "            if Cmax_eval < Cmax:\n",
    "                Cmax = Cmax_eval\n",
    "                best_sequence = new_sequence\n",
    "        sequence = best_sequence\n",
    "    return sequence, Cmax"
   ]
  },
  {
   "cell_type": "markdown",
   "id": "1d09c8ba",
   "metadata": {},
   "source": [
    "# Johnson"
   ]
  },
  {
   "cell_type": "code",
   "execution_count": 6,
   "id": "8e7518ba",
   "metadata": {},
   "outputs": [],
   "source": [
    "def johnson_method(processing_times):\n",
    "    jobs, machines = processing_times.shape\n",
    "    copy_processing_times = processing_times.copy()\n",
    "    maximum = processing_times.max() + 1\n",
    "    m1 = []\n",
    "    m2 = []\n",
    "    \n",
    "    if machines != 2:\n",
    "        raise Exception(\"Johson method only works with two machines\")\n",
    "        \n",
    "    for i in range(jobs):\n",
    "        minimum = copy_processing_times.min()\n",
    "        position = np.where(copy_processing_times == minimum)\n",
    "        \n",
    "        if position[1][0] == 0:\n",
    "            m1.append(position[0][0])\n",
    "        else:\n",
    "            m2.insert(0, position[0][0])\n",
    "        \n",
    "        copy_processing_times[position[0][0]] = maximum\n",
    "        \n",
    "    return m1+m2"
   ]
  },
  {
   "cell_type": "markdown",
   "id": "65612cf2",
   "metadata": {},
   "source": [
    "# Ham"
   ]
  },
  {
   "cell_type": "code",
   "execution_count": 7,
   "id": "89ce9e8e",
   "metadata": {},
   "outputs": [],
   "source": [
    "def ham_heuristic(processing_time):\n",
    "    jobs, machines = processing_time.shape\n",
    "    sequence = list(range(jobs))\n",
    "    # Calculating the first summation\n",
    "    P1 = processing_time[:,:machines//2].sum(axis=1)\n",
    "    # Calculating the second summation\n",
    "    P2 = processing_time[:,machines//2:].sum(axis=1)\n",
    "    # Calculating the first solution, ordered by P2 - P1\n",
    "    P2_P1 = P2 - P1\n",
    "    solution_1 = [job for _ , job in sorted(zip(P2_P1, sequence), reverse=True)]\n",
    "    # Calculating the second solution\n",
    "    positives = np.argwhere(P2_P1 >= 0).flatten()\n",
    "    negatives = np.argwhere(P2_P1 < 0).flatten()\n",
    "    positive_indices = [job for _ , job in sorted(zip(P1[positives], positives))]\n",
    "    negative_indices = [job for _ , job in sorted(zip(P2[negatives], negatives), reverse=True)]\n",
    "    positive_indices.extend(negative_indices)\n",
    "    # Calculating Cmax for both solutions\n",
    "    Cmax1 = evaluate_sequence(solution_1, processing_time)\n",
    "    Cmax2 = evaluate_sequence(positive_indices, processing_time)\n",
    "    # Returning the best solution among them\n",
    "    if Cmax1 < Cmax2:\n",
    "        return solution_1, Cmax1\n",
    "    else:\n",
    "        return positive_indices, Cmax2"
   ]
  },
  {
   "cell_type": "markdown",
   "id": "f2a1b9e1",
   "metadata": {},
   "source": [
    "# Palmer"
   ]
  },
  {
   "cell_type": "code",
   "execution_count": 8,
   "id": "823e4837",
   "metadata": {},
   "outputs": [],
   "source": [
    "def palmer_heuristic(processing_times):\n",
    "    jobs, machines = processing_times.shape\n",
    "    f = []\n",
    "    for i in range(jobs):\n",
    "        fi = 0\n",
    "        for j in range(machines):\n",
    "            fi += (machines -2*j + 1) * processing_times[i][j]\n",
    "        f.append(fi)\n",
    "    order = sorted(range(jobs), key=lambda k: f[k])\n",
    "    return order"
   ]
  },
  {
   "cell_type": "markdown",
   "id": "a86f8c04",
   "metadata": {
    "tags": []
   },
   "source": [
    "# CDS"
   ]
  },
  {
   "cell_type": "code",
   "execution_count": 9,
   "id": "4ef77345",
   "metadata": {},
   "outputs": [],
   "source": [
    "def CDS_heuristic(processing_times):\n",
    "    jobs, machines = processing_times.shape\n",
    "    m = machines-1\n",
    "    johnson_proc_times = np.zeros((jobs,2))\n",
    "    best_cost = np.inf\n",
    "    best_seq = []\n",
    "    for k in range(m):\n",
    "        johnson_proc_times[:,0] += processing_times[:,k]\n",
    "        johnson_proc_times[:,1] += processing_times[:,-k-1]\n",
    "        seq = johnson_method(johnson_proc_times)\n",
    "        cost = evaluate_sequence(seq,processing_times)\n",
    "        if cost < best_cost:\n",
    "            best_cost = cost\n",
    "            best_seq = seq\n",
    "    return best_seq, best_cost"
   ]
  },
  {
   "cell_type": "markdown",
   "id": "70bd091f",
   "metadata": {},
   "source": [
    "# Gupta"
   ]
  },
  {
   "cell_type": "code",
   "execution_count": 10,
   "id": "c92238d4",
   "metadata": {},
   "outputs": [],
   "source": [
    "def sign(x):\n",
    "    if x > 0:\n",
    "        return 1\n",
    "    elif x < 0:\n",
    "        return -1\n",
    "    else:\n",
    "        return 0"
   ]
  },
  {
   "cell_type": "code",
   "execution_count": 11,
   "id": "390073cd",
   "metadata": {},
   "outputs": [],
   "source": [
    "def min_gupta(job, processing_times):\n",
    "    m = np.inf\n",
    "    _, machines = processing_times.shape\n",
    "    for i in range(machines-1):\n",
    "        k = processing_times[job][i] + processing_times[job][i+1]\n",
    "        if (k < m):\n",
    "            m = k\n",
    "    return k"
   ]
  },
  {
   "cell_type": "code",
   "execution_count": 12,
   "id": "61d9fb09",
   "metadata": {},
   "outputs": [],
   "source": [
    "def gupta_heuristic(processing_times):\n",
    "    jobs, machines = processing_times.shape\n",
    "    f = []\n",
    "    for i in range(jobs):\n",
    "        fi = sign(processing_times[i][0] - processing_times[i][machines-1]) / min_gupta(i,processing_times)\n",
    "        f.append(fi)\n",
    "    order = sorted(range(jobs), key=lambda k: f[k])\n",
    "    return order"
   ]
  },
  {
   "cell_type": "markdown",
   "id": "f213fc1a",
   "metadata": {},
   "source": [
    "# PRSKE"
   ]
  },
  {
   "cell_type": "code",
   "execution_count": 13,
   "id": "4826113d",
   "metadata": {},
   "outputs": [],
   "source": [
    "def skewness(processing_times):\n",
    "    jobs, machines = processing_times.shape\n",
    "    skewnesses = []\n",
    "    # Calculate the skewness for each job \n",
    "    for i in range(jobs):\n",
    "        avg = np.mean(processing_times[i,:])\n",
    "        numerator = 0\n",
    "        denominator = 0\n",
    "        for j in range(machines):\n",
    "            m = (processing_times[i,j] - avg)\n",
    "            numerator += m**3\n",
    "            denominator += m**2\n",
    "        # Actually calculating the skewness    \n",
    "        numerator = numerator*(1/machines)\n",
    "        denominator = (np.sqrt(denominator*(1/machines)))**3\n",
    "        skewnesses.append(numerator/denominator)\n",
    "    return np.array(skewnesses)"
   ]
  },
  {
   "cell_type": "code",
   "execution_count": 14,
   "id": "ffe3ade9",
   "metadata": {},
   "outputs": [],
   "source": [
    "def PRSKE_heuristic(processing_times):\n",
    "    avg = np.mean(processing_times, axis=1)\n",
    "    std = np.std(processing_times, axis=1, ddof=1)\n",
    "    skw = skewness(processing_times)\n",
    "    order = skw + std + avg\n",
    "    sequence = [job for _ , job in sorted(zip(order, list(range(processing_times.shape[0]))),reverse=True)]\n",
    "    return sequence, evaluate_sequence(sequence, processing_times)"
   ]
  },
  {
   "cell_type": "markdown",
   "id": "3841b745-fafe-46fe-9686-ad6166be9dc1",
   "metadata": {},
   "source": [
    "# Artificial Heuristic"
   ]
  },
  {
   "cell_type": "code",
   "execution_count": 15,
   "id": "1b62d7d1-eab1-42e8-ac11-7f6c232096d8",
   "metadata": {},
   "outputs": [],
   "source": [
    "def artificial_heuristic(processing_times):\n",
    "    jobs, machines = processing_times.shape\n",
    "    r = 1\n",
    "    best_cost = np.inf\n",
    "    best_seq = []\n",
    "    while r != machines :\n",
    "        wi = np.zeros((jobs, machines - r))\n",
    "        for i in range(jobs):\n",
    "            for j in range(0, machines - r):\n",
    "                wi[i, j] = (machines - r) - (j)\n",
    "       \n",
    "        am = np.zeros((jobs, 2))    \n",
    "        am[:, 0] = np.sum(wi[:, :machines - r] * processing_times[:, :machines - r], axis=1)\n",
    "        for i in range(jobs):\n",
    "            for j in range(0, machines - r):\n",
    "                am[i, 1] += wi[i, j ] * processing_times[i, machines - j - 1]\n",
    "\n",
    "        seq = johnson_method(am)\n",
    "        cost = evaluate_sequence(seq, processing_times)\n",
    "        if cost < best_cost:\n",
    "            best_cost = cost\n",
    "            best_seq = seq\n",
    "        r += 1\n",
    "       \n",
    "    return best_seq, best_cost"
   ]
  },
  {
   "cell_type": "markdown",
   "id": "a84fd3f3",
   "metadata": {},
   "source": [
    "# Tests"
   ]
  },
  {
   "cell_type": "markdown",
   "id": "66811895-0b43-45eb-b7f5-db2488e61077",
   "metadata": {},
   "source": [
    "In this notebook, we will test all the heuristics implemented above on the first and the seventh instance of each benchmark listed below:\n",
    "- Taillard, 20 jobs 5 machines.\n",
    "- Taillard, 50 jobs 10 machines.\n",
    "- Taillard, 100 jobs 10 machines.\n",
    "- Taillard, 200 jobs 10 machines.\n",
    "\n",
    "For each test, we will save the execution time and the deviation.\n",
    "The deviation being equal to $\\frac{Cmax-UP}{UP}$."
   ]
  },
  {
   "cell_type": "code",
   "execution_count": 25,
   "id": "7c26f7a5-e7e4-4c94-827f-1c778e4ad1b2",
   "metadata": {},
   "outputs": [],
   "source": [
    "def deviation(Cmax, UP):\n",
    "    return ((Cmax - UP)/UP)*100"
   ]
  },
  {
   "cell_type": "markdown",
   "id": "77840574",
   "metadata": {
    "tags": []
   },
   "source": [
    "## Reading Taillard Instances"
   ]
  },
  {
   "cell_type": "markdown",
   "id": "30f47110-83c0-4222-95fd-000a2f5ae440",
   "metadata": {
    "tags": []
   },
   "source": [
    "### Taillard, 20 jobs 5 machines"
   ]
  },
  {
   "cell_type": "code",
   "execution_count": 17,
   "id": "1bb33d95",
   "metadata": {},
   "outputs": [
    {
     "name": "stdout",
     "output_type": "stream",
     "text": [
      "Taillard, 20 jobs 5 machines contains 10 benchmark.\n"
     ]
    }
   ],
   "source": [
    "# Open the file that contains the instances\n",
    "file = open(\"Benchmarks/tai20_5.txt\", \"r\")\n",
    "\n",
    "# Read the file line by line to retrieve the instances\n",
    "n = 0\n",
    "instances_20_5 = [[]]\n",
    "line = file.readline()\n",
    "\n",
    "while line:\n",
    "    if line != '\\n':\n",
    "        line = line.strip(' ')\n",
    "        line = line[:-1]\n",
    "        line = line.split()\n",
    "        line = [int(num) for num in line]\n",
    "        instances_20_5[n].append(line)\n",
    "    else:\n",
    "        instances_20_5.append([])\n",
    "        n += 1\n",
    "    line = file.readline()\n",
    "    \n",
    "print(f'Taillard, 20 jobs 5 machines contains {len(instances_20_5)} benchmark.')   "
   ]
  },
  {
   "cell_type": "markdown",
   "id": "20fb69cc",
   "metadata": {
    "tags": []
   },
   "source": [
    "### Taillard, 50 jobs 10 machines"
   ]
  },
  {
   "cell_type": "code",
   "execution_count": 18,
   "id": "41f7c6fe",
   "metadata": {},
   "outputs": [
    {
     "name": "stdout",
     "output_type": "stream",
     "text": [
      "Taillard, 50 jobs 10 machines contains 10 benchmark.\n"
     ]
    }
   ],
   "source": [
    "# Open the file that contains the instances\n",
    "file = open(\"Benchmarks/tai50_10.txt\", \"r\")\n",
    "\n",
    "# Read the file line by line to retrieve the instances\n",
    "n = 0\n",
    "instances_50_10 = [[]]\n",
    "line = file.readline()\n",
    "\n",
    "while line:\n",
    "    if line != '\\n':\n",
    "        line = line.strip(' ')\n",
    "        line = line[:-1]\n",
    "        line = line.split()\n",
    "        line = [int(num) for num in line]\n",
    "        instances_50_10[n].append(line)\n",
    "    else:\n",
    "        instances_50_10.append([])\n",
    "        n += 1\n",
    "    line = file.readline()\n",
    "    \n",
    "print(f'Taillard, 50 jobs 10 machines contains {len(instances_50_10)} benchmark.')"
   ]
  },
  {
   "cell_type": "markdown",
   "id": "ea030880",
   "metadata": {
    "jp-MarkdownHeadingCollapsed": true,
    "tags": []
   },
   "source": [
    "### Taillard, 100 jobs 10 machines"
   ]
  },
  {
   "cell_type": "code",
   "execution_count": 19,
   "id": "dbdca94f",
   "metadata": {},
   "outputs": [
    {
     "name": "stdout",
     "output_type": "stream",
     "text": [
      "Taillard, 100 jobs 10 machines contains 10 benchmark.\n"
     ]
    }
   ],
   "source": [
    "# Open the file that contains the instances\n",
    "file = open(\"Benchmarks/tai100_10.txt\", \"r\")\n",
    "\n",
    "# Read the file line by line to retrieve the instances\n",
    "n = 0\n",
    "instances_100_10 = [[]]\n",
    "line = file.readline()\n",
    "\n",
    "while line:\n",
    "    if line != '\\n':\n",
    "        line = line.strip(' ')\n",
    "        line = line[:-1]\n",
    "        line = line.split()\n",
    "        line = [int(num) for num in line]\n",
    "        instances_100_10[n].append(line)\n",
    "    else:\n",
    "        instances_100_10.append([])\n",
    "        n += 1\n",
    "    line = file.readline()\n",
    "    \n",
    "print(f'Taillard, 100 jobs 10 machines contains {len(instances_100_10)} benchmark.')"
   ]
  },
  {
   "cell_type": "markdown",
   "id": "53bc3497",
   "metadata": {
    "tags": []
   },
   "source": [
    "### Taillard, 200 jobs 10 machines"
   ]
  },
  {
   "cell_type": "code",
   "execution_count": 26,
   "id": "02d3cb7a",
   "metadata": {},
   "outputs": [
    {
     "name": "stdout",
     "output_type": "stream",
     "text": [
      "Taillard, 200 jobs 10 machines contains 10 benchmark.\n"
     ]
    }
   ],
   "source": [
    "# Open the file that contains the instances\n",
    "file = open(\"Benchmarks/tai200_10.txt\", \"r\")\n",
    "\n",
    "# Read the file line by line to retrieve the instances\n",
    "n = 0\n",
    "instances_200_10 = [[]]\n",
    "line = file.readline()\n",
    "\n",
    "while line:\n",
    "    if line != '\\n':\n",
    "        line = line.strip(' ')\n",
    "        line = line[:-1]\n",
    "        line = line.split()\n",
    "        line = [int(num) for num in line]\n",
    "        instances_200_10[n].append(line)\n",
    "    else:\n",
    "        instances_200_10.append([])\n",
    "        n += 1\n",
    "    line = file.readline()\n",
    "    \n",
    "print(f'Taillard, 200 jobs 10 machines contains {len(instances_200_10)} benchmark.')"
   ]
  },
  {
   "cell_type": "markdown",
   "id": "2f7bf449-f383-4e89-a54e-abdd747b9128",
   "metadata": {},
   "source": [
    "## Tests on the 7th instance"
   ]
  },
  {
   "cell_type": "code",
   "execution_count": 29,
   "id": "bb9c26b6-b6ae-4cbc-ace8-053ef953f5ca",
   "metadata": {},
   "outputs": [],
   "source": [
    "# Prepare a dataframe that will gather all our results\n",
    "df_1 = pd.DataFrame({'Heuristic': pd.Series(dtype='str'),\n",
    "                   '20-5 (Deviation)': pd.Series(dtype='str'),\n",
    "                   '20-5 (Time)': pd.Series(dtype='str'),\n",
    "                   '50-10 (Deviation)': pd.Series(dtype='str'),\n",
    "                   '50-10 (Time)': pd.Series(dtype='str'),\n",
    "                   '100-10 (Deviation)': pd.Series(dtype='str'),\n",
    "                   '100-10 (Time)': pd.Series(dtype='str'),\n",
    "                   '200-10 (Deviation)': pd.Series(dtype='str'),\n",
    "                   '200-10 (Time)': pd.Series(dtype='str'),\n",
    "                  }) "
   ]
  },
  {
   "cell_type": "code",
   "execution_count": 30,
   "id": "c19ced6a-bfb4-4e10-a014-b8b67bf22372",
   "metadata": {},
   "outputs": [],
   "source": [
    "NEH = ['NEH']\n",
    "Ham = ['Ham']\n",
    "Gupta = ['Gupta']\n",
    "Palmer = ['Palmer']\n",
    "CDS = ['CDS']\n",
    "PRSKE = ['PRSKE']\n",
    "ARTIFICIAL = ['Artificial Heuristic']"
   ]
  },
  {
   "cell_type": "markdown",
   "id": "7c22556b-9b5a-49b0-b3a5-76d6a0a7a8fc",
   "metadata": {},
   "source": [
    "### 20 jobs 5 machines"
   ]
  },
  {
   "cell_type": "code",
   "execution_count": 31,
   "id": "e16feb68-2db6-4815-ba45-beee548cf772",
   "metadata": {},
   "outputs": [],
   "source": [
    "instance_0 = np.array(instances_20_5[6])\n",
    "instance_0 = instance_0.T\n",
    "UB = 1239"
   ]
  },
  {
   "cell_type": "code",
   "execution_count": 32,
   "id": "f8817921-99ac-4b53-b20c-13c753c2841c",
   "metadata": {},
   "outputs": [
    {
     "name": "stdout",
     "output_type": "stream",
     "text": [
      "Solution: [4, 2, 19, 10, 7, 5, 3, 8, 1, 12, 6, 18, 16, 9, 14, 15, 0, 17, 13, 11].\n",
      "\n",
      "Cmax: 1284.0\n",
      "\n",
      "Elapsed time:  0.03790116310119629 seconds\n"
     ]
    }
   ],
   "source": [
    "# NEH Algorithm\n",
    "start_time = time.time()\n",
    "sol, Cmax = neh_algorithm(instance_0)\n",
    "elapsed_time = time.time() - start_time\n",
    "\n",
    "print(f'Solution: {sol}.')\n",
    "print(f'\\nCmax: {Cmax}')\n",
    "print(\"\\nElapsed time: \", elapsed_time, \"seconds\")\n",
    "\n",
    "NEH.append(\"%.3f\" % (deviation(Cmax, UB)))\n",
    "NEH.append(\" %.3fs\" % (elapsed_time))"
   ]
  },
  {
   "cell_type": "code",
   "execution_count": 33,
   "id": "bc4df6c5-e9ed-4a3a-92ca-415bab980bbb",
   "metadata": {},
   "outputs": [
    {
     "name": "stdout",
     "output_type": "stream",
     "text": [
      "Solution: [4, 10, 7, 14, 2, 1, 12, 19, 5, 0, 15, 9, 8, 16, 6, 17, 18, 11, 13, 3].\n",
      "\n",
      "Cmax: 1334.0\n",
      "\n",
      "Elapsed time:  0.0019960403442382812 seconds\n"
     ]
    }
   ],
   "source": [
    "# Ham Heuristic\n",
    "start_time = time.time()\n",
    "sol, Cmax = ham_heuristic(instance_0)\n",
    "elapsed_time = time.time() - start_time\n",
    "\n",
    "print(f'Solution: {sol}.')\n",
    "print(f'\\nCmax: {Cmax}')\n",
    "print(\"\\nElapsed time: \", elapsed_time, \"seconds\")\n",
    "\n",
    "\n",
    "Ham.append(\"%.3f\" % (deviation(Cmax, UB)))\n",
    "Ham.append(\" %.3fs\" % (elapsed_time))"
   ]
  },
  {
   "cell_type": "code",
   "execution_count": 34,
   "id": "64861b9e-8c0a-4288-a509-6fece8c72927",
   "metadata": {},
   "outputs": [
    {
     "name": "stdout",
     "output_type": "stream",
     "text": [
      "Solution: [6, 0, 9, 15, 14, 3, 1, 12, 4, 7, 19, 10, 5, 2, 8, 18, 17, 16, 11, 13].\n",
      "\n",
      "Cmax: 1585.0\n",
      "\n",
      "Elapsed time:  0.0009987354278564453 seconds\n"
     ]
    }
   ],
   "source": [
    "# Gupta Heuristic\n",
    "start_time = time.time()\n",
    "sol = gupta_heuristic(instance_0)\n",
    "Cmax = evaluate_sequence(sol, instance_0)\n",
    "elapsed_time = time.time() - start_time\n",
    "\n",
    "print(f'Solution: {sol}.')\n",
    "print(f'\\nCmax: {Cmax}')\n",
    "print(\"\\nElapsed time: \", elapsed_time, \"seconds\")\n",
    "\n",
    "Gupta.append(\"%.3f\" % (deviation(Cmax, UB)))\n",
    "Gupta.append(\" %.3fs\" % (elapsed_time))"
   ]
  },
  {
   "cell_type": "code",
   "execution_count": 35,
   "id": "94580183-8b59-4cb2-a999-4d731f84b3ca",
   "metadata": {},
   "outputs": [
    {
     "name": "stdout",
     "output_type": "stream",
     "text": [
      "Solution: [4, 10, 9, 0, 14, 12, 15, 1, 19, 8, 13, 17, 18, 7, 16, 2, 3, 6, 11, 5].\n",
      "\n",
      "Cmax: 1487.0\n",
      "\n",
      "Elapsed time:  0.0010001659393310547 seconds\n"
     ]
    }
   ],
   "source": [
    "# Palmer Heuristic\n",
    "start_time = time.time()\n",
    "sol = palmer_heuristic(instance_0)\n",
    "Cmax = evaluate_sequence(sol, instance_0)\n",
    "elapsed_time = time.time() - start_time\n",
    "\n",
    "print(f'Solution: {sol}.')\n",
    "print(f'\\nCmax: {Cmax}')\n",
    "print(\"\\nElapsed time: \", elapsed_time, \"seconds\")\n",
    "\n",
    "Palmer.append(\"%.3f\" % (deviation(Cmax, UB)))\n",
    "Palmer.append(\" %.3fs\" % (elapsed_time))"
   ]
  },
  {
   "cell_type": "code",
   "execution_count": 36,
   "id": "c87130ea-88c5-4638-8d0e-96df482ebb9a",
   "metadata": {},
   "outputs": [
    {
     "name": "stdout",
     "output_type": "stream",
     "text": [
      "Solution: [9, 4, 14, 10, 0, 15, 6, 12, 7, 3, 19, 1, 5, 16, 2, 11, 18, 8, 13, 17].\n",
      "\n",
      "Cmax: 1393.0\n",
      "\n",
      "Elapsed time:  0.0029926300048828125 seconds\n"
     ]
    }
   ],
   "source": [
    "# CDS Heuristic\n",
    "start_time = time.time()\n",
    "sol, Cmax = CDS_heuristic(instance_0)\n",
    "elapsed_time = time.time() - start_time\n",
    "\n",
    "print(f'Solution: {sol}.')\n",
    "print(f'\\nCmax: {Cmax}')\n",
    "print(\"\\nElapsed time: \", elapsed_time, \"seconds\")\n",
    "\n",
    "CDS.append(\"%.3f\" % (deviation(Cmax, UB)))\n",
    "CDS.append(\" %.3fs\" % (elapsed_time))"
   ]
  },
  {
   "cell_type": "code",
   "execution_count": 37,
   "id": "3262a8cd-8579-425d-8366-652bb68af9da",
   "metadata": {},
   "outputs": [
    {
     "name": "stdout",
     "output_type": "stream",
     "text": [
      "Solution: [5, 7, 10, 4, 6, 16, 2, 3, 19, 8, 18, 12, 17, 1, 11, 0, 14, 15, 13, 9].\n",
      "\n",
      "Cmax: 1636.0\n",
      "\n",
      "Elapsed time:  0.0019948482513427734 seconds\n"
     ]
    }
   ],
   "source": [
    "# PKSE Heuristic\n",
    "start_time = time.time()\n",
    "sol, Cmax = PRSKE_heuristic(instance_0)\n",
    "elapsed_time = time.time() - start_time\n",
    "\n",
    "print(f'Solution: {sol}.')\n",
    "print(f'\\nCmax: {Cmax}')\n",
    "print(\"\\nElapsed time: \", elapsed_time, \"seconds\")\n",
    "\n",
    "PRSKE.append(\"%.3f\" % (deviation(Cmax, UB)))\n",
    "PRSKE.append(\" %.3fs\" % (elapsed_time))"
   ]
  },
  {
   "cell_type": "code",
   "execution_count": 38,
   "id": "1b2cd004-8f31-4671-be9b-d6cbcb76e99b",
   "metadata": {},
   "outputs": [
    {
     "name": "stdout",
     "output_type": "stream",
     "text": [
      "Solution: [9, 4, 14, 10, 0, 15, 6, 12, 7, 3, 19, 1, 5, 16, 2, 11, 18, 8, 13, 17].\n",
      "\n",
      "Cmax: 1393.0\n",
      "\n",
      "Elapsed time:  0.0039844512939453125 seconds\n"
     ]
    }
   ],
   "source": [
    "# Artificial_heuristic Heuristic\n",
    "start_time = time.time()\n",
    "sol, Cmax = artificial_heuristic(instance_0)\n",
    "elapsed_time = time.time() - start_time\n",
    "\n",
    "print(f'Solution: {sol}.')\n",
    "print(f'\\nCmax: {Cmax}')\n",
    "print(\"\\nElapsed time: \", elapsed_time, \"seconds\")\n",
    "\n",
    "ARTIFICIAL.append(\"%.3f\" % (deviation(Cmax, UB)))\n",
    "ARTIFICIAL.append(\" %.3fs\" % (elapsed_time))"
   ]
  },
  {
   "cell_type": "markdown",
   "id": "11957bae-a887-471b-b0b6-d759804f210d",
   "metadata": {
    "tags": []
   },
   "source": [
    "### 50 jobs 10 machines"
   ]
  },
  {
   "cell_type": "code",
   "execution_count": 39,
   "id": "e0d7abcd-3770-436c-9ad8-b4d6a851f1ef",
   "metadata": {},
   "outputs": [],
   "source": [
    "instance_0 = np.array(instances_50_10[6])\n",
    "instance_0 = instance_0.T\n",
    "UB = 3107"
   ]
  },
  {
   "cell_type": "code",
   "execution_count": 40,
   "id": "84e688cf-28f1-47d9-85e5-eaafdf1f2000",
   "metadata": {},
   "outputs": [
    {
     "name": "stdout",
     "output_type": "stream",
     "text": [
      "Solution: [48, 0, 36, 18, 7, 4, 9, 44, 2, 1, 8, 19, 34, 27, 41, 13, 6, 3, 15, 11, 29, 43, 22, 20, 25, 47, 42, 23, 26, 32, 16, 12, 5, 31, 28, 38, 46, 37, 21, 33, 40, 39, 45, 49, 10, 14, 24, 17, 30, 35].\n",
      "\n",
      "Cmax: 3271.0\n",
      "\n",
      "Elapsed time:  0.9092223644256592 seconds\n"
     ]
    }
   ],
   "source": [
    "# NEH Algorithm\n",
    "start_time = time.time()\n",
    "sol, Cmax = neh_algorithm(instance_0)\n",
    "elapsed_time = time.time() - start_time\n",
    "\n",
    "print(f'Solution: {sol}.')\n",
    "print(f'\\nCmax: {Cmax}')\n",
    "print(\"\\nElapsed time: \", elapsed_time, \"seconds\")\n",
    "\n",
    "NEH.append(\"%.3f\" % (deviation(Cmax, UB)))\n",
    "NEH.append(\" %.3fs\" % (elapsed_time))"
   ]
  },
  {
   "cell_type": "code",
   "execution_count": 41,
   "id": "082ca183-0ef4-49eb-a9d7-f92d83e2b6a8",
   "metadata": {},
   "outputs": [
    {
     "name": "stdout",
     "output_type": "stream",
     "text": [
      "Solution: [5, 40, 47, 31, 32, 36, 48, 26, 16, 33, 19, 1, 9, 0, 27, 6, 42, 8, 7, 10, 15, 18, 4, 13, 46, 49, 34, 23, 43, 2, 14, 29, 41, 28, 44, 24, 11, 30, 45, 38, 3, 20, 39, 21, 22, 35, 12, 25, 17, 37].\n",
      "\n",
      "Cmax: 3520.0\n",
      "\n",
      "Elapsed time:  0.003988504409790039 seconds\n"
     ]
    }
   ],
   "source": [
    "# Ham Heuristic\n",
    "start_time = time.time()\n",
    "sol, Cmax = ham_heuristic(instance_0)\n",
    "elapsed_time = time.time() - start_time\n",
    "\n",
    "print(f'Solution: {sol}.')\n",
    "print(f'\\nCmax: {Cmax}')\n",
    "print(\"\\nElapsed time: \", elapsed_time, \"seconds\")\n",
    "\n",
    "Ham.append(\"%.3f\" % (deviation(Cmax, UB)))\n",
    "Ham.append(\" %.3fs\" % (elapsed_time))"
   ]
  },
  {
   "cell_type": "code",
   "execution_count": 42,
   "id": "62e8c28c-e38a-44a9-9e62-6e5ee0499c04",
   "metadata": {},
   "outputs": [
    {
     "name": "stdout",
     "output_type": "stream",
     "text": [
      "Solution: [40, 12, 39, 2, 31, 47, 32, 27, 25, 20, 1, 15, 7, 9, 41, 0, 8, 18, 36, 26, 4, 42, 43, 21, 6, 19, 48, 28, 45, 49, 14, 44, 35, 11, 13, 29, 38, 10, 34, 16, 3, 5, 30, 23, 17, 37, 22, 24, 33, 46].\n",
      "\n",
      "Cmax: 3748.0\n",
      "\n",
      "Elapsed time:  0.002991199493408203 seconds\n"
     ]
    }
   ],
   "source": [
    "# Gupta Heuristic\n",
    "start_time = time.time()\n",
    "sol = gupta_heuristic(instance_0)\n",
    "Cmax = evaluate_sequence(sol, instance_0)\n",
    "elapsed_time = time.time() - start_time\n",
    "\n",
    "print(f'Solution: {sol}.')\n",
    "print(f'\\nCmax: {Cmax}')\n",
    "print(\"\\nElapsed time: \", elapsed_time, \"seconds\")\n",
    "\n",
    "Gupta.append(\"%.3f\" % (deviation(Cmax, UB)))\n",
    "Gupta.append(\" %.3fs\" % (elapsed_time))"
   ]
  },
  {
   "cell_type": "code",
   "execution_count": 43,
   "id": "de03c338-8392-46ec-8916-4fc371296326",
   "metadata": {},
   "outputs": [
    {
     "name": "stdout",
     "output_type": "stream",
     "text": [
      "Solution: [36, 31, 48, 8, 47, 0, 32, 1, 9, 5, 19, 26, 27, 16, 40, 25, 45, 20, 42, 33, 41, 6, 15, 39, 7, 18, 43, 2, 17, 11, 10, 12, 34, 22, 44, 14, 4, 28, 23, 35, 30, 29, 13, 21, 49, 24, 46, 3, 37, 38].\n",
      "\n",
      "Cmax: 3476.0\n",
      "\n",
      "Elapsed time:  0.0039904117584228516 seconds\n"
     ]
    }
   ],
   "source": [
    "# Palmer Heuristic\n",
    "start_time = time.time()\n",
    "sol = palmer_heuristic(instance_0)\n",
    "Cmax = evaluate_sequence(sol, instance_0)\n",
    "elapsed_time = time.time() - start_time\n",
    "\n",
    "print(f'Solution: {sol}.')\n",
    "print(f'\\nCmax: {Cmax}')\n",
    "print(\"\\nElapsed time: \", elapsed_time, \"seconds\")\n",
    "\n",
    "Palmer.append(\"%.3f\" % (deviation(Cmax, UB)))\n",
    "Palmer.append(\" %.3fs\" % (elapsed_time))"
   ]
  },
  {
   "cell_type": "code",
   "execution_count": 44,
   "id": "f0bf84a9-43c8-4e4b-93f1-0d9c64485110",
   "metadata": {},
   "outputs": [
    {
     "name": "stdout",
     "output_type": "stream",
     "text": [
      "Solution: [5, 40, 47, 31, 32, 36, 48, 26, 16, 33, 19, 1, 9, 0, 27, 6, 42, 8, 7, 10, 15, 18, 4, 13, 46, 49, 34, 23, 43, 2, 14, 29, 41, 28, 44, 24, 11, 30, 45, 38, 3, 20, 39, 21, 22, 35, 12, 25, 17, 37].\n",
      "\n",
      "Cmax: 3520.0\n",
      "\n",
      "Elapsed time:  0.018949031829833984 seconds\n"
     ]
    }
   ],
   "source": [
    "# CDS Heuristic\n",
    "start_time = time.time()\n",
    "sol, Cmax = CDS_heuristic(instance_0)\n",
    "elapsed_time = time.time() - start_time\n",
    "\n",
    "print(f'Solution: {sol}.')\n",
    "print(f'\\nCmax: {Cmax}')\n",
    "print(\"\\nElapsed time: \", elapsed_time, \"seconds\")\n",
    "\n",
    "CDS.append(\"%.3f\" % (deviation(Cmax, UB)))\n",
    "CDS.append(\" %.3fs\" % (elapsed_time))"
   ]
  },
  {
   "cell_type": "code",
   "execution_count": 45,
   "id": "f0d189f6-49ec-4bf3-8eb8-bd9702d284a2",
   "metadata": {},
   "outputs": [
    {
     "name": "stdout",
     "output_type": "stream",
     "text": [
      "Solution: [4, 31, 38, 13, 46, 11, 49, 44, 23, 3, 27, 18, 24, 15, 36, 8, 34, 42, 41, 33, 10, 14, 21, 7, 28, 0, 19, 43, 6, 29, 48, 37, 22, 2, 35, 30, 9, 12, 17, 20, 47, 1, 45, 32, 16, 25, 5, 39, 40, 26].\n",
      "\n",
      "Cmax: 3804.0\n",
      "\n",
      "Elapsed time:  0.003988504409790039 seconds\n"
     ]
    }
   ],
   "source": [
    "# PKSE Heuristic\n",
    "start_time = time.time()\n",
    "sol, Cmax = PRSKE_heuristic(instance_0)\n",
    "elapsed_time = time.time() - start_time\n",
    "\n",
    "print(f'Solution: {sol}.')\n",
    "print(f'\\nCmax: {Cmax}')\n",
    "print(\"\\nElapsed time: \", elapsed_time, \"seconds\")\n",
    "\n",
    "PRSKE.append(\"%.3f\" % (deviation(Cmax, UB)))\n",
    "PRSKE.append(\" %.3fs\" % (elapsed_time))"
   ]
  },
  {
   "cell_type": "code",
   "execution_count": 46,
   "id": "655f06ef-2193-4daf-9df7-c6743797d5a0",
   "metadata": {},
   "outputs": [
    {
     "name": "stdout",
     "output_type": "stream",
     "text": [
      "Solution: [5, 32, 47, 48, 26, 16, 36, 1, 31, 19, 33, 8, 0, 9, 45, 27, 41, 43, 6, 15, 7, 42, 18, 4, 13, 49, 46, 34, 23, 2, 28, 10, 38, 44, 11, 24, 3, 29, 14, 20, 21, 12, 30, 22, 17, 39, 37, 35, 40, 25].\n",
      "\n",
      "Cmax: 3467.0\n",
      "\n",
      "Elapsed time:  0.020941972732543945 seconds\n"
     ]
    }
   ],
   "source": [
    "# Artificial_heuristic Heuristic\n",
    "start_time = time.time()\n",
    "sol, Cmax = artificial_heuristic(instance_0)\n",
    "elapsed_time = time.time() - start_time\n",
    "\n",
    "print(f'Solution: {sol}.')\n",
    "print(f'\\nCmax: {Cmax}')\n",
    "print(\"\\nElapsed time: \", elapsed_time, \"seconds\")\n",
    "\n",
    "ARTIFICIAL.append(\"%.3f\" % (deviation(Cmax, UB)))\n",
    "ARTIFICIAL.append(\" %.3fs\" % (elapsed_time))"
   ]
  },
  {
   "cell_type": "markdown",
   "id": "4eda136f-6c57-43b7-b576-1ec6c709cc21",
   "metadata": {},
   "source": [
    "### 100 jobs 10 machines"
   ]
  },
  {
   "cell_type": "code",
   "execution_count": 47,
   "id": "f45b3a88-d74f-4748-85e7-c2e77627bee4",
   "metadata": {},
   "outputs": [],
   "source": [
    "instance_0 = np.array(instances_100_10[6])\n",
    "instance_0 = instance_0.T\n",
    "UB = 5599"
   ]
  },
  {
   "cell_type": "code",
   "execution_count": 48,
   "id": "2047cb95-1e77-4832-b2e8-e9ac19554518",
   "metadata": {},
   "outputs": [
    {
     "name": "stdout",
     "output_type": "stream",
     "text": [
      "Solution: [98, 94, 92, 77, 20, 50, 30, 99, 91, 19, 17, 49, 45, 71, 57, 69, 25, 36, 3, 35, 89, 16, 79, 65, 62, 63, 72, 95, 39, 56, 41, 82, 14, 42, 88, 27, 7, 67, 43, 76, 44, 31, 15, 32, 22, 1, 55, 47, 84, 90, 74, 12, 70, 24, 68, 61, 86, 97, 9, 21, 4, 38, 29, 18, 73, 40, 93, 81, 51, 34, 59, 0, 54, 28, 10, 52, 85, 58, 66, 23, 13, 26, 96, 33, 78, 87, 2, 46, 75, 5, 64, 8, 6, 48, 60, 83, 37, 11, 80, 53].\n",
      "\n",
      "Cmax: 5719.0\n",
      "\n",
      "Elapsed time:  6.131911516189575 seconds\n"
     ]
    }
   ],
   "source": [
    "# NEH Algorithm\n",
    "start_time = time.time()\n",
    "sol, Cmax = neh_algorithm(instance_0)\n",
    "elapsed_time = time.time() - start_time\n",
    "\n",
    "print(f'Solution: {sol}.')\n",
    "print(f'\\nCmax: {Cmax}')\n",
    "print(\"\\nElapsed time: \", elapsed_time, \"seconds\")\n",
    "\n",
    "NEH.append(\"%.3f\" % (deviation(Cmax, UB)))\n",
    "NEH.append(\" %.3fs\" % (elapsed_time))"
   ]
  },
  {
   "cell_type": "code",
   "execution_count": 49,
   "id": "7a66f227-4e05-4128-baca-45ffcd69dbc2",
   "metadata": {},
   "outputs": [
    {
     "name": "stdout",
     "output_type": "stream",
     "text": [
      "Solution: [55, 98, 66, 12, 0, 34, 54, 26, 63, 38, 32, 20, 67, 85, 23, 3, 7, 24, 4, 78, 36, 17, 82, 14, 49, 69, 95, 41, 42, 91, 39, 57, 15, 99, 65, 29, 45, 94, 19, 77, 50, 35, 81, 59, 92, 74, 25, 9, 97, 56, 60, 89, 22, 30, 79, 62, 27, 44, 70, 16, 71, 10, 48, 88, 40, 1, 96, 43, 90, 18, 47, 86, 93, 33, 73, 61, 31, 2, 8, 84, 72, 76, 68, 53, 51, 28, 58, 83, 21, 5, 80, 64, 37, 6, 13, 87, 52, 46, 75, 11].\n",
      "\n",
      "Cmax: 6315.0\n",
      "\n",
      "Elapsed time:  0.005984067916870117 seconds\n"
     ]
    }
   ],
   "source": [
    "# Ham Heuristic\n",
    "start_time = time.time()\n",
    "sol, Cmax = ham_heuristic(instance_0)\n",
    "elapsed_time = time.time() - start_time\n",
    "\n",
    "print(f'Solution: {sol}.')\n",
    "print(f'\\nCmax: {Cmax}')\n",
    "print(\"\\nElapsed time: \", elapsed_time, \"seconds\")\n",
    "\n",
    "Ham.append(\"%.3f\" % (deviation(Cmax, UB)))\n",
    "Ham.append(\" %.3fs\" % (elapsed_time))"
   ]
  },
  {
   "cell_type": "code",
   "execution_count": 50,
   "id": "859a2b7f-0676-4a0d-bfa0-d851761ed845",
   "metadata": {},
   "outputs": [
    {
     "name": "stdout",
     "output_type": "stream",
     "text": [
      "Solution: [75, 2, 12, 78, 70, 47, 0, 25, 93, 21, 15, 34, 55, 88, 96, 71, 4, 73, 58, 76, 63, 65, 60, 24, 40, 81, 23, 98, 69, 36, 31, 16, 7, 99, 94, 82, 29, 57, 45, 27, 3, 95, 86, 91, 20, 10, 49, 35, 32, 33, 77, 44, 18, 17, 30, 19, 89, 50, 97, 59, 39, 92, 79, 14, 1, 28, 41, 64, 67, 68, 74, 22, 8, 13, 56, 61, 80, 38, 51, 54, 83, 37, 62, 85, 9, 48, 6, 5, 66, 46, 84, 11, 26, 90, 43, 42, 52, 87, 53, 72].\n",
      "\n",
      "Cmax: 6382.0\n",
      "\n",
      "Elapsed time:  0.005983591079711914 seconds\n"
     ]
    }
   ],
   "source": [
    "# Gupta Heuristic\n",
    "start_time = time.time()\n",
    "sol = gupta_heuristic(instance_0)\n",
    "Cmax = evaluate_sequence(sol, instance_0)\n",
    "elapsed_time = time.time() - start_time\n",
    "\n",
    "print(f'Solution: {sol}.')\n",
    "print(f'\\nCmax: {Cmax}')\n",
    "print(\"\\nElapsed time: \", elapsed_time, \"seconds\")\n",
    "\n",
    "Gupta.append(\"%.3f\" % (deviation(Cmax, UB)))\n",
    "Gupta.append(\" %.3fs\" % (elapsed_time))"
   ]
  },
  {
   "cell_type": "code",
   "execution_count": 51,
   "id": "8d27baa5-22c9-45ef-921e-791778930f02",
   "metadata": {},
   "outputs": [
    {
     "name": "stdout",
     "output_type": "stream",
     "text": [
      "Solution: [98, 20, 63, 55, 49, 32, 82, 34, 3, 7, 67, 0, 86, 69, 36, 54, 12, 94, 13, 52, 91, 10, 24, 75, 61, 4, 17, 95, 23, 96, 66, 99, 45, 65, 39, 38, 44, 26, 78, 27, 57, 51, 58, 85, 41, 21, 73, 29, 15, 46, 31, 19, 60, 16, 88, 40, 33, 22, 47, 2, 25, 70, 79, 42, 14, 68, 92, 77, 30, 64, 8, 5, 6, 48, 81, 28, 18, 87, 93, 90, 37, 50, 62, 97, 53, 35, 56, 76, 80, 43, 11, 89, 71, 59, 9, 74, 1, 84, 72, 83].\n",
      "\n",
      "Cmax: 6144.0\n",
      "\n",
      "Elapsed time:  0.004992485046386719 seconds\n"
     ]
    }
   ],
   "source": [
    "# Palmer Heuristic\n",
    "start_time = time.time()\n",
    "sol = palmer_heuristic(instance_0)\n",
    "Cmax = evaluate_sequence(sol, instance_0)\n",
    "elapsed_time = time.time() - start_time\n",
    "\n",
    "print(f'Solution: {sol}.')\n",
    "print(f'\\nCmax: {Cmax}')\n",
    "print(\"\\nElapsed time: \", elapsed_time, \"seconds\")\n",
    "\n",
    "Palmer.append(\"%.3f\" % (deviation(Cmax, UB)))\n",
    "Palmer.append(\" %.3fs\" % (elapsed_time))"
   ]
  },
  {
   "cell_type": "code",
   "execution_count": 52,
   "id": "4591f9d8-0d7d-4e4e-81db-2bca64092290",
   "metadata": {},
   "outputs": [
    {
     "name": "stdout",
     "output_type": "stream",
     "text": [
      "Solution: [0, 34, 52, 63, 12, 13, 55, 98, 23, 38, 67, 7, 4, 20, 82, 54, 32, 86, 91, 96, 39, 10, 49, 24, 44, 3, 36, 14, 41, 17, 69, 95, 30, 79, 22, 57, 45, 60, 25, 94, 65, 99, 29, 19, 77, 35, 50, 81, 59, 92, 89, 56, 97, 42, 62, 15, 40, 71, 74, 88, 9, 1, 18, 47, 93, 70, 43, 27, 61, 84, 16, 90, 72, 48, 28, 33, 78, 2, 68, 83, 8, 26, 87, 31, 37, 85, 80, 64, 73, 46, 76, 51, 53, 66, 58, 5, 6, 21, 75, 11].\n",
      "\n",
      "Cmax: 6201.0\n",
      "\n",
      "Elapsed time:  0.04487895965576172 seconds\n"
     ]
    }
   ],
   "source": [
    "# CDS Heuristic\n",
    "start_time = time.time()\n",
    "sol, Cmax = CDS_heuristic(instance_0)\n",
    "elapsed_time = time.time() - start_time\n",
    "\n",
    "print(f'Solution: {sol}.')\n",
    "print(f'\\nCmax: {Cmax}')\n",
    "print(\"\\nElapsed time: \", elapsed_time, \"seconds\")\n",
    "\n",
    "CDS.append(\"%.3f\" % (deviation(Cmax, UB)))\n",
    "CDS.append(\" %.3fs\" % (elapsed_time))"
   ]
  },
  {
   "cell_type": "code",
   "execution_count": 53,
   "id": "5a905c9b-e520-4611-8f22-ba374daaa2b6",
   "metadata": {},
   "outputs": [
    {
     "name": "stdout",
     "output_type": "stream",
     "text": [
      "Solution: [89, 35, 29, 81, 94, 77, 9, 16, 72, 92, 74, 71, 56, 40, 84, 93, 91, 99, 62, 50, 59, 1, 83, 43, 76, 42, 97, 44, 19, 95, 39, 30, 32, 15, 22, 49, 36, 20, 65, 45, 28, 14, 67, 25, 18, 17, 57, 79, 73, 47, 90, 86, 87, 61, 10, 60, 69, 27, 3, 63, 7, 48, 54, 80, 70, 8, 41, 68, 96, 5, 58, 88, 2, 82, 23, 53, 33, 6, 37, 46, 64, 31, 0, 4, 21, 24, 98, 38, 78, 11, 26, 34, 85, 12, 66, 55, 13, 51, 75, 52].\n",
      "\n",
      "Cmax: 6696.0\n",
      "\n",
      "Elapsed time:  0.011967897415161133 seconds\n"
     ]
    }
   ],
   "source": [
    "# PKSE Heuristic\n",
    "start_time = time.time()\n",
    "sol, Cmax = PRSKE_heuristic(instance_0)\n",
    "elapsed_time = time.time() - start_time\n",
    "\n",
    "print(f'Solution: {sol}.')\n",
    "print(f'\\nCmax: {Cmax}')\n",
    "print(\"\\nElapsed time: \", elapsed_time, \"seconds\")\n",
    "\n",
    "PRSKE.append(\"%.3f\" % (deviation(Cmax, UB)))\n",
    "PRSKE.append(\" %.3fs\" % (elapsed_time))"
   ]
  },
  {
   "cell_type": "code",
   "execution_count": 54,
   "id": "e80b6013-4d24-4d6a-b334-6dff4c9590d1",
   "metadata": {},
   "outputs": [
    {
     "name": "stdout",
     "output_type": "stream",
     "text": [
      "Solution: [55, 98, 34, 63, 12, 13, 0, 82, 54, 61, 4, 67, 20, 38, 7, 32, 23, 24, 3, 86, 49, 36, 69, 96, 39, 10, 17, 91, 41, 44, 65, 95, 27, 94, 99, 15, 45, 57, 60, 19, 29, 77, 35, 81, 50, 59, 89, 97, 25, 92, 16, 22, 79, 30, 56, 71, 74, 88, 14, 62, 18, 1, 9, 33, 93, 42, 40, 70, 31, 73, 68, 76, 8, 90, 48, 43, 28, 47, 2, 84, 78, 80, 83, 72, 58, 85, 26, 21, 51, 37, 64, 6, 46, 53, 87, 5, 66, 52, 75, 11].\n",
      "\n",
      "Cmax: 6229.0\n",
      "\n",
      "Elapsed time:  0.04687380790710449 seconds\n"
     ]
    }
   ],
   "source": [
    "# Artificial_heuristic Heuristic\n",
    "start_time = time.time()\n",
    "sol, Cmax = artificial_heuristic(instance_0)\n",
    "elapsed_time = time.time() - start_time\n",
    "\n",
    "print(f'Solution: {sol}.')\n",
    "print(f'\\nCmax: {Cmax}')\n",
    "print(\"\\nElapsed time: \", elapsed_time, \"seconds\")\n",
    "\n",
    "ARTIFICIAL.append(\"%.3f\" % (deviation(Cmax, UB)))\n",
    "ARTIFICIAL.append(\" %.3fs\" % (elapsed_time))"
   ]
  },
  {
   "cell_type": "markdown",
   "id": "e405cb50-cccc-480d-a6da-26994bd24a61",
   "metadata": {},
   "source": [
    "### 200 jobs 10 machines"
   ]
  },
  {
   "cell_type": "code",
   "execution_count": 55,
   "id": "3db451d8-b22f-4c88-9ac3-4ed8d202a4c4",
   "metadata": {},
   "outputs": [],
   "source": [
    "instance_0 = np.array(instances_200_10[6])\n",
    "instance_0 = instance_0.T\n",
    "UB = 10857"
   ]
  },
  {
   "cell_type": "code",
   "execution_count": 56,
   "id": "b71c48d7-86eb-493f-ae57-5d584c0293ee",
   "metadata": {},
   "outputs": [
    {
     "name": "stdout",
     "output_type": "stream",
     "text": [
      "Solution: [2, 83, 129, 124, 80, 160, 64, 187, 165, 9, 188, 36, 0, 137, 54, 123, 117, 42, 73, 29, 185, 136, 157, 170, 174, 189, 98, 81, 175, 199, 65, 198, 91, 135, 59, 102, 152, 95, 53, 23, 11, 105, 173, 60, 163, 132, 133, 184, 6, 139, 86, 171, 130, 67, 18, 145, 58, 69, 111, 143, 44, 4, 26, 49, 27, 50, 85, 131, 179, 161, 177, 88, 128, 119, 31, 46, 180, 39, 52, 155, 75, 196, 94, 110, 154, 104, 76, 109, 112, 68, 78, 12, 19, 186, 172, 107, 149, 61, 103, 62, 197, 146, 48, 77, 10, 194, 35, 168, 84, 74, 164, 56, 169, 100, 17, 79, 90, 106, 40, 82, 45, 181, 87, 176, 116, 93, 24, 41, 148, 21, 195, 140, 167, 150, 183, 15, 28, 51, 118, 144, 138, 14, 122, 38, 70, 178, 72, 97, 96, 134, 55, 22, 25, 3, 121, 115, 114, 158, 191, 141, 30, 99, 166, 126, 113, 8, 89, 37, 108, 33, 5, 1, 192, 71, 7, 120, 153, 57, 156, 92, 147, 182, 63, 151, 101, 32, 162, 125, 47, 66, 20, 127, 43, 13, 190, 142, 193, 34, 159, 16].\n",
      "\n",
      "Cmax: 11144.0\n",
      "\n",
      "Elapsed time:  45.70853042602539 seconds\n"
     ]
    }
   ],
   "source": [
    "# NEH Algorithm\n",
    "start_time = time.time()\n",
    "sol, Cmax = neh_algorithm(instance_0)\n",
    "elapsed_time = time.time() - start_time\n",
    "\n",
    "print(f'Solution: {sol}.')\n",
    "print(f'\\nCmax: {Cmax}')\n",
    "print(\"\\nElapsed time: \", elapsed_time, \"seconds\")\n",
    "\n",
    "NEH.append(\"%.3f\" % (deviation(Cmax, UB)))\n",
    "NEH.append(\" %.3fs\" % (elapsed_time))"
   ]
  },
  {
   "cell_type": "code",
   "execution_count": 57,
   "id": "b06ab223-2527-4f57-9d93-ddab995867f5",
   "metadata": {},
   "outputs": [
    {
     "name": "stdout",
     "output_type": "stream",
     "text": [
      "Solution: [197, 146, 61, 14, 164, 186, 79, 10, 62, 160, 35, 100, 87, 59, 118, 113, 110, 140, 172, 150, 49, 122, 116, 181, 39, 158, 5, 157, 131, 60, 26, 9, 85, 93, 2, 17, 89, 44, 168, 45, 169, 74, 130, 111, 51, 30, 112, 37, 75, 154, 84, 69, 199, 139, 153, 29, 115, 166, 105, 1, 196, 191, 104, 50, 129, 52, 98, 126, 185, 3, 101, 121, 11, 189, 15, 198, 88, 151, 152, 177, 64, 78, 23, 119, 149, 47, 141, 133, 128, 182, 31, 175, 0, 124, 136, 6, 66, 83, 53, 68, 173, 145, 188, 165, 73, 187, 117, 171, 81, 54, 63, 123, 20, 58, 80, 127, 102, 170, 163, 71, 156, 42, 7, 67, 192, 137, 132, 86, 135, 143, 95, 36, 4, 184, 43, 109, 174, 65, 28, 13, 48, 155, 27, 90, 179, 161, 107, 57, 159, 94, 32, 180, 120, 19, 183, 91, 33, 77, 99, 76, 108, 103, 147, 18, 82, 41, 138, 38, 106, 148, 12, 162, 8, 178, 167, 92, 22, 114, 193, 190, 56, 195, 144, 142, 21, 16, 176, 194, 46, 55, 25, 97, 40, 70, 125, 72, 34, 96, 24, 134].\n",
      "\n",
      "Cmax: 11655.0\n",
      "\n",
      "Elapsed time:  0.013962268829345703 seconds\n"
     ]
    }
   ],
   "source": [
    "# Ham Heuristic\n",
    "start_time = time.time()\n",
    "sol, Cmax = ham_heuristic(instance_0)\n",
    "elapsed_time = time.time() - start_time\n",
    "\n",
    "print(f'Solution: {sol}.')\n",
    "print(f'\\nCmax: {Cmax}')\n",
    "print(\"\\nElapsed time: \", elapsed_time, \"seconds\")\n",
    "\n",
    "Ham.append(\"%.3f\" % (deviation(Cmax, UB)))\n",
    "Ham.append(\" %.3fs\" % (elapsed_time))"
   ]
  },
  {
   "cell_type": "code",
   "execution_count": 58,
   "id": "2e2daf3a-4156-40be-9e75-18e428096799",
   "metadata": {},
   "outputs": [
    {
     "name": "stdout",
     "output_type": "stream",
     "text": [
      "Solution: [167, 97, 106, 148, 178, 164, 14, 131, 134, 138, 87, 15, 34, 93, 72, 82, 116, 24, 153, 46, 16, 94, 193, 86, 12, 140, 75, 10, 62, 50, 154, 172, 21, 159, 47, 160, 104, 65, 88, 146, 73, 112, 115, 66, 168, 152, 189, 19, 49, 100, 158, 5, 122, 143, 197, 147, 155, 111, 174, 1, 110, 137, 132, 74, 127, 128, 184, 175, 2, 78, 177, 44, 139, 199, 136, 98, 150, 149, 59, 118, 71, 130, 36, 52, 188, 187, 80, 83, 29, 6, 135, 17, 157, 185, 196, 31, 26, 129, 165, 186, 173, 54, 105, 124, 123, 166, 145, 23, 61, 195, 68, 69, 171, 63, 151, 163, 20, 35, 182, 81, 117, 58, 53, 109, 170, 180, 192, 85, 48, 133, 11, 102, 119, 28, 120, 141, 99, 32, 113, 51, 107, 126, 198, 30, 0, 41, 169, 84, 42, 60, 39, 67, 45, 191, 37, 121, 43, 55, 64, 9, 22, 95, 91, 103, 142, 162, 114, 176, 92, 7, 33, 27, 181, 40, 3, 194, 156, 76, 89, 4, 38, 179, 77, 13, 144, 183, 90, 101, 108, 70, 161, 125, 8, 18, 79, 56, 57, 96, 190, 25].\n",
      "\n",
      "Cmax: 12454.0\n",
      "\n",
      "Elapsed time:  0.011968374252319336 seconds\n"
     ]
    }
   ],
   "source": [
    "# Gupta Heuristic\n",
    "start_time = time.time()\n",
    "sol = gupta_heuristic(instance_0)\n",
    "Cmax = evaluate_sequence(sol, instance_0)\n",
    "elapsed_time = time.time() - start_time\n",
    "\n",
    "print(f'Solution: {sol}.')\n",
    "print(f'\\nCmax: {Cmax}')\n",
    "print(\"\\nElapsed time: \", elapsed_time, \"seconds\")\n",
    "\n",
    "Gupta.append(\"%.3f\" % (deviation(Cmax, UB)))\n",
    "Gupta.append(\" %.3fs\" % (elapsed_time))"
   ]
  },
  {
   "cell_type": "code",
   "execution_count": 59,
   "id": "20d0b90b-6164-4b89-b061-6a7694c0f7b2",
   "metadata": {},
   "outputs": [
    {
     "name": "stdout",
     "output_type": "stream",
     "text": [
      "Solution: [146, 61, 197, 59, 26, 157, 100, 186, 2, 49, 130, 129, 160, 112, 199, 118, 60, 111, 62, 74, 14, 17, 29, 110, 196, 122, 139, 140, 150, 23, 35, 185, 116, 10, 164, 79, 113, 168, 172, 85, 154, 36, 105, 134, 39, 44, 151, 87, 5, 83, 75, 98, 88, 31, 6, 78, 153, 124, 166, 175, 181, 143, 1, 19, 149, 9, 131, 182, 69, 47, 158, 178, 84, 136, 89, 169, 97, 189, 138, 141, 145, 50, 37, 51, 30, 184, 70, 77, 82, 101, 188, 52, 80, 93, 104, 177, 132, 106, 187, 173, 148, 71, 152, 28, 133, 195, 48, 165, 24, 55, 171, 99, 45, 11, 15, 176, 107, 72, 117, 66, 179, 73, 198, 115, 68, 128, 135, 65, 21, 53, 54, 155, 159, 144, 127, 38, 0, 119, 137, 22, 167, 109, 180, 193, 96, 192, 13, 90, 183, 64, 121, 3, 103, 81, 56, 191, 147, 32, 125, 102, 108, 174, 86, 92, 34, 33, 63, 123, 12, 126, 27, 41, 190, 40, 120, 20, 161, 94, 170, 16, 142, 95, 7, 76, 114, 57, 42, 25, 163, 46, 67, 194, 18, 156, 4, 58, 162, 43, 91, 8].\n",
      "\n",
      "Cmax: 11257.0\n",
      "\n",
      "Elapsed time:  0.009974002838134766 seconds\n"
     ]
    }
   ],
   "source": [
    "# Palmer Heuristic\n",
    "start_time = time.time()\n",
    "sol = palmer_heuristic(instance_0)\n",
    "Cmax = evaluate_sequence(sol, instance_0)\n",
    "elapsed_time = time.time() - start_time\n",
    "\n",
    "print(f'Solution: {sol}.')\n",
    "print(f'\\nCmax: {Cmax}')\n",
    "print(\"\\nElapsed time: \", elapsed_time, \"seconds\")\n",
    "\n",
    "Palmer.append(\"%.3f\" % (deviation(Cmax, UB)))\n",
    "Palmer.append(\" %.3fs\" % (elapsed_time))"
   ]
  },
  {
   "cell_type": "code",
   "execution_count": 60,
   "id": "460fc61e-be15-4063-a63e-21705e987c94",
   "metadata": {},
   "outputs": [
    {
     "name": "stdout",
     "output_type": "stream",
     "text": [
      "Solution: [197, 146, 14, 62, 150, 140, 35, 61, 51, 186, 122, 59, 164, 181, 17, 30, 100, 79, 84, 113, 49, 10, 178, 172, 74, 168, 69, 116, 5, 118, 169, 60, 23, 87, 130, 111, 75, 44, 26, 39, 28, 48, 196, 85, 154, 160, 153, 31, 36, 110, 2, 139, 89, 157, 141, 6, 9, 198, 88, 129, 132, 105, 29, 148, 151, 152, 11, 77, 143, 78, 179, 1, 175, 149, 189, 112, 128, 83, 98, 109, 165, 131, 182, 101, 65, 184, 80, 199, 185, 188, 124, 117, 73, 136, 133, 145, 171, 81, 54, 127, 68, 47, 0, 63, 170, 58, 187, 20, 123, 173, 174, 137, 67, 7, 66, 64, 91, 119, 161, 192, 43, 108, 71, 53, 3, 18, 95, 32, 102, 15, 121, 159, 156, 42, 50, 177, 4, 163, 86, 16, 155, 120, 19, 104, 52, 107, 46, 147, 135, 194, 106, 21, 180, 90, 57, 103, 37, 12, 27, 115, 13, 126, 56, 183, 142, 8, 40, 99, 82, 94, 24, 93, 34, 191, 162, 76, 193, 138, 41, 92, 166, 33, 167, 190, 158, 195, 97, 45, 72, 176, 144, 114, 22, 70, 38, 25, 96, 55, 125, 134].\n",
      "\n",
      "Cmax: 11608.0\n",
      "\n",
      "Elapsed time:  0.09326457977294922 seconds\n"
     ]
    }
   ],
   "source": [
    "# CDS Heuristic\n",
    "start_time = time.time()\n",
    "sol, Cmax = CDS_heuristic(instance_0)\n",
    "elapsed_time = time.time() - start_time\n",
    "\n",
    "print(f'Solution: {sol}.')\n",
    "print(f'\\nCmax: {Cmax}')\n",
    "print(\"\\nElapsed time: \", elapsed_time, \"seconds\")\n",
    "\n",
    "CDS.append(\"%.3f\" % (deviation(Cmax, UB)))\n",
    "CDS.append(\" %.3fs\" % (elapsed_time))"
   ]
  },
  {
   "cell_type": "code",
   "execution_count": 61,
   "id": "a5464315-216f-44d3-ac3c-ee2b6e96c56a",
   "metadata": {},
   "outputs": [
    {
     "name": "stdout",
     "output_type": "stream",
     "text": [
      "Solution: [173, 47, 68, 145, 174, 83, 66, 31, 91, 123, 199, 95, 171, 124, 0, 185, 58, 69, 163, 187, 20, 54, 136, 46, 120, 137, 112, 152, 67, 43, 184, 128, 192, 4, 26, 61, 78, 64, 81, 63, 2, 159, 117, 166, 101, 80, 156, 189, 151, 53, 157, 16, 42, 132, 19, 7, 8, 121, 5, 130, 23, 126, 155, 119, 109, 133, 141, 3, 129, 175, 60, 11, 108, 198, 105, 98, 182, 36, 110, 196, 147, 165, 27, 170, 131, 94, 48, 161, 92, 6, 103, 18, 127, 162, 104, 194, 177, 188, 135, 149, 160, 99, 76, 139, 179, 9, 73, 21, 113, 71, 29, 52, 148, 49, 154, 90, 50, 1, 180, 143, 15, 86, 102, 88, 30, 186, 12, 183, 41, 85, 118, 28, 57, 39, 153, 77, 65, 111, 32, 193, 74, 82, 45, 115, 17, 34, 167, 181, 107, 100, 84, 191, 44, 35, 158, 33, 89, 13, 142, 140, 51, 24, 75, 114, 56, 62, 40, 79, 93, 87, 59, 169, 178, 22, 146, 150, 38, 190, 168, 172, 10, 144, 125, 195, 106, 72, 55, 164, 37, 116, 25, 138, 122, 176, 97, 70, 96, 197, 14, 134].\n",
      "\n",
      "Cmax: 12299.0\n",
      "\n",
      "Elapsed time:  0.020943641662597656 seconds\n"
     ]
    }
   ],
   "source": [
    "# PKSE Heuristic\n",
    "start_time = time.time()\n",
    "sol, Cmax = PRSKE_heuristic(instance_0)\n",
    "elapsed_time = time.time() - start_time\n",
    "\n",
    "print(f'Solution: {sol}.')\n",
    "print(f'\\nCmax: {Cmax}')\n",
    "print(\"\\nElapsed time: \", elapsed_time, \"seconds\")\n",
    "\n",
    "PRSKE.append(\"%.3f\" % (deviation(Cmax, UB)))\n",
    "PRSKE.append(\" %.3fs\" % (elapsed_time))"
   ]
  },
  {
   "cell_type": "code",
   "execution_count": 62,
   "id": "3e4915a2-b42a-4c8c-adbd-0173bab3b9fe",
   "metadata": {},
   "outputs": [
    {
     "name": "stdout",
     "output_type": "stream",
     "text": [
      "Solution: [197, 146, 14, 59, 62, 164, 122, 150, 61, 79, 100, 186, 140, 111, 116, 17, 35, 49, 10, 87, 118, 60, 26, 181, 74, 160, 168, 110, 172, 178, 2, 113, 5, 130, 153, 39, 154, 196, 157, 169, 84, 85, 75, 44, 166, 30, 131, 37, 139, 19, 77, 112, 89, 129, 88, 23, 29, 9, 36, 143, 199, 149, 6, 185, 105, 151, 175, 50, 69, 101, 177, 1, 184, 48, 141, 98, 52, 78, 31, 189, 182, 152, 132, 83, 198, 11, 71, 80, 47, 188, 187, 133, 124, 173, 136, 165, 128, 73, 117, 171, 0, 127, 145, 68, 54, 63, 123, 81, 20, 58, 170, 137, 53, 174, 163, 66, 67, 102, 135, 42, 95, 119, 192, 109, 65, 7, 120, 64, 43, 155, 156, 28, 15, 121, 86, 32, 179, 104, 159, 3, 91, 147, 180, 108, 161, 99, 13, 148, 107, 4, 126, 115, 18, 27, 51, 103, 94, 46, 16, 191, 90, 21, 93, 76, 183, 12, 82, 138, 162, 106, 92, 33, 158, 8, 193, 57, 194, 45, 41, 195, 142, 176, 56, 40, 22, 38, 114, 97, 34, 24, 144, 167, 72, 55, 190, 70, 25, 125, 96, 134].\n",
      "\n",
      "Cmax: 11380.0\n",
      "\n",
      "Elapsed time:  0.08558797836303711 seconds\n"
     ]
    }
   ],
   "source": [
    "# Artificial_heuristic Heuristic\n",
    "start_time = time.time()\n",
    "sol, Cmax = artificial_heuristic(instance_0)\n",
    "elapsed_time = time.time() - start_time\n",
    "\n",
    "print(f'Solution: {sol}.')\n",
    "print(f'\\nCmax: {Cmax}')\n",
    "print(\"\\nElapsed time: \", elapsed_time, \"seconds\")\n",
    "\n",
    "ARTIFICIAL.append(\"%.3f\" % (deviation(Cmax, UB)))\n",
    "ARTIFICIAL.append(\" %.3fs\" % (elapsed_time))"
   ]
  },
  {
   "cell_type": "markdown",
   "id": "5b310329",
   "metadata": {},
   "source": [
    "### Results"
   ]
  },
  {
   "cell_type": "code",
   "execution_count": 64,
   "id": "7a92d9ef-63e3-4c48-9b79-874e5dc070a2",
   "metadata": {},
   "outputs": [],
   "source": [
    "df_1.loc[0]=NEH\n",
    "df_1.loc[1]=Ham\n",
    "df_1.loc[2]=Gupta\n",
    "df_1.loc[3]=Palmer\n",
    "df_1.loc[4]=CDS\n",
    "df_1.loc[5]=PRSKE\n",
    "df_1.loc[6]=ARTIFICIAL"
   ]
  },
  {
   "cell_type": "code",
   "execution_count": 65,
   "id": "99b06c05",
   "metadata": {},
   "outputs": [
    {
     "data": {
      "text/html": [
       "<div>\n",
       "<style scoped>\n",
       "    .dataframe tbody tr th:only-of-type {\n",
       "        vertical-align: middle;\n",
       "    }\n",
       "\n",
       "    .dataframe tbody tr th {\n",
       "        vertical-align: top;\n",
       "    }\n",
       "\n",
       "    .dataframe thead th {\n",
       "        text-align: right;\n",
       "    }\n",
       "</style>\n",
       "<table border=\"1\" class=\"dataframe\">\n",
       "  <thead>\n",
       "    <tr style=\"text-align: right;\">\n",
       "      <th></th>\n",
       "      <th>Heuristic</th>\n",
       "      <th>20-5 (Deviation)</th>\n",
       "      <th>20-5 (Time)</th>\n",
       "      <th>50-10 (Deviation)</th>\n",
       "      <th>50-10 (Time)</th>\n",
       "      <th>100-10 (Deviation)</th>\n",
       "      <th>100-10 (Time)</th>\n",
       "      <th>200-10 (Deviation)</th>\n",
       "      <th>200-10 (Time)</th>\n",
       "    </tr>\n",
       "  </thead>\n",
       "  <tbody>\n",
       "    <tr>\n",
       "      <th>0</th>\n",
       "      <td>NEH</td>\n",
       "      <td>3.632</td>\n",
       "      <td>0.038s</td>\n",
       "      <td>5.278</td>\n",
       "      <td>0.909s</td>\n",
       "      <td>2.143</td>\n",
       "      <td>6.132s</td>\n",
       "      <td>2.643</td>\n",
       "      <td>45.709s</td>\n",
       "    </tr>\n",
       "    <tr>\n",
       "      <th>1</th>\n",
       "      <td>Ham</td>\n",
       "      <td>7.667</td>\n",
       "      <td>0.002s</td>\n",
       "      <td>13.293</td>\n",
       "      <td>0.004s</td>\n",
       "      <td>12.788</td>\n",
       "      <td>0.006s</td>\n",
       "      <td>7.350</td>\n",
       "      <td>0.014s</td>\n",
       "    </tr>\n",
       "    <tr>\n",
       "      <th>2</th>\n",
       "      <td>Gupta</td>\n",
       "      <td>27.926</td>\n",
       "      <td>0.001s</td>\n",
       "      <td>20.631</td>\n",
       "      <td>0.003s</td>\n",
       "      <td>13.985</td>\n",
       "      <td>0.006s</td>\n",
       "      <td>14.709</td>\n",
       "      <td>0.012s</td>\n",
       "    </tr>\n",
       "    <tr>\n",
       "      <th>3</th>\n",
       "      <td>Palmer</td>\n",
       "      <td>20.016</td>\n",
       "      <td>0.001s</td>\n",
       "      <td>11.876</td>\n",
       "      <td>0.004s</td>\n",
       "      <td>9.734</td>\n",
       "      <td>0.005s</td>\n",
       "      <td>3.684</td>\n",
       "      <td>0.010s</td>\n",
       "    </tr>\n",
       "    <tr>\n",
       "      <th>4</th>\n",
       "      <td>CDS</td>\n",
       "      <td>12.429</td>\n",
       "      <td>0.003s</td>\n",
       "      <td>13.293</td>\n",
       "      <td>0.019s</td>\n",
       "      <td>10.752</td>\n",
       "      <td>0.045s</td>\n",
       "      <td>6.917</td>\n",
       "      <td>0.093s</td>\n",
       "    </tr>\n",
       "    <tr>\n",
       "      <th>5</th>\n",
       "      <td>PRSKE</td>\n",
       "      <td>32.042</td>\n",
       "      <td>0.002s</td>\n",
       "      <td>22.433</td>\n",
       "      <td>0.004s</td>\n",
       "      <td>19.593</td>\n",
       "      <td>0.012s</td>\n",
       "      <td>13.282</td>\n",
       "      <td>0.021s</td>\n",
       "    </tr>\n",
       "    <tr>\n",
       "      <th>6</th>\n",
       "      <td>Artificial Heuristic</td>\n",
       "      <td>12.429</td>\n",
       "      <td>0.004s</td>\n",
       "      <td>11.587</td>\n",
       "      <td>0.021s</td>\n",
       "      <td>11.252</td>\n",
       "      <td>0.047s</td>\n",
       "      <td>4.817</td>\n",
       "      <td>0.086s</td>\n",
       "    </tr>\n",
       "  </tbody>\n",
       "</table>\n",
       "</div>"
      ],
      "text/plain": [
       "              Heuristic 20-5 (Deviation) 20-5 (Time) 50-10 (Deviation)  \\\n",
       "0                   NEH            3.632      0.038s             5.278   \n",
       "1                   Ham            7.667      0.002s            13.293   \n",
       "2                 Gupta           27.926      0.001s            20.631   \n",
       "3                Palmer           20.016      0.001s            11.876   \n",
       "4                   CDS           12.429      0.003s            13.293   \n",
       "5                 PRSKE           32.042      0.002s            22.433   \n",
       "6  Artificial Heuristic           12.429      0.004s            11.587   \n",
       "\n",
       "  50-10 (Time) 100-10 (Deviation) 100-10 (Time) 200-10 (Deviation)  \\\n",
       "0       0.909s              2.143        6.132s              2.643   \n",
       "1       0.004s             12.788        0.006s              7.350   \n",
       "2       0.003s             13.985        0.006s             14.709   \n",
       "3       0.004s              9.734        0.005s              3.684   \n",
       "4       0.019s             10.752        0.045s              6.917   \n",
       "5       0.004s             19.593        0.012s             13.282   \n",
       "6       0.021s             11.252        0.047s              4.817   \n",
       "\n",
       "  200-10 (Time)  \n",
       "0       45.709s  \n",
       "1        0.014s  \n",
       "2        0.012s  \n",
       "3        0.010s  \n",
       "4        0.093s  \n",
       "5        0.021s  \n",
       "6        0.086s  "
      ]
     },
     "execution_count": 65,
     "metadata": {},
     "output_type": "execute_result"
    }
   ],
   "source": [
    "# Displaying the results that we have got for the first instance of each benchmark\n",
    "df_1"
   ]
  },
  {
   "cell_type": "markdown",
   "id": "13c54a47-6eaa-4457-adff-ea731f38beeb",
   "metadata": {},
   "source": [
    "## Tests on the 1st instance"
   ]
  },
  {
   "cell_type": "code",
   "execution_count": 66,
   "id": "ae82aceb-6f2b-4b2c-aecc-af970df9195f",
   "metadata": {},
   "outputs": [],
   "source": [
    "# Prepare a dataframe that will gather all our results\n",
    "df_0 = pd.DataFrame({'Heuristic': pd.Series(dtype='str'),\n",
    "                   '20-5 (Deviation)': pd.Series(dtype='str'),\n",
    "                   '20-5 (Time)': pd.Series(dtype='str'),\n",
    "                   '50-10 (Deviation)': pd.Series(dtype='str'),\n",
    "                   '50-10 (Time)': pd.Series(dtype='str'),\n",
    "                   '100-10 (Deviation)': pd.Series(dtype='str'),\n",
    "                   '100-10 (Time)': pd.Series(dtype='str'),\n",
    "                   '200-10 (Deviation)': pd.Series(dtype='str'),\n",
    "                   '200-10 (Time)': pd.Series(dtype='str'),\n",
    "                  }) "
   ]
  },
  {
   "cell_type": "code",
   "execution_count": 67,
   "id": "a7c79d65-817d-4016-9703-f0cc84e0c11a",
   "metadata": {},
   "outputs": [],
   "source": [
    "NEH = ['NEH']\n",
    "Ham = ['Ham']\n",
    "Gupta = ['Gupta']\n",
    "Palmer = ['Palmer']\n",
    "CDS = ['CDS']\n",
    "PRSKE = ['PRSKE']\n",
    "ARTIFICIAL = ['Artificial Heuristic']"
   ]
  },
  {
   "cell_type": "markdown",
   "id": "e83752be-9d0f-4913-b3e0-564a8bbdcac6",
   "metadata": {},
   "source": [
    "### 20 jobs 5 machines"
   ]
  },
  {
   "cell_type": "code",
   "execution_count": 68,
   "id": "8710508f-481f-4a0a-9795-7ddb29d4e337",
   "metadata": {},
   "outputs": [],
   "source": [
    "instance_0 = np.array(instances_20_5[0])\n",
    "instance_0 = instance_0.T\n",
    "UB = 1278"
   ]
  },
  {
   "cell_type": "code",
   "execution_count": 69,
   "id": "4b58197f-80df-4375-b01e-3738dd297de5",
   "metadata": {},
   "outputs": [
    {
     "name": "stdout",
     "output_type": "stream",
     "text": [
      "Solution: [8, 6, 15, 10, 7, 1, 16, 2, 14, 13, 17, 3, 9, 11, 0, 18, 5, 4, 12, 19].\n",
      "\n",
      "Cmax: 1334.0\n",
      "\n",
      "Elapsed time:  0.03689908981323242 seconds\n"
     ]
    }
   ],
   "source": [
    "# NEH Algorithm\n",
    "start_time = time.time()\n",
    "sol, Cmax = neh_algorithm(instance_0)\n",
    "elapsed_time = time.time() - start_time\n",
    "\n",
    "print(f'Solution: {sol}.')\n",
    "print(f'\\nCmax: {Cmax}')\n",
    "print(\"\\nElapsed time: \", elapsed_time, \"seconds\")\n",
    "\n",
    "NEH.append(\"%.3f\" % (deviation(Cmax, UB)))\n",
    "NEH.append(\" %.3fs\" % (elapsed_time))"
   ]
  },
  {
   "cell_type": "code",
   "execution_count": 70,
   "id": "ac93ed5e-1d92-4126-b095-9645406787de",
   "metadata": {},
   "outputs": [
    {
     "name": "stdout",
     "output_type": "stream",
     "text": [
      "Solution: [2, 8, 16, 14, 18, 10, 1, 12, 15, 7, 13, 5, 0, 4, 9, 17, 3, 6, 19, 11].\n",
      "\n",
      "Cmax: 1417.0\n",
      "\n",
      "Elapsed time:  0.0010006427764892578 seconds\n"
     ]
    }
   ],
   "source": [
    "# Ham Heuristic\n",
    "start_time = time.time()\n",
    "sol, Cmax = ham_heuristic(instance_0)\n",
    "elapsed_time = time.time() - start_time\n",
    "\n",
    "print(f'Solution: {sol}.')\n",
    "print(f'\\nCmax: {Cmax}')\n",
    "print(\"\\nElapsed time: \", elapsed_time, \"seconds\")\n",
    "\n",
    "\n",
    "Ham.append(\"%.3f\" % (deviation(Cmax, UB)))\n",
    "Ham.append(\" %.3fs\" % (elapsed_time))"
   ]
  },
  {
   "cell_type": "code",
   "execution_count": 71,
   "id": "a75b1bbf-b9c1-4f3b-a410-93f4bed2397a",
   "metadata": {},
   "outputs": [
    {
     "name": "stdout",
     "output_type": "stream",
     "text": [
      "Solution: [2, 13, 7, 14, 16, 8, 0, 15, 3, 10, 6, 18, 4, 5, 1, 9, 17, 11, 19, 12].\n",
      "\n",
      "Cmax: 1367.0\n",
      "\n",
      "Elapsed time:  0.0009975433349609375 seconds\n"
     ]
    }
   ],
   "source": [
    "# Gupta Heuristic\n",
    "start_time = time.time()\n",
    "sol = gupta_heuristic(instance_0)\n",
    "Cmax = evaluate_sequence(sol, instance_0)\n",
    "elapsed_time = time.time() - start_time\n",
    "\n",
    "print(f'Solution: {sol}.')\n",
    "print(f'\\nCmax: {Cmax}')\n",
    "print(\"\\nElapsed time: \", elapsed_time, \"seconds\")\n",
    "\n",
    "Gupta.append(\"%.3f\" % (deviation(Cmax, UB)))\n",
    "Gupta.append(\" %.3fs\" % (elapsed_time))"
   ]
  },
  {
   "cell_type": "code",
   "execution_count": 72,
   "id": "10f492db-27b7-4f1f-9b03-b76bcbeb2b72",
   "metadata": {},
   "outputs": [
    {
     "name": "stdout",
     "output_type": "stream",
     "text": [
      "Solution: [8, 2, 16, 14, 10, 7, 15, 18, 13, 12, 5, 0, 1, 11, 3, 6, 4, 9, 19, 17].\n",
      "\n",
      "Cmax: 1378.0\n",
      "\n",
      "Elapsed time:  0.0009975433349609375 seconds\n"
     ]
    }
   ],
   "source": [
    "# Palmer Heuristic\n",
    "start_time = time.time()\n",
    "sol = palmer_heuristic(instance_0)\n",
    "Cmax = evaluate_sequence(sol, instance_0)\n",
    "elapsed_time = time.time() - start_time\n",
    "\n",
    "print(f'Solution: {sol}.')\n",
    "print(f'\\nCmax: {Cmax}')\n",
    "print(\"\\nElapsed time: \", elapsed_time, \"seconds\")\n",
    "\n",
    "Palmer.append(\"%.3f\" % (deviation(Cmax, UB)))\n",
    "Palmer.append(\" %.3fs\" % (elapsed_time))"
   ]
  },
  {
   "cell_type": "code",
   "execution_count": 73,
   "id": "b8bb2314-f86e-4e47-83d5-2390f5127d9f",
   "metadata": {},
   "outputs": [
    {
     "name": "stdout",
     "output_type": "stream",
     "text": [
      "Solution: [14, 2, 8, 13, 16, 7, 6, 0, 18, 3, 10, 15, 11, 1, 4, 5, 19, 17, 9, 12].\n",
      "\n",
      "Cmax: 1390.0\n",
      "\n",
      "Elapsed time:  0.0019943714141845703 seconds\n"
     ]
    }
   ],
   "source": [
    "# CDS Heuristic\n",
    "start_time = time.time()\n",
    "sol, Cmax = CDS_heuristic(instance_0)\n",
    "elapsed_time = time.time() - start_time\n",
    "\n",
    "print(f'Solution: {sol}.')\n",
    "print(f'\\nCmax: {Cmax}')\n",
    "print(\"\\nElapsed time: \", elapsed_time, \"seconds\")\n",
    "\n",
    "CDS.append(\"%.3f\" % (deviation(Cmax, UB)))\n",
    "CDS.append(\" %.3fs\" % (elapsed_time))"
   ]
  },
  {
   "cell_type": "code",
   "execution_count": 74,
   "id": "14118fab-30e1-407a-8775-3bdd7ee8596c",
   "metadata": {},
   "outputs": [
    {
     "name": "stdout",
     "output_type": "stream",
     "text": [
      "Solution: [3, 17, 10, 1, 9, 11, 6, 4, 19, 15, 18, 5, 0, 12, 8, 13, 14, 7, 16, 2].\n",
      "\n",
      "Cmax: 1593.0\n",
      "\n",
      "Elapsed time:  0.001993417739868164 seconds\n"
     ]
    }
   ],
   "source": [
    "# PKSE Heuristic\n",
    "start_time = time.time()\n",
    "sol, Cmax = PRSKE_heuristic(instance_0)\n",
    "elapsed_time = time.time() - start_time\n",
    "\n",
    "print(f'Solution: {sol}.')\n",
    "print(f'\\nCmax: {Cmax}')\n",
    "print(\"\\nElapsed time: \", elapsed_time, \"seconds\")\n",
    "\n",
    "PRSKE.append(\"%.3f\" % (deviation(Cmax, UB)))\n",
    "PRSKE.append(\" %.3fs\" % (elapsed_time))"
   ]
  },
  {
   "cell_type": "code",
   "execution_count": 75,
   "id": "83f96a53-063a-4c33-b3ef-4d538978d5bd",
   "metadata": {},
   "outputs": [
    {
     "name": "stdout",
     "output_type": "stream",
     "text": [
      "Solution: [2, 8, 14, 16, 13, 7, 18, 5, 10, 15, 1, 3, 4, 0, 11, 6, 17, 9, 19, 12].\n",
      "\n",
      "Cmax: 1367.0\n",
      "\n",
      "Elapsed time:  0.0019958019256591797 seconds\n"
     ]
    }
   ],
   "source": [
    "# Artificial_heuristic Heuristic\n",
    "start_time = time.time()\n",
    "sol, Cmax = artificial_heuristic(instance_0)\n",
    "elapsed_time = time.time() - start_time\n",
    "\n",
    "print(f'Solution: {sol}.')\n",
    "print(f'\\nCmax: {Cmax}')\n",
    "print(\"\\nElapsed time: \", elapsed_time, \"seconds\")\n",
    "\n",
    "ARTIFICIAL.append(\"%.3f\" % (deviation(Cmax, UB)))\n",
    "ARTIFICIAL.append(\" %.3fs\" % (elapsed_time))"
   ]
  },
  {
   "cell_type": "markdown",
   "id": "0e41aaa1-18f4-42a4-9049-590c92c8ba8a",
   "metadata": {},
   "source": [
    "### 50 jobs 10 machines"
   ]
  },
  {
   "cell_type": "code",
   "execution_count": 76,
   "id": "50e1a81f-f161-4ef3-8b66-48906b72df27",
   "metadata": {},
   "outputs": [],
   "source": [
    "instance_0 = np.array(instances_50_10[0])\n",
    "instance_0 = instance_0.T\n",
    "UB = 3025"
   ]
  },
  {
   "cell_type": "code",
   "execution_count": 77,
   "id": "9145f56a-da55-4e6d-ace3-06fe3b25a839",
   "metadata": {},
   "outputs": [
    {
     "name": "stdout",
     "output_type": "stream",
     "text": [
      "Solution: [19, 33, 30, 14, 35, 13, 41, 34, 9, 43, 32, 42, 24, 11, 39, 46, 17, 47, 12, 40, 37, 8, 4, 45, 28, 1, 2, 10, 44, 21, 5, 3, 48, 16, 31, 29, 25, 49, 23, 0, 15, 36, 7, 27, 6, 22, 20, 38, 26, 18].\n",
      "\n",
      "Cmax: 3229.0\n",
      "\n",
      "Elapsed time:  0.7170813083648682 seconds\n"
     ]
    }
   ],
   "source": [
    "# NEH Algorithm\n",
    "start_time = time.time()\n",
    "sol, Cmax = neh_algorithm(instance_0)\n",
    "elapsed_time = time.time() - start_time\n",
    "\n",
    "print(f'Solution: {sol}.')\n",
    "print(f'\\nCmax: {Cmax}')\n",
    "print(\"\\nElapsed time: \", elapsed_time, \"seconds\")\n",
    "\n",
    "NEH.append(\"%.3f\" % (deviation(Cmax, UB)))\n",
    "NEH.append(\" %.3fs\" % (elapsed_time))"
   ]
  },
  {
   "cell_type": "code",
   "execution_count": 78,
   "id": "a97e9d2b-23bb-4ad9-8bd2-f72ef7892758",
   "metadata": {},
   "outputs": [
    {
     "name": "stdout",
     "output_type": "stream",
     "text": [
      "Solution: [32, 41, 43, 23, 1, 19, 17, 24, 36, 30, 0, 29, 25, 13, 48, 42, 35, 9, 37, 5, 28, 46, 45, 2, 3, 12, 16, 14, 39, 8, 22, 10, 4, 27, 15, 11, 7, 44, 33, 20, 40, 31, 34, 18, 21, 6, 49, 47, 38, 26].\n",
      "\n",
      "Cmax: 3647.0\n",
      "\n",
      "Elapsed time:  0.003988981246948242 seconds\n"
     ]
    }
   ],
   "source": [
    "# Ham Heuristic\n",
    "start_time = time.time()\n",
    "sol, Cmax = ham_heuristic(instance_0)\n",
    "elapsed_time = time.time() - start_time\n",
    "\n",
    "print(f'Solution: {sol}.')\n",
    "print(f'\\nCmax: {Cmax}')\n",
    "print(\"\\nElapsed time: \", elapsed_time, \"seconds\")\n",
    "\n",
    "Ham.append(\"%.3f\" % (deviation(Cmax, UB)))\n",
    "Ham.append(\" %.3fs\" % (elapsed_time))"
   ]
  },
  {
   "cell_type": "code",
   "execution_count": 79,
   "id": "2fa72103-5777-4233-9b69-3854aae4e786",
   "metadata": {},
   "outputs": [
    {
     "name": "stdout",
     "output_type": "stream",
     "text": [
      "Solution: [24, 26, 21, 28, 32, 40, 5, 48, 10, 36, 17, 15, 45, 31, 14, 35, 41, 42, 19, 3, 13, 27, 37, 18, 12, 16, 1, 39, 8, 2, 49, 20, 30, 33, 22, 34, 43, 7, 46, 25, 9, 6, 11, 4, 0, 47, 29, 44, 23, 38].\n",
      "\n",
      "Cmax: 3695.0\n",
      "\n",
      "Elapsed time:  0.0019948482513427734 seconds\n"
     ]
    }
   ],
   "source": [
    "# Gupta Heuristic\n",
    "start_time = time.time()\n",
    "sol = gupta_heuristic(instance_0)\n",
    "Cmax = evaluate_sequence(sol, instance_0)\n",
    "elapsed_time = time.time() - start_time\n",
    "\n",
    "print(f'Solution: {sol}.')\n",
    "print(f'\\nCmax: {Cmax}')\n",
    "print(\"\\nElapsed time: \", elapsed_time, \"seconds\")\n",
    "\n",
    "Gupta.append(\"%.3f\" % (deviation(Cmax, UB)))\n",
    "Gupta.append(\" %.3fs\" % (elapsed_time))"
   ]
  },
  {
   "cell_type": "code",
   "execution_count": 80,
   "id": "9863801c-a1a9-44a3-8965-fa26957f8e6c",
   "metadata": {},
   "outputs": [
    {
     "name": "stdout",
     "output_type": "stream",
     "text": [
      "Solution: [19, 17, 41, 32, 35, 37, 13, 43, 42, 48, 14, 36, 1, 28, 30, 21, 24, 33, 3, 29, 31, 15, 5, 11, 2, 27, 0, 40, 45, 6, 12, 7, 26, 18, 25, 9, 23, 46, 39, 20, 34, 10, 47, 16, 44, 8, 22, 4, 38, 49].\n",
      "\n",
      "Cmax: 3439.0\n",
      "\n",
      "Elapsed time:  0.0019953250885009766 seconds\n"
     ]
    }
   ],
   "source": [
    "# Palmer Heuristic\n",
    "start_time = time.time()\n",
    "sol = palmer_heuristic(instance_0)\n",
    "Cmax = evaluate_sequence(sol, instance_0)\n",
    "elapsed_time = time.time() - start_time\n",
    "\n",
    "print(f'Solution: {sol}.')\n",
    "print(f'\\nCmax: {Cmax}')\n",
    "print(\"\\nElapsed time: \", elapsed_time, \"seconds\")\n",
    "\n",
    "Palmer.append(\"%.3f\" % (deviation(Cmax, UB)))\n",
    "Palmer.append(\" %.3fs\" % (elapsed_time))"
   ]
  },
  {
   "cell_type": "code",
   "execution_count": 81,
   "id": "5b04d97c-6803-4838-98dc-e8b6c965bacd",
   "metadata": {},
   "outputs": [
    {
     "name": "stdout",
     "output_type": "stream",
     "text": [
      "Solution: [17, 19, 36, 32, 24, 29, 48, 21, 43, 41, 30, 37, 28, 35, 11, 6, 13, 42, 1, 15, 33, 14, 3, 40, 27, 2, 22, 12, 39, 45, 7, 8, 4, 34, 16, 46, 31, 25, 10, 5, 9, 18, 20, 49, 47, 44, 0, 23, 26, 38].\n",
      "\n",
      "Cmax: 3421.0\n",
      "\n",
      "Elapsed time:  0.01495814323425293 seconds\n"
     ]
    }
   ],
   "source": [
    "# CDS Heuristic\n",
    "start_time = time.time()\n",
    "sol, Cmax = CDS_heuristic(instance_0)\n",
    "elapsed_time = time.time() - start_time\n",
    "\n",
    "print(f'Solution: {sol}.')\n",
    "print(f'\\nCmax: {Cmax}')\n",
    "print(\"\\nElapsed time: \", elapsed_time, \"seconds\")\n",
    "\n",
    "CDS.append(\"%.3f\" % (deviation(Cmax, UB)))\n",
    "CDS.append(\" %.3fs\" % (elapsed_time))"
   ]
  },
  {
   "cell_type": "code",
   "execution_count": 82,
   "id": "23f66d9e-4066-44ab-80cb-dfc2e1fcd6ff",
   "metadata": {},
   "outputs": [
    {
     "name": "stdout",
     "output_type": "stream",
     "text": [
      "Solution: [14, 49, 4, 8, 16, 12, 22, 1, 44, 15, 24, 42, 10, 37, 33, 35, 39, 21, 46, 45, 28, 27, 40, 2, 30, 20, 3, 19, 32, 18, 34, 11, 31, 13, 5, 17, 48, 23, 7, 29, 6, 9, 38, 25, 0, 47, 41, 36, 43, 26].\n",
      "\n",
      "Cmax: 3900.0\n",
      "\n",
      "Elapsed time:  0.0029921531677246094 seconds\n"
     ]
    }
   ],
   "source": [
    "# PKSE Heuristic\n",
    "start_time = time.time()\n",
    "sol, Cmax = PRSKE_heuristic(instance_0)\n",
    "elapsed_time = time.time() - start_time\n",
    "\n",
    "print(f'Solution: {sol}.')\n",
    "print(f'\\nCmax: {Cmax}')\n",
    "print(\"\\nElapsed time: \", elapsed_time, \"seconds\")\n",
    "\n",
    "PRSKE.append(\"%.3f\" % (deviation(Cmax, UB)))\n",
    "PRSKE.append(\" %.3fs\" % (elapsed_time))"
   ]
  },
  {
   "cell_type": "code",
   "execution_count": 83,
   "id": "491923d8-f46c-4cb5-ac58-d300d436b00e",
   "metadata": {},
   "outputs": [
    {
     "name": "stdout",
     "output_type": "stream",
     "text": [
      "Solution: [41, 17, 43, 32, 19, 29, 36, 35, 48, 21, 24, 13, 33, 30, 28, 42, 37, 1, 3, 14, 2, 15, 45, 27, 8, 39, 22, 10, 16, 4, 12, 46, 9, 5, 11, 40, 31, 44, 20, 7, 25, 34, 6, 49, 18, 0, 47, 23, 38, 26].\n",
      "\n",
      "Cmax: 3461.0\n",
      "\n",
      "Elapsed time:  0.025930166244506836 seconds\n"
     ]
    }
   ],
   "source": [
    "# Artificial_heuristic Heuristic\n",
    "start_time = time.time()\n",
    "sol, Cmax = artificial_heuristic(instance_0)\n",
    "elapsed_time = time.time() - start_time\n",
    "\n",
    "print(f'Solution: {sol}.')\n",
    "print(f'\\nCmax: {Cmax}')\n",
    "print(\"\\nElapsed time: \", elapsed_time, \"seconds\")\n",
    "\n",
    "ARTIFICIAL.append(\"%.3f\" % (deviation(Cmax, UB)))\n",
    "ARTIFICIAL.append(\" %.3fs\" % (elapsed_time))"
   ]
  },
  {
   "cell_type": "markdown",
   "id": "f0beddef-1836-4900-bb86-fa2147e37895",
   "metadata": {},
   "source": [
    "### 100 jobs 10 machines"
   ]
  },
  {
   "cell_type": "code",
   "execution_count": 84,
   "id": "bbae3194-4d2a-4621-9c97-62250cd6cff2",
   "metadata": {},
   "outputs": [],
   "source": [
    "instance_0 = np.array(instances_100_10[0])\n",
    "instance_0 = instance_0.T\n",
    "UB = 5770"
   ]
  },
  {
   "cell_type": "code",
   "execution_count": 85,
   "id": "22f48a06-70c1-47ba-a192-c4e599ef8d53",
   "metadata": {},
   "outputs": [
    {
     "name": "stdout",
     "output_type": "stream",
     "text": [
      "Solution: [69, 5, 75, 79, 26, 19, 33, 6, 3, 97, 40, 66, 84, 72, 80, 85, 32, 95, 30, 24, 65, 83, 18, 0, 45, 8, 20, 31, 50, 94, 59, 38, 9, 34, 16, 90, 61, 86, 78, 41, 28, 87, 96, 7, 10, 63, 92, 27, 81, 76, 1, 4, 64, 57, 14, 73, 52, 17, 42, 70, 51, 68, 47, 23, 89, 46, 35, 43, 98, 77, 60, 55, 13, 91, 21, 67, 56, 15, 48, 37, 82, 99, 22, 88, 12, 25, 49, 44, 93, 54, 2, 71, 36, 39, 62, 29, 74, 53, 58, 11].\n",
      "\n",
      "Cmax: 6062.0\n",
      "\n",
      "Elapsed time:  7.5609657764434814 seconds\n"
     ]
    }
   ],
   "source": [
    "# NEH Algorithm\n",
    "start_time = time.time()\n",
    "sol, Cmax = neh_algorithm(instance_0)\n",
    "elapsed_time = time.time() - start_time\n",
    "\n",
    "print(f'Solution: {sol}.')\n",
    "print(f'\\nCmax: {Cmax}')\n",
    "print(\"\\nElapsed time: \", elapsed_time, \"seconds\")\n",
    "\n",
    "NEH.append(\"%.3f\" % (deviation(Cmax, UB)))\n",
    "NEH.append(\" %.3fs\" % (elapsed_time))"
   ]
  },
  {
   "cell_type": "code",
   "execution_count": 86,
   "id": "505e1acc-1037-4fec-adcd-89d339f788a7",
   "metadata": {},
   "outputs": [
    {
     "name": "stdout",
     "output_type": "stream",
     "text": [
      "Solution: [69, 43, 57, 60, 4, 20, 63, 92, 26, 51, 14, 76, 19, 38, 42, 30, 95, 86, 1, 90, 59, 34, 64, 16, 83, 49, 94, 82, 88, 61, 32, 33, 48, 80, 23, 7, 37, 40, 41, 5, 66, 78, 87, 79, 54, 56, 96, 91, 0, 21, 65, 22, 75, 3, 67, 24, 84, 31, 9, 13, 74, 47, 8, 10, 18, 72, 45, 97, 55, 46, 89, 17, 85, 70, 15, 2, 50, 53, 6, 98, 99, 93, 52, 27, 68, 28, 73, 77, 81, 62, 25, 12, 44, 29, 35, 58, 71, 36, 11, 39].\n",
      "\n",
      "Cmax: 6255.0\n",
      "\n",
      "Elapsed time:  0.005983591079711914 seconds\n"
     ]
    }
   ],
   "source": [
    "# Ham Heuristic\n",
    "start_time = time.time()\n",
    "sol, Cmax = ham_heuristic(instance_0)\n",
    "elapsed_time = time.time() - start_time\n",
    "\n",
    "print(f'Solution: {sol}.')\n",
    "print(f'\\nCmax: {Cmax}')\n",
    "print(\"\\nElapsed time: \", elapsed_time, \"seconds\")\n",
    "\n",
    "Ham.append(\"%.3f\" % (deviation(Cmax, UB)))\n",
    "Ham.append(\" %.3fs\" % (elapsed_time))"
   ]
  },
  {
   "cell_type": "code",
   "execution_count": 87,
   "id": "c869878a-52f5-468e-b1fa-e248d54affcb",
   "metadata": {},
   "outputs": [
    {
     "name": "stdout",
     "output_type": "stream",
     "text": [
      "Solution: [42, 36, 27, 66, 60, 55, 68, 34, 69, 84, 72, 78, 61, 14, 95, 48, 35, 86, 16, 38, 7, 59, 76, 57, 82, 73, 45, 88, 30, 21, 33, 92, 46, 56, 41, 54, 79, 0, 23, 50, 19, 5, 13, 96, 94, 65, 91, 87, 83, 6, 15, 63, 80, 1, 89, 97, 75, 10, 85, 31, 3, 81, 43, 18, 17, 40, 62, 4, 37, 64, 20, 9, 32, 24, 77, 51, 90, 12, 67, 70, 93, 8, 44, 26, 53, 22, 52, 28, 47, 49, 39, 99, 98, 58, 74, 2, 29, 71, 25, 11].\n",
      "\n",
      "Cmax: 6512.0\n",
      "\n",
      "Elapsed time:  0.0029914379119873047 seconds\n"
     ]
    }
   ],
   "source": [
    "# Gupta Heuristic\n",
    "start_time = time.time()\n",
    "sol = gupta_heuristic(instance_0)\n",
    "Cmax = evaluate_sequence(sol, instance_0)\n",
    "elapsed_time = time.time() - start_time\n",
    "\n",
    "print(f'Solution: {sol}.')\n",
    "print(f'\\nCmax: {Cmax}')\n",
    "print(\"\\nElapsed time: \", elapsed_time, \"seconds\")\n",
    "\n",
    "Gupta.append(\"%.3f\" % (deviation(Cmax, UB)))\n",
    "Gupta.append(\" %.3fs\" % (elapsed_time))"
   ]
  },
  {
   "cell_type": "code",
   "execution_count": 88,
   "id": "996bf290-8878-44c0-a6ac-62ec856a22de",
   "metadata": {},
   "outputs": [
    {
     "name": "stdout",
     "output_type": "stream",
     "text": [
      "Solution: [57, 69, 43, 60, 63, 19, 14, 34, 20, 38, 30, 92, 59, 4, 76, 95, 56, 5, 94, 1, 41, 82, 44, 83, 48, 42, 79, 86, 16, 23, 33, 36, 88, 51, 26, 80, 66, 27, 61, 35, 55, 64, 46, 78, 37, 54, 96, 13, 50, 32, 49, 91, 7, 40, 84, 11, 28, 10, 71, 87, 90, 72, 97, 73, 0, 62, 75, 17, 81, 21, 9, 6, 18, 39, 98, 89, 58, 24, 65, 52, 85, 3, 8, 45, 31, 12, 93, 15, 68, 99, 47, 77, 25, 53, 67, 70, 2, 29, 22, 74].\n",
      "\n",
      "Cmax: 6201.0\n",
      "\n",
      "Elapsed time:  0.003986835479736328 seconds\n"
     ]
    }
   ],
   "source": [
    "# Palmer Heuristic\n",
    "start_time = time.time()\n",
    "sol = palmer_heuristic(instance_0)\n",
    "Cmax = evaluate_sequence(sol, instance_0)\n",
    "elapsed_time = time.time() - start_time\n",
    "\n",
    "print(f'Solution: {sol}.')\n",
    "print(f'\\nCmax: {Cmax}')\n",
    "print(\"\\nElapsed time: \", elapsed_time, \"seconds\")\n",
    "\n",
    "Palmer.append(\"%.3f\" % (deviation(Cmax, UB)))\n",
    "Palmer.append(\" %.3fs\" % (elapsed_time))"
   ]
  },
  {
   "cell_type": "code",
   "execution_count": 89,
   "id": "b99afe10-3498-4b96-8cd1-4f4c9f3789b1",
   "metadata": {},
   "outputs": [
    {
     "name": "stdout",
     "output_type": "stream",
     "text": [
      "Solution: [60, 34, 14, 20, 57, 59, 38, 56, 55, 69, 44, 16, 95, 43, 76, 90, 84, 63, 32, 19, 50, 5, 41, 88, 62, 46, 79, 80, 4, 40, 82, 30, 61, 78, 86, 23, 91, 94, 17, 48, 92, 96, 10, 1, 21, 81, 87, 33, 83, 6, 54, 45, 0, 13, 65, 15, 89, 97, 75, 85, 73, 31, 3, 18, 7, 35, 72, 37, 64, 9, 68, 24, 77, 51, 70, 67, 12, 93, 66, 8, 53, 26, 22, 52, 27, 28, 36, 49, 47, 42, 39, 99, 98, 74, 58, 2, 29, 71, 25, 11].\n",
      "\n",
      "Cmax: 6209.0\n",
      "\n",
      "Elapsed time:  0.042883872985839844 seconds\n"
     ]
    }
   ],
   "source": [
    "# CDS Heuristic\n",
    "start_time = time.time()\n",
    "sol, Cmax = CDS_heuristic(instance_0)\n",
    "elapsed_time = time.time() - start_time\n",
    "\n",
    "print(f'Solution: {sol}.')\n",
    "print(f'\\nCmax: {Cmax}')\n",
    "print(\"\\nElapsed time: \", elapsed_time, \"seconds\")\n",
    "\n",
    "CDS.append(\"%.3f\" % (deviation(Cmax, UB)))\n",
    "CDS.append(\" %.3fs\" % (elapsed_time))"
   ]
  },
  {
   "cell_type": "code",
   "execution_count": 90,
   "id": "3da180d8-9b43-48a9-a9d0-013ebf0d6f8a",
   "metadata": {},
   "outputs": [
    {
     "name": "stdout",
     "output_type": "stream",
     "text": [
      "Solution: [22, 56, 74, 65, 67, 91, 21, 75, 83, 72, 15, 41, 45, 96, 13, 97, 34, 17, 24, 0, 23, 5, 84, 47, 66, 6, 89, 50, 2, 3, 64, 19, 7, 40, 32, 38, 31, 70, 81, 9, 1, 8, 29, 18, 51, 37, 87, 10, 12, 94, 49, 80, 48, 85, 46, 62, 30, 78, 92, 33, 79, 88, 59, 98, 55, 93, 61, 77, 4, 68, 99, 90, 52, 73, 54, 27, 26, 25, 82, 69, 35, 95, 63, 53, 42, 16, 20, 28, 60, 86, 58, 14, 43, 71, 39, 76, 44, 11, 57, 36].\n",
      "\n",
      "Cmax: 7093.0\n",
      "\n",
      "Elapsed time:  0.0059833526611328125 seconds\n"
     ]
    }
   ],
   "source": [
    "# PKSE Heuristic\n",
    "start_time = time.time()\n",
    "sol, Cmax = PRSKE_heuristic(instance_0)\n",
    "elapsed_time = time.time() - start_time\n",
    "\n",
    "print(f'Solution: {sol}.')\n",
    "print(f'\\nCmax: {Cmax}')\n",
    "print(\"\\nElapsed time: \", elapsed_time, \"seconds\")\n",
    "\n",
    "PRSKE.append(\"%.3f\" % (deviation(Cmax, UB)))\n",
    "PRSKE.append(\" %.3fs\" % (elapsed_time))"
   ]
  },
  {
   "cell_type": "code",
   "execution_count": 91,
   "id": "de5c237e-7e42-4f52-bead-b3a19f1e00a1",
   "metadata": {},
   "outputs": [
    {
     "name": "stdout",
     "output_type": "stream",
     "text": [
      "Solution: [60, 14, 20, 34, 57, 69, 59, 44, 56, 19, 38, 55, 76, 43, 16, 84, 95, 30, 66, 63, 79, 86, 92, 4, 41, 61, 23, 82, 5, 96, 48, 46, 35, 88, 33, 50, 80, 72, 78, 94, 91, 83, 54, 21, 7, 1, 0, 97, 13, 65, 15, 6, 89, 75, 85, 17, 45, 18, 87, 10, 73, 31, 81, 40, 3, 12, 64, 37, 9, 32, 51, 8, 70, 62, 68, 93, 24, 67, 22, 26, 77, 52, 53, 42, 28, 98, 90, 27, 47, 49, 99, 36, 29, 74, 2, 58, 39, 71, 25, 11].\n",
      "\n",
      "Cmax: 6207.0\n",
      "\n",
      "Elapsed time:  0.043882131576538086 seconds\n"
     ]
    }
   ],
   "source": [
    "# Artificial_heuristic Heuristic\n",
    "start_time = time.time()\n",
    "sol, Cmax = artificial_heuristic(instance_0)\n",
    "elapsed_time = time.time() - start_time\n",
    "\n",
    "print(f'Solution: {sol}.')\n",
    "print(f'\\nCmax: {Cmax}')\n",
    "print(\"\\nElapsed time: \", elapsed_time, \"seconds\")\n",
    "\n",
    "ARTIFICIAL.append(\"%.3f\" % (deviation(Cmax, UB)))\n",
    "ARTIFICIAL.append(\" %.3fs\" % (elapsed_time))"
   ]
  },
  {
   "cell_type": "markdown",
   "id": "da35915a-9627-48b0-928c-23665c6db3a7",
   "metadata": {},
   "source": [
    "### 200 jobs 10 machines"
   ]
  },
  {
   "cell_type": "code",
   "execution_count": 92,
   "id": "a27c6fbf-97c1-4939-8bed-c47398b918eb",
   "metadata": {},
   "outputs": [],
   "source": [
    "instance_0 = np.array(instances_200_10[0])\n",
    "instance_0 = instance_0.T\n",
    "UB = 10868"
   ]
  },
  {
   "cell_type": "code",
   "execution_count": 93,
   "id": "5d8ddf88-194e-4ca4-ab7c-241a900d310a",
   "metadata": {},
   "outputs": [
    {
     "name": "stdout",
     "output_type": "stream",
     "text": [
      "Solution: [197, 10, 4, 47, 120, 165, 104, 114, 144, 130, 12, 6, 188, 178, 127, 69, 142, 57, 153, 87, 173, 31, 9, 19, 195, 53, 192, 111, 25, 170, 34, 74, 27, 52, 71, 183, 62, 174, 43, 105, 101, 58, 143, 94, 17, 37, 24, 67, 11, 65, 184, 96, 91, 193, 83, 54, 199, 41, 149, 134, 129, 75, 116, 190, 35, 171, 161, 20, 100, 13, 26, 103, 118, 40, 39, 84, 15, 68, 145, 3, 131, 82, 146, 63, 81, 73, 113, 107, 95, 110, 61, 117, 79, 133, 160, 163, 119, 49, 140, 157, 122, 180, 141, 148, 99, 181, 55, 126, 138, 189, 155, 150, 36, 86, 92, 112, 18, 56, 1, 106, 23, 45, 186, 152, 108, 196, 164, 123, 85, 191, 175, 169, 185, 89, 42, 128, 124, 72, 0, 32, 109, 166, 30, 29, 16, 168, 22, 121, 136, 151, 28, 33, 194, 44, 76, 80, 2, 98, 115, 159, 46, 176, 64, 93, 5, 21, 172, 48, 14, 66, 177, 88, 187, 70, 158, 38, 97, 51, 139, 154, 137, 50, 7, 156, 147, 162, 90, 125, 60, 59, 182, 78, 198, 102, 8, 132, 167, 179, 135, 77].\n",
      "\n",
      "Cmax: 11032.0\n",
      "\n",
      "Elapsed time:  55.47606658935547 seconds\n"
     ]
    }
   ],
   "source": [
    "# NEH Algorithm\n",
    "start_time = time.time()\n",
    "sol, Cmax = neh_algorithm(instance_0)\n",
    "elapsed_time = time.time() - start_time\n",
    "\n",
    "print(f'Solution: {sol}.')\n",
    "print(f'\\nCmax: {Cmax}')\n",
    "print(\"\\nElapsed time: \", elapsed_time, \"seconds\")\n",
    "\n",
    "NEH.append(\"%.3f\" % (deviation(Cmax, UB)))\n",
    "NEH.append(\" %.3fs\" % (elapsed_time))"
   ]
  },
  {
   "cell_type": "code",
   "execution_count": 94,
   "id": "48ab7bd6-f7aa-4fb6-a4ad-723caea025a5",
   "metadata": {},
   "outputs": [
    {
     "name": "stdout",
     "output_type": "stream",
     "text": [
      "Solution: [72, 155, 56, 28, 93, 123, 0, 27, 86, 159, 32, 109, 145, 160, 99, 84, 154, 70, 126, 89, 189, 151, 29, 190, 171, 24, 42, 172, 80, 5, 137, 36, 197, 182, 73, 175, 181, 194, 68, 141, 35, 106, 139, 170, 174, 75, 116, 150, 41, 148, 40, 149, 82, 168, 133, 188, 119, 52, 65, 103, 131, 21, 79, 15, 162, 13, 47, 37, 95, 180, 105, 96, 163, 69, 12, 199, 104, 17, 178, 186, 195, 115, 153, 88, 173, 114, 165, 19, 130, 107, 10, 111, 55, 118, 152, 184, 127, 61, 6, 120, 31, 4, 143, 142, 39, 11, 43, 9, 101, 53, 121, 191, 3, 7, 18, 176, 100, 83, 91, 193, 62, 23, 192, 58, 1, 144, 78, 63, 67, 8, 113, 45, 26, 161, 74, 87, 34, 20, 57, 85, 71, 25, 183, 16, 134, 30, 66, 125, 140, 117, 46, 169, 59, 50, 102, 44, 136, 146, 108, 76, 110, 185, 164, 128, 122, 157, 156, 97, 198, 124, 112, 90, 49, 22, 135, 54, 138, 94, 81, 2, 166, 51, 64, 196, 92, 48, 129, 98, 158, 187, 14, 179, 33, 167, 77, 132, 147, 38, 60, 177].\n",
      "\n",
      "Cmax: 11632.0\n",
      "\n",
      "Elapsed time:  0.013963937759399414 seconds\n"
     ]
    }
   ],
   "source": [
    "# Ham Heuristic\n",
    "start_time = time.time()\n",
    "sol, Cmax = ham_heuristic(instance_0)\n",
    "elapsed_time = time.time() - start_time\n",
    "\n",
    "print(f'Solution: {sol}.')\n",
    "print(f'\\nCmax: {Cmax}')\n",
    "print(\"\\nElapsed time: \", elapsed_time, \"seconds\")\n",
    "\n",
    "Ham.append(\"%.3f\" % (deviation(Cmax, UB)))\n",
    "Ham.append(\" %.3fs\" % (elapsed_time))"
   ]
  },
  {
   "cell_type": "code",
   "execution_count": 95,
   "id": "ec72625d-a772-4503-bd75-cef98b08e64c",
   "metadata": {},
   "outputs": [
    {
     "name": "stdout",
     "output_type": "stream",
     "text": [
      "Solution: [98, 140, 33, 185, 158, 74, 159, 81, 150, 194, 123, 128, 70, 43, 105, 97, 27, 174, 109, 55, 2, 23, 59, 1, 46, 172, 10, 101, 139, 148, 36, 69, 196, 131, 133, 163, 83, 72, 124, 117, 145, 153, 154, 178, 65, 134, 141, 12, 184, 37, 41, 68, 190, 75, 20, 86, 29, 0, 186, 195, 17, 34, 82, 18, 192, 182, 85, 197, 181, 170, 114, 173, 47, 171, 189, 56, 107, 116, 151, 6, 73, 104, 84, 149, 52, 19, 95, 130, 11, 22, 45, 61, 143, 115, 24, 4, 88, 127, 120, 152, 121, 191, 21, 66, 40, 155, 166, 180, 136, 188, 57, 96, 160, 199, 35, 79, 126, 137, 16, 111, 164, 138, 102, 125, 78, 31, 162, 54, 63, 76, 32, 113, 89, 119, 187, 51, 49, 118, 142, 156, 193, 92, 183, 71, 106, 122, 100, 38, 42, 94, 53, 165, 62, 175, 7, 9, 99, 30, 87, 132, 168, 28, 39, 60, 8, 14, 110, 146, 48, 67, 144, 90, 15, 44, 161, 13, 135, 108, 80, 64, 25, 91, 103, 198, 26, 93, 112, 3, 77, 157, 176, 147, 50, 169, 5, 177, 58, 167, 179, 129].\n",
      "\n",
      "Cmax: 11961.0\n",
      "\n",
      "Elapsed time:  0.008976221084594727 seconds\n"
     ]
    }
   ],
   "source": [
    "# Gupta Heuristic\n",
    "start_time = time.time()\n",
    "sol = gupta_heuristic(instance_0)\n",
    "Cmax = evaluate_sequence(sol, instance_0)\n",
    "elapsed_time = time.time() - start_time\n",
    "\n",
    "print(f'Solution: {sol}.')\n",
    "print(f'\\nCmax: {Cmax}')\n",
    "print(\"\\nElapsed time: \", elapsed_time, \"seconds\")\n",
    "\n",
    "Gupta.append(\"%.3f\" % (deviation(Cmax, UB)))\n",
    "Gupta.append(\" %.3fs\" % (elapsed_time))"
   ]
  },
  {
   "cell_type": "code",
   "execution_count": 96,
   "id": "e0b55d08-95e4-4c38-9c05-852a5225864e",
   "metadata": {},
   "outputs": [
    {
     "name": "stdout",
     "output_type": "stream",
     "text": [
      "Solution: [86, 72, 0, 171, 56, 197, 189, 149, 155, 65, 109, 154, 151, 84, 145, 27, 70, 47, 73, 95, 82, 124, 181, 29, 75, 116, 68, 123, 172, 126, 41, 159, 160, 52, 190, 2, 32, 24, 28, 89, 35, 114, 130, 187, 174, 170, 115, 194, 36, 153, 147, 141, 22, 40, 188, 133, 79, 137, 18, 93, 12, 192, 139, 99, 182, 131, 46, 150, 106, 17, 21, 97, 102, 163, 104, 180, 80, 19, 69, 148, 195, 48, 107, 14, 13, 178, 37, 132, 186, 173, 5, 128, 33, 74, 162, 76, 152, 175, 136, 88, 63, 66, 1, 199, 7, 44, 59, 119, 20, 196, 15, 105, 42, 96, 184, 191, 193, 64, 134, 108, 112, 43, 146, 6, 101, 166, 83, 16, 10, 11, 23, 60, 120, 158, 161, 55, 98, 67, 4, 168, 3, 34, 165, 103, 127, 53, 90, 78, 138, 62, 143, 45, 9, 51, 58, 91, 183, 169, 26, 39, 38, 8, 77, 111, 49, 164, 185, 122, 113, 167, 135, 85, 92, 100, 144, 121, 156, 117, 54, 179, 142, 30, 81, 157, 31, 71, 140, 110, 61, 177, 25, 94, 57, 198, 176, 87, 118, 125, 129, 50].\n",
      "\n",
      "Cmax: 11458.0\n",
      "\n",
      "Elapsed time:  0.008975744247436523 seconds\n"
     ]
    }
   ],
   "source": [
    "# Palmer Heuristic\n",
    "start_time = time.time()\n",
    "sol = palmer_heuristic(instance_0)\n",
    "Cmax = evaluate_sequence(sol, instance_0)\n",
    "elapsed_time = time.time() - start_time\n",
    "\n",
    "print(f'Solution: {sol}.')\n",
    "print(f'\\nCmax: {Cmax}')\n",
    "print(\"\\nElapsed time: \", elapsed_time, \"seconds\")\n",
    "\n",
    "Palmer.append(\"%.3f\" % (deviation(Cmax, UB)))\n",
    "Palmer.append(\" %.3fs\" % (elapsed_time))"
   ]
  },
  {
   "cell_type": "code",
   "execution_count": 97,
   "id": "37b44245-ae58-47d3-9d6e-4cdbf2955137",
   "metadata": {},
   "outputs": [
    {
     "name": "stdout",
     "output_type": "stream",
     "text": [
      "Solution: [72, 0, 29, 187, 32, 155, 86, 28, 2, 102, 93, 70, 95, 151, 75, 22, 126, 84, 148, 159, 56, 139, 160, 189, 123, 36, 89, 171, 190, 154, 197, 35, 52, 124, 194, 181, 128, 182, 149, 65, 141, 48, 133, 150, 145, 68, 82, 99, 162, 88, 109, 24, 44, 73, 172, 17, 116, 40, 79, 19, 119, 191, 21, 41, 18, 96, 174, 131, 106, 13, 74, 192, 137, 195, 153, 115, 1, 188, 104, 37, 170, 120, 47, 114, 12, 43, 69, 180, 173, 152, 178, 10, 107, 130, 184, 118, 142, 127, 55, 165, 61, 11, 144, 39, 9, 143, 111, 53, 3, 125, 16, 176, 31, 78, 186, 101, 140, 34, 121, 105, 85, 4, 30, 193, 6, 183, 113, 58, 57, 138, 23, 7, 198, 49, 26, 163, 20, 83, 62, 100, 25, 71, 63, 157, 103, 134, 91, 87, 8, 185, 146, 112, 199, 81, 45, 15, 94, 90, 161, 67, 122, 80, 158, 46, 168, 42, 117, 156, 164, 54, 175, 108, 76, 50, 135, 169, 129, 110, 5, 33, 92, 66, 179, 177, 136, 196, 51, 27, 14, 167, 77, 59, 166, 97, 60, 64, 38, 98, 147, 132].\n",
      "\n",
      "Cmax: 11609.0\n",
      "\n",
      "Elapsed time:  0.07579731941223145 seconds\n"
     ]
    }
   ],
   "source": [
    "# CDS Heuristic\n",
    "start_time = time.time()\n",
    "sol, Cmax = CDS_heuristic(instance_0)\n",
    "elapsed_time = time.time() - start_time\n",
    "\n",
    "print(f'Solution: {sol}.')\n",
    "print(f'\\nCmax: {Cmax}')\n",
    "print(\"\\nElapsed time: \", elapsed_time, \"seconds\")\n",
    "\n",
    "CDS.append(\"%.3f\" % (deviation(Cmax, UB)))\n",
    "CDS.append(\" %.3fs\" % (elapsed_time))"
   ]
  },
  {
   "cell_type": "code",
   "execution_count": 98,
   "id": "3a3852ba-7a85-4ceb-9f85-7cc645fe4752",
   "metadata": {},
   "outputs": [
    {
     "name": "stdout",
     "output_type": "stream",
     "text": [
      "Solution: [130, 118, 152, 87, 85, 31, 125, 184, 50, 55, 111, 144, 61, 114, 6, 142, 176, 57, 95, 104, 140, 143, 10, 94, 115, 178, 96, 39, 25, 43, 4, 58, 165, 106, 183, 47, 37, 24, 191, 63, 119, 188, 19, 12, 180, 36, 73, 137, 121, 78, 91, 49, 100, 52, 129, 83, 113, 192, 13, 198, 174, 65, 117, 107, 81, 45, 30, 170, 54, 127, 69, 164, 53, 88, 71, 101, 11, 7, 68, 179, 160, 62, 9, 3, 79, 186, 40, 120, 139, 173, 67, 197, 8, 103, 138, 157, 44, 99, 109, 153, 149, 181, 21, 102, 158, 177, 20, 195, 156, 82, 74, 116, 34, 90, 105, 193, 41, 145, 135, 18, 56, 70, 59, 86, 16, 5, 110, 167, 131, 154, 133, 26, 148, 42, 77, 80, 194, 162, 1, 75, 122, 66, 161, 35, 199, 182, 124, 17, 163, 51, 168, 189, 141, 97, 128, 169, 15, 84, 171, 108, 92, 29, 123, 190, 185, 166, 126, 22, 23, 151, 46, 48, 172, 146, 155, 112, 27, 175, 136, 32, 98, 33, 76, 196, 60, 150, 38, 134, 2, 0, 89, 14, 187, 93, 159, 64, 28, 72, 132, 147].\n",
      "\n",
      "Cmax: 12527.0\n",
      "\n",
      "Elapsed time:  0.015956401824951172 seconds\n"
     ]
    }
   ],
   "source": [
    "# PKSE Heuristic\n",
    "start_time = time.time()\n",
    "sol, Cmax = PRSKE_heuristic(instance_0)\n",
    "elapsed_time = time.time() - start_time\n",
    "\n",
    "print(f'Solution: {sol}.')\n",
    "print(f'\\nCmax: {Cmax}')\n",
    "print(\"\\nElapsed time: \", elapsed_time, \"seconds\")\n",
    "\n",
    "PRSKE.append(\"%.3f\" % (deviation(Cmax, UB)))\n",
    "PRSKE.append(\" %.3fs\" % (elapsed_time))"
   ]
  },
  {
   "cell_type": "code",
   "execution_count": 99,
   "id": "66386811-129a-4fa1-ac9f-379e683f0f0d",
   "metadata": {},
   "outputs": [
    {
     "name": "stdout",
     "output_type": "stream",
     "text": [
      "Solution: [72, 0, 155, 27, 187, 86, 28, 2, 189, 56, 109, 70, 159, 124, 151, 32, 29, 22, 123, 145, 171, 154, 181, 84, 197, 89, 75, 149, 172, 126, 190, 65, 35, 160, 194, 95, 46, 141, 102, 68, 36, 82, 150, 139, 148, 182, 41, 99, 73, 52, 133, 40, 116, 24, 174, 163, 79, 131, 13, 18, 21, 63, 47, 17, 74, 170, 106, 153, 137, 192, 186, 88, 1, 37, 188, 19, 195, 12, 69, 178, 114, 191, 173, 115, 180, 104, 43, 6, 10, 152, 107, 184, 130, 55, 118, 127, 61, 120, 4, 111, 142, 165, 11, 143, 31, 39, 144, 9, 121, 101, 34, 105, 53, 57, 125, 7, 96, 16, 23, 199, 193, 83, 85, 20, 87, 78, 176, 45, 113, 119, 30, 183, 3, 100, 134, 140, 58, 162, 25, 71, 15, 8, 138, 62, 161, 117, 91, 67, 103, 26, 49, 42, 94, 164, 122, 185, 54, 66, 44, 81, 158, 90, 76, 146, 168, 198, 136, 59, 110, 175, 196, 128, 157, 80, 5, 112, 50, 169, 156, 97, 166, 129, 108, 48, 51, 92, 179, 135, 33, 14, 93, 77, 177, 64, 167, 38, 98, 60, 147, 132].\n",
      "\n",
      "Cmax: 11267.0\n",
      "\n",
      "Elapsed time:  0.10671401023864746 seconds\n"
     ]
    }
   ],
   "source": [
    "# Artificial_heuristic Heuristic\n",
    "start_time = time.time()\n",
    "sol, Cmax = artificial_heuristic(instance_0)\n",
    "elapsed_time = time.time() - start_time\n",
    "\n",
    "print(f'Solution: {sol}.')\n",
    "print(f'\\nCmax: {Cmax}')\n",
    "print(\"\\nElapsed time: \", elapsed_time, \"seconds\")\n",
    "\n",
    "ARTIFICIAL.append(\"%.3f\" % (deviation(Cmax, UB)))\n",
    "ARTIFICIAL.append(\" %.3fs\" % (elapsed_time))"
   ]
  },
  {
   "cell_type": "markdown",
   "id": "8bb50aad-22dd-4ff0-aac1-dab2b063db63",
   "metadata": {},
   "source": [
    "### Results"
   ]
  },
  {
   "cell_type": "code",
   "execution_count": 100,
   "id": "54e59e8e-c1b5-4116-a67a-d4c1340a1d47",
   "metadata": {},
   "outputs": [],
   "source": [
    "df_0.loc[0]=NEH\n",
    "df_0.loc[1]=Ham\n",
    "df_0.loc[2]=Gupta\n",
    "df_0.loc[3]=Palmer\n",
    "df_0.loc[4]=CDS\n",
    "df_0.loc[5]=PRSKE\n",
    "df_0.loc[6]=ARTIFICIAL"
   ]
  },
  {
   "cell_type": "code",
   "execution_count": 101,
   "id": "521809e3-f5e2-4496-8032-8718407bf906",
   "metadata": {},
   "outputs": [
    {
     "data": {
      "text/html": [
       "<div>\n",
       "<style scoped>\n",
       "    .dataframe tbody tr th:only-of-type {\n",
       "        vertical-align: middle;\n",
       "    }\n",
       "\n",
       "    .dataframe tbody tr th {\n",
       "        vertical-align: top;\n",
       "    }\n",
       "\n",
       "    .dataframe thead th {\n",
       "        text-align: right;\n",
       "    }\n",
       "</style>\n",
       "<table border=\"1\" class=\"dataframe\">\n",
       "  <thead>\n",
       "    <tr style=\"text-align: right;\">\n",
       "      <th></th>\n",
       "      <th>Heuristic</th>\n",
       "      <th>20-5 (Deviation)</th>\n",
       "      <th>20-5 (Time)</th>\n",
       "      <th>50-10 (Deviation)</th>\n",
       "      <th>50-10 (Time)</th>\n",
       "      <th>100-10 (Deviation)</th>\n",
       "      <th>100-10 (Time)</th>\n",
       "      <th>200-10 (Deviation)</th>\n",
       "      <th>200-10 (Time)</th>\n",
       "    </tr>\n",
       "  </thead>\n",
       "  <tbody>\n",
       "    <tr>\n",
       "      <th>0</th>\n",
       "      <td>NEH</td>\n",
       "      <td>4.382</td>\n",
       "      <td>0.037s</td>\n",
       "      <td>6.744</td>\n",
       "      <td>0.717s</td>\n",
       "      <td>5.061</td>\n",
       "      <td>7.561s</td>\n",
       "      <td>1.509</td>\n",
       "      <td>55.476s</td>\n",
       "    </tr>\n",
       "    <tr>\n",
       "      <th>1</th>\n",
       "      <td>Ham</td>\n",
       "      <td>10.876</td>\n",
       "      <td>0.001s</td>\n",
       "      <td>20.562</td>\n",
       "      <td>0.004s</td>\n",
       "      <td>8.406</td>\n",
       "      <td>0.006s</td>\n",
       "      <td>7.030</td>\n",
       "      <td>0.014s</td>\n",
       "    </tr>\n",
       "    <tr>\n",
       "      <th>2</th>\n",
       "      <td>Gupta</td>\n",
       "      <td>6.964</td>\n",
       "      <td>0.001s</td>\n",
       "      <td>22.149</td>\n",
       "      <td>0.002s</td>\n",
       "      <td>12.860</td>\n",
       "      <td>0.003s</td>\n",
       "      <td>10.057</td>\n",
       "      <td>0.009s</td>\n",
       "    </tr>\n",
       "    <tr>\n",
       "      <th>3</th>\n",
       "      <td>Palmer</td>\n",
       "      <td>7.825</td>\n",
       "      <td>0.001s</td>\n",
       "      <td>13.686</td>\n",
       "      <td>0.002s</td>\n",
       "      <td>7.470</td>\n",
       "      <td>0.004s</td>\n",
       "      <td>5.429</td>\n",
       "      <td>0.009s</td>\n",
       "    </tr>\n",
       "    <tr>\n",
       "      <th>4</th>\n",
       "      <td>CDS</td>\n",
       "      <td>8.764</td>\n",
       "      <td>0.002s</td>\n",
       "      <td>13.091</td>\n",
       "      <td>0.015s</td>\n",
       "      <td>7.608</td>\n",
       "      <td>0.043s</td>\n",
       "      <td>6.818</td>\n",
       "      <td>0.076s</td>\n",
       "    </tr>\n",
       "    <tr>\n",
       "      <th>5</th>\n",
       "      <td>PRSKE</td>\n",
       "      <td>24.648</td>\n",
       "      <td>0.002s</td>\n",
       "      <td>28.926</td>\n",
       "      <td>0.003s</td>\n",
       "      <td>22.929</td>\n",
       "      <td>0.006s</td>\n",
       "      <td>15.265</td>\n",
       "      <td>0.016s</td>\n",
       "    </tr>\n",
       "    <tr>\n",
       "      <th>6</th>\n",
       "      <td>Artificial Heuristic</td>\n",
       "      <td>6.964</td>\n",
       "      <td>0.002s</td>\n",
       "      <td>14.413</td>\n",
       "      <td>0.026s</td>\n",
       "      <td>7.574</td>\n",
       "      <td>0.044s</td>\n",
       "      <td>3.671</td>\n",
       "      <td>0.107s</td>\n",
       "    </tr>\n",
       "  </tbody>\n",
       "</table>\n",
       "</div>"
      ],
      "text/plain": [
       "              Heuristic 20-5 (Deviation) 20-5 (Time) 50-10 (Deviation)  \\\n",
       "0                   NEH            4.382      0.037s             6.744   \n",
       "1                   Ham           10.876      0.001s            20.562   \n",
       "2                 Gupta            6.964      0.001s            22.149   \n",
       "3                Palmer            7.825      0.001s            13.686   \n",
       "4                   CDS            8.764      0.002s            13.091   \n",
       "5                 PRSKE           24.648      0.002s            28.926   \n",
       "6  Artificial Heuristic            6.964      0.002s            14.413   \n",
       "\n",
       "  50-10 (Time) 100-10 (Deviation) 100-10 (Time) 200-10 (Deviation)  \\\n",
       "0       0.717s              5.061        7.561s              1.509   \n",
       "1       0.004s              8.406        0.006s              7.030   \n",
       "2       0.002s             12.860        0.003s             10.057   \n",
       "3       0.002s              7.470        0.004s              5.429   \n",
       "4       0.015s              7.608        0.043s              6.818   \n",
       "5       0.003s             22.929        0.006s             15.265   \n",
       "6       0.026s              7.574        0.044s              3.671   \n",
       "\n",
       "  200-10 (Time)  \n",
       "0       55.476s  \n",
       "1        0.014s  \n",
       "2        0.009s  \n",
       "3        0.009s  \n",
       "4        0.076s  \n",
       "5        0.016s  \n",
       "6        0.107s  "
      ]
     },
     "execution_count": 101,
     "metadata": {},
     "output_type": "execute_result"
    }
   ],
   "source": [
    "# Displaying the results that we have got for the first instance of each benchmark\n",
    "df_0"
   ]
  }
 ],
 "metadata": {
  "kernelspec": {
   "display_name": "Python 3 (ipykernel)",
   "language": "python",
   "name": "python3"
  },
  "language_info": {
   "codemirror_mode": {
    "name": "ipython",
    "version": 3
   },
   "file_extension": ".py",
   "mimetype": "text/x-python",
   "name": "python",
   "nbconvert_exporter": "python",
   "pygments_lexer": "ipython3",
   "version": "3.10.9"
  }
 },
 "nbformat": 4,
 "nbformat_minor": 5
}
