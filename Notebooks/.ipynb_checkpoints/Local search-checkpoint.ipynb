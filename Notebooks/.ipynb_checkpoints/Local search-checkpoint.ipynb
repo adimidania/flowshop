{
 "cells": [
  {
   "cell_type": "markdown",
   "id": "77f27592-08b0-4dd6-80c3-0396c2a1fc08",
   "metadata": {},
   "source": [
    "# Local search - Flowshop problem"
   ]
  },
  {
   "cell_type": "markdown",
   "id": "44b0addf-4dcd-40c6-a31a-25f4e5003253",
   "metadata": {},
   "source": [
    "This notebook contains a hands-on the flowshop problem. We will focus on implementing some of the most known local search algorithms in order to solve this problem.\n",
    "\n",
    "### Table of content\n",
    "- [Neighborhood functions](#Neighborhood-functions)\n",
    "- [Random walk](#Random-walk)\n",
    "- [Hill climbing](#Hill-climbing)\n",
    "    - [Simple Hill climbing](#Simple-hill-climbing)\n",
    "    - [Steepest Ascent Hill climbing](#Steepest-ascent-hill-climbing)\n",
    "    - [Stochastic Hill climbing](#Stochastic-hill-climbing)\n",
    "- [Simulated annealing](#Simulated-annealing)\n",
    "- [Tabu Search](#Tabu-Search)\n",
    "\n",
    "\n",
    "### References\n",
    "- [Benchmarks for Basic Scheduling Problems](http://mistic.heig-vd.ch/taillard/articles.dir/Taillard1993EJOR.pdf)\n",
    "- [Introduction to Hill Climbing](https://www.geeksforgeeks.org/introduction-hill-climbing-artificial-intelligence/)\n",
    "- [Implement Simulated annealing in Python](https://medium.com/swlh/how-to-implement-simulated-annealing-algorithm-in-python-ab196c2f56a0)\n",
    "- [Tabu Search](https://medium.com/swlh/tabu-search-in-python-3199c44d44f1)"
   ]
  },
  {
   "cell_type": "code",
   "execution_count": 45,
   "id": "605c8752-b209-4806-a627-f522d8bcd2c0",
   "metadata": {},
   "outputs": [],
   "source": [
    "import numpy as np\n",
    "import matplotlib as plt\n",
    "import itertools\n",
    "import time\n",
    "import pandas as pd\n",
    "import math\n",
    "import random\n",
    "from collections import deque\n",
    "from itertools import combinations"
   ]
  },
  {
   "cell_type": "code",
   "execution_count": 2,
   "id": "09fa172d-7df7-4b79-a5bd-5d15c06ab60a",
   "metadata": {},
   "outputs": [],
   "source": [
    "def evaluate_sequence(sequence, processing_times):\n",
    "    _, num_machines = processing_times.shape\n",
    "    num_jobs = len(sequence)\n",
    "    completion_times = np.zeros((num_jobs, num_machines))\n",
    "    \n",
    "    # Calculate the completion times for the first machine\n",
    "    completion_times[0][0] = processing_times[sequence[0]][0]\n",
    "    for i in range(1, num_jobs):\n",
    "        completion_times[i][0] = completion_times[i-1][0] + processing_times[sequence[i]][0]\n",
    "    \n",
    "    # Calculate the completion times for the remaining machines\n",
    "    for j in range(1, num_machines):\n",
    "        completion_times[0][j] = completion_times[0][j-1] + processing_times[sequence[0]][j]\n",
    "        for i in range(1, num_jobs):\n",
    "            completion_times[i][j] = max(completion_times[i-1][j], completion_times[i][j-1]) + processing_times[sequence[i]][j]\n",
    "    \n",
    "    # Return the total completion time, which is the completion time of the last job in the last machine\n",
    "    return completion_times[num_jobs-1][num_machines-1]"
   ]
  },
  {
   "cell_type": "code",
   "execution_count": 3,
   "id": "fe1ca7e2-b67c-4af6-be0c-0fc65c2a93b6",
   "metadata": {},
   "outputs": [
    {
     "name": "stdout",
     "output_type": "stream",
     "text": [
      "[[ 64 118  63  19  48  22 100  72  94  18]\n",
      " [ 61  64  68  56  13 102  99 109  55  39]\n",
      " [ 57  71   6  81  93 108 100  33  84  40]\n",
      " [ 77 106 119 113  68  17  74  61  37  15]\n",
      " [ 13  52  87  57  40  10  97  46  91 109]\n",
      " [ 12 116 116  60  75  15  58   6  70 101]\n",
      " [ 15  19  47  35  46  87  37 103  69  99]\n",
      " [ 10  30  12  98  54  85  80  82  31  77]\n",
      " [ 95  19  82 101 104 119  62  85  68  51]\n",
      " [ 11  97  97  14   5  96  59  51  55  19]\n",
      " [102  96  82  94  69  68 113  68 109  13]\n",
      " [ 43  65  54  35  66  62  53 110  87  37]\n",
      " [108  20  65  25  43  11  86 114  73  19]\n",
      " [ 19  44  31  98  83  11  95  98  41  60]\n",
      " [108 112  99  44 118  24  10  19  86  19]] \n",
      "\n",
      "Initial solution: [6, 1, 7, 0, 3, 4, 2, 9, 5, 8] \n",
      "\n",
      "Makespan: 1518.0\n"
     ]
    }
   ],
   "source": [
    "# Generate a random example to work with 7 jobs and 2 machines\n",
    "rnd_data = np.random.randint(size=(15,10), low=5, high=120)\n",
    "permutation = np.random.permutation(10).tolist()\n",
    "print(rnd_data, \"\\n\")\n",
    "print('Initial solution:', permutation, \"\\n\")\n",
    "\n",
    "Cmax = evaluate_sequence(permutation, rnd_data)\n",
    "print(f'Makespan: {Cmax}')"
   ]
  },
  {
   "cell_type": "markdown",
   "id": "60015e82-6520-4d50-9db8-f6be4d8ad487",
   "metadata": {},
   "source": [
    "# Neighborhood functions"
   ]
  },
  {
   "cell_type": "markdown",
   "id": "27b59d5c-3fd8-4157-b1f2-31779f2d0076",
   "metadata": {},
   "source": [
    "#### Swap-based functions"
   ]
  },
  {
   "cell_type": "code",
   "execution_count": 4,
   "id": "e5db5838-9c99-450b-bc55-f8370c8f17fe",
   "metadata": {},
   "outputs": [],
   "source": [
    "def swap(solution, i, k):\n",
    "    temp = solution[k]\n",
    "    solution[k] = solution[i]\n",
    "    solution[i] = temp\n",
    "    return solution"
   ]
  },
  {
   "cell_type": "code",
   "execution_count": 5,
   "id": "12f5d601-043f-430e-8a87-8cd1a0c892fc",
   "metadata": {},
   "outputs": [],
   "source": [
    "def random_swap(solution, processing_times):\n",
    "    i = np.random.choice(list(solution))\n",
    "    k = np.random.choice(list(solution))\n",
    "    # Generating two different random positions\n",
    "    while (i == k):\n",
    "        k = np.random.choice(list(solution))\n",
    "    # Switch between job i and job k in the given sequence\n",
    "    neighbor = solution.copy()\n",
    "    return swap(neighbor, i, k), evaluate_sequence(neighbor, processing_times)"
   ]
  },
  {
   "cell_type": "code",
   "execution_count": 6,
   "id": "49aa10a6-2a2f-4d7e-9900-0f2ba56f74ec",
   "metadata": {},
   "outputs": [
    {
     "name": "stdout",
     "output_type": "stream",
     "text": [
      "Original solution: [6, 1, 7, 0, 3, 4, 2, 9, 5, 8]\n",
      "Makespan:  1518.0\n",
      "\n",
      "Neighboor solution: [6, 9, 7, 0, 3, 4, 2, 1, 5, 8]\n",
      "Makespan: 1543.0\n"
     ]
    }
   ],
   "source": [
    "neighbor, neighbor_cmax = random_swap(permutation, rnd_data)\n",
    "\n",
    "print(\"Original solution:\", permutation)\n",
    "print(\"Makespan: \", Cmax)\n",
    "\n",
    "print(\"\\nNeighboor solution:\", neighbor)\n",
    "print(\"Makespan:\", neighbor_cmax)"
   ]
  },
  {
   "cell_type": "code",
   "execution_count": 7,
   "id": "4aab5d0b-26f4-4db2-83cb-59fa266f86bf",
   "metadata": {},
   "outputs": [],
   "source": [
    "def best_first_swap(solution, processing_times):\n",
    "    # This function will take a solution, and return the first best solution.\n",
    "    # The first solution that is better then the current one 'solution' in args.\n",
    "    num_jobs = len(solution)\n",
    "    best_cmax = evaluate_sequence(solution, processing_times)\n",
    "    best_neighbor = solution.copy()\n",
    "    for k1 in range(num_jobs):\n",
    "        for k2 in range(k1+1, num_jobs):\n",
    "            neighbor = solution.copy()\n",
    "            neighbor = swap(neighbor,k1,k2)\n",
    "            cmax = evaluate_sequence(neighbor, processing_times)\n",
    "            if cmax < best_cmax:\n",
    "                best_neighbor = neighbor\n",
    "                best_cmax = cmax\n",
    "                return best_neighbor, best_cmax\n",
    "    return best_neighbor, best_cmax"
   ]
  },
  {
   "cell_type": "code",
   "execution_count": 8,
   "id": "62fe24a1-bd81-48b6-b423-3b7748a1562b",
   "metadata": {},
   "outputs": [
    {
     "name": "stdout",
     "output_type": "stream",
     "text": [
      "Original solution: [6, 1, 7, 0, 3, 4, 2, 9, 5, 8]\n",
      "Makespan: 1518.0\n",
      "\n",
      "Neighboor solution: [7, 1, 6, 0, 3, 4, 2, 9, 5, 8]\n",
      "Makespan: 1502.0\n"
     ]
    }
   ],
   "source": [
    "neighbor, neighbor_cmax = best_first_swap(permutation, rnd_data)\n",
    "\n",
    "print(\"Original solution:\", permutation)\n",
    "print(\"Makespan:\", Cmax)\n",
    "\n",
    "print(\"\\nNeighboor solution:\", neighbor)\n",
    "print(\"Makespan:\", neighbor_cmax)"
   ]
  },
  {
   "cell_type": "code",
   "execution_count": 9,
   "id": "3400517d-4c62-4fc4-9f17-69ecdfea6e3f",
   "metadata": {},
   "outputs": [],
   "source": [
    "def best_swap(solution, processing_times):\n",
    "    # This function will take a solution, and return its best neighbor solution.\n",
    "    num_jobs = len(solution)\n",
    "    best_cmax = np.Infinity\n",
    "    for k1 in range(num_jobs):\n",
    "        for k2 in range(k1+1, num_jobs):\n",
    "            neighbor = solution.copy()\n",
    "            neighbor = swap(neighbor,k1,k2)\n",
    "            cmax = evaluate_sequence(neighbor, processing_times)\n",
    "            if cmax < best_cmax:\n",
    "                best_neighbor = neighbor\n",
    "                best_cmax = cmax\n",
    "    return best_neighbor, best_cmax"
   ]
  },
  {
   "cell_type": "code",
   "execution_count": 11,
   "id": "004a9d57-13c3-4fff-bd92-5479cce13819",
   "metadata": {},
   "outputs": [
    {
     "name": "stdout",
     "output_type": "stream",
     "text": [
      "Original solution: [6, 1, 7, 0, 3, 4, 2, 9, 5, 8]\n",
      "Makespan: 1518.0\n",
      "\n",
      "Neighboor solution: [6, 1, 7, 0, 8, 4, 2, 9, 5, 3]\n",
      "Makespan: 1388.0\n"
     ]
    }
   ],
   "source": [
    "neighbor, neighbor_cmax = best_swap(permutation, rnd_data)\n",
    "\n",
    "print(\"Original solution:\", permutation)\n",
    "print(\"Makespan:\", Cmax)\n",
    "\n",
    "print(\"\\nNeighboor solution:\", neighbor)\n",
    "print(\"Makespan:\", neighbor_cmax)"
   ]
  },
  {
   "cell_type": "code",
   "execution_count": 12,
   "id": "ac539f4d-2c22-4cd1-bceb-4b2a628a43ac",
   "metadata": {
    "tags": []
   },
   "outputs": [],
   "source": [
    "def best_swaps(solution, processing_times):\n",
    "    # This function will take a solution, and return a list that contains all solutions that are better than it.\n",
    "    num_jobs = len(solution)\n",
    "    cmax = evaluate_sequence(solution, processing_times)\n",
    "    bests = []\n",
    "    for k1 in range(num_jobs):\n",
    "        for k2 in range(k1+1, num_jobs):\n",
    "            neighbor = solution.copy()\n",
    "            swap(neighbor,k1,k2)\n",
    "            neighbor_cmax = evaluate_sequence(neighbor, processing_times)\n",
    "            if neighbor_cmax < cmax:\n",
    "                bests.append((neighbor, neighbor_cmax))\n",
    "    return bests"
   ]
  },
  {
   "cell_type": "code",
   "execution_count": 13,
   "id": "23d6fbc4-6ec6-4998-9c98-4c8ca3c52fbe",
   "metadata": {},
   "outputs": [
    {
     "name": "stdout",
     "output_type": "stream",
     "text": [
      "Original solution: [6, 1, 7, 0, 3, 4, 2, 9, 5, 8]\n",
      "Makespan: 1518.0\n",
      "\n",
      "\n",
      "Better Neighboors: [([7, 1, 6, 0, 3, 4, 2, 9, 5, 8], 1502.0), ([4, 1, 7, 0, 3, 6, 2, 9, 5, 8], 1483.0), ([6, 7, 1, 0, 3, 4, 2, 9, 5, 8], 1498.0), ([6, 4, 7, 0, 3, 1, 2, 9, 5, 8], 1476.0), ([6, 8, 7, 0, 3, 4, 2, 9, 5, 1], 1498.0), ([6, 1, 7, 5, 3, 4, 2, 9, 0, 8], 1517.0), ([6, 1, 7, 8, 3, 4, 2, 9, 5, 0], 1436.0), ([6, 1, 7, 0, 8, 4, 2, 9, 5, 3], 1388.0), ([6, 1, 7, 0, 3, 4, 5, 9, 2, 8], 1498.0), ([6, 1, 7, 0, 3, 4, 8, 9, 5, 2], 1494.0), ([6, 1, 7, 0, 3, 4, 2, 8, 5, 9], 1493.0)]\n"
     ]
    }
   ],
   "source": [
    "bests = best_swaps(permutation, rnd_data)\n",
    "\n",
    "print(\"Original solution:\", permutation)\n",
    "print(\"Makespan:\", Cmax)\n",
    "\n",
    "print(\"\\n\\nBetter Neighboors:\", bests)"
   ]
  },
  {
   "cell_type": "markdown",
   "id": "a560b467-2512-4134-87e7-1a25acef4a34",
   "metadata": {},
   "source": [
    "#### Insertion-based functions"
   ]
  },
  {
   "cell_type": "code",
   "execution_count": 14,
   "id": "f8374ebb-925b-4971-b070-63b9ecb644be",
   "metadata": {},
   "outputs": [],
   "source": [
    "def random_insertion(solution, processing_times):\n",
    "    # This function consists of choosing random two indices, i and k.\n",
    "    # Remove the element at indice i, and insert it in the position k.\n",
    "    i = np.random.choice(list(solution))\n",
    "    k = np.random.choice(list(solution))\n",
    "    while (i == k):\n",
    "        k = np.random.choice(list(solution))\n",
    "    neighbor = solution.copy()\n",
    "    neighbor.remove(solution[i])\n",
    "    neighbor.insert(k, solution[i])\n",
    "    return neighbor, evaluate_sequence(neighbor, processing_times)"
   ]
  },
  {
   "cell_type": "code",
   "execution_count": 16,
   "id": "71d8c528-1416-4616-b65c-98f3666b188f",
   "metadata": {},
   "outputs": [
    {
     "name": "stdout",
     "output_type": "stream",
     "text": [
      "Original solution: [6, 1, 7, 0, 3, 4, 2, 9, 5, 8]\n",
      "Makespan: 1518.0\n",
      "\n",
      "Neighboor solution: [1, 7, 0, 6, 3, 4, 2, 9, 5, 8]\n",
      "Makespan: 1522.0\n"
     ]
    }
   ],
   "source": [
    "neighbor, neighbor_cmax = random_insertion(permutation, rnd_data)\n",
    "\n",
    "print(\"Original solution:\", permutation)\n",
    "print(\"Makespan:\", Cmax)\n",
    "\n",
    "print(\"\\nNeighboor solution:\", neighbor)\n",
    "print(\"Makespan:\", neighbor_cmax)"
   ]
  },
  {
   "cell_type": "code",
   "execution_count": 17,
   "id": "4e230e0c-4012-43be-84f1-7bdca28aa8d1",
   "metadata": {},
   "outputs": [],
   "source": [
    "def best_insertion(solution, processing_times):\n",
    "    # This function consists of trying all different insertions.\n",
    "    # Then it returns the best one among them\n",
    "    num_jobs = len(solution)\n",
    "    best_cmax = np.Infinity\n",
    "    for k1 in range(num_jobs):\n",
    "        s = solution.copy()\n",
    "        s_job = solution[k1]\n",
    "        s.remove(s_job)\n",
    "        for k2 in range(num_jobs):\n",
    "            if k1 != k2:\n",
    "                neighbor = s.copy()\n",
    "                neighbor.insert(k2, s_job)\n",
    "                cmax = evaluate_sequence(neighbor, processing_times)\n",
    "                if cmax < best_cmax:\n",
    "                    best_neighbor = neighbor\n",
    "                    best_cmax = cmax\n",
    "    return best_neighbor, best_cmax"
   ]
  },
  {
   "cell_type": "code",
   "execution_count": 18,
   "id": "1f47c7d9-750d-4ae0-ab29-164cf178b89d",
   "metadata": {},
   "outputs": [
    {
     "name": "stdout",
     "output_type": "stream",
     "text": [
      "Original solution: [6, 1, 7, 0, 3, 4, 2, 9, 5, 8]\n",
      "Makespan: 1518.0\n",
      "\n",
      "Neighboor solution: [6, 1, 7, 0, 4, 2, 9, 5, 8, 3]\n",
      "Makespan: 1427.0\n"
     ]
    }
   ],
   "source": [
    "neighbor, neighbor_cmax = best_insertion(permutation, rnd_data)\n",
    "\n",
    "print(\"Original solution:\", permutation)\n",
    "print(\"Makespan:\", Cmax)\n",
    "\n",
    "print(\"\\nNeighboor solution:\", neighbor)\n",
    "print(\"Makespan:\", neighbor_cmax)"
   ]
  },
  {
   "cell_type": "code",
   "execution_count": 19,
   "id": "b00ad379-861e-4717-ad36-6f7f84081fc4",
   "metadata": {},
   "outputs": [],
   "source": [
    "def best_edge_insertion(solution, processing_times):\n",
    "    num_jobs = len(solution)\n",
    "    best_cmax = np.Infinity\n",
    "    for k1 in range(num_jobs-1):\n",
    "        s = solution.copy()\n",
    "        s_job1 = s[k1] \n",
    "        s_job2 = s[k1+1]\n",
    "        s.remove(s_job1)\n",
    "        s.remove(s_job2)\n",
    "        for k2 in range(num_jobs-1):\n",
    "            if(k1 != k2):\n",
    "                neighbor = s.copy()\n",
    "                neighbor.insert(k2, s_job1)\n",
    "                neighbor.insert(k2+1, s_job2)\n",
    "                cmax = evaluate_sequence(neighbor, processing_times)\n",
    "                if cmax < best_cmax:\n",
    "                    best_neighbor = neighbor\n",
    "                    best_cmax = cmax\n",
    "    return best_neighbor, best_cmax"
   ]
  },
  {
   "cell_type": "code",
   "execution_count": 20,
   "id": "b063869a-9c1e-4f74-beca-3fadebb7058d",
   "metadata": {},
   "outputs": [
    {
     "name": "stdout",
     "output_type": "stream",
     "text": [
      "Original solution: [6, 1, 7, 0, 3, 4, 2, 9, 5, 8]\n",
      "Makespan: 1518.0\n",
      "\n",
      "Neighboor solution: [6, 1, 7, 4, 2, 9, 5, 8, 0, 3]\n",
      "Makespan: 1408.0\n"
     ]
    }
   ],
   "source": [
    "neighbor, neighbor_cmax = best_edge_insertion(permutation, rnd_data)\n",
    "\n",
    "print(\"Original solution:\", permutation)\n",
    "print(\"Makespan:\", Cmax)\n",
    "\n",
    "print(\"\\nNeighboor solution:\", neighbor)\n",
    "print(\"Makespan:\", neighbor_cmax)"
   ]
  },
  {
   "cell_type": "markdown",
   "id": "692dbdf1-e4c6-410f-be29-c7ffac5b65f8",
   "metadata": {},
   "source": [
    "# Random walk"
   ]
  },
  {
   "cell_type": "code",
   "execution_count": 21,
   "id": "4dcb91ed-9780-4c73-94b4-b91c2abe1947",
   "metadata": {},
   "outputs": [],
   "source": [
    "def random_walk(solution, processing_times, nb_iter=1000, threshold=None):\n",
    "    x = solution\n",
    "    cmax = evaluate_sequence(solution, processing_times)\n",
    "    iterations = 0\n",
    "    while iterations < nb_iter:\n",
    "        x, cmax = random_swap(x, processing_times)\n",
    "        if threshold is not None and cmax < threshold:\n",
    "            return x, cmax, iterations\n",
    "        iterations += 1\n",
    "    return x, cmax, iterations"
   ]
  },
  {
   "cell_type": "code",
   "execution_count": 22,
   "id": "f5c31e87-a169-4b31-a8f8-26ec4d9341a0",
   "metadata": {},
   "outputs": [
    {
     "name": "stdout",
     "output_type": "stream",
     "text": [
      "Initial solution: [6, 1, 7, 0, 3, 4, 2, 9, 5, 8]\n",
      "Makespan: 1518.0\n",
      "\n",
      "Generated solution: [4, 9, 0, 6, 2, 8, 7, 5, 3, 1]\n",
      "Makespan: 1429.0\n",
      "Number of iterations: 16\n",
      "\n",
      "Elapsed time: 0.004750490188598633 seconds\n"
     ]
    }
   ],
   "source": [
    "print(\"Initial solution:\", permutation)\n",
    "print(\"Makespan:\", Cmax)\n",
    "\n",
    "start_time = time.time()\n",
    "neighbor, neighbor_cmax, iterations = random_walk(permutation, rnd_data, threshold=1450)\n",
    "elapsed_time = time.time() - start_time\n",
    "\n",
    "print(\"\\nGenerated solution:\", neighbor)\n",
    "print(\"Makespan:\", neighbor_cmax)\n",
    "print(\"Number of iterations:\", iterations)\n",
    "print(\"\\nElapsed time:\", elapsed_time, \"seconds\")"
   ]
  },
  {
   "cell_type": "markdown",
   "id": "ab575cb5-db64-496b-b3b2-63b66c4eb4da",
   "metadata": {},
   "source": [
    "# Hill climbing"
   ]
  },
  {
   "cell_type": "markdown",
   "id": "34af2173-3f1a-4714-9e7b-630c30504162",
   "metadata": {},
   "source": [
    "## Simple Hill climbing"
   ]
  },
  {
   "cell_type": "markdown",
   "id": "a47c4fde-8f53-4d33-9b05-a68fb69053ae",
   "metadata": {},
   "source": [
    "It examines the neighboring nodes and selects the first neighboring node which optimizes the current cost as the next node."
   ]
  },
  {
   "cell_type": "code",
   "execution_count": 25,
   "id": "da04b71a-d038-4f94-9249-51970f08411c",
   "metadata": {},
   "outputs": [],
   "source": [
    "def simple_hill_climbing(solution, processing_times, nb_iter=10000):\n",
    "    x = solution\n",
    "    cmax = evaluate_sequence(solution, processing_times)\n",
    "    iterations = 0\n",
    "    while iterations < nb_iter:\n",
    "        best_neighbor, best_cmax  = best_first_swap(x, processing_times)\n",
    "        if best_cmax == cmax:\n",
    "            return best_neighbor, best_cmax, iterations\n",
    "        x = best_neighbor\n",
    "        cmax = best_cmax\n",
    "        iterations += 1\n",
    "    return x, cmax, iterations"
   ]
  },
  {
   "cell_type": "code",
   "execution_count": 29,
   "id": "f69a43ed-7567-4c7d-8177-f847cede5d35",
   "metadata": {},
   "outputs": [
    {
     "name": "stdout",
     "output_type": "stream",
     "text": [
      "Initial solution: [6, 1, 7, 0, 3, 4, 2, 9, 5, 8]\n",
      "Makespan: 1518.0\n",
      "\n",
      "Generated solution: [7, 1, 2, 8, 6, 3, 4, 9, 5, 0]\n",
      "Makespan: 1360.0\n",
      "Number of iterations: 11\n",
      "\n",
      "Elapsed time: 0.11453127861022949 seconds\n"
     ]
    }
   ],
   "source": [
    "print(\"Initial solution:\", permutation)\n",
    "print(\"Makespan:\", Cmax)\n",
    "\n",
    "start_time = time.time()\n",
    "best_solution, best_cmax, nb_iterations = simple_hill_climbing(permutation, rnd_data)\n",
    "elapsed_time = time.time() - start_time\n",
    "\n",
    "print(\"\\nGenerated solution:\", best_solution)\n",
    "print(\"Makespan:\", best_cmax)\n",
    "print(\"Number of iterations:\", iterations)\n",
    "print(\"\\nElapsed time:\", elapsed_time, \"seconds\")"
   ]
  },
  {
   "cell_type": "markdown",
   "id": "ed4bc07b-bdad-49b7-afc1-43495c0fa5d6",
   "metadata": {},
   "source": [
    "## Steepest Ascent Hill climbing"
   ]
  },
  {
   "cell_type": "markdown",
   "id": "3f9ec70f-ff4a-47a3-af8b-77e812359311",
   "metadata": {},
   "source": [
    "It examines the neighboring nodes one by one and selects the best neighboring node which optimizes the current cost as the next node."
   ]
  },
  {
   "cell_type": "code",
   "execution_count": 30,
   "id": "95d320c1-6831-49ce-8400-bd0bcbc279f5",
   "metadata": {},
   "outputs": [],
   "source": [
    "def steepest_ascent_hill_climbing(solution, processing_times, nb_iter=1000):\n",
    "    x = solution\n",
    "    cmax = evaluate_sequence(solution, processing_times)\n",
    "    iterations = 0\n",
    "    while iterations < nb_iter:\n",
    "        best_neighbor, best_cmax = best_swap(solution, processing_times)\n",
    "        if best_cmax > cmax:\n",
    "            return x, cmax\n",
    "        else:\n",
    "            x = best_neighbor\n",
    "            cmax = best_cmax\n",
    "            iterations += 1\n",
    "    return best_neighbor, best_cmax, iterations"
   ]
  },
  {
   "cell_type": "code",
   "execution_count": 31,
   "id": "37b7eb5c-32db-49c3-a813-8d1b1705e27c",
   "metadata": {},
   "outputs": [
    {
     "name": "stdout",
     "output_type": "stream",
     "text": [
      "Initial solution: [6, 1, 7, 0, 3, 4, 2, 9, 5, 8]\n",
      "Makespan: 1518.0\n",
      "\n",
      "Generated solution: [6, 1, 7, 0, 8, 4, 2, 9, 5, 3]\n",
      "Makespan: 1388.0\n",
      "Number of iterations: 1000\n",
      "\n",
      "Elapsed time: 15.41937804222107 seconds\n"
     ]
    }
   ],
   "source": [
    "print(\"Initial solution:\", permutation)\n",
    "print(\"Makespan:\", Cmax)\n",
    "\n",
    "start_time = time.time()\n",
    "best_solution, best_cmax, nb_iterations = steepest_ascent_hill_climbing(permutation, rnd_data)\n",
    "elapsed_time = time.time() - start_time\n",
    "\n",
    "print(\"\\nGenerated solution:\", best_solution)\n",
    "print(\"Makespan:\", best_cmax)\n",
    "print(\"Number of iterations:\", nb_iterations)\n",
    "print(\"\\nElapsed time:\", elapsed_time, \"seconds\")"
   ]
  },
  {
   "cell_type": "markdown",
   "id": "88dff591-ef9f-41f7-b1a4-41d89e2f0f6e",
   "metadata": {},
   "source": [
    "## Stochastic Hill climbing"
   ]
  },
  {
   "cell_type": "markdown",
   "id": "a00a8bea-7dd9-4cf8-a1f5-11dd187a4b99",
   "metadata": {},
   "source": [
    "Among the generated neighbor states which are better than the current state, It chooses a state randomly (or based on some probability function)."
   ]
  },
  {
   "cell_type": "code",
   "execution_count": 32,
   "id": "56c000e8-4e8c-4370-b5cc-598491ed0e73",
   "metadata": {},
   "outputs": [],
   "source": [
    "def stochastic_hill_climbing(solution, processing_times, nb_iter=1000):\n",
    "    x = solution\n",
    "    cmax = evaluate_sequence(solution, processing_times)\n",
    "    iterations = 0\n",
    "    while iterations < nb_iter:\n",
    "        best_neighbours  = best_swaps(x, processing_times)\n",
    "        if len(best_neighbours) == 0:\n",
    "            return x, cmax, iterations\n",
    "        i = random.randint(0,len(best_neighbours) - 1)\n",
    "        best_neighbor, best_cmax = best_neighbours[i]\n",
    "        if best_cmax > cmax:\n",
    "            return x, cmax, iterations\n",
    "        x = best_neighbor\n",
    "        cmax = best_cmax\n",
    "        iterations += 1\n",
    "    return best_neighbor, best_cmax, iterations"
   ]
  },
  {
   "cell_type": "code",
   "execution_count": 33,
   "id": "ac4f7793-1d47-464d-ac74-3cc316974e0b",
   "metadata": {},
   "outputs": [
    {
     "name": "stdout",
     "output_type": "stream",
     "text": [
      "Initial solution: [6, 1, 7, 0, 3, 4, 2, 9, 5, 8]\n",
      "Makespan: 1518.0\n",
      "\n",
      "Generated solution: [6, 4, 1, 9, 7, 0, 2, 8, 5, 3]\n",
      "Makespan: 1295.0\n",
      "Number of iterations: 8\n",
      "\n",
      "Elapsed time: 0.18980622291564941 seconds\n"
     ]
    }
   ],
   "source": [
    "print(\"Initial solution:\", permutation)\n",
    "print(\"Makespan:\", Cmax)\n",
    "\n",
    "start_time = time.time()\n",
    "best_solution, best_cmax, nb_iterations = stochastic_hill_climbing(permutation, rnd_data)\n",
    "elapsed_time = time.time() - start_time\n",
    "\n",
    "print(\"\\nGenerated solution:\", best_solution)\n",
    "print(\"Makespan:\", best_cmax)\n",
    "print(\"Number of iterations:\", nb_iterations)\n",
    "print(\"\\nElapsed time:\", elapsed_time, \"seconds\")"
   ]
  },
  {
   "cell_type": "markdown",
   "id": "c8a5b5c0-3fac-43ab-838c-353dcbe41ddf",
   "metadata": {},
   "source": [
    "# Simulated annealing"
   ]
  },
  {
   "cell_type": "code",
   "execution_count": 34,
   "id": "945bf139-f4ba-4815-ae07-637d64513c6d",
   "metadata": {},
   "outputs": [],
   "source": [
    "def get_neighbor(solution, processing_times, method=\"random_swap\"):\n",
    "    # Swapping methods\n",
    "    if method == \"random_swap\":\n",
    "        neighbor, cost = random_swap(solution, processing_times)\n",
    "    elif method == \"best_swap\":\n",
    "        neighbor, cost = best_swap(solution, processing_times)\n",
    "    elif method == \"best_first_swap\":\n",
    "        neighbor, cost = best_first_swap(solution, processing_times)\n",
    "    # Insertion methods\n",
    "    elif method == \"random_insertion\":\n",
    "        neighbor, cost = random_insertion(solution, processing_times)\n",
    "    elif method == \"best_edge_insertion\":\n",
    "        neighbor, cost = best_edge_insertion(solution, processing_times)\n",
    "    elif method == \"best_insertion\":\n",
    "        neighbor, cost = best_insertion(solution, processing_times)\n",
    "    # Randomly pick a method of generating neighbors.\n",
    "    else:     \n",
    "        i = random.randint(0, 5)\n",
    "        if i == 0:\n",
    "            neighbor, cost = random_swap(solution, processing_times)\n",
    "        elif i == 1:\n",
    "            neighbor, cost = best_swap(solution, processing_times)\n",
    "        elif i == 2:\n",
    "            neighbor, cost = best_first_swap(solution, processing_times)\n",
    "        elif i == 3:\n",
    "            neighbor, cost = random_insertion(solution, processing_times)\n",
    "        elif i == 4:\n",
    "            neighbor, cost = best_edge_insertion(solution, processing_times)\n",
    "        else:\n",
    "            neighbor, cost = best_insertion(solution, processing_times)\n",
    "    return neighbor, cost"
   ]
  },
  {
   "cell_type": "code",
   "execution_count": 36,
   "id": "5231a745-f2d5-4e7e-8dd5-8bdfefdfd19e",
   "metadata": {},
   "outputs": [],
   "source": [
    "def simulated_annealing(initial_solution, processing_times, method=\"random\", initial_temp=100, final_temp=1, alpha=0.1):\n",
    "    current_temp = initial_temp\n",
    "    current_solution = initial_solution.copy()\n",
    "    current_cost = evaluate_sequence(initial_solution, processing_times)\n",
    "    while current_temp > final_temp:\n",
    "        neighbor, neighbor_cost  = get_neighbor(current_solution, processing_times, method)\n",
    "        cost_diff = current_cost - neighbor_cost\n",
    "        if cost_diff > 0:\n",
    "            current_solution = neighbor\n",
    "            current_cost = neighbor_cost\n",
    "        else:\n",
    "            if random.uniform(0, 1) < math.exp(-cost_diff / current_temp):\n",
    "                solution = neighbor\n",
    "        current_temp -= alpha\n",
    "    return current_solution, current_cost"
   ]
  },
  {
   "cell_type": "code",
   "execution_count": 39,
   "id": "fb5a1abd-a34c-4617-8f31-aa4ab18d1323",
   "metadata": {},
   "outputs": [
    {
     "name": "stdout",
     "output_type": "stream",
     "text": [
      "Initial solution: [6, 1, 7, 0, 3, 4, 2, 9, 5, 8]\n",
      "Makespan: 1518.0\n",
      "\n",
      "Generated solution: [7, 4, 6, 5, 1, 0, 2, 8, 3, 9]\n",
      "Makespan: 1238.0\n",
      "\n",
      "Elapsed time: 0.492523193359375 seconds\n"
     ]
    }
   ],
   "source": [
    "print(\"Initial solution:\", permutation)\n",
    "print(\"Makespan:\", Cmax)\n",
    "\n",
    "start_time = time.time()\n",
    "best_solution, best_cmax = simulated_annealing(permutation, rnd_data, method=\"random_insertion\")\n",
    "elapsed_time = time.time() - start_time\n",
    "\n",
    "print(\"\\nGenerated solution:\", best_solution)\n",
    "print(\"Makespan:\", best_cmax)\n",
    "print(\"\\nElapsed time:\", elapsed_time, \"seconds\")"
   ]
  },
  {
   "cell_type": "code",
   "execution_count": 40,
   "id": "024b0466-c819-485a-921d-ffe9e557946a",
   "metadata": {},
   "outputs": [
    {
     "name": "stdout",
     "output_type": "stream",
     "text": [
      "Initial solution: [6, 1, 7, 0, 3, 4, 2, 9, 5, 8]\n",
      "Makespan: 1518.0\n",
      "\n",
      "Generated solution: [7, 4, 6, 0, 2, 8, 5, 1, 9, 3]\n",
      "Makespan: 1220.0\n",
      "\n",
      "Elapsed time: 16.125645637512207 seconds\n"
     ]
    }
   ],
   "source": [
    "# In this test, the method is set to random, so at each iteration we choose a different function for generating the next neighbor\n",
    "print(\"Initial solution:\", permutation)\n",
    "print(\"Makespan:\", Cmax)\n",
    "\n",
    "start_time = time.time()\n",
    "best_solution, best_cmax = simulated_annealing(permutation, rnd_data)\n",
    "elapsed_time = time.time() - start_time\n",
    "\n",
    "print(\"\\nGenerated solution:\", best_solution)\n",
    "print(\"Makespan:\", best_cmax)\n",
    "print(\"\\nElapsed time:\", elapsed_time, \"seconds\")"
   ]
  },
  {
   "cell_type": "code",
   "execution_count": 41,
   "id": "19f2a95d-ff89-4dbd-ba30-69e740e309e4",
   "metadata": {},
   "outputs": [
    {
     "name": "stdout",
     "output_type": "stream",
     "text": [
      "Initial solution: [6, 1, 7, 0, 3, 4, 2, 9, 5, 8]\n",
      "Makespan: 1518.0\n",
      "\n",
      "Generated solution: [6, 7, 1, 2, 4, 8, 5, 0, 9, 3]\n",
      "Makespan: 1259.0\n",
      "\n",
      "Elapsed time: 16.407556533813477 seconds\n"
     ]
    }
   ],
   "source": [
    "print(\"Initial solution:\", permutation)\n",
    "print(\"Makespan:\", Cmax)\n",
    "\n",
    "start_time = time.time()\n",
    "best_solution, best_cmax = simulated_annealing(permutation, rnd_data, method=\"best_swap\")\n",
    "elapsed_time = time.time() - start_time\n",
    "\n",
    "print(\"\\nGenerated solution:\", best_solution)\n",
    "print(\"Makespan:\", best_cmax)\n",
    "print(\"\\nElapsed time:\", elapsed_time, \"seconds\")"
   ]
  },
  {
   "cell_type": "markdown",
   "id": "36e7c6f4-a8f9-4c69-8454-9beddcde1b93",
   "metadata": {},
   "source": [
    "# Tabu Search"
   ]
  },
  {
   "cell_type": "code",
   "execution_count": null,
   "id": "c7acabde-09d4-447e-8624-85481bfe65ec",
   "metadata": {},
   "outputs": [],
   "source": []
  }
 ],
 "metadata": {
  "kernelspec": {
   "display_name": "Python 3 (ipykernel)",
   "language": "python",
   "name": "python3"
  },
  "language_info": {
   "codemirror_mode": {
    "name": "ipython",
    "version": 3
   },
   "file_extension": ".py",
   "mimetype": "text/x-python",
   "name": "python",
   "nbconvert_exporter": "python",
   "pygments_lexer": "ipython3",
   "version": "3.10.9"
  }
 },
 "nbformat": 4,
 "nbformat_minor": 5
}
