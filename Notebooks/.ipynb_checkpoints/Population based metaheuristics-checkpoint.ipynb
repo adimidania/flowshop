{
 "cells": [
  {
   "cell_type": "markdown",
   "id": "3c647856-81fe-468f-ac71-6272585ce80f",
   "metadata": {},
   "source": [
    "# Population based metaheuristics - Flowshop problem"
   ]
  },
  {
   "cell_type": "markdown",
   "id": "1756e2d4-82d6-4c25-a771-b0137d054ddd",
   "metadata": {},
   "source": [
    "This notebook focuses on implementing some population-based algorithms to solve the flowshop problem. Population-based algorithms may find high-quality solutions within a reasonable amount of time.\n",
    "\n",
    "### Table of content\n",
    "- [Required functions](#Required-functions)\n",
    "- [Genetic Algorithm](#Genetic-Algorithm)\n",
    "- [Ant Colony Algorithm](#Ant-Colony-Algorithm)\n",
    "- [Greedy NEH](#Greedy-NEH)\n",
    "- [Hybrid GA with VNS](#Hybrid-GA-with-VNS)\n",
    "- [Tests](#Tests)\n",
    "- [Remarks](#Remarks)\n",
    "\n",
    "### References\n",
    "- [Benchmarks for Basic Scheduling Problems](http://mistic.heig-vd.ch/taillard/articles.dir/Taillard1993EJOR.pdf)\n",
    "- [ACO-LS Algorithm for Solving No-wait Flow Shop\n",
    "Scheduling Problem](https://sci-hub.se/10.1007/978-3-662-46742-8_8)"
   ]
  },
  {
   "cell_type": "markdown",
   "id": "1bc62db8-199f-43a7-aebb-db57ed036608",
   "metadata": {
    "jp-MarkdownHeadingCollapsed": true,
    "tags": []
   },
   "source": [
    "# Required functions"
   ]
  },
  {
   "cell_type": "code",
   "execution_count": 2,
   "id": "6c3ec5c1",
   "metadata": {},
   "outputs": [],
   "source": [
    "import numpy as np\n",
    "import matplotlib as plt\n",
    "import itertools\n",
    "import time\n",
    "import pandas as pd\n",
    "import math\n",
    "import random"
   ]
  },
  {
   "cell_type": "code",
   "execution_count": 3,
   "id": "2b6eab88",
   "metadata": {},
   "outputs": [],
   "source": [
    "def evaluate_sequence(sequence, processing_times):\n",
    "    _, num_machines = processing_times.shape\n",
    "    num_jobs = len(sequence)\n",
    "    completion_times = np.zeros((num_jobs, num_machines))\n",
    "    \n",
    "    # Calculate the completion times for the first machine\n",
    "    completion_times[0][0] = processing_times[sequence[0]][0]\n",
    "    for i in range(1, num_jobs):\n",
    "        completion_times[i][0] = completion_times[i-1][0] + processing_times[sequence[i]][0]\n",
    "    \n",
    "    # Calculate the completion times for the remaining machines\n",
    "    for j in range(1, num_machines):\n",
    "        completion_times[0][j] = completion_times[0][j-1] + processing_times[sequence[0]][j]\n",
    "        for i in range(1, num_jobs):\n",
    "            completion_times[i][j] = max(completion_times[i-1][j], completion_times[i][j-1]) + processing_times[sequence[i]][j]\n",
    "    \n",
    "    # Return the total completion time, which is the completion time of the last job in the last machine\n",
    "    return completion_times[num_jobs-1][num_machines-1]"
   ]
  },
  {
   "cell_type": "markdown",
   "id": "746502b1",
   "metadata": {
    "tags": []
   },
   "source": [
    "## CDS"
   ]
  },
  {
   "cell_type": "code",
   "execution_count": 4,
   "id": "c1b4e51b",
   "metadata": {},
   "outputs": [],
   "source": [
    "def CDS_heuristic(processing_times):\n",
    "    jobs, machines = processing_times.shape\n",
    "    m = machines-1\n",
    "    johnson_proc_times = np.zeros((jobs,2))\n",
    "    best_cost = np.inf\n",
    "    best_seq = []\n",
    "    for k in range(m):\n",
    "        johnson_proc_times[:,0] += processing_times[:,k]\n",
    "        johnson_proc_times[:,1] += processing_times[:,-k-1]\n",
    "        seq = johnson_method(johnson_proc_times)\n",
    "        cost = evaluate_sequence(seq,processing_times)\n",
    "        if cost < best_cost:\n",
    "            best_cost = cost\n",
    "            best_seq = seq\n",
    "    return best_seq, best_cost"
   ]
  },
  {
   "cell_type": "markdown",
   "id": "30ff58c1",
   "metadata": {
    "tags": []
   },
   "source": [
    "## Palmer"
   ]
  },
  {
   "cell_type": "code",
   "execution_count": 5,
   "id": "05f212bc",
   "metadata": {},
   "outputs": [],
   "source": [
    "def palmer_heuristic(processing_times):\n",
    "    jobs, machines = processing_times.shape\n",
    "    f = []\n",
    "    for i in range(jobs):\n",
    "        fi = 0\n",
    "        for j in range(machines):\n",
    "            fi += (machines -2*j + 1) * processing_times[i][j]\n",
    "        f.append(fi)\n",
    "    order = sorted(range(jobs), key=lambda k: f[k])\n",
    "    return order"
   ]
  },
  {
   "cell_type": "markdown",
   "id": "6addce1a",
   "metadata": {
    "tags": []
   },
   "source": [
    "## Gupta"
   ]
  },
  {
   "cell_type": "code",
   "execution_count": 6,
   "id": "48b3d1a3",
   "metadata": {},
   "outputs": [],
   "source": [
    "def sign(x):\n",
    "    if x > 0:\n",
    "        return 1\n",
    "    elif x < 0:\n",
    "        return -1\n",
    "    else:\n",
    "        return 0\n",
    "    \n",
    "def min_gupta(job, processing_times):\n",
    "    m = np.inf\n",
    "    _, machines = processing_times.shape\n",
    "    for i in range(machines-1):\n",
    "        k = processing_times[job][i] + processing_times[job][i+1]\n",
    "        if (k < m):\n",
    "            m = k\n",
    "    return k\n",
    "\n",
    "def gupta_heuristic(processing_times):\n",
    "    jobs, machines = processing_times.shape\n",
    "    f = []\n",
    "    for i in range(jobs):\n",
    "        fi = sign(processing_times[i][0] - processing_times[i][machines-1]) / min_gupta(i,processing_times)\n",
    "        f.append(fi)\n",
    "    order = sorted(range(jobs), key=lambda k: f[k])\n",
    "    return order"
   ]
  },
  {
   "cell_type": "markdown",
   "id": "5a216a5d",
   "metadata": {
    "tags": []
   },
   "source": [
    "## Johnson"
   ]
  },
  {
   "cell_type": "code",
   "execution_count": 7,
   "id": "ed72f318",
   "metadata": {},
   "outputs": [],
   "source": [
    "def johnson_method(processing_times):\n",
    "    jobs, machines = processing_times.shape\n",
    "    copy_processing_times = processing_times.copy()\n",
    "    maximum = processing_times.max() + 1\n",
    "    m1 = []\n",
    "    m2 = []\n",
    "    \n",
    "    if machines != 2:\n",
    "        raise Exception(\"Johson method only works with two machines\")\n",
    "        \n",
    "    for i in range(jobs):\n",
    "        minimum = copy_processing_times.min()\n",
    "        position = np.where(copy_processing_times == minimum)\n",
    "        \n",
    "        if position[1][0] == 0:\n",
    "            m1.append(position[0][0])\n",
    "        else:\n",
    "            m2.insert(0, position[0][0])\n",
    "        \n",
    "        copy_processing_times[position[0][0]] = maximum\n",
    "        # Delete the job appended\n",
    "        \n",
    "    return m1+m2"
   ]
  },
  {
   "cell_type": "markdown",
   "id": "9f56d17d",
   "metadata": {
    "tags": []
   },
   "source": [
    "## Artificial Heuristic"
   ]
  },
  {
   "cell_type": "code",
   "execution_count": 8,
   "id": "4062abbb",
   "metadata": {},
   "outputs": [],
   "source": [
    "def artificial_heuristic(processing_times):\n",
    "    jobs, machines = processing_times.shape\n",
    "    r = 1\n",
    "    best_cost = np.inf\n",
    "    best_seq = []\n",
    "    while r != machines :\n",
    "        wi = np.zeros((jobs, machines - r))\n",
    "        for i in range(jobs):\n",
    "            for j in range(0, machines - r):\n",
    "                wi[i, j] = (machines - r) - (j)\n",
    "       \n",
    "        am = np.zeros((jobs, 2))    \n",
    "        am[:, 0] = np.sum(wi[:, :machines - r] * processing_times[:, :machines - r], axis=1)\n",
    "        for i in range(jobs):\n",
    "            for j in range(0, machines - r):\n",
    "                am[i, 1] += wi[i, j ] * processing_times[i, machines - j - 1]\n",
    "\n",
    "        seq = johnson_method(am)\n",
    "        cost = evaluate_sequence(seq, processing_times)\n",
    "        if cost < best_cost:\n",
    "            best_cost = cost\n",
    "            best_seq = seq\n",
    "        r += 1\n",
    "       \n",
    "    return best_seq, best_cost"
   ]
  },
  {
   "cell_type": "markdown",
   "id": "a5b85f2d",
   "metadata": {
    "tags": []
   },
   "source": [
    "## NEH"
   ]
  },
  {
   "cell_type": "code",
   "execution_count": 9,
   "id": "5e6f9883",
   "metadata": {},
   "outputs": [],
   "source": [
    "def order_jobs_in_descending_order_of_total_completion_time(processing_times):\n",
    "    total_completion_time = processing_times.sum(axis=1)\n",
    "    return np.argsort(total_completion_time, axis=0).tolist()\n",
    "\n",
    "def insertion(sequence, position, value):\n",
    "    new_seq = sequence[:]\n",
    "    new_seq.insert(position, value)\n",
    "    return new_seq\n",
    "\n",
    "def neh_algorithm(processing_times):\n",
    "    ordered_sequence = order_jobs_in_descending_order_of_total_completion_time(processing_times)\n",
    "    # Define the initial order\n",
    "    J1, J2 = ordered_sequence[:2]\n",
    "    sequence = [J1, J2] if evaluate_sequence([J1, J2], processing_times) < evaluate_sequence([J2, J1], processing_times) else [J2, J1]\n",
    "    del ordered_sequence[:2]\n",
    "    # Add remaining jobs\n",
    "    for job in ordered_sequence:\n",
    "        Cmax = float('inf')\n",
    "        best_sequence = []\n",
    "        for i in range(len(sequence)+1):\n",
    "            new_sequence = insertion(sequence, i, job)\n",
    "            Cmax_eval = evaluate_sequence(new_sequence, processing_times)\n",
    "            if Cmax_eval < Cmax:\n",
    "                Cmax = Cmax_eval\n",
    "                best_sequence = new_sequence\n",
    "        sequence = best_sequence\n",
    "    return sequence, Cmax"
   ]
  },
  {
   "cell_type": "markdown",
   "id": "eb263e11-f195-448e-ac71-2e45fd711460",
   "metadata": {
    "tags": []
   },
   "source": [
    "## VNS"
   ]
  },
  {
   "cell_type": "code",
   "execution_count": 10,
   "id": "2182a171-22e1-4719-b6f1-92fe090766de",
   "metadata": {},
   "outputs": [],
   "source": [
    "def swap(solution, i, k):\n",
    "    temp = solution[k]\n",
    "    solution[k] = solution[i]\n",
    "    solution[i] = temp\n",
    "    return solution"
   ]
  },
  {
   "cell_type": "code",
   "execution_count": 11,
   "id": "f9b138c0-5b0b-4c9c-a7c9-a70f00bcd6db",
   "metadata": {},
   "outputs": [],
   "source": [
    "def random_swap(solution, processing_times):\n",
    "    i = np.random.choice(list(solution))\n",
    "    k = np.random.choice(list(solution))\n",
    "    # Generating two different random positions\n",
    "    while (i == k):\n",
    "        k = np.random.choice(list(solution))\n",
    "    # Switch between job i and job k in the given sequence\n",
    "    neighbor = solution.copy()\n",
    "    return swap(neighbor, i, k), evaluate_sequence(neighbor, processing_times)"
   ]
  },
  {
   "cell_type": "code",
   "execution_count": 12,
   "id": "9abb66d5-05c2-4708-b5d9-417035af069c",
   "metadata": {},
   "outputs": [],
   "source": [
    "def best_first_swap(solution, processing_times):\n",
    "    # This function will take a solution, and return the first best solution.\n",
    "    # The first solution that is better then the current one 'solution' in args.\n",
    "    num_jobs = len(solution)\n",
    "    best_cmax = evaluate_sequence(solution, processing_times)\n",
    "    best_neighbor = solution.copy()\n",
    "    for k1 in range(num_jobs):\n",
    "        for k2 in range(k1+1, num_jobs):\n",
    "            neighbor = solution.copy()\n",
    "            neighbor = swap(neighbor,k1,k2)\n",
    "            cmax = evaluate_sequence(neighbor, processing_times)\n",
    "            if cmax < best_cmax:\n",
    "                best_neighbor = neighbor\n",
    "                best_cmax = cmax\n",
    "                return best_neighbor, best_cmax\n",
    "    return best_neighbor, best_cmax"
   ]
  },
  {
   "cell_type": "code",
   "execution_count": 13,
   "id": "adfde9b6-560b-48dd-b33e-5b887e4fe306",
   "metadata": {},
   "outputs": [],
   "source": [
    "def best_swap(solution, processing_times):\n",
    "    # This function will take a solution, and return its best neighbor solution.\n",
    "    num_jobs = len(solution)\n",
    "    best_cmax = np.Infinity\n",
    "    for k1 in range(num_jobs):\n",
    "        for k2 in range(k1+1, num_jobs):\n",
    "            neighbor = solution.copy()\n",
    "            neighbor = swap(neighbor,k1,k2)\n",
    "            cmax = evaluate_sequence(neighbor, processing_times)\n",
    "            if cmax < best_cmax:\n",
    "                best_neighbor = neighbor\n",
    "                best_cmax = cmax\n",
    "    return best_neighbor, best_cmax"
   ]
  },
  {
   "cell_type": "code",
   "execution_count": 14,
   "id": "9f397938-3b31-47fd-a030-410c481c0297",
   "metadata": {},
   "outputs": [],
   "source": [
    "def best_swaps(solution, processing_times):\n",
    "    # This function will take a solution, and return a list that contains all solutions that are better than it.\n",
    "    num_jobs = len(solution)\n",
    "    cmax = evaluate_sequence(solution, processing_times)\n",
    "    bests = []\n",
    "    for k1 in range(num_jobs):\n",
    "        for k2 in range(k1+1, num_jobs):\n",
    "            neighbor = solution.copy()\n",
    "            swap(neighbor,k1,k2)\n",
    "            neighbor_cmax = evaluate_sequence(neighbor, processing_times)\n",
    "            if neighbor_cmax < cmax:\n",
    "                bests.append((neighbor_cmax, neighbor))\n",
    "    bests.sort(key=lambda x: x[0])\n",
    "    return bests"
   ]
  },
  {
   "cell_type": "code",
   "execution_count": 15,
   "id": "a4899163-e034-48d3-8be6-a6e948eeb278",
   "metadata": {},
   "outputs": [],
   "source": [
    "def random_insertion(solution, processing_times):\n",
    "    # This function consists of choosing random two indices, i and k.\n",
    "    # Remove the element at indice i, and insert it in the position k.\n",
    "    i = np.random.choice(list(solution))\n",
    "    k = np.random.choice(list(solution))\n",
    "    while (i == k):\n",
    "        k = np.random.choice(list(solution))\n",
    "    neighbor = solution.copy()\n",
    "    neighbor.remove(solution[i])\n",
    "    neighbor.insert(k, solution[i])\n",
    "    return neighbor, evaluate_sequence(neighbor, processing_times)"
   ]
  },
  {
   "cell_type": "code",
   "execution_count": 16,
   "id": "da2ac2c9-9c11-4ba5-b80a-498e5726595a",
   "metadata": {},
   "outputs": [],
   "source": [
    "def best_insertion(solution, processing_times):\n",
    "    # This function consists of trying all different insertions.\n",
    "    # Then it returns the best one among them\n",
    "    num_jobs = len(solution)\n",
    "    best_cmax = np.Infinity\n",
    "    for k1 in range(num_jobs):\n",
    "        s = solution.copy()\n",
    "        s_job = solution[k1]\n",
    "        s.remove(s_job)\n",
    "        for k2 in range(num_jobs):\n",
    "            if k1 != k2:\n",
    "                neighbor = s.copy()\n",
    "                neighbor.insert(k2, s_job)\n",
    "                cmax = evaluate_sequence(neighbor, processing_times)\n",
    "                if cmax < best_cmax:\n",
    "                    best_neighbor = neighbor\n",
    "                    best_cmax = cmax\n",
    "    return best_neighbor, best_cmax"
   ]
  },
  {
   "cell_type": "code",
   "execution_count": 17,
   "id": "995d824b-93a6-45e1-ab42-cc67d8b84649",
   "metadata": {},
   "outputs": [],
   "source": [
    "def best_edge_insertion(solution, processing_times):\n",
    "    num_jobs = len(solution)\n",
    "    best_cmax = np.Infinity\n",
    "    for k1 in range(num_jobs-1):\n",
    "        s = solution.copy()\n",
    "        s_job1 = s[k1] \n",
    "        s_job2 = s[k1+1]\n",
    "        s.remove(s_job1)\n",
    "        s.remove(s_job2)\n",
    "        for k2 in range(num_jobs-1):\n",
    "            if(k1 != k2):\n",
    "                neighbor = s.copy()\n",
    "                neighbor.insert(k2, s_job1)\n",
    "                neighbor.insert(k2+1, s_job2)\n",
    "                cmax = evaluate_sequence(neighbor, processing_times)\n",
    "                if cmax < best_cmax:\n",
    "                    best_neighbor = neighbor\n",
    "                    best_cmax = cmax\n",
    "    return best_neighbor, best_cmax"
   ]
  },
  {
   "cell_type": "code",
   "execution_count": 18,
   "id": "abb2907c-49b7-40ae-8234-5c983c44c37a",
   "metadata": {},
   "outputs": [],
   "source": [
    "def get_neighbor(solution, processing_times, method=\"random_swap\"):\n",
    "    # Swapping methods\n",
    "    if method == \"random_swap\":\n",
    "        neighbor, cost = random_swap(solution, processing_times)\n",
    "    elif method == \"best_swap\":\n",
    "        neighbor, cost = best_swap(solution, processing_times)\n",
    "    elif method == \"best_first_swap\":\n",
    "        neighbor, cost = best_first_swap(solution, processing_times)\n",
    "    # Insertion methods\n",
    "    elif method == \"random_insertion\":\n",
    "        neighbor, cost = random_insertion(solution, processing_times)\n",
    "    elif method == \"best_edge_insertion\":\n",
    "        neighbor, cost = best_edge_insertion(solution, processing_times)\n",
    "    elif method == \"best_insertion\":\n",
    "        neighbor, cost = best_insertion(solution, processing_times)\n",
    "    # Randomly pick a method of generating neighbors.\n",
    "    else:     \n",
    "        i = random.randint(0, 5)\n",
    "        if i == 0:\n",
    "            neighbor, cost = random_swap(solution, processing_times)\n",
    "        elif i == 1:\n",
    "            neighbor, cost = best_swap(solution, processing_times)\n",
    "        elif i == 2:\n",
    "            neighbor, cost = best_first_swap(solution, processing_times)\n",
    "        elif i == 3:\n",
    "            neighbor, cost = random_insertion(solution, processing_times)\n",
    "        elif i == 4:\n",
    "            neighbor, cost = best_edge_insertion(solution, processing_times)\n",
    "        else:\n",
    "            neighbor, cost = best_insertion(solution, processing_times)\n",
    "    return neighbor, cost"
   ]
  },
  {
   "cell_type": "code",
   "execution_count": 19,
   "id": "ce58b5f4-6f25-483d-8290-35079c52d1e2",
   "metadata": {},
   "outputs": [],
   "source": [
    "# This function performs a random perturbation on a list by swapping the elements of k adjacent positions.\n",
    "# solution: the list to be perturbed\n",
    "# k: the number of adjacent positions to be swapped\n",
    "def shake_VNS(solution, k):\n",
    "    n = len(solution)\n",
    "    # If k is greater than the length of the list, then we create perturbations on all elements.\n",
    "    indices = random.sample(range(n), min(k, n-1))\n",
    "    indices.sort()\n",
    "    neighbor = solution.copy()\n",
    "    for i in indices:\n",
    "        j = (i+k) % n\n",
    "        neighbor[i], neighbor[j] = neighbor[j], neighbor[i]\n",
    "    return neighbor"
   ]
  },
  {
   "cell_type": "code",
   "execution_count": 20,
   "id": "ae39c7ed-9c90-48ac-b449-40127c86ff8e",
   "metadata": {},
   "outputs": [],
   "source": [
    "def vns(sol_init, processing_times, max_iterations, k_max):\n",
    "    num_jobs = len(sol_init)\n",
    "    current_solution = sol_init\n",
    "    current_cost = evaluate_sequence(current_solution, processing_times)\n",
    "    k = 1\n",
    "    iteration = 0\n",
    "    while iteration < max_iterations:       \n",
    "        # Appliquer la perturbation \"shake\" pour générer le voisin aléatoire\n",
    "        best_neighbor_solution = shake_VNS(current_solution, k)\n",
    "        best_neighbor_cost = evaluate_sequence(best_neighbor_solution, processing_times)\n",
    "        \n",
    "        # Parcourir les voisins pour trouver la meilleure solution locale\n",
    "        for l in range(1, k_max+1):\n",
    "            neighbor, neighbor_cost  = get_neighbor(current_solution, processing_times, method='random')\n",
    "            if (neighbor_cost < best_neighbor_cost):\n",
    "                best_neighbor_solution = neighbor\n",
    "                best_neighbor_cost = neighbor_cost            \n",
    "        \n",
    "        # Si la meilleure solution trouvée dans le voisinage est meilleure que la solution courante\n",
    "        # alors on met à jour la solution courante et on réinitialise le rayon de la recherche\n",
    "        if ( best_neighbor_cost < current_cost ):\n",
    "            current_solution = best_neighbor_solution\n",
    "            current_cost = best_neighbor_cost\n",
    "            k = 1\n",
    "        else:\n",
    "            k += 1\n",
    "        iteration += 1\n",
    "    return current_solution, current_cost"
   ]
  },
  {
   "cell_type": "markdown",
   "id": "8870f9ad-43f4-4c3b-a9f1-81c357147aad",
   "metadata": {
    "jp-MarkdownHeadingCollapsed": true,
    "tags": []
   },
   "source": [
    "# Genetic Algorithm"
   ]
  },
  {
   "cell_type": "code",
   "execution_count": 21,
   "id": "950134ed-648f-4d4a-874c-25ae853d0678",
   "metadata": {},
   "outputs": [],
   "source": [
    "def selection_GA(population, processing_times, n_selected, strategie):\n",
    "    # case \"roulette\":\n",
    "    if strategie == \"roulette\":\n",
    "        fitness = [evaluate_sequence(seq, processing_times) for seq in population]\n",
    "        fitness_sum = sum(fitness)\n",
    "        selection_probs = [fitness[i]/fitness_sum for i in range(len(population))]\n",
    "        cum_probs = [sum(selection_probs[:i+1]) for i in range(len(population))]\n",
    "        selected = []\n",
    "        for i in range(n_selected):\n",
    "            while True:\n",
    "                rand = random.random()\n",
    "                for j, cum_prob in enumerate(cum_probs):\n",
    "                    if rand < cum_prob:\n",
    "                        break\n",
    "                if population[j] not in selected:\n",
    "                    selected.append(population[j])\n",
    "                    break\n",
    "    # case \"Elitism\":\n",
    "    elif strategie == \"Elitism\":\n",
    "        fitness = [evaluate_sequence(seq, processing_times) for seq in population]\n",
    "        sorted_population = [x for x, _ in sorted(zip(population, fitness), key=lambda pair: pair[1], reverse=False)]\n",
    "        selected = sorted_population[:n_selected]\n",
    "\n",
    "    # case \"rank\":\n",
    "    elif strategie == \"rank\":\n",
    "        fitness = [evaluate_sequence(seq, processing_times) for seq in population]\n",
    "        sorted_population = sorted(population, key = lambda x: fitness[population.index(x)])\n",
    "        fitness_sum = sum(i+1 for i in range(len(sorted_population)))\n",
    "        selection_probs = [(len(sorted_population)-i)/fitness_sum for i in range(len(sorted_population))]\n",
    "        selected = []\n",
    "        for i in range(n_selected):\n",
    "            selected_index = random.choices(range(len(sorted_population)), weights=selection_probs)[0]\n",
    "            selected.append(sorted_population[selected_index])\n",
    "            sorted_population.pop(selected_index)\n",
    "            selection_probs.pop(selected_index)\n",
    "            \n",
    "    # case \"tournament\":\n",
    "    elif strategie == \"tournament\":\n",
    "        k = 2\n",
    "        selected = []\n",
    "        for i in range(n_selected):\n",
    "            while True:\n",
    "                tournament = random.sample(population, k)\n",
    "                tournament = [seq for seq in tournament if seq not in selected]\n",
    "                if tournament:\n",
    "                    break\n",
    "            fitness = [evaluate_sequence(seq, processing_times) for seq in tournament]\n",
    "            selected.append(tournament[fitness.index(min(fitness))])\n",
    "\n",
    "    return selected"
   ]
  },
  {
   "cell_type": "code",
   "execution_count": 22,
   "id": "5d992df0-2542-491d-be66-47014d550ef8",
   "metadata": {},
   "outputs": [],
   "source": [
    "def crossover_GA(p1, p2, points):\n",
    "    jobs = len(p1) - 1\n",
    "    # One points crossover\n",
    "    if points == 'ONE':\n",
    "        point = random.randint(0, jobs)\n",
    "        offspring1 = p1[:point] + p2[point:]\n",
    "        offspring2 = p2[:point] + p1[point:]\n",
    "        points = [point]\n",
    "    else: # Two Points crossover\n",
    "        point_1 = random.randint(0, jobs)\n",
    "        point_2 = random.randint(0, jobs)\n",
    "        if point_1 > point_2:\n",
    "            point_1, point_2 = point_2, point_1\n",
    "        offspring1 = p1[:point_1] + p2[point_1:point_2] + p1[point_2:]\n",
    "        offspring2 = p2[:point_1] + p1[point_1:point_2] + p2[point_2:]\n",
    "        points = [point_1, point_2]\n",
    "    # Remove duplicates and replace with genes from the other offspring\n",
    "    offspring1 = remove_duplicates_GA(offspring1, offspring2, points)\n",
    "    offspring2 = remove_duplicates_GA(offspring2, offspring1, points)\n",
    "    return offspring1, offspring2\n",
    "\n",
    "def remove_duplicates_GA(offspring, other_offspring, points):\n",
    "    jobs = len(offspring) - 1\n",
    "    check_points = len(points) > 1\n",
    "    while True:\n",
    "        duplicates = set([job for job in offspring if offspring.count(job) > 1])\n",
    "        if not duplicates:\n",
    "            break\n",
    "        for job in duplicates:\n",
    "            pos = [i for i, x in enumerate(offspring) if x == job]\n",
    "            if (check_points and ((pos[0] < points[0]) or (pos[0] >= points[1])) ) or  ( (pos[0] < points[0]) and not check_points):\n",
    "                dup = pos[0]\n",
    "                index = pos[1]\n",
    "            else:\n",
    "                dup = pos[1]\n",
    "                index = pos[0]\n",
    "\n",
    "            offspring[dup] = other_offspring[index]\n",
    "    return offspring"
   ]
  },
  {
   "cell_type": "code",
   "execution_count": 23,
   "id": "10608912-9c24-4268-8066-ddaac93f8ace",
   "metadata": {},
   "outputs": [],
   "source": [
    "def mutation_GA(sequence, mutation_rate):\n",
    "    num_jobs = len(sequence)\n",
    "    for i in range(num_jobs):\n",
    "        r = random.random()\n",
    "        if r < mutation_rate:\n",
    "            available_jobs = [j for j in range(num_jobs) if j != sequence[i]]\n",
    "            newjob = random.sample(available_jobs, 1)[0]\n",
    "            sequence[sequence.index(newjob)] = sequence[i]\n",
    "            sequence[i] = newjob\n",
    "    return sequence"
   ]
  },
  {
   "cell_type": "code",
   "execution_count": 24,
   "id": "b34efd75-47f6-4938-9f1c-cbbf7569f13f",
   "metadata": {},
   "outputs": [],
   "source": [
    "def genetic_algorithm(processing_times, init_pop, pop_size, select_pop_size, selection_method, cossover, mutation_probability, num_iterations):\n",
    "    # Init population generation\n",
    "    population = init_pop\n",
    "    best_seq = selection_GA(population, processing_times, 1, \"Elitism\")[0]\n",
    "    best_cost = evaluate_sequence(best_seq, processing_times)\n",
    "    for i in range(num_iterations):\n",
    "        # Selection\n",
    "        s = int(select_pop_size * pop_size) # number of selected individus to be parents (%)\n",
    "        parents = selection_GA(population, processing_times, s, selection_method)\n",
    "        # Crossover\n",
    "        new_generation = []\n",
    "        for _ in range(0, pop_size, 2):\n",
    "            parent1 = random.choice(parents)\n",
    "            parent2 = random.choice([p for p in parents if p != parent1])\n",
    "            child1, child2 = crossover_GA(parent1, parent2, cossover)\n",
    "            new_generation.append(child1)\n",
    "            new_generation.append(child2)\n",
    "\n",
    "        new_generation = new_generation[:pop_size]\n",
    "        # Mutation\n",
    "        for i in range(pop_size):\n",
    "            if random.uniform(0, 1) < mutation_probability:\n",
    "                new_generation[i] = mutation_GA(new_generation[i], mutation_probability)\n",
    "        # Replacement\n",
    "        population = new_generation\n",
    "\n",
    "        # checking for best seq in current population\n",
    "        best_seq_pop = selection_GA(population, processing_times, 1, \"Elitism\")[0]\n",
    "        best_cost_pop = evaluate_sequence(best_seq_pop, processing_times)\n",
    "        if best_cost_pop < best_cost:\n",
    "            best_seq = best_seq_pop.copy()\n",
    "            best_cost = best_cost_pop\n",
    "\n",
    "    return best_seq, best_cost   "
   ]
  },
  {
   "cell_type": "markdown",
   "id": "005edf8e-10ea-4118-8cd1-e48892842242",
   "metadata": {
    "jp-MarkdownHeadingCollapsed": true,
    "tags": []
   },
   "source": [
    "# Ant Colony Algorithm"
   ]
  },
  {
   "cell_type": "code",
   "execution_count": 26,
   "id": "89422677-38df-44cc-ba07-efe07e884397",
   "metadata": {},
   "outputs": [],
   "source": [
    "def distance(i, j, processing_times):\n",
    "    m = processing_times.shape[1]\n",
    "    max_delay = 0\n",
    "    for k in range(2, m):\n",
    "        delay = np.sum(processing_times[i,1:k]) - np.sum(processing_times[j,1:k-1])\n",
    "        if delay > max_delay:\n",
    "            max_delay = delay\n",
    "    return (processing_times[i, 0] + max(0, max_delay))\n",
    "\n",
    "def ant_colony_optimization(num_ants, num_iterations, alpha, beta, evaporation_rate, Q, tau0, q0, processing_times):\n",
    "    num_jobs = processing_times.shape[0]\n",
    "    tau = np.ones((num_jobs, num_jobs)) * tau0\n",
    "    best_schedule = None\n",
    "    best_makespan = np.inf\n",
    "    \n",
    "    # visibility\n",
    "    heuristic_values = np.array([ [1/distance(i, j, processing_times) if j != i else 0 for j in range(num_jobs)] for i in range(num_jobs)])\n",
    "    for iteration in range(num_iterations): \n",
    "        sequences = []\n",
    "        for ant in range(num_ants):\n",
    "            current_job = np.random.randint(num_jobs)\n",
    "            current_sequence = [current_job] \n",
    "            for job in range(num_jobs-1):\n",
    "                unscheduled = [j for j in range(num_jobs) if j not in current_sequence]\n",
    "                probabilities = np.zeros(len(unscheduled))\n",
    "                \n",
    "                for i, unscheduled_job in enumerate(unscheduled):\n",
    "                    probabilities[i] = (tau[current_job, unscheduled_job]**alpha) * (heuristic_values[current_job, unscheduled_job]**beta)\n",
    "                \n",
    "                probabilities /= np.sum(probabilities)\n",
    "                \n",
    "                # pseudo-random-proportional\n",
    "                q = random.random()\n",
    "                if q < q0: # exploitation : choose the best\n",
    "                    next_job = unscheduled[np.where( probabilities == np.max(probabilities))[0][0]]\n",
    "                else: # exploration\n",
    "                    next_job = np.random.choice(unscheduled, p=probabilities)\n",
    "                    \n",
    "                current_sequence.append(next_job)\n",
    "                current_point = next_job\n",
    "            \n",
    "            makespan = evaluate_sequence(current_sequence, processing_times)\n",
    "            sequences.append((current_sequence, makespan))\n",
    "            \n",
    "            if makespan < best_makespan:\n",
    "                best_makespan = makespan\n",
    "                best_schedule = current_sequence.copy()\n",
    "        \n",
    "        pheromone_delta =  np.zeros((num_jobs, num_jobs))\n",
    "        for ant in range(num_ants):\n",
    "            seq, ev = sequences[ant]\n",
    "            for j in range(num_jobs-1):\n",
    "                pheromone_delta[seq[j], seq[j+1]] += Q / ev\n",
    "                             \n",
    "        # Update pheromone  \n",
    "        tau = tau * evaporation_rate + pheromone_delta\n",
    "    \n",
    "    return best_schedule, best_makespan"
   ]
  },
  {
   "cell_type": "markdown",
   "id": "4479c7f1",
   "metadata": {
    "jp-MarkdownHeadingCollapsed": true,
    "tags": []
   },
   "source": [
    "# Greedy NEH"
   ]
  },
  {
   "cell_type": "markdown",
   "id": "357a8cb3-38d9-4c49-8f72-cb1b3f098b5f",
   "metadata": {},
   "source": [
    "At each step of the NEH method, instead of getting the best partial solution as the original NEH dictates, one out of the best five partial solutions is randomly chosen with equal probabilities. This way, high-quality individuals, yet different from each other, can be generated."
   ]
  },
  {
   "cell_type": "code",
   "execution_count": 27,
   "id": "0358a9df",
   "metadata": {},
   "outputs": [],
   "source": [
    "def greedy_neh_algorithm(processing_times, num_candidates, num_iterations):\n",
    "    n = len(processing_times)\n",
    "    ordered_sequence = order_jobs_in_descending_order_of_total_completion_time(processing_times)\n",
    "    best_sequence = []\n",
    "    best_cmax = float('inf')\n",
    "    for i in range(num_iterations):\n",
    "        partial_sequence = [ordered_sequence[0]]\n",
    "        for k in range(1, n):\n",
    "            candidates = []\n",
    "            for job in ordered_sequence:\n",
    "                if job not in partial_sequence:\n",
    "                    for i in range(k+1):\n",
    "                        candidate_sequence = insertion(partial_sequence, i, job)\n",
    "                        candidate_cmax = evaluate_sequence(candidate_sequence, processing_times)\n",
    "                        candidates.append((candidate_sequence, candidate_cmax))\n",
    "            candidates.sort(key=lambda x: x[1])\n",
    "            partial_sequence, cmax = random.choice(candidates[:num_candidates])\n",
    "        if cmax < best_cmax:\n",
    "                best_sequence = partial_sequence\n",
    "                best_cmax = cmax\n",
    "        ordered_sequence.append(ordered_sequence.pop(0))\n",
    "    return best_sequence, best_cmax"
   ]
  },
  {
   "cell_type": "markdown",
   "id": "ce6f9506",
   "metadata": {},
   "source": [
    "We implement a second GRNEH that does not include the notion of iteration, which ultimately provides a solution that approaches optimality, in order to use it in population generation later."
   ]
  },
  {
   "cell_type": "code",
   "execution_count": 28,
   "id": "d12ddd1b",
   "metadata": {},
   "outputs": [],
   "source": [
    "def GRNEH(processing_times, num_candidates):\n",
    "    n = len(processing_times)\n",
    "    ordered_sequence = order_jobs_in_descending_order_of_total_completion_time(processing_times)\n",
    "    partial_sequence = [ordered_sequence[0]]\n",
    "    for k in range(1, n):\n",
    "        candidates = []\n",
    "        for job in ordered_sequence:\n",
    "            if job not in partial_sequence:\n",
    "                for i in range(k+1):\n",
    "                    candidate_sequence = insertion(partial_sequence, i, job)\n",
    "                    candidate_cmax = evaluate_sequence(candidate_sequence, processing_times)\n",
    "                    candidates.append((candidate_sequence, candidate_cmax))\n",
    "        candidates.sort(key=lambda x: x[1])\n",
    "        partial_sequence, cmax = random.choice(candidates[:num_candidates])\n",
    "    return partial_sequence, cmax"
   ]
  },
  {
   "cell_type": "markdown",
   "id": "a59bd143-d4b3-4c1c-a257-f9f569827d98",
   "metadata": {
    "tags": []
   },
   "source": [
    "# Hybrid GA with VNS"
   ]
  },
  {
   "cell_type": "markdown",
   "id": "55270c19-43d9-4164-ab4e-195546d54715",
   "metadata": {},
   "source": [
    "Below is a schematic representation illustrating the hybridization process of Variable Neighborhood Search (VNS) and Genetic Algorithm (GA):\n",
    "![Image description](Assets/hybrid.png)"
   ]
  },
  {
   "cell_type": "markdown",
   "id": "40507edc",
   "metadata": {
    "tags": []
   },
   "source": [
    "## Generating an initial population"
   ]
  },
  {
   "cell_type": "markdown",
   "id": "5f4151d1-1c29-4a16-9f4f-c8ac5d057e18",
   "metadata": {},
   "source": [
    "For our genetic algorithm, we implement a function to generate the initial population.\n",
    "- **5** sequences generated by our heuristics\n",
    "- **(a% * population size) - 5** sequences generated by GRNEH\n",
    "- **(100 - a%) * population size** sequences generated randomly.\n",
    "\n",
    "The article *Minimizing makespan in permutation flow shop scheduling problems using a hybrid metaheuristic algorithm* by **Zobolas et al** explains that the higher the value of a, the better the makespan of the final solution improves, but the longer the algorithm takes to converge."
   ]
  },
  {
   "cell_type": "code",
   "execution_count": 29,
   "id": "3e998849",
   "metadata": {},
   "outputs": [],
   "source": [
    "def init_pop(processing_times, pop_size, a):\n",
    "    \n",
    "    #Les individus stockeront la séquence ( solution ), le makespan et un compteur c qui va déterminé si une solution est agée ou non\n",
    "    population = []\n",
    "    #Heuristics\n",
    "    sol, cmax = neh_algorithm(processing_times)\n",
    "    population.append(( sol, cmax ,0))\n",
    "    sol, cmax = CDS_heuristic(processing_times)\n",
    "    population.append(( sol, cmax ,0))\n",
    "    sol=palmer_heuristic(processing_times)\n",
    "    population.append((sol, evaluate_sequence(sol, processing_times),0))\n",
    "    sol, cmax = artificial_heuristic(processing_times)\n",
    "    population.append(( sol, cmax ,0))\n",
    "    sol = gupta_heuristic(processing_times)\n",
    "    population.append((sol, evaluate_sequence(sol, processing_times),0))\n",
    "    \n",
    "    #GRNEH\n",
    "    for i in range(int(a*pop_size) - 5 ):\n",
    "        sol, cmax = GRNEH(processing_times, 5)\n",
    "        population.append(( sol, cmax ,0))\n",
    "    \n",
    "    #Random\n",
    "    for i in range (int((1-a)*pop_size)):\n",
    "        sol = np.random.permutation(processing_times.shape[0]).tolist() \n",
    "        population.append((sol, evaluate_sequence(sol, processing_times),0))\n",
    "    \n",
    "    return population"
   ]
  },
  {
   "cell_type": "markdown",
   "id": "96d64a7f",
   "metadata": {
    "tags": []
   },
   "source": [
    "## Population improvement via GA"
   ]
  },
  {
   "cell_type": "markdown",
   "id": "0f7480cf",
   "metadata": {
    "tags": []
   },
   "source": [
    "### Parents selection\n",
    "To test our algorithm, we implemented four parent selection strategies, but we will use Tournament below because our algorithm includes an intensification phase, and the selection operator must ensure diversification"
   ]
  },
  {
   "cell_type": "code",
   "execution_count": 30,
   "id": "03eb2bf2",
   "metadata": {},
   "outputs": [],
   "source": [
    "def selection(population, processing_times, n_selected, strategie):\n",
    "    # case \"roulette\":\n",
    "    if strategie == \"roulette\":\n",
    "        fitness = [evaluate_sequence(seq, processing_times) for seq in population]\n",
    "        fitness_sum = sum(fitness)\n",
    "        selection_probs = [fitness[i]/fitness_sum for i in range(len(population))]\n",
    "        cum_probs = [sum(selection_probs[:i+1]) for i in range(len(population))]\n",
    "        selected = []\n",
    "        for i in range(n_selected):\n",
    "            while True:\n",
    "                rand = random.random()\n",
    "                for j, cum_prob in enumerate(cum_probs):\n",
    "                    if rand < cum_prob:\n",
    "                        break\n",
    "                if population[j] not in selected:\n",
    "                    selected.append(population[j])\n",
    "                    break\n",
    "    # case \"Elitism\":\n",
    "    elif strategie == \"Elitism\":\n",
    "        fitness = [evaluate_sequence(seq, processing_times) for seq in population]\n",
    "        sorted_population = [x for x, _ in sorted(zip(population, fitness), key=lambda pair: pair[1], reverse=False)]\n",
    "        selected = sorted_population[:n_selected]\n",
    "\n",
    "    # case \"rank\":\n",
    "    elif strategie == \"rank\":\n",
    "        fitness = [evaluate_sequence(seq, processing_times) for seq in population]\n",
    "        sorted_population = sorted(population, key = lambda x: fitness[population.index(x)])\n",
    "        fitness_sum = sum(i+1 for i in range(len(sorted_population)))\n",
    "        selection_probs = [(len(sorted_population)-i)/fitness_sum for i in range(len(sorted_population))]\n",
    "        selected = []\n",
    "        for i in range(n_selected):\n",
    "            selected_index = random.choices(range(len(sorted_population)), weights=selection_probs)[0]\n",
    "            selected.append(sorted_population[selected_index])\n",
    "            sorted_population.pop(selected_index)\n",
    "            selection_probs.pop(selected_index)\n",
    "            \n",
    "    # case \"tournament\":\n",
    "    elif strategie == \"tournament\":\n",
    "        #a random number of solutions is selected at first, ranging from 3 to 10.\n",
    "        k = random.randint(3, 10)\n",
    "        selected = []\n",
    "        for i in range(n_selected):\n",
    "            while True:\n",
    "                tournament = random.sample(population, k)\n",
    "                tournament = [seq for seq in tournament if seq not in selected]\n",
    "                if tournament:\n",
    "                    break\n",
    "            selected.append(min(tournament, key=lambda x: x[1]))\n",
    "\n",
    "    return selected"
   ]
  },
  {
   "cell_type": "markdown",
   "id": "13a71983",
   "metadata": {
    "tags": []
   },
   "source": [
    "### Crossing of parents\n",
    "In the article *Genetic algorithms for flowshop scheduling problems. Computers and Industrial Engineering* by **Murata T, Ishibuchi H, Tanaka H**, it was found that the best crossover operator for PFSP (Permutation Flowshop Scheduling Problems) is the **two-point crossover version I**."
   ]
  },
  {
   "cell_type": "code",
   "execution_count": 31,
   "id": "48f2c9c1",
   "metadata": {},
   "outputs": [],
   "source": [
    "def tp_crossover(parent1, parent2, processing_times):\n",
    "    jobs = len(processing_times) - 1\n",
    "    point1 = random.randint(0, jobs)\n",
    "    point2 = random.randint(0, jobs)\n",
    "    \n",
    "    while point1 == point2 or point1 == (point2-1) or (point1 == point2+1) : \n",
    "        point2 = random.randint(0, jobs)\n",
    "        \n",
    "    if point1 > point2:\n",
    "        point1, point2 = point2, point1\n",
    "\n",
    "    # Create offspring as copies of parents\n",
    "    offspring1 = parent1[0].copy()\n",
    "    offspring2 = parent2[0].copy()\n",
    "\n",
    "     # Set the segment between point1 and point2 to empty in offspring1\n",
    "    offspring1[point1:point2] = [None] * (point2 - point1)\n",
    "\n",
    "     # Set the segment between point1 and point2 to empty in offspring2\n",
    "    offspring2[point1:point2] = [None] * (point2 - point1)\n",
    "    \n",
    "    # Remove duplicates from offspring1 and copy remaining genes from parent2\n",
    "    for gene in parent2[0]:\n",
    "         if gene not in offspring1:\n",
    "            offspring1[offspring1.index(None)] = gene\n",
    "            \n",
    "    # Remove duplicates from offspring2 and copy remaining genes from parent1\n",
    "    for gene in parent1[0]:\n",
    "         if gene not in offspring2:\n",
    "            offspring2[offspring2.index(None)] = gene\n",
    "    \n",
    "    return offspring1, offspring2"
   ]
  },
  {
   "cell_type": "markdown",
   "id": "3a4f313e",
   "metadata": {
    "tags": []
   },
   "source": [
    "### Mutation of offspring\n",
    "Both articles, **Ruiz R, Maroto C, Alcaraz J.**: *Two new robust genetic algorithms for the flowshop scheduling problem. Omega—International Journal of Management Science* and *Computers and Industrial Engineering* by **Murata T, Ishibuchi H, Tanaka H.**, have shown that the best operator for PFSP is a shift mutation, which means a random insertion."
   ]
  },
  {
   "cell_type": "code",
   "execution_count": 32,
   "id": "480351b3",
   "metadata": {},
   "outputs": [],
   "source": [
    "def random_insertion(solution, processing_times):\n",
    "    # This function consists of choosing random two indices, i and k.\n",
    "    # Remove the element at indice i, and insert it in the position k.\n",
    "    i = np.random.choice(list(solution))\n",
    "    k = np.random.choice(list(solution))\n",
    "    while (i == k):\n",
    "        k = np.random.choice(list(solution))\n",
    "    neighbor = solution.copy()\n",
    "    neighbor.remove(solution[i])\n",
    "    neighbor.insert(k, solution[i])\n",
    "    return neighbor, evaluate_sequence(neighbor, processing_times)"
   ]
  },
  {
   "cell_type": "markdown",
   "id": "724b2200",
   "metadata": {
    "tags": []
   },
   "source": [
    "### Updating the population\n",
    "The best performing offspring are included in the new population because, according to **Ruiz R, Maroto C, and Alcaraz J.**, this selection performs better than directly replacing parents. Therefore, we replace the worst individuals in the population with the best unique offspring. In order to avoid premature convergence, we only accept a new solution in a population if it is not already present in the population."
   ]
  },
  {
   "cell_type": "code",
   "execution_count": 33,
   "id": "93465842",
   "metadata": {},
   "outputs": [],
   "source": [
    "def sol_unique(population, solution): \n",
    "    for p in population:\n",
    "        if p[0] == solution:\n",
    "            return False\n",
    "    return True\n",
    "\n",
    "def replace_sol(population, old_sol, new_sol):\n",
    "    for i in range(len(population)):\n",
    "        if (population[i] == old_sol):\n",
    "            population[i] = new_sol\n",
    "            return\n",
    "    return  \n",
    "\n",
    "def replace_with_offspring(population, offspring):\n",
    "    #Vérifier que l'offspring n'existe pas déjà dans la population\n",
    "    if (sol_unique(population, offspring[0])==False): \n",
    "        return\n",
    "\n",
    "    #Si il est unique, on prend le pire individu de la population courante\n",
    "    worst_ind = max(population, key=lambda x: x[1])\n",
    "    if worst_ind[1] > offspring[1]:\n",
    "        replace_sol(population, worst_ind, offspring)\n",
    "        \n",
    "    return  "
   ]
  },
  {
   "cell_type": "markdown",
   "id": "6eaffb8b-7fe0-412e-ad83-d237f6f85ded",
   "metadata": {
    "tags": []
   },
   "source": [
    "## Complete genetic algorithm"
   ]
  },
  {
   "cell_type": "code",
   "execution_count": 34,
   "id": "5c2ed231",
   "metadata": {},
   "outputs": [],
   "source": [
    "def AG(population, processing_times):\n",
    "    children = []\n",
    "    #génération des enfants\n",
    "    for i in range(int(len(population)/2)):\n",
    "        mating_pool = selection(population, processing_times, 2, \"tournament\")\n",
    "        os1, os2 = tp_crossover(mating_pool[0], mating_pool[1], processing_times)\n",
    "        os1, fit1 = random_insertion(os1, processing_times)\n",
    "        os2, fit2 = random_insertion(os2, processing_times)\n",
    "        children.append((os1, fit1, 0))\n",
    "        children.append((os2, fit2, 0))\n",
    "   \n",
    "    #remplacement dans la population\n",
    "    for child in children: \n",
    "        replace_with_offspring(population, child)\n",
    "    return"
   ]
  },
  {
   "cell_type": "markdown",
   "id": "e1d1b18e",
   "metadata": {
    "tags": []
   },
   "source": [
    "## Intensification\n",
    "At this stage, we apply a VNS local search on a selected sub-population to complement the genetic algorithm"
   ]
  },
  {
   "cell_type": "markdown",
   "id": "063b8529",
   "metadata": {},
   "source": [
    "### VNS operators \n",
    "The main idea behind intensification here is that simpler neighborhood structures should be explored first (i.e., random swap and random insertion) before moving on to more complex ones (i.e., 2-opt and or-opt)."
   ]
  },
  {
   "cell_type": "code",
   "execution_count": 35,
   "id": "c8667cf5",
   "metadata": {},
   "outputs": [],
   "source": [
    "def swap(solution, i, k):\n",
    "    temp = solution[k]\n",
    "    solution[k] = solution[i]\n",
    "    solution[i] = temp\n",
    "    return solution"
   ]
  },
  {
   "cell_type": "code",
   "execution_count": 36,
   "id": "144d278d",
   "metadata": {},
   "outputs": [],
   "source": [
    "def random_swap(solution, processing_times):\n",
    "    i = np.random.choice(list(solution))\n",
    "    k = np.random.choice(list(solution))\n",
    "    # Generating two different random positions\n",
    "    while (i == k):\n",
    "        k = np.random.choice(list(solution))\n",
    "    # Switch between job i and job k in the given sequence\n",
    "    neighbor = solution.copy()\n",
    "    return swap(neighbor, i, k), evaluate_sequence(neighbor, processing_times)"
   ]
  },
  {
   "cell_type": "code",
   "execution_count": 37,
   "id": "1e1c5878",
   "metadata": {},
   "outputs": [],
   "source": [
    "def or_opt(solution, lenInterv, processing_times): \n",
    "    num_jobs = len(processing_times)\n",
    "    \n",
    "    # [i,j] les positions respectives des éléments à déplacer dans la séquence de la solution\n",
    "    i = random.randint(0, num_jobs - lenInterv)\n",
    "    j = i + lenInterv\n",
    "        \n",
    "    #sélectionner k, la position où insérer la séquence déplacée\n",
    "    k = random.randint(0, num_jobs-1)\n",
    "\n",
    "    neighbor = solution.copy()\n",
    "    # Extraire la séquence entre i et j\n",
    "    seq = neighbor[i:j+1]\n",
    "    \n",
    "    # Retirer la séquence de la solution\n",
    "    neighbor = neighbor[:i] + neighbor[j+1:]\n",
    "    \n",
    "    # Insérer la séquence après k\n",
    "    neighbor = neighbor[:k+1] + seq + neighbor[k+1:]\n",
    "    \n",
    "    return neighbor, evaluate_sequence(neighbor, processing_times)"
   ]
  },
  {
   "cell_type": "code",
   "execution_count": 38,
   "id": "274b032e",
   "metadata": {},
   "outputs": [],
   "source": [
    "def two_opt(solution, lenInterv, processing_times):\n",
    "    \n",
    "    num_jobs = len(processing_times)\n",
    "    # [i,j] les positions respectives des éléments à déplacer dans la séquence de la solution\n",
    "    i = random.randint(0, num_jobs - lenInterv)\n",
    "    j = i + lenInterv\n",
    "    \n",
    "    #sélectionner k, la position où insérer la séquence déplacée\n",
    "    k = random.randint(0, num_jobs-1)\n",
    "    \n",
    "    neighbor = solution.copy()\n",
    "    # Extraire la séquence entre i et j et l'inverser\n",
    "    seq = list(reversed(neighbor[i:j+1]))\n",
    "    \n",
    "    # Retirer la séquence de la solution\n",
    "    neighbor = neighbor[:i] + neighbor[j+1:]\n",
    "\n",
    "    # Insérer la séquence après k\n",
    "    neighbor = neighbor[:k+1] + seq + neighbor[k+1:]\n",
    "    \n",
    "    return neighbor, evaluate_sequence(neighbor, processing_times)"
   ]
  },
  {
   "cell_type": "markdown",
   "id": "7090cfd3",
   "metadata": {},
   "source": [
    "### Perturbation function\n",
    "This function performs a random perturbation on a list by exchanging the elements of k adjacent positions."
   ]
  },
  {
   "cell_type": "code",
   "execution_count": 39,
   "id": "bcbfaf46",
   "metadata": {},
   "outputs": [],
   "source": [
    "# solution: la liste à perturber\n",
    "# k: le nombre de positions adjacentes à échanger\n",
    "\n",
    "def shake(solution, k):\n",
    "    n = len(solution)\n",
    "    # Si k supérieur à la longueur de la liste, alors on crée des perturbations sur tous les éléments.\n",
    "    indices = random.sample(range(n), min(k, n-1))\n",
    "    indices.sort()\n",
    "    neighbor = solution.copy()\n",
    "    for i in indices:\n",
    "        j = (i+k) % n\n",
    "        neighbor[i], neighbor[j] = neighbor[j], neighbor[i]\n",
    "    return neighbor"
   ]
  },
  {
   "cell_type": "code",
   "execution_count": 40,
   "id": "2aa6e81b",
   "metadata": {},
   "outputs": [],
   "source": [
    "def intensification(population, processing_times):\n",
    "    \n",
    "    #On commence par sélectionner la sous-population sur laquelle on appliquera l'intensification    \n",
    "    #La taille de la sous_pop est égale au nombre de jobs. \n",
    "    num_jobs = len(processing_times)\n",
    "    \n",
    "    #La moitié de la sous-population est représentée par les meilleurs solutions.\n",
    "    population.sort(key=lambda x: x[1])\n",
    "    sous_pop = population[:int(num_jobs/2)]\n",
    "    \n",
    "    #l'autre moitié sera choisie au hasard\n",
    "    choix = population[int(num_jobs/2):]\n",
    "    seq = random.sample(choix, int(num_jobs/2))\n",
    "    sous_pop = sous_pop + seq\n",
    "\n",
    "    \n",
    "    #Maintenant nous allons appliquer un VNS sur chacune des populations résultantes\n",
    "    for S in sous_pop:\n",
    "        #Si la solution est considérée comme ancienne, nous la remplaçons par une solution gérérée par GRNEH sans itérations\n",
    "        #Sauf pour la meilleure solution courrante\n",
    "        if (S[2]>=8): \n",
    "            if (S != min(population, key=lambda x: x[1])):\n",
    "                sol, cmax = GRNEH(processing_times, 5)\n",
    "                B = (sol, cmax, 0)\n",
    "                while (sol_unique(population, B[0])==False): \n",
    "                    B = (shake(B[0], 1), evaluate_sequence(B[0], processing_times), 0)\n",
    "                replace_sol ( population, S, B)\n",
    "        \n",
    "        else:\n",
    "            #B va stocker l'optimum local trouvé par VNS\n",
    "            B = S \n",
    "                \n",
    "            if ( 4 <= S[2] < 8 ):\n",
    "                B = ( shake(B[0], 2), evaluate_sequence(B[0], processing_times), B[2])\n",
    "        \n",
    "            for loop in range ( (num_jobs)*(num_jobs-1) ):\n",
    "                if (S[2]== 0 or S[2]== 4): \n",
    "                    sol, cmax = random_swap(B[0], processing_times)\n",
    "                    ST = (sol, cmax, 0)\n",
    "                if (S[2]== 1 or S[2]== 5):\n",
    "                    sol, cmax = random_insertion(B[0], processing_times)\n",
    "                    ST = (sol, cmax, 0)\n",
    "                if (S[2]== 2 or S[2]== 6): \n",
    "                    sol, cmax = or_opt(B[0], 3, processing_times)\n",
    "                    ST = (sol, cmax, 0)\n",
    "                if (S[2]== 3 or S[2]== 7):\n",
    "                    sol, cmax = two_opt(B[0], 3, processing_times)\n",
    "                    ST = (sol, cmax, 0)\n",
    "                if ( ST[1] <= B[1] ): \n",
    "                    B = ST\n",
    "         \n",
    "        #Si l'optimum local retournée par VNS améliore la solution i, alors on vérifie qu'il est unique puis on remplace\n",
    "        #OBSERVATION : Si on met <=, on aura toujours des remplacement et bcp de solution semblable\n",
    "            if ( B[1] < S[1] ): \n",
    "                if (sol_unique(population, B[0])): \n",
    "                    replace_sol ( population, S, B)\n",
    "\n",
    "                else:\n",
    "                    replace_sol ( population, S, (S[0], S[1], S[2]+1))        \n",
    "\n",
    "            else: \n",
    "                replace_sol ( population, S, (S[0], S[1], S[2]+1))        \n",
    "    \n",
    "    best_indiv = min(population, key=lambda x: x[1])\n",
    "    \n",
    "    return best_indiv[0], best_indiv[1]"
   ]
  },
  {
   "cell_type": "code",
   "execution_count": 41,
   "id": "f2c626d1",
   "metadata": {},
   "outputs": [],
   "source": [
    "def NEGA(population, processing_times, num_iterations):\n",
    "    for i in range(num_iterations):\n",
    "        AG(population, processing_times)\n",
    "        best_sol, best_fitness = intensification(population, processing_times)\n",
    "    return best_sol, best_fitness"
   ]
  },
  {
   "cell_type": "markdown",
   "id": "71c4641d",
   "metadata": {
    "tags": []
   },
   "source": [
    "# Tests on Taillard instances"
   ]
  },
  {
   "cell_type": "markdown",
   "id": "944ec674-2f7e-437a-9579-019c5ae406c3",
   "metadata": {
    "tags": []
   },
   "source": [
    "## Reading Taillard instances"
   ]
  },
  {
   "cell_type": "code",
   "execution_count": 42,
   "id": "9239f107",
   "metadata": {},
   "outputs": [
    {
     "name": "stdout",
     "output_type": "stream",
     "text": [
      "Taillard, 20 jobs 5 machines contains 10 benchmark.\n"
     ]
    }
   ],
   "source": [
    "# Open the file that contains the instances\n",
    "file = open(\"Benchmarks/tai20_5.txt\", \"r\")\n",
    "\n",
    "# Read the file line by line to retrieve the instances\n",
    "n = 0\n",
    "instances_20_5 = [[]]\n",
    "line = file.readline()\n",
    "\n",
    "while line:\n",
    "    if line != '\\n':\n",
    "        line = line.strip(' ')\n",
    "        line = line[:-1]\n",
    "        line = line.split()\n",
    "        line = [int(num) for num in line]\n",
    "        instances_20_5[n].append(line)\n",
    "    else:\n",
    "        instances_20_5.append([])\n",
    "        n += 1\n",
    "    line = file.readline()\n",
    "    \n",
    "print(f'Taillard, 20 jobs 5 machines contains {len(instances_20_5)} benchmark.')  "
   ]
  },
  {
   "cell_type": "code",
   "execution_count": 43,
   "id": "28d4b09e-cf2b-4746-90b1-8e961c48fb9c",
   "metadata": {},
   "outputs": [],
   "source": [
    "instance_20_5_0 = np.array(instances_20_5[0])\n",
    "instance_20_5_0 = instance_20_5_0.T"
   ]
  },
  {
   "cell_type": "code",
   "execution_count": 44,
   "id": "b10a16e3-f6c0-46dd-b8c3-584fceb61b09",
   "metadata": {},
   "outputs": [],
   "source": [
    "instance_20_5_1 = np.array(instances_20_5[1])\n",
    "instance_20_5_1 = instance_20_5_1.T"
   ]
  },
  {
   "cell_type": "code",
   "execution_count": 45,
   "id": "1fa9c486-b759-4169-b4e5-c51f29191c4b",
   "metadata": {},
   "outputs": [],
   "source": [
    "instance_20_5_4 = np.array(instances_20_5[4])\n",
    "instance_20_5_4 = instance_20_5_4.T"
   ]
  },
  {
   "cell_type": "code",
   "execution_count": 46,
   "id": "ecae04e1-dec7-4e6b-b095-be1c1f570e6b",
   "metadata": {},
   "outputs": [],
   "source": [
    "instance_20_5_6 = np.array(instances_20_5[6])\n",
    "instance_20_5_6 = instance_20_5_6.T"
   ]
  },
  {
   "cell_type": "code",
   "execution_count": 47,
   "id": "5c95544f-df3e-4120-821b-4726ea9bb9c9",
   "metadata": {},
   "outputs": [],
   "source": [
    "instance_common = np.array([\n",
    "    [71, 79, 85, 82, 83], \n",
    "    [84, 71, 66, 68, 81],\n",
    "    [78, 81, 75, 72, 87],\n",
    "    [78, 75, 66, 72, 88],\n",
    "    [72, 88, 83, 85, 88],\n",
    "    [86, 88, 79, 82, 78],\n",
    "    [75, 66, 86, 78, 78],\n",
    "    [80, 79, 66, 83, 78],\n",
    "    [73, 73, 67, 77, 71],\n",
    "    [80, 77, 83, 78, 67],\n",
    "])"
   ]
  },
  {
   "cell_type": "code",
   "execution_count": 51,
   "id": "8ab536f3-9207-4a93-acc8-74136f8b8277",
   "metadata": {},
   "outputs": [],
   "source": [
    "Hybrid = ['Hybrid Algorithm']\n",
    "GA = ['Genetic Algorithm']\n",
    "ACO = ['Ant colony']\n",
    "NEH = ['NEH']\n",
    "GNEH = ['Greedy NEH']\n",
    "AH = ['Artificial heuristic']\n",
    "VNS = ['VNS']"
   ]
  },
  {
   "cell_type": "markdown",
   "id": "895125c1-21fd-4f4d-9c51-24f6f0b9f384",
   "metadata": {
    "tags": []
   },
   "source": [
    "## Hybrid GA and VNS Algorithm"
   ]
  },
  {
   "cell_type": "markdown",
   "id": "e55fa759-a01d-456f-8ac8-57e65c619163",
   "metadata": {
    "tags": []
   },
   "source": [
    "### Common instance"
   ]
  },
  {
   "cell_type": "code",
   "execution_count": 52,
   "id": "1f65f3bd-013c-422c-b3f7-7105490f6bd1",
   "metadata": {},
   "outputs": [
    {
     "name": "stdout",
     "output_type": "stream",
     "text": [
      "Solution: [3, 6, 2, 0, 8, 1, 4, 7, 5, 9].\n",
      "\n",
      "Cmax: 1104.0\n",
      "\n",
      "Elapsed time:  0.5044906139373779 seconds\n"
     ]
    }
   ],
   "source": [
    "popul = init_pop(instance_common, 50, 0.5)\n",
    "start_time = time.time()\n",
    "Best_solution, Best_makespan = NEGA(popul, instance_common, 5)\n",
    "elapsed_time = time.time() - start_time\n",
    "\n",
    "print(f'Solution: {Best_solution}.')\n",
    "print(f'\\nCmax: {Best_makespan}')\n",
    "print(\"\\nElapsed time: \", elapsed_time, \"seconds\")\n",
    "\n",
    "Hybrid.append(\"%.3f\" % (Best_makespan))\n",
    "Hybrid.append(\" %.3fs\" % (elapsed_time))"
   ]
  },
  {
   "cell_type": "markdown",
   "id": "5d64fd3f-2775-4fc2-934c-cf62ba2cac8a",
   "metadata": {
    "jp-MarkdownHeadingCollapsed": true,
    "tags": []
   },
   "source": [
    "### First instance of the 20_5 benchmark"
   ]
  },
  {
   "cell_type": "code",
   "execution_count": 54,
   "id": "32c6ea93",
   "metadata": {},
   "outputs": [
    {
     "name": "stdout",
     "output_type": "stream",
     "text": [
      "Solution: [8, 14, 16, 13, 2, 5, 4, 6, 7, 15, 10, 12, 17, 3, 1, 18, 0, 9, 19, 11].\n",
      "\n",
      "Cmax: 1278.0\n",
      "\n",
      "Elapsed time:  7.04775595664978 seconds\n"
     ]
    }
   ],
   "source": [
    "popul = init_pop(instance_20_5_0, 50, 0.5)\n",
    "start_time = time.time()\n",
    "Best_solution, Best_makespan = NEGA(popul, instance_20_5_0, 5)\n",
    "elapsed_time = time.time() - start_time\n",
    "\n",
    "print(f'Solution: {Best_solution}.')\n",
    "print(f'\\nCmax: {Best_makespan}')\n",
    "print(\"\\nElapsed time: \", elapsed_time, \"seconds\")\n",
    "\n",
    "Hybrid.append(\"%.3f\" % (Best_makespan))\n",
    "Hybrid.append(\" %.3fs\" % (elapsed_time))"
   ]
  },
  {
   "cell_type": "markdown",
   "id": "a9ea2b7b-8a71-45b4-a8f8-a51e1c05e0bd",
   "metadata": {
    "jp-MarkdownHeadingCollapsed": true,
    "tags": []
   },
   "source": [
    "### Second instance of the 20_5 benchmark"
   ]
  },
  {
   "cell_type": "code",
   "execution_count": 57,
   "id": "d2ee3377",
   "metadata": {},
   "outputs": [
    {
     "name": "stdout",
     "output_type": "stream",
     "text": [
      "Solution: [5, 9, 16, 6, 2, 18, 14, 0, 13, 15, 8, 17, 19, 10, 4, 7, 11, 12, 3, 1].\n",
      "\n",
      "Cmax: 1359.0\n",
      "\n",
      "Elapsed time:  9.15480661392212 seconds\n"
     ]
    }
   ],
   "source": [
    "popul = init_pop(instance_20_5_1, 50, 0.5)\n",
    "start_time = time.time()\n",
    "Best_solution, Best_makespan = NEGA(popul, instance_20_5_1, 6)\n",
    "elapsed_time = time.time() - start_time\n",
    "\n",
    "print(f'Solution: {Best_solution}.')\n",
    "print(f'\\nCmax: {Best_makespan}')\n",
    "print(\"\\nElapsed time: \", elapsed_time, \"seconds\")\n",
    "\n",
    "Hybrid.append(\"%.3f\" % (Best_makespan))\n",
    "Hybrid.append(\" %.3fs\" % (elapsed_time))"
   ]
  },
  {
   "cell_type": "markdown",
   "id": "c834bacc-1394-465a-8ba4-7fad2fd3b951",
   "metadata": {
    "jp-MarkdownHeadingCollapsed": true,
    "tags": []
   },
   "source": [
    "### Fifth instance of the 20_5 benchmark"
   ]
  },
  {
   "cell_type": "code",
   "execution_count": 58,
   "id": "93794518",
   "metadata": {},
   "outputs": [
    {
     "name": "stdout",
     "output_type": "stream",
     "text": [
      "Solution: [11, 3, 9, 16, 18, 8, 4, 2, 15, 1, 12, 5, 10, 14, 13, 6, 17, 0, 19, 7].\n",
      "\n",
      "Cmax: 1235.0\n",
      "\n",
      "Elapsed time:  7.585740089416504 seconds\n"
     ]
    }
   ],
   "source": [
    "popul = init_pop(instance_20_5_4, 50, 0.5)\n",
    "start_time = time.time()\n",
    "Best_solution, Best_makespan = NEGA(popul, instance_20_5_4, 5)\n",
    "elapsed_time = time.time() - start_time\n",
    "\n",
    "print(f'Solution: {Best_solution}.')\n",
    "print(f'\\nCmax: {Best_makespan}')\n",
    "print(\"\\nElapsed time: \", elapsed_time, \"seconds\")\n",
    "\n",
    "Hybrid.append(\"%.3f\" % (Best_makespan))\n",
    "Hybrid.append(\" %.3fs\" % (elapsed_time))"
   ]
  },
  {
   "cell_type": "markdown",
   "id": "36cd2adb-39c6-4fc3-952e-1aca26d0e14c",
   "metadata": {
    "jp-MarkdownHeadingCollapsed": true,
    "tags": []
   },
   "source": [
    "### Seventh instance of the 20_5 benchmark"
   ]
  },
  {
   "cell_type": "code",
   "execution_count": 59,
   "id": "5d28dc51",
   "metadata": {},
   "outputs": [
    {
     "name": "stdout",
     "output_type": "stream",
     "text": [
      "Solution: [9, 12, 0, 19, 3, 1, 14, 2, 10, 8, 16, 11, 7, 4, 5, 18, 13, 15, 6, 17].\n",
      "\n",
      "Cmax: 1239.0\n",
      "\n",
      "Elapsed time:  9.022180080413818 seconds\n"
     ]
    }
   ],
   "source": [
    "popul = init_pop(instance_20_5_6, 50, 0.5)\n",
    "start_time = time.time()\n",
    "Best_solution, Best_makespan = NEGA(popul, instance_20_5_6, 6)\n",
    "elapsed_time = time.time() - start_time\n",
    "\n",
    "print(f'Solution: {Best_solution}.')\n",
    "print(f'\\nCmax: {Best_makespan}')\n",
    "print(\"\\nElapsed time: \", elapsed_time, \"seconds\")\n",
    "\n",
    "Hybrid.append(\"%.3f\" % (Best_makespan))\n",
    "Hybrid.append(\" %.3fs\" % (elapsed_time))"
   ]
  },
  {
   "cell_type": "markdown",
   "id": "466117cf-7125-46a7-a015-158da08c04a0",
   "metadata": {
    "jp-MarkdownHeadingCollapsed": true,
    "tags": []
   },
   "source": [
    "## Genetic algorithm"
   ]
  },
  {
   "cell_type": "markdown",
   "id": "d4e258eb-9ebb-4eda-8613-4f961ad4e585",
   "metadata": {
    "tags": []
   },
   "source": [
    "### Common instance"
   ]
  },
  {
   "cell_type": "code",
   "execution_count": 63,
   "id": "230527c0-3ae2-4a91-815c-1ba3197e6028",
   "metadata": {},
   "outputs": [
    {
     "name": "stdout",
     "output_type": "stream",
     "text": [
      "Best sequence found by genetic algorithm is [2, 3, 6, 4, 0, 8, 1, 7, 9, 5] with a makespan of 1107.0\n",
      "Elapsed time: 0.5466396808624268 seconds\n"
     ]
    }
   ],
   "source": [
    "pop_size = 30\n",
    "select_pop_size = 0.5\n",
    "selection_method = \"roulette\"\n",
    "cossover = \"TWO\"\n",
    "mutation_probability = .5\n",
    "num_iterations = 100\n",
    "\n",
    "# Checking parameters\n",
    "s = int(select_pop_size * pop_size)\n",
    "try:\n",
    "    if s < 2:\n",
    "        raise ValueError(\"there should be at least two selected parents : please increase the % of selection\")\n",
    "    comb = math.comb(s, 2) * 2\n",
    "    if comb < pop_size:\n",
    "        raise ValueError(\"The maximum size of population with the choosed parameters is \"+str(comb)+\" sequences : please increase the % of selection or decrease the size of population\")   \n",
    "    init_pop = [np.random.permutation(instance_common.shape[0]).tolist() for i in range(pop_size)]\n",
    "    start_time = time.time()\n",
    "    best_solution, best_solution_cost = genetic_algorithm(instance_common, init_pop, pop_size, select_pop_size, selection_method, cossover, mutation_probability, num_iterations)\n",
    "    elapsed_time = time.time() - start_time\n",
    "    print(f'Best sequence found by genetic algorithm is {best_solution} with a makespan of {best_solution_cost}')\n",
    "    print(\"Elapsed time:\", elapsed_time, \"seconds\")      \n",
    "except ValueError as e:\n",
    "    print(e)\n",
    "    \n",
    "GA.append(\"%.3f\" % (best_solution_cost))\n",
    "GA.append(\" %.3fs\" % (elapsed_time))"
   ]
  },
  {
   "cell_type": "markdown",
   "id": "22937ed8-0d85-4228-8b04-8f5c16f1cebc",
   "metadata": {
    "jp-MarkdownHeadingCollapsed": true,
    "tags": []
   },
   "source": [
    "### First instance of the 20_5 benchmark"
   ]
  },
  {
   "cell_type": "code",
   "execution_count": 74,
   "id": "51cd917f-4bca-4ed6-ab8b-abb853fc9531",
   "metadata": {},
   "outputs": [
    {
     "name": "stdout",
     "output_type": "stream",
     "text": [
      "Best sequence found by genetic algorithm is [0, 7, 10, 14, 4, 12, 8, 3, 9, 18, 6, 5, 13, 15, 16, 2, 11, 1, 17, 19] with a makespan of 1330.0\n",
      "Elapsed time: 1.1288297176361084 seconds\n"
     ]
    }
   ],
   "source": [
    "pop_size = 30\n",
    "select_pop_size = 0.5\n",
    "selection_method = \"roulette\"\n",
    "cossover = \"TWO\"\n",
    "mutation_probability = .5\n",
    "num_iterations = 100\n",
    "\n",
    "# Checking parameters\n",
    "s = int(select_pop_size * pop_size)\n",
    "try:\n",
    "    if s < 2:\n",
    "        raise ValueError(\"there should be at least two selected parents : please increase the % of selection\")\n",
    "    comb = math.comb(s, 2) * 2\n",
    "    if comb < pop_size:\n",
    "        raise ValueError(\"The maximum size of population with the choosed parameters is \"+str(comb)+\" sequences : please increase the % of selection or decrease the size of population\")   \n",
    "    init_pop = [np.random.permutation(instance_20_5_0.shape[0]).tolist() for i in range(pop_size)]\n",
    "    start_time = time.time()\n",
    "    best_solution, best_solution_cost = genetic_algorithm(instance_20_5_0, init_pop, pop_size, select_pop_size, selection_method, cossover, mutation_probability, num_iterations)\n",
    "    elapsed_time = time.time() - start_time\n",
    "    print(f'Best sequence found by genetic algorithm is {best_solution} with a makespan of {best_solution_cost}')\n",
    "    print(\"Elapsed time:\", elapsed_time, \"seconds\")      \n",
    "except ValueError as e:\n",
    "    print(e)\n",
    "    \n",
    "GA.append(\"%.3f\" % (best_solution_cost))\n",
    "GA.append(\" %.3fs\" % (elapsed_time))"
   ]
  },
  {
   "cell_type": "markdown",
   "id": "3893b0c2-0cb7-46b1-b08e-94aa4aa6fa5f",
   "metadata": {
    "jp-MarkdownHeadingCollapsed": true,
    "tags": []
   },
   "source": [
    "### Second instance of the 20_5 benchmark"
   ]
  },
  {
   "cell_type": "code",
   "execution_count": 76,
   "id": "57d9c77f-bf6a-495d-a129-be6874e1fe7e",
   "metadata": {},
   "outputs": [
    {
     "name": "stdout",
     "output_type": "stream",
     "text": [
      "Best sequence found by genetic algorithm is [14, 5, 6, 1, 10, 15, 11, 18, 3, 0, 16, 19, 4, 12, 7, 13, 17, 9, 8, 2] with a makespan of 1393.0\n",
      "Elapsed time: 1.193434476852417 seconds\n"
     ]
    }
   ],
   "source": [
    "pop_size = 30\n",
    "select_pop_size = 0.5\n",
    "selection_method = \"roulette\"\n",
    "cossover = \"TWO\"\n",
    "mutation_probability = .5\n",
    "num_iterations = 100\n",
    "\n",
    "# Checking parameters\n",
    "s = int(select_pop_size * pop_size)\n",
    "try:\n",
    "    if s < 2:\n",
    "        raise ValueError(\"there should be at least two selected parents : please increase the % of selection\")\n",
    "    comb = math.comb(s, 2) * 2\n",
    "    if comb < pop_size:\n",
    "        raise ValueError(\"The maximum size of population with the choosed parameters is \"+str(comb)+\" sequences : please increase the % of selection or decrease the size of population\")   \n",
    "    init_pop = [np.random.permutation(instance_20_5_1.shape[0]).tolist() for i in range(pop_size)]\n",
    "    start_time = time.time()\n",
    "    best_solution, best_solution_cost = genetic_algorithm(instance_20_5_1, init_pop, pop_size, select_pop_size, selection_method, cossover, mutation_probability, num_iterations)\n",
    "    elapsed_time = time.time() - start_time\n",
    "    print(f'Best sequence found by genetic algorithm is {best_solution} with a makespan of {best_solution_cost}')\n",
    "    print(\"Elapsed time:\", elapsed_time, \"seconds\")      \n",
    "except ValueError as e:\n",
    "    print(e)\n",
    "\n",
    "GA.append(\"%.3f\" % (best_solution_cost))\n",
    "GA.append(\" %.3fs\" % (elapsed_time))"
   ]
  },
  {
   "cell_type": "markdown",
   "id": "d35ed3b5-1aa4-4776-89ac-79111d432f29",
   "metadata": {
    "jp-MarkdownHeadingCollapsed": true,
    "tags": []
   },
   "source": [
    "### Fifth instance of the 20_5 benchmark"
   ]
  },
  {
   "cell_type": "code",
   "execution_count": 86,
   "id": "87f82e1a-38d8-40c9-a78f-a7d5b878ceab",
   "metadata": {},
   "outputs": [
    {
     "name": "stdout",
     "output_type": "stream",
     "text": [
      "Best sequence found by genetic algorithm is [12, 8, 11, 15, 6, 2, 16, 14, 3, 19, 1, 18, 17, 4, 9, 13, 0, 5, 10, 7] with a makespan of 1311.0\n",
      "Elapsed time: 1.0743556022644043 seconds\n"
     ]
    }
   ],
   "source": [
    "pop_size = 30\n",
    "select_pop_size = 0.5\n",
    "selection_method = \"roulette\"\n",
    "cossover = \"TWO\"\n",
    "mutation_probability = .5\n",
    "num_iterations = 100\n",
    "\n",
    "# Checking parameters\n",
    "s = int(select_pop_size * pop_size)\n",
    "try:\n",
    "    if s < 2:\n",
    "        raise ValueError(\"there should be at least two selected parents : please increase the % of selection\")\n",
    "    comb = math.comb(s, 2) * 2\n",
    "    if comb < pop_size:\n",
    "        raise ValueError(\"The maximum size of population with the choosed parameters is \"+str(comb)+\" sequences : please increase the % of selection or decrease the size of population\")   \n",
    "    init_pop = [np.random.permutation(instance_20_5_4.shape[0]).tolist() for i in range(pop_size)]\n",
    "    start_time = time.time()\n",
    "    best_solution, best_solution_cost = genetic_algorithm(instance_20_5_4, init_pop, pop_size, select_pop_size, selection_method, cossover, mutation_probability, num_iterations)\n",
    "    elapsed_time = time.time() - start_time\n",
    "    print(f'Best sequence found by genetic algorithm is {best_solution} with a makespan of {best_solution_cost}')\n",
    "    print(\"Elapsed time:\", elapsed_time, \"seconds\")      \n",
    "except ValueError as e:\n",
    "    print(e)\n",
    "    \n",
    "GA.append(\"%.3f\" % (best_solution_cost))\n",
    "GA.append(\" %.3fs\" % (elapsed_time))"
   ]
  },
  {
   "cell_type": "markdown",
   "id": "ae1a97c8-1e69-424b-8c01-076049f7a255",
   "metadata": {
    "jp-MarkdownHeadingCollapsed": true,
    "tags": []
   },
   "source": [
    "### Seventh instance of the 20_5 benchmark"
   ]
  },
  {
   "cell_type": "code",
   "execution_count": 87,
   "id": "433b9413-9bce-4a16-9c61-ea4d87ff909c",
   "metadata": {},
   "outputs": [
    {
     "name": "stdout",
     "output_type": "stream",
     "text": [
      "Best sequence found by genetic algorithm is [4, 19, 1, 9, 10, 2, 5, 16, 12, 7, 3, 18, 11, 14, 17, 0, 15, 6, 8, 13] with a makespan of 1288.0\n",
      "Elapsed time: 1.0736312866210938 seconds\n"
     ]
    }
   ],
   "source": [
    "pop_size = 30\n",
    "select_pop_size = 0.5\n",
    "selection_method = \"roulette\"\n",
    "cossover = \"TWO\"\n",
    "mutation_probability = .5\n",
    "num_iterations = 100\n",
    "\n",
    "# Checking parameters\n",
    "s = int(select_pop_size * pop_size)\n",
    "try:\n",
    "    if s < 2:\n",
    "        raise ValueError(\"there should be at least two selected parents : please increase the % of selection\")\n",
    "    comb = math.comb(s, 2) * 2\n",
    "    if comb < pop_size:\n",
    "        raise ValueError(\"The maximum size of population with the choosed parameters is \"+str(comb)+\" sequences : please increase the % of selection or decrease the size of population\")   \n",
    "    init_pop = [np.random.permutation(instance_20_5_6.shape[0]).tolist() for i in range(pop_size)]\n",
    "    start_time = time.time()\n",
    "    best_solution, best_solution_cost = genetic_algorithm(instance_20_5_6, init_pop, pop_size, select_pop_size, selection_method, cossover, mutation_probability, num_iterations)\n",
    "    elapsed_time = time.time() - start_time\n",
    "    print(f'Best sequence found by genetic algorithm is {best_solution} with a makespan of {best_solution_cost}')\n",
    "    print(\"Elapsed time:\", elapsed_time, \"seconds\")      \n",
    "except ValueError as e:\n",
    "    print(e)\n",
    "    \n",
    "GA.append(\"%.3f\" % (best_solution_cost))\n",
    "GA.append(\" %.3fs\" % (elapsed_time))"
   ]
  },
  {
   "cell_type": "markdown",
   "id": "cb6d9478-b0a1-4445-9980-6ae9a68b8dc8",
   "metadata": {
    "tags": []
   },
   "source": [
    "## Ant colony"
   ]
  },
  {
   "cell_type": "markdown",
   "id": "57e0b058-5e3b-4be3-9d0c-82aeabb1c204",
   "metadata": {
    "tags": []
   },
   "source": [
    "### Common instance"
   ]
  },
  {
   "cell_type": "code",
   "execution_count": 88,
   "id": "84a21dd7-e56c-4619-8e1a-e4207e040a4b",
   "metadata": {},
   "outputs": [
    {
     "name": "stdout",
     "output_type": "stream",
     "text": [
      "Best sequence found by ACO algorithm is [6, 2, 3, 4, 0, 5, 9, 1, 8, 7] with a makespan of 1113.0\n",
      "Elapsed time: 0.26386022567749023 seconds\n"
     ]
    }
   ],
   "source": [
    "num_ants = 10\n",
    "num_iterations = 50\n",
    "tau0 = 1.0\n",
    "alpha = 1.0\n",
    "beta = 2.0\n",
    "Q = 1.0\n",
    "evaporation_rate = .9\n",
    "q0 = 0.4\n",
    "start_time = time.time()\n",
    "best_solution, best_solution_cost = ant_colony_optimization(num_ants, num_iterations, alpha, beta, evaporation_rate, Q, tau0, q0, instance_common)\n",
    "elapsed_time = time.time() - start_time\n",
    "print(f'Best sequence found by ACO algorithm is {best_solution} with a makespan of {best_solution_cost}')\n",
    "print(\"Elapsed time:\", elapsed_time, \"seconds\")\n",
    "\n",
    "ACO.append(\"%.3f\" % (best_solution_cost))\n",
    "ACO.append(\" %.3fs\" % (elapsed_time))"
   ]
  },
  {
   "cell_type": "markdown",
   "id": "37521016-a5e2-41b6-b02a-f8c06ca780c3",
   "metadata": {
    "jp-MarkdownHeadingCollapsed": true,
    "tags": []
   },
   "source": [
    "### First instance of the 20_5 benchmark"
   ]
  },
  {
   "cell_type": "code",
   "execution_count": 89,
   "id": "32fdfaab-37cb-4722-9ad5-7795f625bbe0",
   "metadata": {},
   "outputs": [
    {
     "name": "stdout",
     "output_type": "stream",
     "text": [
      "Best sequence found by ACO algorithm is [15, 5, 4, 13, 6, 16, 7, 8, 3, 18, 0, 12, 14, 2, 10, 17, 19, 11, 9, 1] with a makespan of 1380.0\n",
      "Elapsed time: 0.2886941432952881 seconds\n"
     ]
    }
   ],
   "source": [
    "num_ants = 10\n",
    "num_iterations = 20\n",
    "tau0 = 1.0\n",
    "alpha = 1.0\n",
    "beta = 2.0\n",
    "Q = 1.0\n",
    "evaporation_rate = .9\n",
    "q0 = 0.4\n",
    "start_time = time.time()\n",
    "best_solution, best_solution_cost = ant_colony_optimization(num_ants, num_iterations, alpha, beta, evaporation_rate, Q, tau0, q0, instance_20_5_0)\n",
    "elapsed_time = time.time() - start_time\n",
    "print(f'Best sequence found by ACO algorithm is {best_solution} with a makespan of {best_solution_cost}')\n",
    "print(\"Elapsed time:\", elapsed_time, \"seconds\")\n",
    "\n",
    "ACO.append(\"%.3f\" % (best_solution_cost))\n",
    "ACO.append(\" %.3fs\" % (elapsed_time))"
   ]
  },
  {
   "cell_type": "markdown",
   "id": "71bb48e3-4365-48a8-9497-f770059f5e4d",
   "metadata": {
    "jp-MarkdownHeadingCollapsed": true,
    "tags": []
   },
   "source": [
    "### Second instance of the 20_5 benchmark"
   ]
  },
  {
   "cell_type": "code",
   "execution_count": 93,
   "id": "f25e5cfe-bae7-4577-bb7e-82c5e2bc602d",
   "metadata": {},
   "outputs": [
    {
     "name": "stdout",
     "output_type": "stream",
     "text": [
      "Best sequence found by ACO algorithm is [19, 6, 14, 18, 4, 2, 0, 7, 15, 17, 3, 8, 5, 10, 12, 16, 13, 1, 11, 9] with a makespan of 1415.0\n",
      "Elapsed time: 0.5537886619567871 seconds\n"
     ]
    }
   ],
   "source": [
    "num_ants = 10\n",
    "num_iterations = 50\n",
    "tau0 = 1.0\n",
    "alpha = 1.0\n",
    "beta = 2.0\n",
    "Q = 1.0\n",
    "evaporation_rate = .9\n",
    "q0 = 0.4\n",
    "start_time = time.time()\n",
    "best_solution, best_solution_cost = ant_colony_optimization(num_ants, num_iterations, alpha, beta, evaporation_rate, Q, tau0, q0, instance_20_5_1)\n",
    "elapsed_time = time.time() - start_time\n",
    "print(f'Best sequence found by ACO algorithm is {best_solution} with a makespan of {best_solution_cost}')\n",
    "print(\"Elapsed time:\", elapsed_time, \"seconds\")\n",
    "\n",
    "ACO.append(\"%.3f\" % (best_solution_cost))\n",
    "ACO.append(\" %.3fs\" % (elapsed_time))"
   ]
  },
  {
   "cell_type": "markdown",
   "id": "7a748ae0-10aa-4453-952c-d949f613981c",
   "metadata": {
    "jp-MarkdownHeadingCollapsed": true,
    "tags": []
   },
   "source": [
    "### Fifth instance of the 20_5 benchmark"
   ]
  },
  {
   "cell_type": "code",
   "execution_count": 94,
   "id": "13ebdb8f-1d04-49f8-b74e-985f09d4a9ca",
   "metadata": {},
   "outputs": [
    {
     "name": "stdout",
     "output_type": "stream",
     "text": [
      "Best sequence found by ACO algorithm is [7, 2, 4, 3, 12, 15, 11, 0, 9, 5, 8, 6, 1, 13, 17, 16, 18, 10, 14, 19] with a makespan of 1355.0\n",
      "Elapsed time: 0.5192661285400391 seconds\n"
     ]
    }
   ],
   "source": [
    "num_ants = 10\n",
    "num_iterations = 50\n",
    "tau0 = 1.0\n",
    "alpha = 1.0\n",
    "beta = 2.0\n",
    "Q = 1.0\n",
    "evaporation_rate = .9\n",
    "q0 = 0.6\n",
    "\n",
    "start_time = time.time()\n",
    "best_solution, best_solution_cost = ant_colony_optimization(num_ants, num_iterations, alpha, beta, evaporation_rate, Q, tau0, q0, instance_20_5_4)\n",
    "elapsed_time = time.time() - start_time\n",
    "print(f'Best sequence found by ACO algorithm is {best_solution} with a makespan of {best_solution_cost}')\n",
    "print(\"Elapsed time:\", elapsed_time, \"seconds\")\n",
    "\n",
    "ACO.append(\"%.3f\" % (best_solution_cost))\n",
    "ACO.append(\" %.3fs\" % (elapsed_time))"
   ]
  },
  {
   "cell_type": "markdown",
   "id": "a8f80fd7-5402-4b9a-9c98-f96aed107f38",
   "metadata": {
    "jp-MarkdownHeadingCollapsed": true,
    "tags": []
   },
   "source": [
    "### Seventh instance of the 20_5 benchmark"
   ]
  },
  {
   "cell_type": "code",
   "execution_count": 99,
   "id": "838edb87-bdba-45f9-869c-bb0ffa3b46b0",
   "metadata": {},
   "outputs": [
    {
     "name": "stdout",
     "output_type": "stream",
     "text": [
      "Best sequence found by ACO algorithm is [4, 6, 5, 12, 7, 1, 3, 15, 14, 19, 11, 2, 10, 0, 13, 16, 18, 17, 8, 9] with a makespan of 1360.0\n",
      "Elapsed time: 0.5210297107696533 seconds\n"
     ]
    }
   ],
   "source": [
    "num_ants = 10\n",
    "num_iterations = 50\n",
    "tau0 = 1.0\n",
    "alpha = 1.0\n",
    "beta = 2.0\n",
    "Q = 1.0\n",
    "evaporation_rate = .9\n",
    "q0 = 0.6\n",
    "\n",
    "start_time = time.time()\n",
    "best_solution, best_solution_cost = ant_colony_optimization(num_ants, num_iterations, alpha, beta, evaporation_rate, Q, tau0, q0, instance_20_5_6)\n",
    "elapsed_time = time.time() - start_time\n",
    "print(f'Best sequence found by ACO algorithm is {best_solution} with a makespan of {best_solution_cost}')\n",
    "print(\"Elapsed time:\", elapsed_time, \"seconds\")\n",
    "\n",
    "ACO.append(\"%.3f\" % (best_solution_cost))\n",
    "ACO.append(\" %.3fs\" % (elapsed_time))"
   ]
  },
  {
   "cell_type": "markdown",
   "id": "999a65bc-ed6d-4b95-aff4-af9fbf553f97",
   "metadata": {
    "tags": []
   },
   "source": [
    "## Heuristics and local search heuristics"
   ]
  },
  {
   "cell_type": "markdown",
   "id": "5cbcfaa2-f1d2-4bca-8137-edc5d906b8cc",
   "metadata": {
    "jp-MarkdownHeadingCollapsed": true,
    "tags": []
   },
   "source": [
    "### NEH"
   ]
  },
  {
   "cell_type": "markdown",
   "id": "7083eafc-9b6f-4a1d-8038-d001a333bd21",
   "metadata": {
    "jp-MarkdownHeadingCollapsed": true,
    "tags": []
   },
   "source": [
    "#### Common instance"
   ]
  },
  {
   "cell_type": "code",
   "execution_count": 100,
   "id": "14efdf22-18df-4cd4-b481-d5f68c614077",
   "metadata": {},
   "outputs": [
    {
     "name": "stdout",
     "output_type": "stream",
     "text": [
      "Solution: [2, 7, 3, 6, 0, 4, 8, 5, 9, 1].\n",
      "\n",
      "Cmax: 1105.0\n",
      "\n",
      "Elapsed time:  0.003990888595581055 seconds\n"
     ]
    }
   ],
   "source": [
    "start_time = time.time()\n",
    "neh_common_instance, Cmax = neh_algorithm(instance_common)\n",
    "elapsed_time = time.time() - start_time\n",
    "\n",
    "print(f'Solution: {neh_common_instance}.')\n",
    "print(f'\\nCmax: {Cmax}')\n",
    "print(\"\\nElapsed time: \", elapsed_time, \"seconds\")\n",
    "\n",
    "NEH.append(\"%.3f\" % (Cmax))\n",
    "NEH.append(\" %.3fs\" % (elapsed_time))"
   ]
  },
  {
   "cell_type": "markdown",
   "id": "4cfb0d18-1af5-4725-8ce3-61c4b5f5308b",
   "metadata": {
    "jp-MarkdownHeadingCollapsed": true,
    "tags": []
   },
   "source": [
    "#### First instance of the 20_5 benchmark"
   ]
  },
  {
   "cell_type": "code",
   "execution_count": 101,
   "id": "0715bf68-d551-41d5-abe2-e10cbfc24eb5",
   "metadata": {},
   "outputs": [
    {
     "name": "stdout",
     "output_type": "stream",
     "text": [
      "Solution: [8, 6, 15, 10, 7, 1, 16, 2, 14, 13, 17, 3, 9, 11, 0, 18, 5, 4, 12, 19].\n",
      "\n",
      "Cmax: 1334.0\n",
      "\n",
      "Elapsed time:  0.025926828384399414 seconds\n"
     ]
    }
   ],
   "source": [
    "start_time = time.time()\n",
    "neh_20_5_0, Cmax = neh_algorithm(instance_20_5_0)\n",
    "elapsed_time = time.time() - start_time\n",
    "\n",
    "print(f'Solution: {neh_20_5_0}.')\n",
    "print(f'\\nCmax: {Cmax}')\n",
    "print(\"\\nElapsed time: \", elapsed_time, \"seconds\")\n",
    "\n",
    "NEH.append(\"%.3f\" % (Cmax))\n",
    "NEH.append(\" %.3fs\" % (elapsed_time))"
   ]
  },
  {
   "cell_type": "markdown",
   "id": "65ce4327-dc0e-4478-aa90-db8a2c2093b8",
   "metadata": {
    "jp-MarkdownHeadingCollapsed": true,
    "tags": []
   },
   "source": [
    "#### Second instance of the 20_5 benchmark"
   ]
  },
  {
   "cell_type": "code",
   "execution_count": 102,
   "id": "81e883b3-60d8-4174-977b-50e340237359",
   "metadata": {},
   "outputs": [
    {
     "name": "stdout",
     "output_type": "stream",
     "text": [
      "Solution: [5, 6, 14, 11, 12, 10, 2, 15, 19, 3, 16, 0, 8, 1, 9, 7, 18, 4, 13, 17].\n",
      "\n",
      "Cmax: 1367.0\n",
      "\n",
      "Elapsed time:  0.03490591049194336 seconds\n"
     ]
    }
   ],
   "source": [
    "start_time = time.time()\n",
    "neh_20_5_1, Cmax = neh_algorithm(instance_20_5_1)\n",
    "elapsed_time = time.time() - start_time\n",
    "\n",
    "print(f'Solution: {neh_20_5_1}.')\n",
    "print(f'\\nCmax: {Cmax}')\n",
    "print(\"\\nElapsed time: \", elapsed_time, \"seconds\")\n",
    "\n",
    "NEH.append(\"%.3f\" % (Cmax))\n",
    "NEH.append(\" %.3fs\" % (elapsed_time))"
   ]
  },
  {
   "cell_type": "markdown",
   "id": "c20b2e78-604f-4d9e-a884-c5f9f0258d1e",
   "metadata": {
    "tags": []
   },
   "source": [
    "#### Fifth instance of the 20_5 benchmark"
   ]
  },
  {
   "cell_type": "code",
   "execution_count": 103,
   "id": "3084bc6f-81a3-414b-a5ad-3bc3bfebabfb",
   "metadata": {},
   "outputs": [
    {
     "name": "stdout",
     "output_type": "stream",
     "text": [
      "Solution: [2, 11, 12, 15, 5, 3, 1, 13, 14, 18, 8, 6, 17, 0, 9, 16, 19, 10, 7, 4].\n",
      "\n",
      "Cmax: 1319.0\n",
      "\n",
      "Elapsed time:  0.0344698429107666 seconds\n"
     ]
    }
   ],
   "source": [
    "start_time = time.time()\n",
    "neh_20_5_4, Cmax = neh_algorithm(instance_20_5_4)\n",
    "elapsed_time = time.time() - start_time\n",
    "\n",
    "print(f'Solution: {neh_20_5_4}.')\n",
    "print(f'\\nCmax: {Cmax}')\n",
    "print(\"\\nElapsed time: \", elapsed_time, \"seconds\")\n",
    "\n",
    "NEH.append(\"%.3f\" % (Cmax))\n",
    "NEH.append(\" %.3fs\" % (elapsed_time))"
   ]
  },
  {
   "cell_type": "markdown",
   "id": "02647458-a7ab-4cff-9059-5e768d287635",
   "metadata": {
    "tags": []
   },
   "source": [
    "#### Seventh instance of the 20_5 benchmark"
   ]
  },
  {
   "cell_type": "code",
   "execution_count": 104,
   "id": "3b050cf2-5175-4774-bd15-48d788b8970e",
   "metadata": {},
   "outputs": [
    {
     "name": "stdout",
     "output_type": "stream",
     "text": [
      "Solution: [4, 2, 19, 10, 7, 5, 3, 8, 1, 12, 6, 18, 16, 9, 14, 15, 0, 17, 13, 11].\n",
      "\n",
      "Cmax: 1284.0\n",
      "\n",
      "Elapsed time:  0.029921293258666992 seconds\n"
     ]
    }
   ],
   "source": [
    "start_time = time.time()\n",
    "neh_20_5_6, Cmax = neh_algorithm(instance_20_5_6)\n",
    "elapsed_time = time.time() - start_time\n",
    "\n",
    "print(f'Solution: {neh_20_5_6}.')\n",
    "print(f'\\nCmax: {Cmax}')\n",
    "print(\"\\nElapsed time: \", elapsed_time, \"seconds\")\n",
    "\n",
    "NEH.append(\"%.3f\" % (Cmax))\n",
    "NEH.append(\" %.3fs\" % (elapsed_time))"
   ]
  },
  {
   "cell_type": "markdown",
   "id": "3e3d7831-0748-47a9-995f-9e6c35e5e60b",
   "metadata": {
    "jp-MarkdownHeadingCollapsed": true,
    "tags": []
   },
   "source": [
    "### Artificial Heuristic"
   ]
  },
  {
   "cell_type": "markdown",
   "id": "bb9631f9-dd72-41df-a830-7c491e8f9835",
   "metadata": {
    "jp-MarkdownHeadingCollapsed": true,
    "tags": []
   },
   "source": [
    "#### Common instance"
   ]
  },
  {
   "cell_type": "code",
   "execution_count": 105,
   "id": "456e7d8d-96c6-46c0-ac71-430c0c36b13c",
   "metadata": {},
   "outputs": [
    {
     "name": "stdout",
     "output_type": "stream",
     "text": [
      "Solution: [8, 6, 3, 0, 7, 2, 4, 5, 1, 9].\n",
      "\n",
      "Cmax: 1110.0\n",
      "\n",
      "Elapsed time:  0.0019958019256591797 seconds\n"
     ]
    }
   ],
   "source": [
    "start_time = time.time()\n",
    "sol, Cmax = artificial_heuristic(instance_common)\n",
    "elapsed_time = time.time() - start_time\n",
    "\n",
    "print(f'Solution: {sol}.')\n",
    "print(f'\\nCmax: {Cmax}')\n",
    "print(\"\\nElapsed time: \", elapsed_time, \"seconds\")\n",
    "\n",
    "AH.append(\"%.3f\" % (Cmax))\n",
    "AH.append(\" %.3fs\" % (elapsed_time))"
   ]
  },
  {
   "cell_type": "markdown",
   "id": "d8e52f38-8099-4ed3-aaab-ba612e9c9fc7",
   "metadata": {
    "jp-MarkdownHeadingCollapsed": true,
    "tags": []
   },
   "source": [
    "#### First instance of the 20_5 benchmark"
   ]
  },
  {
   "cell_type": "code",
   "execution_count": 106,
   "id": "aeb0c991-1771-441f-9834-2d4813703f29",
   "metadata": {},
   "outputs": [
    {
     "name": "stdout",
     "output_type": "stream",
     "text": [
      "Solution: [2, 8, 14, 16, 13, 7, 18, 5, 10, 15, 1, 3, 4, 0, 11, 6, 17, 9, 19, 12].\n",
      "\n",
      "Cmax: 1367.0\n",
      "\n",
      "Elapsed time:  0.003989219665527344 seconds\n"
     ]
    }
   ],
   "source": [
    "start_time = time.time()\n",
    "sol, Cmax = artificial_heuristic(instance_20_5_0)\n",
    "elapsed_time = time.time() - start_time\n",
    "\n",
    "print(f'Solution: {sol}.')\n",
    "print(f'\\nCmax: {Cmax}')\n",
    "print(\"\\nElapsed time: \", elapsed_time, \"seconds\")\n",
    "\n",
    "AH.append(\"%.3f\" % (Cmax))\n",
    "AH.append(\" %.3fs\" % (elapsed_time))"
   ]
  },
  {
   "cell_type": "markdown",
   "id": "7a248795-d21b-4667-8c40-77a3365752ed",
   "metadata": {
    "jp-MarkdownHeadingCollapsed": true,
    "tags": []
   },
   "source": [
    "#### Second instance of the 20_5 benchmark"
   ]
  },
  {
   "cell_type": "code",
   "execution_count": 107,
   "id": "800f6d6e-76e0-4c9a-b31d-6ef7f4fb095d",
   "metadata": {},
   "outputs": [
    {
     "name": "stdout",
     "output_type": "stream",
     "text": [
      "Solution: [8, 0, 2, 16, 14, 11, 12, 18, 19, 6, 5, 17, 10, 4, 15, 3, 7, 9, 1, 13].\n",
      "\n",
      "Cmax: 1432.0\n",
      "\n",
      "Elapsed time:  0.002994537353515625 seconds\n"
     ]
    }
   ],
   "source": [
    "start_time = time.time()\n",
    "sol, Cmax = artificial_heuristic(instance_20_5_1)\n",
    "elapsed_time = time.time() - start_time\n",
    "\n",
    "print(f'Solution: {sol}.')\n",
    "print(f'\\nCmax: {Cmax}')\n",
    "print(\"\\nElapsed time: \", elapsed_time, \"seconds\")\n",
    "\n",
    "AH.append(\"%.3f\" % (Cmax))\n",
    "AH.append(\" %.3fs\" % (elapsed_time))"
   ]
  },
  {
   "cell_type": "markdown",
   "id": "94a7b974-2ecb-450d-a9e0-448b599bc983",
   "metadata": {
    "jp-MarkdownHeadingCollapsed": true,
    "tags": []
   },
   "source": [
    "#### Fifth instance of the 20_5 benchmark"
   ]
  },
  {
   "cell_type": "code",
   "execution_count": 108,
   "id": "b31a83c8-9b6c-46d7-98d9-52ef0453588d",
   "metadata": {},
   "outputs": [
    {
     "name": "stdout",
     "output_type": "stream",
     "text": [
      "Solution: [2, 11, 4, 9, 12, 8, 18, 3, 16, 14, 5, 15, 1, 13, 17, 10, 6, 19, 0, 7].\n",
      "\n",
      "Cmax: 1300.0\n",
      "\n",
      "Elapsed time:  0.002992868423461914 seconds\n"
     ]
    }
   ],
   "source": [
    "start_time = time.time()\n",
    "sol, Cmax = artificial_heuristic(instance_20_5_4)\n",
    "elapsed_time = time.time() - start_time\n",
    "\n",
    "print(f'Solution: {sol}.')\n",
    "print(f'\\nCmax: {Cmax}')\n",
    "print(\"\\nElapsed time: \", elapsed_time, \"seconds\")\n",
    "\n",
    "AH.append(\"%.3f\" % (Cmax))\n",
    "AH.append(\" %.3fs\" % (elapsed_time))"
   ]
  },
  {
   "cell_type": "markdown",
   "id": "558a55e0-63bf-4039-a232-893d05d2f8d1",
   "metadata": {
    "jp-MarkdownHeadingCollapsed": true,
    "tags": []
   },
   "source": [
    "#### Seventh instance of the 20_5 benchmark"
   ]
  },
  {
   "cell_type": "code",
   "execution_count": 109,
   "id": "8dbde3ae-04c1-47a4-ab6f-79d415d2cf5d",
   "metadata": {},
   "outputs": [
    {
     "name": "stdout",
     "output_type": "stream",
     "text": [
      "Solution: [9, 4, 14, 10, 0, 15, 6, 12, 7, 3, 19, 1, 5, 16, 2, 11, 18, 8, 13, 17].\n",
      "\n",
      "Cmax: 1393.0\n",
      "\n",
      "Elapsed time:  0.0039882659912109375 seconds\n"
     ]
    }
   ],
   "source": [
    "start_time = time.time()\n",
    "sol, Cmax = artificial_heuristic(instance_20_5_6)\n",
    "elapsed_time = time.time() - start_time\n",
    "\n",
    "print(f'Solution: {sol}.')\n",
    "print(f'\\nCmax: {Cmax}')\n",
    "print(\"\\nElapsed time: \", elapsed_time, \"seconds\")\n",
    "\n",
    "AH.append(\"%.3f\" % (Cmax))\n",
    "AH.append(\" %.3fs\" % (elapsed_time))"
   ]
  },
  {
   "cell_type": "markdown",
   "id": "be3bb676-a316-4861-ad90-28db34295b07",
   "metadata": {
    "tags": []
   },
   "source": [
    "### VNS"
   ]
  },
  {
   "cell_type": "markdown",
   "id": "27f3457c-2795-44a3-a4c6-16c3f24b42f0",
   "metadata": {
    "jp-MarkdownHeadingCollapsed": true,
    "tags": []
   },
   "source": [
    "#### Common instance"
   ]
  },
  {
   "cell_type": "code",
   "execution_count": 110,
   "id": "652764a8-3772-408a-84bf-7a42a4adc3af",
   "metadata": {},
   "outputs": [
    {
     "name": "stdout",
     "output_type": "stream",
     "text": [
      "\n",
      "Generated Solution: [2, 7, 3, 6, 0, 4, 8, 5, 9, 1].\n",
      "Makespan: 1105.0\n",
      "\n",
      "Elapsed time:  1.5716705322265625 seconds\n"
     ]
    }
   ],
   "source": [
    "start_time = time.time()\n",
    "sol, Cmax = vns(neh_common_instance, instance_common, 100, 5)\n",
    "elapsed_time = time.time() - start_time\n",
    "\n",
    "print(f'\\nGenerated Solution: {sol}.')\n",
    "print(f'Makespan: {Cmax}')\n",
    "print(\"\\nElapsed time: \", elapsed_time, \"seconds\")\n",
    "\n",
    "VNS.append(\"%.3f\" % (Cmax))\n",
    "VNS.append(\" %.3fs\" % (elapsed_time))"
   ]
  },
  {
   "cell_type": "markdown",
   "id": "c877a592-7816-4f15-9f4c-247c0d3c1b48",
   "metadata": {
    "tags": []
   },
   "source": [
    "#### First instance of the 20_5 benchmark"
   ]
  },
  {
   "cell_type": "code",
   "execution_count": 111,
   "id": "6129dc71-27a0-4d8b-b966-97fbbf780d4a",
   "metadata": {},
   "outputs": [
    {
     "name": "stdout",
     "output_type": "stream",
     "text": [
      "\n",
      "Generated Solution: [8, 5, 4, 6, 10, 15, 7, 1, 16, 2, 14, 13, 17, 3, 9, 11, 0, 18, 12, 19].\n",
      "Makespan: 1297.0\n",
      "\n",
      "Elapsed time:  16.344409227371216 seconds\n"
     ]
    }
   ],
   "source": [
    "start_time = time.time()\n",
    "sol, Cmax = vns(neh_20_5_0, instance_20_5_0, 100, 5)\n",
    "elapsed_time = time.time() - start_time\n",
    "\n",
    "print(f'\\nGenerated Solution: {sol}.')\n",
    "print(f'Makespan: {Cmax}')\n",
    "print(\"\\nElapsed time: \", elapsed_time, \"seconds\")\n",
    "\n",
    "VNS.append(\"%.3f\" % (Cmax))\n",
    "VNS.append(\" %.3fs\" % (elapsed_time))"
   ]
  },
  {
   "cell_type": "markdown",
   "id": "9c8f7a57-02d7-4ef9-ba2d-def6b829f198",
   "metadata": {
    "jp-MarkdownHeadingCollapsed": true,
    "tags": []
   },
   "source": [
    "#### Second instance of the 20_5 benchmark"
   ]
  },
  {
   "cell_type": "code",
   "execution_count": 112,
   "id": "45ddad9a-e781-4243-be7a-e9889b534ddb",
   "metadata": {},
   "outputs": [
    {
     "name": "stdout",
     "output_type": "stream",
     "text": [
      "\n",
      "Generated Solution: [5, 6, 17, 14, 11, 12, 10, 2, 15, 19, 3, 16, 0, 8, 1, 9, 7, 18, 4, 13].\n",
      "Makespan: 1366.0\n",
      "\n",
      "Elapsed time:  14.122124195098877 seconds\n"
     ]
    }
   ],
   "source": [
    "start_time = time.time()\n",
    "sol, Cmax = vns(neh_20_5_1, instance_20_5_1, 100, 5)\n",
    "elapsed_time = time.time() - start_time\n",
    "\n",
    "print(f'\\nGenerated Solution: {sol}.')\n",
    "print(f'Makespan: {Cmax}')\n",
    "print(\"\\nElapsed time: \", elapsed_time, \"seconds\")\n",
    "\n",
    "VNS.append(\"%.3f\" % (Cmax))\n",
    "VNS.append(\" %.3fs\" % (elapsed_time))"
   ]
  },
  {
   "cell_type": "markdown",
   "id": "adae1f4b-cbe3-4564-b783-b2a86b691378",
   "metadata": {
    "jp-MarkdownHeadingCollapsed": true,
    "tags": []
   },
   "source": [
    "#### Fifth instance of the 20_5 benchmark"
   ]
  },
  {
   "cell_type": "code",
   "execution_count": 113,
   "id": "c29de745-689c-44fc-bdfc-3eea46da5266",
   "metadata": {},
   "outputs": [
    {
     "name": "stdout",
     "output_type": "stream",
     "text": [
      "\n",
      "Generated Solution: [4, 2, 11, 12, 3, 15, 5, 14, 18, 8, 1, 13, 17, 9, 16, 10, 0, 6, 7, 19].\n",
      "Makespan: 1250.0\n",
      "\n",
      "Elapsed time:  11.957962989807129 seconds\n"
     ]
    }
   ],
   "source": [
    "start_time = time.time()\n",
    "sol, Cmax = vns(neh_20_5_4, instance_20_5_4, 100, 5)\n",
    "elapsed_time = time.time() - start_time\n",
    "\n",
    "print(f'\\nGenerated Solution: {sol}.')\n",
    "print(f'Makespan: {Cmax}')\n",
    "print(\"\\nElapsed time: \", elapsed_time, \"seconds\")\n",
    "\n",
    "VNS.append(\"%.3f\" % (Cmax))\n",
    "VNS.append(\" %.3fs\" % (elapsed_time))"
   ]
  },
  {
   "cell_type": "markdown",
   "id": "5b646cc8-df35-418e-a4f6-6f036833e10b",
   "metadata": {
    "tags": []
   },
   "source": [
    "#### Seventh instance of the 20_5 benchmark"
   ]
  },
  {
   "cell_type": "code",
   "execution_count": 114,
   "id": "603d3656-5bb2-474f-9daa-5c14dcace533",
   "metadata": {},
   "outputs": [
    {
     "name": "stdout",
     "output_type": "stream",
     "text": [
      "\n",
      "Generated Solution: [4, 19, 10, 2, 7, 5, 13, 11, 3, 8, 1, 18, 16, 14, 12, 6, 15, 0, 17, 9].\n",
      "Makespan: 1251.0\n",
      "\n",
      "Elapsed time:  12.659602642059326 seconds\n"
     ]
    }
   ],
   "source": [
    "start_time = time.time()\n",
    "sol, Cmax = vns(neh_20_5_6, instance_20_5_6, 100, 5)\n",
    "elapsed_time = time.time() - start_time\n",
    "\n",
    "print(f'\\nGenerated Solution: {sol}.')\n",
    "print(f'Makespan: {Cmax}')\n",
    "print(\"\\nElapsed time: \", elapsed_time, \"seconds\")\n",
    "\n",
    "VNS.append(\"%.3f\" % (Cmax))\n",
    "VNS.append(\" %.3fs\" % (elapsed_time))"
   ]
  },
  {
   "cell_type": "markdown",
   "id": "95d7f90c-0d7f-4f91-8b49-2d85be0a4acf",
   "metadata": {},
   "source": [
    "# Results"
   ]
  },
  {
   "cell_type": "code",
   "execution_count": 115,
   "id": "426fb768-8ba2-43cb-80fb-2967fa3d473c",
   "metadata": {},
   "outputs": [],
   "source": [
    "df = pd.DataFrame({'Algorithm': pd.Series(dtype='str'),\n",
    "                   'Common (Makespan)': pd.Series(dtype='str'),\n",
    "                   'Common (Time)': pd.Series(dtype='str'),\n",
    "                   '20-5-1 (Makespan)': pd.Series(dtype='str'),\n",
    "                   '20-5-1 (Time)': pd.Series(dtype='str'),\n",
    "                   '20-5-2 (Makespan)': pd.Series(dtype='str'),\n",
    "                   '20-5-2 (Time)': pd.Series(dtype='str'),\n",
    "                   '20-5-5 (Makespan)': pd.Series(dtype='str'),\n",
    "                   '20-5-5 (Time)': pd.Series(dtype='str'),\n",
    "                   '20-5-7 (Makespan)': pd.Series(dtype='str'),\n",
    "                   '20-5-7 (Time)': pd.Series(dtype='str'),\n",
    "                  }) "
   ]
  },
  {
   "cell_type": "code",
   "execution_count": 116,
   "id": "5040f53e-686b-4146-b566-1c15e25e5536",
   "metadata": {},
   "outputs": [],
   "source": [
    "df.loc[0]= Hybrid\n",
    "df.loc[1]= GA\n",
    "df.loc[2]= ACO\n",
    "df.loc[3]= NEH\n",
    "df.loc[4]= AH\n",
    "df.loc[5]= VNS"
   ]
  },
  {
   "cell_type": "code",
   "execution_count": 124,
   "id": "5f893b09-0514-43df-a7b7-b3c415b8f8d9",
   "metadata": {},
   "outputs": [],
   "source": [
    "columns_to_convert = ['Common (Makespan)', '20-5-1 (Makespan)', '20-5-2 (Makespan)', '20-5-5 (Makespan)', '20-5-7 (Makespan)']\n",
    "df[columns_to_convert] = df[columns_to_convert].astype(int)"
   ]
  },
  {
   "cell_type": "code",
   "execution_count": 125,
   "id": "e608e143-fc11-41ba-8724-da659ebf19a4",
   "metadata": {},
   "outputs": [
    {
     "name": "stdout",
     "output_type": "stream",
     "text": [
      "<class 'pandas.core.frame.DataFrame'>\n",
      "Int64Index: 6 entries, 0 to 5\n",
      "Data columns (total 11 columns):\n",
      " #   Column             Non-Null Count  Dtype \n",
      "---  ------             --------------  ----- \n",
      " 0   Algorithm          6 non-null      object\n",
      " 1   Common (Makespan)  6 non-null      int32 \n",
      " 2   Common (Time)      6 non-null      object\n",
      " 3   20-5-1 (Makespan)  6 non-null      int32 \n",
      " 4   20-5-1 (Time)      6 non-null      object\n",
      " 5   20-5-2 (Makespan)  6 non-null      int32 \n",
      " 6   20-5-2 (Time)      6 non-null      object\n",
      " 7   20-5-5 (Makespan)  6 non-null      int32 \n",
      " 8   20-5-5 (Time)      6 non-null      object\n",
      " 9   20-5-7 (Makespan)  6 non-null      int32 \n",
      " 10  20-5-7 (Time)      6 non-null      object\n",
      "dtypes: int32(5), object(6)\n",
      "memory usage: 456.0+ bytes\n"
     ]
    }
   ],
   "source": [
    "df.info()"
   ]
  },
  {
   "cell_type": "code",
   "execution_count": 126,
   "id": "71b59c29-5b39-4047-98ac-ee7083ec4318",
   "metadata": {},
   "outputs": [
    {
     "data": {
      "text/html": [
       "<div>\n",
       "<style scoped>\n",
       "    .dataframe tbody tr th:only-of-type {\n",
       "        vertical-align: middle;\n",
       "    }\n",
       "\n",
       "    .dataframe tbody tr th {\n",
       "        vertical-align: top;\n",
       "    }\n",
       "\n",
       "    .dataframe thead th {\n",
       "        text-align: right;\n",
       "    }\n",
       "</style>\n",
       "<table border=\"1\" class=\"dataframe\">\n",
       "  <thead>\n",
       "    <tr style=\"text-align: right;\">\n",
       "      <th></th>\n",
       "      <th>Algorithm</th>\n",
       "      <th>Common (Makespan)</th>\n",
       "      <th>Common (Time)</th>\n",
       "      <th>20-5-1 (Makespan)</th>\n",
       "      <th>20-5-1 (Time)</th>\n",
       "      <th>20-5-2 (Makespan)</th>\n",
       "      <th>20-5-2 (Time)</th>\n",
       "      <th>20-5-5 (Makespan)</th>\n",
       "      <th>20-5-5 (Time)</th>\n",
       "      <th>20-5-7 (Makespan)</th>\n",
       "      <th>20-5-7 (Time)</th>\n",
       "    </tr>\n",
       "  </thead>\n",
       "  <tbody>\n",
       "    <tr>\n",
       "      <th>0</th>\n",
       "      <td>Hybrid Algorithm</td>\n",
       "      <td>1104</td>\n",
       "      <td>0.504s</td>\n",
       "      <td>1278</td>\n",
       "      <td>7.048s</td>\n",
       "      <td>1359</td>\n",
       "      <td>9.155s</td>\n",
       "      <td>1235</td>\n",
       "      <td>7.586s</td>\n",
       "      <td>1239</td>\n",
       "      <td>9.022s</td>\n",
       "    </tr>\n",
       "    <tr>\n",
       "      <th>1</th>\n",
       "      <td>Genetic Algorithm</td>\n",
       "      <td>1107</td>\n",
       "      <td>0.547s</td>\n",
       "      <td>1330</td>\n",
       "      <td>1.129s</td>\n",
       "      <td>1393</td>\n",
       "      <td>1.193s</td>\n",
       "      <td>1311</td>\n",
       "      <td>1.074s</td>\n",
       "      <td>1288</td>\n",
       "      <td>1.074s</td>\n",
       "    </tr>\n",
       "    <tr>\n",
       "      <th>2</th>\n",
       "      <td>Ant colony</td>\n",
       "      <td>1113</td>\n",
       "      <td>0.264s</td>\n",
       "      <td>1380</td>\n",
       "      <td>0.289s</td>\n",
       "      <td>1415</td>\n",
       "      <td>0.554s</td>\n",
       "      <td>1355</td>\n",
       "      <td>0.519s</td>\n",
       "      <td>1360</td>\n",
       "      <td>0.521s</td>\n",
       "    </tr>\n",
       "    <tr>\n",
       "      <th>3</th>\n",
       "      <td>NEH</td>\n",
       "      <td>1105</td>\n",
       "      <td>0.004s</td>\n",
       "      <td>1334</td>\n",
       "      <td>0.026s</td>\n",
       "      <td>1367</td>\n",
       "      <td>0.035s</td>\n",
       "      <td>1319</td>\n",
       "      <td>0.034s</td>\n",
       "      <td>1284</td>\n",
       "      <td>0.030s</td>\n",
       "    </tr>\n",
       "    <tr>\n",
       "      <th>4</th>\n",
       "      <td>Artificial heuristic</td>\n",
       "      <td>1110</td>\n",
       "      <td>0.002s</td>\n",
       "      <td>1367</td>\n",
       "      <td>0.004s</td>\n",
       "      <td>1432</td>\n",
       "      <td>0.003s</td>\n",
       "      <td>1300</td>\n",
       "      <td>0.003s</td>\n",
       "      <td>1393</td>\n",
       "      <td>0.004s</td>\n",
       "    </tr>\n",
       "    <tr>\n",
       "      <th>5</th>\n",
       "      <td>VNS</td>\n",
       "      <td>1105</td>\n",
       "      <td>1.572s</td>\n",
       "      <td>1297</td>\n",
       "      <td>16.344s</td>\n",
       "      <td>1366</td>\n",
       "      <td>14.122s</td>\n",
       "      <td>1250</td>\n",
       "      <td>11.958s</td>\n",
       "      <td>1251</td>\n",
       "      <td>12.660s</td>\n",
       "    </tr>\n",
       "  </tbody>\n",
       "</table>\n",
       "</div>"
      ],
      "text/plain": [
       "              Algorithm  Common (Makespan) Common (Time)  20-5-1 (Makespan)  \\\n",
       "0      Hybrid Algorithm               1104        0.504s               1278   \n",
       "1     Genetic Algorithm               1107        0.547s               1330   \n",
       "2            Ant colony               1113        0.264s               1380   \n",
       "3                   NEH               1105        0.004s               1334   \n",
       "4  Artificial heuristic               1110        0.002s               1367   \n",
       "5                   VNS               1105        1.572s               1297   \n",
       "\n",
       "  20-5-1 (Time)  20-5-2 (Makespan) 20-5-2 (Time)  20-5-5 (Makespan)  \\\n",
       "0        7.048s               1359        9.155s               1235   \n",
       "1        1.129s               1393        1.193s               1311   \n",
       "2        0.289s               1415        0.554s               1355   \n",
       "3        0.026s               1367        0.035s               1319   \n",
       "4        0.004s               1432        0.003s               1300   \n",
       "5       16.344s               1366       14.122s               1250   \n",
       "\n",
       "  20-5-5 (Time)  20-5-7 (Makespan) 20-5-7 (Time)  \n",
       "0        7.586s               1239        9.022s  \n",
       "1        1.074s               1288        1.074s  \n",
       "2        0.519s               1360        0.521s  \n",
       "3        0.034s               1284        0.030s  \n",
       "4        0.003s               1393        0.004s  \n",
       "5       11.958s               1251       12.660s  "
      ]
     },
     "execution_count": 126,
     "metadata": {},
     "output_type": "execute_result"
    }
   ],
   "source": [
    "df"
   ]
  },
  {
   "cell_type": "code",
   "execution_count": 3,
   "id": "548d4523-2921-4460-ada4-0e2a7b477bbe",
   "metadata": {},
   "outputs": [
    {
     "data": {
      "image/png": "[encoded data removed]",
      "text/plain": [
       "<Figure size 1000x600 with 1 Axes>"
      ]
     },
     "metadata": {},
     "output_type": "display_data"
    }
   ],
   "source": [
    "import pandas as pd\n",
    "import numpy as np\n",
    "import matplotlib.pyplot as plt\n",
    "\n",
    "# Create the dataframe\n",
    "data = {\n",
    "    'Algorithm': ['Hybrid Algorithm', 'Genetic Algorithm', 'Ant colony', 'NEH', 'Artificial heuristic', 'VNS'],\n",
    "    'Common (Makespan)': [1104, 1107, 1113, 1105, 1110, 1105],\n",
    "    '20-5-1 (Makespan)': [1278, 1330, 1380, 1334, 1367, 1297],\n",
    "    '20-5-2 (Makespan)': [1359, 1393, 1415, 1367, 1432, 1366],\n",
    "    '20-5-5 (Makespan)': [1235, 1311, 1355, 1319, 1300, 1250],\n",
    "    '20-5-7 (Makespan)': [1239, 1288, 1360, 1284, 1393, 1251]\n",
    "}\n",
    "\n",
    "df = pd.DataFrame(data)\n",
    "\n",
    "# Set the colors for the algorithms\n",
    "colors = ['#1f77b4', '#ff7f0e', '#2ca02c', '#d62728', '#9467bd', '#8c564b']\n",
    "\n",
    "# Create a bar plot\n",
    "plt.figure(figsize=(10, 6))\n",
    "\n",
    "# Plot the bars for each algorithm\n",
    "instances = ['Common', '20-5-1', '20-5-2', '20-5-5', '20-5-7']\n",
    "for i, instance in enumerate(instances):\n",
    "    plt.barh(np.arange(len(df['Algorithm'])) + (i * 0.1), df[instance + ' (Makespan)'], height=0.1, color=colors[i], label=instance)\n",
    "\n",
    "# Set plot labels and title\n",
    "plt.xlabel('Makespan')\n",
    "plt.ylabel('Algorithm')\n",
    "plt.title('Makespan Comparison for Different Instances and Algorithms')\n",
    "\n",
    "# Add a legend\n",
    "plt.legend()\n",
    "\n",
    "# Set y-axis ticks and tick labels\n",
    "plt.yticks(np.arange(len(df['Algorithm'])), df['Algorithm'])\n",
    "\n",
    "# Show the plot\n",
    "plt.tight_layout()\n",
    "plt.show()\n"
   ]
  },
  {
   "cell_type": "code",
   "execution_count": null,
   "id": "82946232-c6f1-4cac-b318-74723b3e2ab9",
   "metadata": {},
   "outputs": [],
   "source": [
    "# Library Import(numpy and matplotlib)\n",
    "import numpy as np \n",
    "import matplotlib.pyplot as plot \n",
    "\n",
    " \n",
    "df.plot(x=\"Algorithm\", y=[\"Machine Learning\", \"BlockChain\", \"Cyber Security\"], kind=\"bar\",\n",
    "        figsize=(8,5), color=my_color)\n",
    " \n",
    "# Add title\n",
    "plot.title(\"Student VS Course\")\n",
    " \n",
    "# Display the plt\n",
    "plot.show()\n"
   ]
  },
  {
   "cell_type": "code",
   "execution_count": 4,
   "id": "63b49e6b-76b0-461c-aca3-e6c998029fe8",
   "metadata": {},
   "outputs": [
    {
     "data": {
      "text/html": [
       "<div>\n",
       "<style scoped>\n",
       "    .dataframe tbody tr th:only-of-type {\n",
       "        vertical-align: middle;\n",
       "    }\n",
       "\n",
       "    .dataframe tbody tr th {\n",
       "        vertical-align: top;\n",
       "    }\n",
       "\n",
       "    .dataframe thead th {\n",
       "        text-align: right;\n",
       "    }\n",
       "</style>\n",
       "<table border=\"1\" class=\"dataframe\">\n",
       "  <thead>\n",
       "    <tr style=\"text-align: right;\">\n",
       "      <th>Algorithm</th>\n",
       "      <th>Hybrid Algorithm</th>\n",
       "      <th>Genetic Algorithm</th>\n",
       "      <th>Ant colony</th>\n",
       "      <th>NEH</th>\n",
       "      <th>Artificial heuristic</th>\n",
       "      <th>VNS</th>\n",
       "    </tr>\n",
       "  </thead>\n",
       "  <tbody>\n",
       "    <tr>\n",
       "      <th>Common (Makespan)</th>\n",
       "      <td>1104</td>\n",
       "      <td>1107</td>\n",
       "      <td>1113</td>\n",
       "      <td>1105</td>\n",
       "      <td>1110</td>\n",
       "      <td>1105</td>\n",
       "    </tr>\n",
       "    <tr>\n",
       "      <th>20-5-1 (Makespan)</th>\n",
       "      <td>1278</td>\n",
       "      <td>1330</td>\n",
       "      <td>1380</td>\n",
       "      <td>1334</td>\n",
       "      <td>1367</td>\n",
       "      <td>1297</td>\n",
       "    </tr>\n",
       "    <tr>\n",
       "      <th>20-5-2 (Makespan)</th>\n",
       "      <td>1359</td>\n",
       "      <td>1393</td>\n",
       "      <td>1415</td>\n",
       "      <td>1367</td>\n",
       "      <td>1432</td>\n",
       "      <td>1366</td>\n",
       "    </tr>\n",
       "    <tr>\n",
       "      <th>20-5-5 (Makespan)</th>\n",
       "      <td>1235</td>\n",
       "      <td>1311</td>\n",
       "      <td>1355</td>\n",
       "      <td>1319</td>\n",
       "      <td>1300</td>\n",
       "      <td>1250</td>\n",
       "    </tr>\n",
       "    <tr>\n",
       "      <th>20-5-7 (Makespan)</th>\n",
       "      <td>1239</td>\n",
       "      <td>1288</td>\n",
       "      <td>1360</td>\n",
       "      <td>1284</td>\n",
       "      <td>1393</td>\n",
       "      <td>1251</td>\n",
       "    </tr>\n",
       "  </tbody>\n",
       "</table>\n",
       "</div>"
      ],
      "text/plain": [
       "Algorithm          Hybrid Algorithm  Genetic Algorithm  Ant colony   NEH  \\\n",
       "Common (Makespan)              1104               1107        1113  1105   \n",
       "20-5-1 (Makespan)              1278               1330        1380  1334   \n",
       "20-5-2 (Makespan)              1359               1393        1415  1367   \n",
       "20-5-5 (Makespan)              1235               1311        1355  1319   \n",
       "20-5-7 (Makespan)              1239               1288        1360  1284   \n",
       "\n",
       "Algorithm          Artificial heuristic   VNS  \n",
       "Common (Makespan)                  1110  1105  \n",
       "20-5-1 (Makespan)                  1367  1297  \n",
       "20-5-2 (Makespan)                  1432  1366  \n",
       "20-5-5 (Makespan)                  1300  1250  \n",
       "20-5-7 (Makespan)                  1393  1251  "
      ]
     },
     "execution_count": 4,
     "metadata": {},
     "output_type": "execute_result"
    }
   ],
   "source": [
    "df = df.set_index('Algorithm').T\n",
    "df"
   ]
  },
  {
   "cell_type": "markdown",
   "id": "75636462-cb4d-4a91-9872-23d83f4fb39c",
   "metadata": {
    "jp-MarkdownHeadingCollapsed": true,
    "tags": []
   },
   "source": [
    "# Remarks"
   ]
  },
  {
   "cell_type": "markdown",
   "id": "00db4365-687a-4d79-b505-13c83fac8403",
   "metadata": {},
   "source": [
    "Based on the observed outcomes, we notice that VNS (Variable Neighborhood Search) consumed the highest amount of time. This can be attributed to the utilization of the 'method' parameter set to random. This implies that during each iteration, a neighboring function is randomly selected from the pool of six available functions. In the case of larger instances (consisting of more than ten jobs), neighboring functions like best_swap or best_insertion tend to require a substantial amount of time for execution.\n",
    "\n",
    "By considering random_swap as the neighboring function for all iterations, it can be observed that the overall time is significantly reduced. However the makespan achieved isn't that good compared to the one obtained above."
   ]
  },
  {
   "cell_type": "code",
   "execution_count": 127,
   "id": "02551f1c-2d90-42b8-bd3f-79d8de8eb916",
   "metadata": {},
   "outputs": [],
   "source": [
    "def vns(sol_init, processing_times, max_iterations, k_max):\n",
    "    num_jobs = len(sol_init)\n",
    "    current_solution = sol_init\n",
    "    current_cost = evaluate_sequence(current_solution, processing_times)\n",
    "    k = 1\n",
    "    iteration = 0\n",
    "    while iteration < max_iterations:       \n",
    "        # Appliquer la perturbation \"shake\" pour générer le voisin aléatoire\n",
    "        best_neighbor_solution = shake_VNS(current_solution, k)\n",
    "        best_neighbor_cost = evaluate_sequence(best_neighbor_solution, processing_times)\n",
    "        \n",
    "        # Parcourir les voisins pour trouver la meilleure solution locale\n",
    "        for l in range(1, k_max+1):\n",
    "            neighbor, neighbor_cost  = get_neighbor(current_solution, processing_times, method='random_swap')\n",
    "            if (neighbor_cost < best_neighbor_cost):\n",
    "                best_neighbor_solution = neighbor\n",
    "                best_neighbor_cost = neighbor_cost            \n",
    "        if ( best_neighbor_cost < current_cost ):\n",
    "            current_solution = best_neighbor_solution\n",
    "            current_cost = best_neighbor_cost\n",
    "            k = 1\n",
    "        else:\n",
    "            k += 1\n",
    "        iteration += 1\n",
    "    return current_solution, current_cost"
   ]
  },
  {
   "cell_type": "code",
   "execution_count": 128,
   "id": "38b7eb95-f5e1-4833-963a-e3fe552b3418",
   "metadata": {},
   "outputs": [
    {
     "name": "stdout",
     "output_type": "stream",
     "text": [
      "\n",
      "Generated Solution: [8, 12, 15, 10, 7, 1, 16, 2, 14, 13, 17, 3, 4, 11, 0, 18, 5, 9, 6, 19].\n",
      "Makespan: 1305.0\n",
      "\n",
      "Elapsed time:  0.17364192008972168 seconds\n"
     ]
    }
   ],
   "source": [
    "start_time = time.time()\n",
    "sol, Cmax = vns(neh_20_5_0, instance_20_5_0, 100, 5)\n",
    "elapsed_time = time.time() - start_time\n",
    "\n",
    "print(f'\\nGenerated Solution: {sol}.')\n",
    "print(f'Makespan: {Cmax}')\n",
    "print(\"\\nElapsed time: \", elapsed_time, \"seconds\")"
   ]
  }
 ],
 "metadata": {
  "kernelspec": {
   "display_name": "Python 3 (ipykernel)",
   "language": "python",
   "name": "python3"
  },
  "language_info": {
   "codemirror_mode": {
    "name": "ipython",
    "version": 3
   },
   "file_extension": ".py",
   "mimetype": "text/x-python",
   "name": "python",
   "nbconvert_exporter": "python",
   "pygments_lexer": "ipython3",
   "version": "3.10.9"
  }
 },
 "nbformat": 4,
 "nbformat_minor": 5
}
