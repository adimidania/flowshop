{
 "cells": [
  {
   "cell_type": "markdown",
   "id": "77f27592-08b0-4dd6-80c3-0396c2a1fc08",
   "metadata": {},
   "source": [
    "# Local search - Flowshop problem"
   ]
  },
  {
   "cell_type": "markdown",
   "id": "44b0addf-4dcd-40c6-a31a-25f4e5003253",
   "metadata": {},
   "source": [
    "This notebook contains a hands-on the flowshop problem. We will focus on implementing some of the most known local search algorithms in order to solve this problem.\n",
    "\n",
    "### Table of content\n",
    "- [Neighborhood functions](#Neighborhood-functions)\n",
    "- [Random walk](#Random-walk)\n",
    "- [Hill climbing](#Hill-climbing)\n",
    "    - [Simple Hill climbing](#Simple-hill-climbing)\n",
    "    - [Steepest Ascent Hill climbing](#Steepest-ascent-hill-climbing)\n",
    "    - [Stochastic Hill climbing](#Stochastic-hill-climbing)\n",
    "- [Simulated annealing](#Simulated-annealing)\n",
    "- [Tabu Search](#Tabu-Search)\n",
    "- [VNS](#VNS)\n",
    "- [Tests](#Tests)\n",
    "\n",
    "\n",
    "### References\n",
    "- [Benchmarks for Basic Scheduling Problems](http://mistic.heig-vd.ch/taillard/articles.dir/Taillard1993EJOR.pdf)\n",
    "- [Introduction to Hill Climbing](https://www.geeksforgeeks.org/introduction-hill-climbing-artificial-intelligence/)\n",
    "- [Implement Simulated annealing in Python](https://medium.com/swlh/how-to-implement-simulated-annealing-algorithm-in-python-ab196c2f56a0)\n",
    "- [Tabu Search](https://medium.com/swlh/tabu-search-in-python-3199c44d44f1)"
   ]
  },
  {
   "cell_type": "code",
   "execution_count": 1,
   "id": "605c8752-b209-4806-a627-f522d8bcd2c0",
   "metadata": {},
   "outputs": [],
   "source": [
    "import numpy as np\n",
    "import matplotlib as plt\n",
    "import itertools\n",
    "import time\n",
    "import pandas as pd\n",
    "import math\n",
    "import random\n",
    "from collections import deque\n",
    "from itertools import combinations"
   ]
  },
  {
   "cell_type": "code",
   "execution_count": 2,
   "id": "09fa172d-7df7-4b79-a5bd-5d15c06ab60a",
   "metadata": {},
   "outputs": [],
   "source": [
    "def evaluate_sequence(sequence, processing_times):\n",
    "    _, num_machines = processing_times.shape\n",
    "    num_jobs = len(sequence)\n",
    "    completion_times = np.zeros((num_jobs, num_machines))\n",
    "    \n",
    "    # Calculate the completion times for the first machine\n",
    "    completion_times[0][0] = processing_times[sequence[0]][0]\n",
    "    for i in range(1, num_jobs):\n",
    "        completion_times[i][0] = completion_times[i-1][0] + processing_times[sequence[i]][0]\n",
    "    \n",
    "    # Calculate the completion times for the remaining machines\n",
    "    for j in range(1, num_machines):\n",
    "        completion_times[0][j] = completion_times[0][j-1] + processing_times[sequence[0]][j]\n",
    "        for i in range(1, num_jobs):\n",
    "            completion_times[i][j] = max(completion_times[i-1][j], completion_times[i][j-1]) + processing_times[sequence[i]][j]\n",
    "    \n",
    "    # Return the total completion time, which is the completion time of the last job in the last machine\n",
    "    return completion_times[num_jobs-1][num_machines-1]"
   ]
  },
  {
   "cell_type": "code",
   "execution_count": 3,
   "id": "fe1ca7e2-b67c-4af6-be0c-0fc65c2a93b6",
   "metadata": {},
   "outputs": [
    {
     "name": "stdout",
     "output_type": "stream",
     "text": [
      "[[ 16  80  37   9  18  74   8  87  74 114]\n",
      " [ 81  78  50  26   8 117 103  96  47  56]\n",
      " [117   7  78 107  96 100  84  89  25  54]\n",
      " [  9  78  33  84  36  31  36  84  54 102]\n",
      " [ 99  62  19  16  26  28  18  36 119  94]\n",
      " [ 97 107  31  78  11  38  82  55  81  35]\n",
      " [ 94  67  84  84  24  55  61 117  68  60]\n",
      " [ 89  81  82 116  22  82  73  86  11  98]\n",
      " [110  74  42 113  44   7  76  96   9  35]\n",
      " [ 30  14  16   7  30 115  75  18 106  22]\n",
      " [ 99  63  97 103  73  53  77  55  49  33]\n",
      " [ 78  13  39 112  82  99  38  88  63  87]\n",
      " [ 53  68  33 113 116  40  34  14  68  71]\n",
      " [ 80 117  69  47 103 115  77  50  43  39]\n",
      " [ 30 103 109  45  36 110  88 100  98 100]] \n",
      "\n",
      "Initial solution: [5, 9, 6, 8, 1, 3, 0, 4, 7, 2] \n",
      "\n",
      "Makespan: 1547.0\n"
     ]
    }
   ],
   "source": [
    "# Generate a random example to work with 7 jobs and 2 machines\n",
    "rnd_data = np.random.randint(size=(15,10), low=5, high=120)\n",
    "permutation = np.random.permutation(10).tolist()\n",
    "print(rnd_data, \"\\n\")\n",
    "print('Initial solution:', permutation, \"\\n\")\n",
    "\n",
    "Cmax = evaluate_sequence(permutation, rnd_data)\n",
    "print(f'Makespan: {Cmax}')"
   ]
  },
  {
   "cell_type": "markdown",
   "id": "60015e82-6520-4d50-9db8-f6be4d8ad487",
   "metadata": {},
   "source": [
    "# Neighborhood functions"
   ]
  },
  {
   "cell_type": "markdown",
   "id": "27b59d5c-3fd8-4157-b1f2-31779f2d0076",
   "metadata": {},
   "source": [
    "#### Swap-based functions"
   ]
  },
  {
   "cell_type": "code",
   "execution_count": 4,
   "id": "e5db5838-9c99-450b-bc55-f8370c8f17fe",
   "metadata": {},
   "outputs": [],
   "source": [
    "def swap(solution, i, k):\n",
    "    temp = solution[k]\n",
    "    solution[k] = solution[i]\n",
    "    solution[i] = temp\n",
    "    return solution"
   ]
  },
  {
   "cell_type": "code",
   "execution_count": 5,
   "id": "12f5d601-043f-430e-8a87-8cd1a0c892fc",
   "metadata": {},
   "outputs": [],
   "source": [
    "def random_swap(solution, processing_times):\n",
    "    i = np.random.choice(list(solution))\n",
    "    k = np.random.choice(list(solution))\n",
    "    # Generating two different random positions\n",
    "    while (i == k):\n",
    "        k = np.random.choice(list(solution))\n",
    "    # Switch between job i and job k in the given sequence\n",
    "    neighbor = solution.copy()\n",
    "    return swap(neighbor, i, k), evaluate_sequence(neighbor, processing_times)"
   ]
  },
  {
   "cell_type": "code",
   "execution_count": 6,
   "id": "49aa10a6-2a2f-4d7e-9900-0f2ba56f74ec",
   "metadata": {},
   "outputs": [
    {
     "name": "stdout",
     "output_type": "stream",
     "text": [
      "Original solution: [5, 9, 6, 8, 1, 3, 0, 4, 7, 2]\n",
      "Makespan:  1547.0\n",
      "\n",
      "Neighboor solution: [5, 2, 6, 8, 1, 3, 0, 4, 7, 9]\n",
      "Makespan: 1676.0\n"
     ]
    }
   ],
   "source": [
    "neighbor, neighbor_cmax = random_swap(permutation, rnd_data)\n",
    "\n",
    "print(\"Original solution:\", permutation)\n",
    "print(\"Makespan: \", Cmax)\n",
    "\n",
    "print(\"\\nNeighboor solution:\", neighbor)\n",
    "print(\"Makespan:\", neighbor_cmax)"
   ]
  },
  {
   "cell_type": "code",
   "execution_count": 7,
   "id": "4aab5d0b-26f4-4db2-83cb-59fa266f86bf",
   "metadata": {},
   "outputs": [],
   "source": [
    "def best_first_swap(solution, processing_times):\n",
    "    # This function will take a solution, and return the first best solution.\n",
    "    # The first solution that is better then the current one 'solution' in args.\n",
    "    num_jobs = len(solution)\n",
    "    best_cmax = evaluate_sequence(solution, processing_times)\n",
    "    best_neighbor = solution.copy()\n",
    "    for k1 in range(num_jobs):\n",
    "        for k2 in range(k1+1, num_jobs):\n",
    "            neighbor = solution.copy()\n",
    "            neighbor = swap(neighbor,k1,k2)\n",
    "            cmax = evaluate_sequence(neighbor, processing_times)\n",
    "            if cmax < best_cmax:\n",
    "                best_neighbor = neighbor\n",
    "                best_cmax = cmax\n",
    "                return best_neighbor, best_cmax\n",
    "    return best_neighbor, best_cmax"
   ]
  },
  {
   "cell_type": "code",
   "execution_count": 8,
   "id": "62fe24a1-bd81-48b6-b423-3b7748a1562b",
   "metadata": {},
   "outputs": [
    {
     "name": "stdout",
     "output_type": "stream",
     "text": [
      "Original solution: [5, 9, 6, 8, 1, 3, 0, 4, 7, 2]\n",
      "Makespan: 1547.0\n",
      "\n",
      "Neighboor solution: [3, 9, 6, 8, 1, 5, 0, 4, 7, 2]\n",
      "Makespan: 1504.0\n"
     ]
    }
   ],
   "source": [
    "neighbor, neighbor_cmax = best_first_swap(permutation, rnd_data)\n",
    "\n",
    "print(\"Original solution:\", permutation)\n",
    "print(\"Makespan:\", Cmax)\n",
    "\n",
    "print(\"\\nNeighboor solution:\", neighbor)\n",
    "print(\"Makespan:\", neighbor_cmax)"
   ]
  },
  {
   "cell_type": "code",
   "execution_count": 9,
   "id": "3400517d-4c62-4fc4-9f17-69ecdfea6e3f",
   "metadata": {},
   "outputs": [],
   "source": [
    "def best_swap(solution, processing_times):\n",
    "    # This function will take a solution, and return its best neighbor solution.\n",
    "    num_jobs = len(solution)\n",
    "    best_cmax = np.Infinity\n",
    "    for k1 in range(num_jobs):\n",
    "        for k2 in range(k1+1, num_jobs):\n",
    "            neighbor = solution.copy()\n",
    "            neighbor = swap(neighbor,k1,k2)\n",
    "            cmax = evaluate_sequence(neighbor, processing_times)\n",
    "            if cmax < best_cmax:\n",
    "                best_neighbor = neighbor\n",
    "                best_cmax = cmax\n",
    "    return best_neighbor, best_cmax"
   ]
  },
  {
   "cell_type": "code",
   "execution_count": 10,
   "id": "004a9d57-13c3-4fff-bd92-5479cce13819",
   "metadata": {},
   "outputs": [
    {
     "name": "stdout",
     "output_type": "stream",
     "text": [
      "Original solution: [5, 9, 6, 8, 1, 3, 0, 4, 7, 2]\n",
      "Makespan: 1547.0\n",
      "\n",
      "Neighboor solution: [0, 9, 6, 8, 1, 3, 5, 4, 7, 2]\n",
      "Makespan: 1490.0\n"
     ]
    }
   ],
   "source": [
    "neighbor, neighbor_cmax = best_swap(permutation, rnd_data)\n",
    "\n",
    "print(\"Original solution:\", permutation)\n",
    "print(\"Makespan:\", Cmax)\n",
    "\n",
    "print(\"\\nNeighboor solution:\", neighbor)\n",
    "print(\"Makespan:\", neighbor_cmax)"
   ]
  },
  {
   "cell_type": "code",
   "execution_count": 11,
   "id": "ac539f4d-2c22-4cd1-bceb-4b2a628a43ac",
   "metadata": {
    "tags": []
   },
   "outputs": [],
   "source": [
    "def best_swaps(solution, processing_times):\n",
    "    # This function will take a solution, and return a list that contains all solutions that are better than it.\n",
    "    num_jobs = len(solution)\n",
    "    cmax = evaluate_sequence(solution, processing_times)\n",
    "    bests = []\n",
    "    for k1 in range(num_jobs):\n",
    "        for k2 in range(k1+1, num_jobs):\n",
    "            neighbor = solution.copy()\n",
    "            swap(neighbor,k1,k2)\n",
    "            neighbor_cmax = evaluate_sequence(neighbor, processing_times)\n",
    "            if neighbor_cmax < cmax:\n",
    "                bests.append((neighbor_cmax, neighbor))\n",
    "    bests.sort(key=lambda x: x[0])\n",
    "    return bests"
   ]
  },
  {
   "cell_type": "code",
   "execution_count": 12,
   "id": "23d6fbc4-6ec6-4998-9c98-4c8ca3c52fbe",
   "metadata": {},
   "outputs": [
    {
     "name": "stdout",
     "output_type": "stream",
     "text": [
      "Original solution: [5, 9, 6, 8, 1, 3, 0, 4, 7, 2]\n",
      "Makespan: 1547.0\n",
      "\n",
      "\n",
      "Better Neighboors: [(1490.0, [0, 9, 6, 8, 1, 3, 5, 4, 7, 2]), (1504.0, [3, 9, 6, 8, 1, 5, 0, 4, 7, 2]), (1506.0, [5, 9, 6, 0, 1, 3, 8, 4, 7, 2]), (1529.0, [5, 9, 0, 8, 1, 3, 6, 4, 7, 2]), (1530.0, [5, 9, 6, 8, 7, 3, 0, 4, 1, 2]), (1537.0, [5, 9, 3, 8, 1, 6, 0, 4, 7, 2]), (1537.0, [5, 9, 6, 8, 0, 3, 1, 4, 7, 2]), (1537.0, [5, 9, 6, 8, 1, 3, 7, 4, 0, 2]), (1540.0, [5, 1, 6, 8, 9, 3, 0, 4, 7, 2]), (1542.0, [5, 9, 6, 8, 1, 3, 0, 7, 4, 2]), (1545.0, [5, 9, 6, 3, 1, 8, 0, 4, 7, 2]), (1545.0, [5, 9, 6, 4, 1, 3, 0, 8, 7, 2])]\n"
     ]
    }
   ],
   "source": [
    "bests = best_swaps(permutation, rnd_data)\n",
    "\n",
    "print(\"Original solution:\", permutation)\n",
    "print(\"Makespan:\", Cmax)\n",
    "\n",
    "print(\"\\n\\nBetter Neighboors:\", bests)"
   ]
  },
  {
   "cell_type": "markdown",
   "id": "a560b467-2512-4134-87e7-1a25acef4a34",
   "metadata": {},
   "source": [
    "#### Insertion-based functions"
   ]
  },
  {
   "cell_type": "code",
   "execution_count": 13,
   "id": "f8374ebb-925b-4971-b070-63b9ecb644be",
   "metadata": {},
   "outputs": [],
   "source": [
    "def random_insertion(solution, processing_times):\n",
    "    # This function consists of choosing random two indices, i and k.\n",
    "    # Remove the element at indice i, and insert it in the position k.\n",
    "    i = np.random.choice(list(solution))\n",
    "    k = np.random.choice(list(solution))\n",
    "    while (i == k):\n",
    "        k = np.random.choice(list(solution))\n",
    "    neighbor = solution.copy()\n",
    "    neighbor.remove(solution[i])\n",
    "    neighbor.insert(k, solution[i])\n",
    "    return neighbor, evaluate_sequence(neighbor, processing_times)"
   ]
  },
  {
   "cell_type": "code",
   "execution_count": 14,
   "id": "71d8c528-1416-4616-b65c-98f3666b188f",
   "metadata": {},
   "outputs": [
    {
     "name": "stdout",
     "output_type": "stream",
     "text": [
      "Original solution: [5, 9, 6, 8, 1, 3, 0, 4, 7, 2]\n",
      "Makespan: 1547.0\n",
      "\n",
      "Neighboor solution: [5, 9, 7, 6, 8, 1, 3, 0, 4, 2]\n",
      "Makespan: 1581.0\n"
     ]
    }
   ],
   "source": [
    "neighbor, neighbor_cmax = random_insertion(permutation, rnd_data)\n",
    "\n",
    "print(\"Original solution:\", permutation)\n",
    "print(\"Makespan:\", Cmax)\n",
    "\n",
    "print(\"\\nNeighboor solution:\", neighbor)\n",
    "print(\"Makespan:\", neighbor_cmax)"
   ]
  },
  {
   "cell_type": "code",
   "execution_count": 15,
   "id": "4e230e0c-4012-43be-84f1-7bdca28aa8d1",
   "metadata": {},
   "outputs": [],
   "source": [
    "def best_insertion(solution, processing_times):\n",
    "    # This function consists of trying all different insertions.\n",
    "    # Then it returns the best one among them\n",
    "    num_jobs = len(solution)\n",
    "    best_cmax = np.Infinity\n",
    "    for k1 in range(num_jobs):\n",
    "        s = solution.copy()\n",
    "        s_job = solution[k1]\n",
    "        s.remove(s_job)\n",
    "        for k2 in range(num_jobs):\n",
    "            if k1 != k2:\n",
    "                neighbor = s.copy()\n",
    "                neighbor.insert(k2, s_job)\n",
    "                cmax = evaluate_sequence(neighbor, processing_times)\n",
    "                if cmax < best_cmax:\n",
    "                    best_neighbor = neighbor\n",
    "                    best_cmax = cmax\n",
    "    return best_neighbor, best_cmax"
   ]
  },
  {
   "cell_type": "code",
   "execution_count": 16,
   "id": "1f47c7d9-750d-4ae0-ab29-164cf178b89d",
   "metadata": {},
   "outputs": [
    {
     "name": "stdout",
     "output_type": "stream",
     "text": [
      "Original solution: [5, 9, 6, 8, 1, 3, 0, 4, 7, 2]\n",
      "Makespan: 1547.0\n",
      "\n",
      "Neighboor solution: [3, 5, 9, 6, 8, 1, 0, 4, 7, 2]\n",
      "Makespan: 1475.0\n"
     ]
    }
   ],
   "source": [
    "neighbor, neighbor_cmax = best_insertion(permutation, rnd_data)\n",
    "\n",
    "print(\"Original solution:\", permutation)\n",
    "print(\"Makespan:\", Cmax)\n",
    "\n",
    "print(\"\\nNeighboor solution:\", neighbor)\n",
    "print(\"Makespan:\", neighbor_cmax)"
   ]
  },
  {
   "cell_type": "code",
   "execution_count": 17,
   "id": "b00ad379-861e-4717-ad36-6f7f84081fc4",
   "metadata": {},
   "outputs": [],
   "source": [
    "def best_edge_insertion(solution, processing_times):\n",
    "    num_jobs = len(solution)\n",
    "    best_cmax = np.Infinity\n",
    "    for k1 in range(num_jobs-1):\n",
    "        s = solution.copy()\n",
    "        s_job1 = s[k1] \n",
    "        s_job2 = s[k1+1]\n",
    "        s.remove(s_job1)\n",
    "        s.remove(s_job2)\n",
    "        for k2 in range(num_jobs-1):\n",
    "            if(k1 != k2):\n",
    "                neighbor = s.copy()\n",
    "                neighbor.insert(k2, s_job1)\n",
    "                neighbor.insert(k2+1, s_job2)\n",
    "                cmax = evaluate_sequence(neighbor, processing_times)\n",
    "                if cmax < best_cmax:\n",
    "                    best_neighbor = neighbor\n",
    "                    best_cmax = cmax\n",
    "    return best_neighbor, best_cmax"
   ]
  },
  {
   "cell_type": "code",
   "execution_count": 18,
   "id": "b063869a-9c1e-4f74-beca-3fadebb7058d",
   "metadata": {},
   "outputs": [
    {
     "name": "stdout",
     "output_type": "stream",
     "text": [
      "Original solution: [5, 9, 6, 8, 1, 3, 0, 4, 7, 2]\n",
      "Makespan: 1547.0\n",
      "\n",
      "Neighboor solution: [3, 0, 5, 9, 6, 8, 1, 4, 7, 2]\n",
      "Makespan: 1459.0\n"
     ]
    }
   ],
   "source": [
    "neighbor, neighbor_cmax = best_edge_insertion(permutation, rnd_data)\n",
    "\n",
    "print(\"Original solution:\", permutation)\n",
    "print(\"Makespan:\", Cmax)\n",
    "\n",
    "print(\"\\nNeighboor solution:\", neighbor)\n",
    "print(\"Makespan:\", neighbor_cmax)"
   ]
  },
  {
   "cell_type": "markdown",
   "id": "692dbdf1-e4c6-410f-be29-c7ffac5b65f8",
   "metadata": {},
   "source": [
    "# Random walk"
   ]
  },
  {
   "cell_type": "code",
   "execution_count": 19,
   "id": "4dcb91ed-9780-4c73-94b4-b91c2abe1947",
   "metadata": {},
   "outputs": [],
   "source": [
    "def random_walk(solution, processing_times, nb_iter=1000, threshold=None):\n",
    "    x = solution\n",
    "    cmax = evaluate_sequence(solution, processing_times)\n",
    "    iterations = 0\n",
    "    while iterations < nb_iter:\n",
    "        x, cmax = random_swap(x, processing_times)\n",
    "        if threshold is not None and cmax < threshold:\n",
    "            return x, cmax, iterations\n",
    "        iterations += 1\n",
    "    return x, cmax, iterations"
   ]
  },
  {
   "cell_type": "code",
   "execution_count": 20,
   "id": "f5c31e87-a169-4b31-a8f8-26ec4d9341a0",
   "metadata": {},
   "outputs": [
    {
     "name": "stdout",
     "output_type": "stream",
     "text": [
      "Initial solution: [5, 9, 6, 8, 1, 3, 0, 4, 7, 2]\n",
      "Makespan: 1547.0\n",
      "\n",
      "Generated solution: [3, 9, 7, 8, 1, 0, 4, 5, 6, 2]\n",
      "Makespan: 1436.0\n",
      "Number of iterations: 3\n",
      "\n",
      "Elapsed time: 0.0029571056365966797 seconds\n"
     ]
    }
   ],
   "source": [
    "print(\"Initial solution:\", permutation)\n",
    "print(\"Makespan:\", Cmax)\n",
    "\n",
    "start_time = time.time()\n",
    "neighbor, neighbor_cmax, iterations = random_walk(permutation, rnd_data, threshold=1450)\n",
    "elapsed_time = time.time() - start_time\n",
    "\n",
    "print(\"\\nGenerated solution:\", neighbor)\n",
    "print(\"Makespan:\", neighbor_cmax)\n",
    "print(\"Number of iterations:\", iterations)\n",
    "print(\"\\nElapsed time:\", elapsed_time, \"seconds\")"
   ]
  },
  {
   "cell_type": "markdown",
   "id": "ab575cb5-db64-496b-b3b2-63b66c4eb4da",
   "metadata": {},
   "source": [
    "# Hill climbing"
   ]
  },
  {
   "cell_type": "markdown",
   "id": "34af2173-3f1a-4714-9e7b-630c30504162",
   "metadata": {},
   "source": [
    "## Simple Hill climbing"
   ]
  },
  {
   "cell_type": "markdown",
   "id": "a47c4fde-8f53-4d33-9b05-a68fb69053ae",
   "metadata": {},
   "source": [
    "It examines the neighboring nodes and selects the first neighboring node which optimizes the current cost as the next node."
   ]
  },
  {
   "cell_type": "code",
   "execution_count": 21,
   "id": "da04b71a-d038-4f94-9249-51970f08411c",
   "metadata": {},
   "outputs": [],
   "source": [
    "def simple_hill_climbing(solution, processing_times, nb_iter=10000):\n",
    "    x = solution\n",
    "    cmax = evaluate_sequence(solution, processing_times)\n",
    "    iterations = 0\n",
    "    while iterations < nb_iter:\n",
    "        best_neighbor, best_cmax  = best_first_swap(x, processing_times)\n",
    "        if best_cmax == cmax:\n",
    "            return best_neighbor, best_cmax, iterations\n",
    "        x = best_neighbor\n",
    "        cmax = best_cmax\n",
    "        iterations += 1\n",
    "    return x, cmax, iterations"
   ]
  },
  {
   "cell_type": "code",
   "execution_count": 22,
   "id": "f69a43ed-7567-4c7d-8177-f847cede5d35",
   "metadata": {},
   "outputs": [
    {
     "name": "stdout",
     "output_type": "stream",
     "text": [
      "Initial solution: [5, 9, 6, 8, 1, 3, 0, 4, 7, 2]\n",
      "Makespan: 1547.0\n",
      "\n",
      "Generated solution: [0, 3, 5, 9, 7, 4, 6, 1, 2, 8]\n",
      "Makespan: 1337.0\n",
      "Number of iterations: 3\n",
      "\n",
      "Elapsed time: 0.09652328491210938 seconds\n"
     ]
    }
   ],
   "source": [
    "print(\"Initial solution:\", permutation)\n",
    "print(\"Makespan:\", Cmax)\n",
    "\n",
    "start_time = time.time()\n",
    "best_solution, best_cmax, nb_iterations = simple_hill_climbing(permutation, rnd_data)\n",
    "elapsed_time = time.time() - start_time\n",
    "\n",
    "print(\"\\nGenerated solution:\", best_solution)\n",
    "print(\"Makespan:\", best_cmax)\n",
    "print(\"Number of iterations:\", iterations)\n",
    "print(\"\\nElapsed time:\", elapsed_time, \"seconds\")"
   ]
  },
  {
   "cell_type": "markdown",
   "id": "ed4bc07b-bdad-49b7-afc1-43495c0fa5d6",
   "metadata": {},
   "source": [
    "## Steepest Ascent Hill climbing"
   ]
  },
  {
   "cell_type": "markdown",
   "id": "3f9ec70f-ff4a-47a3-af8b-77e812359311",
   "metadata": {},
   "source": [
    "It examines the neighboring nodes one by one and selects the best neighboring node which optimizes the current cost as the next node."
   ]
  },
  {
   "cell_type": "code",
   "execution_count": 23,
   "id": "95d320c1-6831-49ce-8400-bd0bcbc279f5",
   "metadata": {},
   "outputs": [],
   "source": [
    "def steepest_ascent_hill_climbing(solution, processing_times, nb_iter=1000):\n",
    "    x = solution\n",
    "    cmax = evaluate_sequence(solution, processing_times)\n",
    "    iterations = 0\n",
    "    while iterations < nb_iter:\n",
    "        best_neighbor, best_cmax = best_swap(solution, processing_times)\n",
    "        if best_cmax > cmax:\n",
    "            return x, cmax\n",
    "        else:\n",
    "            x = best_neighbor\n",
    "            cmax = best_cmax\n",
    "            iterations += 1\n",
    "    return best_neighbor, best_cmax, iterations"
   ]
  },
  {
   "cell_type": "code",
   "execution_count": 24,
   "id": "37b7eb5c-32db-49c3-a813-8d1b1705e27c",
   "metadata": {},
   "outputs": [
    {
     "name": "stdout",
     "output_type": "stream",
     "text": [
      "Initial solution: [5, 9, 6, 8, 1, 3, 0, 4, 7, 2]\n",
      "Makespan: 1547.0\n",
      "\n",
      "Generated solution: [0, 9, 6, 8, 1, 3, 5, 4, 7, 2]\n",
      "Makespan: 1490.0\n",
      "Number of iterations: 1000\n",
      "\n",
      "Elapsed time: 17.325206995010376 seconds\n"
     ]
    }
   ],
   "source": [
    "print(\"Initial solution:\", permutation)\n",
    "print(\"Makespan:\", Cmax)\n",
    "\n",
    "start_time = time.time()\n",
    "best_solution, best_cmax, nb_iterations = steepest_ascent_hill_climbing(permutation, rnd_data)\n",
    "elapsed_time = time.time() - start_time\n",
    "\n",
    "print(\"\\nGenerated solution:\", best_solution)\n",
    "print(\"Makespan:\", best_cmax)\n",
    "print(\"Number of iterations:\", nb_iterations)\n",
    "print(\"\\nElapsed time:\", elapsed_time, \"seconds\")"
   ]
  },
  {
   "cell_type": "markdown",
   "id": "88dff591-ef9f-41f7-b1a4-41d89e2f0f6e",
   "metadata": {},
   "source": [
    "## Stochastic Hill climbing"
   ]
  },
  {
   "cell_type": "markdown",
   "id": "a00a8bea-7dd9-4cf8-a1f5-11dd187a4b99",
   "metadata": {},
   "source": [
    "Among the generated neighbor states which are better than the current state, It chooses a state randomly (or based on some probability function)."
   ]
  },
  {
   "cell_type": "code",
   "execution_count": 25,
   "id": "56c000e8-4e8c-4370-b5cc-598491ed0e73",
   "metadata": {},
   "outputs": [],
   "source": [
    "def stochastic_hill_climbing(solution, processing_times, nb_iter=1000):\n",
    "    x = solution\n",
    "    cmax = evaluate_sequence(solution, processing_times)\n",
    "    iterations = 0\n",
    "    while iterations < nb_iter:\n",
    "        best_neighbours  = best_swaps(x, processing_times)\n",
    "        if len(best_neighbours) == 0:\n",
    "            return x, cmax, iterations\n",
    "        i = random.randint(0,len(best_neighbours) - 1)\n",
    "        best_cmax, best_neighbor = best_neighbours[i]\n",
    "        if best_cmax > cmax:\n",
    "            return x, cmax, iterations\n",
    "        x = best_neighbor\n",
    "        cmax = best_cmax\n",
    "        iterations += 1\n",
    "    return best_neighbor, best_cmax, iterations"
   ]
  },
  {
   "cell_type": "code",
   "execution_count": 26,
   "id": "ac4f7793-1d47-464d-ac74-3cc316974e0b",
   "metadata": {},
   "outputs": [
    {
     "name": "stdout",
     "output_type": "stream",
     "text": [
      "Initial solution: [5, 9, 6, 8, 1, 3, 0, 4, 7, 2]\n",
      "Makespan: 1547.0\n",
      "\n",
      "Generated solution: [3, 9, 0, 8, 1, 7, 6, 4, 2, 5]\n",
      "Makespan: 1377.0\n",
      "Number of iterations: 4\n",
      "\n",
      "Elapsed time: 0.07465672492980957 seconds\n"
     ]
    }
   ],
   "source": [
    "print(\"Initial solution:\", permutation)\n",
    "print(\"Makespan:\", Cmax)\n",
    "\n",
    "start_time = time.time()\n",
    "best_solution, best_cmax, nb_iterations = stochastic_hill_climbing(permutation, rnd_data)\n",
    "elapsed_time = time.time() - start_time\n",
    "\n",
    "print(\"\\nGenerated solution:\", best_solution)\n",
    "print(\"Makespan:\", best_cmax)\n",
    "print(\"Number of iterations:\", nb_iterations)\n",
    "print(\"\\nElapsed time:\", elapsed_time, \"seconds\")"
   ]
  },
  {
   "cell_type": "markdown",
   "id": "c8a5b5c0-3fac-43ab-838c-353dcbe41ddf",
   "metadata": {},
   "source": [
    "# Simulated annealing"
   ]
  },
  {
   "cell_type": "code",
   "execution_count": 27,
   "id": "945bf139-f4ba-4815-ae07-637d64513c6d",
   "metadata": {},
   "outputs": [],
   "source": [
    "def get_neighbor(solution, processing_times, method=\"random_swap\"):\n",
    "    # Swapping methods\n",
    "    if method == \"random_swap\":\n",
    "        neighbor, cost = random_swap(solution, processing_times)\n",
    "    elif method == \"best_swap\":\n",
    "        neighbor, cost = best_swap(solution, processing_times)\n",
    "    elif method == \"best_first_swap\":\n",
    "        neighbor, cost = best_first_swap(solution, processing_times)\n",
    "    # Insertion methods\n",
    "    elif method == \"random_insertion\":\n",
    "        neighbor, cost = random_insertion(solution, processing_times)\n",
    "    elif method == \"best_edge_insertion\":\n",
    "        neighbor, cost = best_edge_insertion(solution, processing_times)\n",
    "    elif method == \"best_insertion\":\n",
    "        neighbor, cost = best_insertion(solution, processing_times)\n",
    "    # Randomly pick a method of generating neighbors.\n",
    "    else:     \n",
    "        i = random.randint(0, 5)\n",
    "        if i == 0:\n",
    "            neighbor, cost = random_swap(solution, processing_times)\n",
    "        elif i == 1:\n",
    "            neighbor, cost = best_swap(solution, processing_times)\n",
    "        elif i == 2:\n",
    "            neighbor, cost = best_first_swap(solution, processing_times)\n",
    "        elif i == 3:\n",
    "            neighbor, cost = random_insertion(solution, processing_times)\n",
    "        elif i == 4:\n",
    "            neighbor, cost = best_edge_insertion(solution, processing_times)\n",
    "        else:\n",
    "            neighbor, cost = best_insertion(solution, processing_times)\n",
    "    return neighbor, cost"
   ]
  },
  {
   "cell_type": "code",
   "execution_count": 28,
   "id": "5231a745-f2d5-4e7e-8dd5-8bdfefdfd19e",
   "metadata": {},
   "outputs": [],
   "source": [
    "def simulated_annealing(initial_solution, processing_times, method=\"random\", initial_temp=100, final_temp=1, alpha=0.1):\n",
    "    current_temp = initial_temp\n",
    "    current_solution = initial_solution.copy()\n",
    "    current_cost = evaluate_sequence(initial_solution, processing_times)\n",
    "    while current_temp > final_temp:\n",
    "        neighbor, neighbor_cost  = get_neighbor(current_solution, processing_times, method)\n",
    "        cost_diff = current_cost - neighbor_cost\n",
    "        if cost_diff > 0:\n",
    "            current_solution = neighbor\n",
    "            current_cost = neighbor_cost\n",
    "        else:\n",
    "            if random.uniform(0, 1) < math.exp(-cost_diff / current_temp):\n",
    "                solution = neighbor\n",
    "        current_temp -= alpha\n",
    "    return current_solution, current_cost"
   ]
  },
  {
   "cell_type": "code",
   "execution_count": 29,
   "id": "fb5a1abd-a34c-4617-8f31-aa4ab18d1323",
   "metadata": {},
   "outputs": [
    {
     "name": "stdout",
     "output_type": "stream",
     "text": [
      "Initial solution: [5, 9, 6, 8, 1, 3, 0, 4, 7, 2]\n",
      "Makespan: 1547.0\n",
      "\n",
      "Generated solution: [0, 3, 9, 6, 4, 1, 2, 7, 5, 8]\n",
      "Makespan: 1303.0\n",
      "\n",
      "Elapsed time: 0.5113265514373779 seconds\n"
     ]
    }
   ],
   "source": [
    "print(\"Initial solution:\", permutation)\n",
    "print(\"Makespan:\", Cmax)\n",
    "\n",
    "start_time = time.time()\n",
    "best_solution, best_cmax = simulated_annealing(permutation, rnd_data, method=\"random_insertion\")\n",
    "elapsed_time = time.time() - start_time\n",
    "\n",
    "print(\"\\nGenerated solution:\", best_solution)\n",
    "print(\"Makespan:\", best_cmax)\n",
    "print(\"\\nElapsed time:\", elapsed_time, \"seconds\")"
   ]
  },
  {
   "cell_type": "code",
   "execution_count": 30,
   "id": "024b0466-c819-485a-921d-ffe9e557946a",
   "metadata": {},
   "outputs": [
    {
     "name": "stdout",
     "output_type": "stream",
     "text": [
      "Initial solution: [5, 9, 6, 8, 1, 3, 0, 4, 7, 2]\n",
      "Makespan: 1547.0\n",
      "\n",
      "Generated solution: [3, 0, 9, 6, 1, 7, 4, 2, 5, 8]\n",
      "Makespan: 1306.0\n",
      "\n",
      "Elapsed time: 18.417675256729126 seconds\n"
     ]
    }
   ],
   "source": [
    "# In this test, the method is set to random, so at each iteration we choose a different function for generating the next neighbor\n",
    "print(\"Initial solution:\", permutation)\n",
    "print(\"Makespan:\", Cmax)\n",
    "\n",
    "start_time = time.time()\n",
    "best_solution, best_cmax = simulated_annealing(permutation, rnd_data)\n",
    "elapsed_time = time.time() - start_time\n",
    "\n",
    "print(\"\\nGenerated solution:\", best_solution)\n",
    "print(\"Makespan:\", best_cmax)\n",
    "print(\"\\nElapsed time:\", elapsed_time, \"seconds\")"
   ]
  },
  {
   "cell_type": "code",
   "execution_count": 31,
   "id": "19f2a95d-ff89-4dbd-ba30-69e740e309e4",
   "metadata": {},
   "outputs": [
    {
     "name": "stdout",
     "output_type": "stream",
     "text": [
      "Initial solution: [5, 9, 6, 8, 1, 3, 0, 4, 7, 2]\n",
      "Makespan: 1547.0\n",
      "\n",
      "Generated solution: [0, 1, 6, 8, 9, 3, 7, 4, 5, 2]\n",
      "Makespan: 1396.0\n",
      "\n",
      "Elapsed time: 21.24353051185608 seconds\n"
     ]
    }
   ],
   "source": [
    "print(\"Initial solution:\", permutation)\n",
    "print(\"Makespan:\", Cmax)\n",
    "\n",
    "start_time = time.time()\n",
    "best_solution, best_cmax = simulated_annealing(permutation, rnd_data, method=\"best_swap\")\n",
    "elapsed_time = time.time() - start_time\n",
    "\n",
    "print(\"\\nGenerated solution:\", best_solution)\n",
    "print(\"Makespan:\", best_cmax)\n",
    "print(\"\\nElapsed time:\", elapsed_time, \"seconds\")"
   ]
  },
  {
   "cell_type": "markdown",
   "id": "36e7c6f4-a8f9-4c69-8454-9beddcde1b93",
   "metadata": {},
   "source": [
    "# Tabu Search"
   ]
  },
  {
   "cell_type": "code",
   "execution_count": 32,
   "id": "5f22c57e-fd88-4456-9f8c-43c3ebebe5b6",
   "metadata": {},
   "outputs": [],
   "source": [
    "def tabu_search(initial_solution, processing_times, nb_iter=1000):\n",
    "    tabu_list = deque(maxlen=15)\n",
    "    best_solution = initial_solution.copy()\n",
    "    best_cmax = evaluate_sequence(initial_solution, processing_times)\n",
    "    iterations = 0\n",
    "    while iterations < nb_iter:\n",
    "        neighbours = best_swaps(best_solution, processing_times)\n",
    "        # If we don't have any best neighboors, we generate one randomly\n",
    "        if len(neighbours):\n",
    "            best_solution = random_swap(best_solution, processing_times)\n",
    "        # We check for neighbours\n",
    "        for neighbour in neighbours:\n",
    "            if neighbour[1] not in tabu_list:\n",
    "                best_solution = neighbour[1]\n",
    "                best_cmax = neighbour[0]\n",
    "                tabu_list.append(neighbour[1])\n",
    "                break\n",
    "            # If It is in the tabu list we would look for the next neighbor\n",
    "            else:\n",
    "                continue\n",
    "        iterations += 1\n",
    "    return best_solution, best_cmax, iterations"
   ]
  },
  {
   "cell_type": "code",
   "execution_count": 33,
   "id": "13251a4c-ad0b-4dcc-98e6-ed4d5963202e",
   "metadata": {},
   "outputs": [
    {
     "name": "stdout",
     "output_type": "stream",
     "text": [
      "Initial solution: [5, 9, 6, 8, 1, 3, 0, 4, 7, 2]\n",
      "Makespan: 1547.0\n",
      "\n",
      "Generated solution: [0, 1, 6, 8, 9, 3, 7, 4, 5, 2]\n",
      "Makespan: 1396.0\n",
      "\n",
      "Elapsed time: 19.41983151435852 seconds\n"
     ]
    }
   ],
   "source": [
    "print(\"Initial solution:\", permutation)\n",
    "print(\"Makespan:\", Cmax)\n",
    "\n",
    "start_time = time.time()\n",
    "best_solution, best_cmax, iterations = tabu_search(permutation, rnd_data)\n",
    "elapsed_time = time.time() - start_time\n",
    "\n",
    "print(\"\\nGenerated solution:\", best_solution)\n",
    "print(\"Makespan:\", best_cmax)\n",
    "print(\"\\nElapsed time:\", elapsed_time, \"seconds\")"
   ]
  },
  {
   "cell_type": "markdown",
   "id": "6f0f8dd5-13bc-4131-a3c0-28ef2ea58241",
   "metadata": {},
   "source": [
    "# VNS"
   ]
  },
  {
   "cell_type": "code",
   "execution_count": 34,
   "id": "9366edf2-3a21-443c-b55f-6ae972c413a2",
   "metadata": {},
   "outputs": [],
   "source": [
    "# This function performs a random perturbation on a list by swapping the elements of k adjacent positions.\n",
    "# solution: the list to be perturbed\n",
    "# k: the number of adjacent positions to swap\n",
    "\n",
    "def shake(solution, k):\n",
    "    n = len(solution)\n",
    "    # If k is greater than the length of the list, then the function will create perturbations on all elements.\n",
    "    indices = random.sample(range(n), min(k, n-1))\n",
    "    indices.sort()\n",
    "    neighbor = solution.copy()\n",
    "    for i in indices:\n",
    "        j = (i+k) % n\n",
    "        neighbor[i], neighbor[j] = neighbor[j], neighbor[i]\n",
    "    return neighbor"
   ]
  },
  {
   "cell_type": "code",
   "execution_count": 35,
   "id": "c01d4b42-68db-4d6a-9c7d-ee6291170fe7",
   "metadata": {},
   "outputs": [],
   "source": [
    "def vns(sol_init, processing_times, max_iterations, k_max):\n",
    "    \n",
    "    # Get the number of jobs in the initial solution\n",
    "    num_jobs = len(sol_init)\n",
    "    \n",
    "    # Initialize the current solution and its cost\n",
    "    current_solution = sol_init\n",
    "    current_cost = evaluate_sequence(current_solution, processing_times)\n",
    "    \n",
    "    # Initialize the neighborhood radius k and the iteration counter\n",
    "    k = 1\n",
    "    iteration = 0\n",
    "    \n",
    "    # Perform the main VNS loop\n",
    "    while iteration < max_iterations:\n",
    "        \n",
    "        # Select a random neighborhood\n",
    "        i = random.randint(0, num_jobs-1)\n",
    "        j = random.randint(0, num_jobs-1)\n",
    "        while j == i:\n",
    "            j = random.randint(0, num_jobs-1)\n",
    "        \n",
    "        # Apply the \"shake\" perturbation to generate a random neighbor\n",
    "        best_neighbor_solution = shake(current_solution, k)\n",
    "        best_neighbor_cost = evaluate_sequence(best_neighbor_solution, processing_times)\n",
    "        \n",
    "        # Traverse the neighbors to find the best local solution\n",
    "        for l in range(1, k_max+1):\n",
    "            neighbor, neighbor_cost  = get_neighbor(current_solution, processing_times)\n",
    "            if (neighbor_cost < best_neighbor_cost):\n",
    "                best_neighbor_solution = neighbor\n",
    "                best_neighbor_cost = neighbor_cost            \n",
    "        \n",
    "        # If the best solution found in the neighborhood is better than the current solution,\n",
    "        # update the current solution and reset the search radius\n",
    "        if ( best_neighbor_cost < current_cost ):\n",
    "            current_solution = best_neighbor_solution\n",
    "            current_cost = best_neighbor_cost\n",
    "            k = 1\n",
    "        else:\n",
    "            k += 1\n",
    "        \n",
    "        # Increment the iteration counter\n",
    "        iteration += 1\n",
    "        \n",
    "    return current_solution, current_cost"
   ]
  },
  {
   "cell_type": "code",
   "execution_count": 36,
   "id": "c18829e1-c4c7-41c0-ae19-187e1c7be203",
   "metadata": {},
   "outputs": [
    {
     "name": "stdout",
     "output_type": "stream",
     "text": [
      "Initial solution: [5, 9, 6, 8, 1, 3, 0, 4, 7, 2]\n",
      "Makespan: 1547.0\n",
      "\n",
      "Generated solution: [0, 9, 3, 6, 7, 8, 5, 4, 1, 2]\n",
      "Makespan: 1386.0\n",
      "\n",
      "Elapsed time: 0.48575496673583984 seconds\n"
     ]
    }
   ],
   "source": [
    "# For 100 iterations, and k set to 5\n",
    "print(\"Initial solution:\", permutation)\n",
    "print(\"Makespan:\", Cmax)\n",
    "\n",
    "start_time = time.time()\n",
    "best_solution, best_cmax = vns(permutation, rnd_data, 100, 5)\n",
    "elapsed_time = time.time() - start_time\n",
    "\n",
    "print(\"\\nGenerated solution:\", best_solution)\n",
    "print(\"Makespan:\", best_cmax)\n",
    "print(\"\\nElapsed time:\", elapsed_time, \"seconds\")"
   ]
  },
  {
   "cell_type": "code",
   "execution_count": 37,
   "id": "d970468d-099d-429f-a96b-eb9c808d72aa",
   "metadata": {},
   "outputs": [
    {
     "name": "stdout",
     "output_type": "stream",
     "text": [
      "Initial solution: [5, 9, 6, 8, 1, 3, 0, 4, 7, 2]\n",
      "Makespan: 1547.0\n",
      "\n",
      "Generated solution: [3, 9, 0, 6, 1, 2, 7, 4, 8, 5]\n",
      "Makespan: 1341.0\n",
      "\n",
      "Elapsed time: 6.285213947296143 seconds\n"
     ]
    }
   ],
   "source": [
    "# For 1000 iterations, and k set to 10\n",
    "print(\"Initial solution:\", permutation)\n",
    "print(\"Makespan:\", Cmax)\n",
    "\n",
    "start_time = time.time()\n",
    "best_solution, best_cmax = vns(permutation, rnd_data, 1000, 10)\n",
    "elapsed_time = time.time() - start_time\n",
    "\n",
    "print(\"\\nGenerated solution:\", best_solution)\n",
    "print(\"Makespan:\", best_cmax)\n",
    "print(\"\\nElapsed time:\", elapsed_time, \"seconds\")"
   ]
  },
  {
   "cell_type": "markdown",
   "id": "f51a512a-6076-4690-b914-798c7985978f",
   "metadata": {},
   "source": [
    "# Tests"
   ]
  },
  {
   "cell_type": "markdown",
   "id": "3e623658-9add-48f9-a240-9b1056d51237",
   "metadata": {
    "tags": []
   },
   "source": [
    "## Heuristics"
   ]
  },
  {
   "cell_type": "markdown",
   "id": "168473fe-8f16-4d47-9733-655ac2379bd5",
   "metadata": {},
   "source": [
    "### NEH Heuristic"
   ]
  },
  {
   "cell_type": "code",
   "execution_count": 38,
   "id": "38bd380a-db52-45a5-9870-b2fd578eef9d",
   "metadata": {},
   "outputs": [],
   "source": [
    "def order_jobs_in_descending_order_of_total_completion_time(processing_times):\n",
    "    total_completion_time = processing_times.sum(axis=1)\n",
    "    return np.argsort(total_completion_time, axis=0).tolist()"
   ]
  },
  {
   "cell_type": "code",
   "execution_count": 39,
   "id": "1577ec2a-8c6e-4b7f-82a6-851762bce198",
   "metadata": {},
   "outputs": [],
   "source": [
    "def insertion(sequence, position, value):\n",
    "    new_seq = sequence[:]\n",
    "    new_seq.insert(position, value)\n",
    "    return new_seq"
   ]
  },
  {
   "cell_type": "code",
   "execution_count": 40,
   "id": "bbcf692d-c395-4b55-84d0-4b1d7abd2a7e",
   "metadata": {},
   "outputs": [],
   "source": [
    "def neh_algorithm(processing_times):\n",
    "    ordered_sequence = order_jobs_in_descending_order_of_total_completion_time(processing_times)\n",
    "    # Define the initial order\n",
    "    J1, J2 = ordered_sequence[:2]\n",
    "    sequence = [J1, J2] if evaluate_sequence([J1, J2], processing_times) < evaluate_sequence([J2, J1], processing_times) else [J2, J1]\n",
    "    del ordered_sequence[:2]\n",
    "    # Add remaining jobs\n",
    "    for job in ordered_sequence:\n",
    "        Cmax = float('inf')\n",
    "        best_sequence = []\n",
    "        for i in range(len(sequence)+1):\n",
    "            new_sequence = insertion(sequence, i, job)\n",
    "            Cmax_eval = evaluate_sequence(new_sequence, processing_times)\n",
    "            if Cmax_eval < Cmax:\n",
    "                Cmax = Cmax_eval\n",
    "                best_sequence = new_sequence\n",
    "        sequence = best_sequence\n",
    "    return sequence, Cmax"
   ]
  },
  {
   "cell_type": "markdown",
   "id": "0ac7e67b-ab16-4050-a826-08f87fb2afca",
   "metadata": {
    "jp-MarkdownHeadingCollapsed": true,
    "tags": []
   },
   "source": [
    "## Reading Taillard Instances"
   ]
  },
  {
   "cell_type": "markdown",
   "id": "242bf872-31e5-4d89-b521-e8caa86dfb48",
   "metadata": {
    "jp-MarkdownHeadingCollapsed": true,
    "tags": []
   },
   "source": [
    "### Taillard, 20 jobs 5 machines"
   ]
  },
  {
   "cell_type": "code",
   "execution_count": 41,
   "id": "0bff55a9-3411-44fa-9b0a-77ebe6046cf0",
   "metadata": {},
   "outputs": [
    {
     "name": "stdout",
     "output_type": "stream",
     "text": [
      "Taillard, 20 jobs 5 machines contains 10 benchmark.\n"
     ]
    }
   ],
   "source": [
    "# Open the file that contains the instances\n",
    "file = open(\"Benchmarks/tai20_5.txt\", \"r\")\n",
    "\n",
    "# Read the file line by line to retrieve the instances\n",
    "n = 0\n",
    "instances_20_5 = [[]]\n",
    "line = file.readline()\n",
    "\n",
    "while line:\n",
    "    if line != '\\n':\n",
    "        line = line.strip(' ')\n",
    "        line = line[:-1]\n",
    "        line = line.split()\n",
    "        line = [int(num) for num in line]\n",
    "        instances_20_5[n].append(line)\n",
    "    else:\n",
    "        instances_20_5.append([])\n",
    "        n += 1\n",
    "    line = file.readline()\n",
    "    \n",
    "print(f'Taillard, 20 jobs 5 machines contains {len(instances_20_5)} benchmark.')   "
   ]
  },
  {
   "cell_type": "markdown",
   "id": "cae4893e-3894-4599-8cbd-bc1d327b50bc",
   "metadata": {},
   "source": [
    "## Running the tests"
   ]
  },
  {
   "cell_type": "code",
   "execution_count": 42,
   "id": "cf0025bf-06cb-4fef-9206-bacde240634c",
   "metadata": {},
   "outputs": [],
   "source": [
    "# Prepare dataframes that will gather all our results\n",
    "df_random = pd.DataFrame({'Metaheuristic': pd.Series(dtype='str'),\n",
    "                   '20-5-1 (Makespan)': pd.Series(dtype='str'),\n",
    "                   '20-5-1 (Time)': pd.Series(dtype='str'),\n",
    "                   '20-5-7 (Makespan)': pd.Series(dtype='str'),\n",
    "                   '20-5-7 (Time)': pd.Series(dtype='str'),\n",
    "                  }) \n",
    "df_neh = pd.DataFrame({'Metaheuristic': pd.Series(dtype='str'),\n",
    "                   '20-5-1 (Makespan)': pd.Series(dtype='str'),\n",
    "                   '20-5-1 (Time)': pd.Series(dtype='str'),\n",
    "                   '20-5-7 (Makespan)': pd.Series(dtype='str'),\n",
    "                   '20-5-7 (Time)': pd.Series(dtype='str'),\n",
    "                  }) "
   ]
  },
  {
   "cell_type": "code",
   "execution_count": 43,
   "id": "11a9ae30-90fe-4993-8481-310db296ff47",
   "metadata": {},
   "outputs": [],
   "source": [
    "RW_random = ['Random Walk']\n",
    "HC1_random = ['Simple Hill climbing']\n",
    "HC2_random = ['Steepest Ascent Hill climbing']\n",
    "HC3_random = ['Stochastic Hill climbing']\n",
    "SA_random = ['Simulated annealing']\n",
    "TS_random = ['Tabu Search']\n",
    "VNS_random = ['VNS']"
   ]
  },
  {
   "cell_type": "code",
   "execution_count": 52,
   "id": "c2245e6d-b835-431c-914b-f9372d1253ed",
   "metadata": {},
   "outputs": [],
   "source": [
    "RW_neh = ['Random Walk']\n",
    "HC1_neh = ['Simple Hill climbing']\n",
    "HC2_neh = ['Steepest Ascent Hill climbing']\n",
    "HC3_neh = ['Stochastic Hill climbing']\n",
    "SA_neh = ['Simulated annealing']\n",
    "TS_neh = ['Tabu Search']\n",
    "VNS_neh = ['VNS']"
   ]
  },
  {
   "cell_type": "code",
   "execution_count": 45,
   "id": "7b05eee7-30b7-4da3-a02f-98481f5870cf",
   "metadata": {},
   "outputs": [
    {
     "name": "stdout",
     "output_type": "stream",
     "text": [
      "1334.0\n"
     ]
    }
   ],
   "source": [
    "instance_1 = np.array(instances_20_5[0])\n",
    "instance_1 = instance_1.T\n",
    "UB_1 = 1278\n",
    "neh_20_5_1, cmax_20_5_1 = neh_algorithm(instance_1)\n",
    "print(cmax_20_5_1)"
   ]
  },
  {
   "cell_type": "code",
   "execution_count": 46,
   "id": "5fa87814-044f-4f2f-b528-26bfc76e0b43",
   "metadata": {},
   "outputs": [
    {
     "name": "stdout",
     "output_type": "stream",
     "text": [
      "1284.0\n"
     ]
    }
   ],
   "source": [
    "instance_7 = np.array(instances_20_5[6])\n",
    "instance_7 = instance_7.T\n",
    "UB_7 = 1239\n",
    "neh_20_5_7, cmax_20_5_7 = neh_algorithm(instance_7)\n",
    "print(cmax_20_5_7)"
   ]
  },
  {
   "cell_type": "code",
   "execution_count": 47,
   "id": "dbbb9348-7e8b-4dd7-b041-ae0dbec8b1e3",
   "metadata": {},
   "outputs": [],
   "source": [
    "rnd_solution = list(range(20))\n",
    "random.shuffle(rnd_solution)"
   ]
  },
  {
   "cell_type": "markdown",
   "id": "fb9d7d10-7d8f-4e5b-a38f-d874d2a584b3",
   "metadata": {
    "tags": []
   },
   "source": [
    "### Random walk"
   ]
  },
  {
   "cell_type": "code",
   "execution_count": 48,
   "id": "a73cd6aa-dec3-4b2d-a3fb-ae73cc31b210",
   "metadata": {},
   "outputs": [
    {
     "name": "stdout",
     "output_type": "stream",
     "text": [
      "Original Solution: [7, 17, 1, 12, 16, 13, 8, 18, 10, 11, 5, 14, 19, 0, 3, 6, 2, 9, 15, 4].\n",
      "Makespan: 1517.0\n",
      "\n",
      "\n",
      "Generated Solution: [14, 16, 7, 9, 2, 17, 1, 11, 3, 8, 4, 6, 10, 18, 5, 12, 15, 13, 19, 0].\n",
      "Makespan: 1395.0\n",
      "\n",
      "Elapsed time:  0.18029260635375977 seconds\n"
     ]
    }
   ],
   "source": [
    "print(f'Original Solution: {rnd_solution}.')\n",
    "print(f'Makespan: {evaluate_sequence(rnd_solution, instance_1)}')\n",
    "start_time = time.time()\n",
    "sol, Cmax, _ = random_walk(rnd_solution, instance_1, threshold=1400)\n",
    "elapsed_time = time.time() - start_time\n",
    "\n",
    "print(f'\\n\\nGenerated Solution: {sol}.')\n",
    "print(f'Makespan: {Cmax}')\n",
    "print(\"\\nElapsed time: \", elapsed_time, \"seconds\")\n",
    "\n",
    "RW_random.append(\"%.3f\" % (Cmax))\n",
    "RW_random.append(\" %.3fs\" % (elapsed_time))"
   ]
  },
  {
   "cell_type": "code",
   "execution_count": 49,
   "id": "00b62aad-a9eb-4d36-9b0a-bd52648a146f",
   "metadata": {},
   "outputs": [
    {
     "name": "stdout",
     "output_type": "stream",
     "text": [
      "Original Solution: [7, 17, 1, 12, 16, 13, 8, 18, 10, 11, 5, 14, 19, 0, 3, 6, 2, 9, 15, 4].\n",
      "Makespan: 1463.0\n",
      "\n",
      "\n",
      "Generated Solution: [18, 15, 10, 4, 19, 7, 1, 12, 6, 8, 0, 2, 11, 5, 16, 3, 9, 14, 13, 17].\n",
      "Makespan: 1384.0\n",
      "\n",
      "Elapsed time:  0.008109092712402344 seconds\n"
     ]
    }
   ],
   "source": [
    "print(f'Original Solution: {rnd_solution}.')\n",
    "print(f'Makespan: {evaluate_sequence(rnd_solution, instance_7)}')\n",
    "start_time = time.time()\n",
    "sol, Cmax, _ = random_walk(rnd_solution, instance_7, threshold=1400)\n",
    "elapsed_time = time.time() - start_time\n",
    "\n",
    "print(f'\\n\\nGenerated Solution: {sol}.')\n",
    "print(f'Makespan: {Cmax}')\n",
    "print(\"\\nElapsed time: \", elapsed_time, \"seconds\")\n",
    "\n",
    "RW_random.append(\"%.3f\" % (Cmax))\n",
    "RW_random.append(\" %.3fs\" % (elapsed_time))"
   ]
  },
  {
   "cell_type": "code",
   "execution_count": 53,
   "id": "509f69de-a7dd-4222-9e36-05d5a1c67ce5",
   "metadata": {},
   "outputs": [
    {
     "name": "stdout",
     "output_type": "stream",
     "text": [
      "NEH Solution: [8, 6, 15, 10, 7, 1, 16, 2, 14, 13, 17, 3, 9, 11, 0, 18, 5, 4, 12, 19].\n",
      "Makespan: 1334.0\n",
      "\n",
      "\n",
      "Generated Solution: [9, 0, 3, 10, 19, 5, 16, 17, 6, 14, 8, 4, 13, 7, 11, 2, 15, 12, 1, 18].\n",
      "Makespan: 1536.0\n",
      "\n",
      "Elapsed time:  0.4629669189453125 seconds\n"
     ]
    }
   ],
   "source": [
    "print(f'NEH Solution: {neh_20_5_1}.')\n",
    "print(f'Makespan: {cmax_20_5_1}')\n",
    "start_time = time.time()\n",
    "sol, Cmax, _ = random_walk(neh_20_5_1, instance_1)\n",
    "elapsed_time = time.time() - start_time\n",
    "\n",
    "print(f'\\n\\nGenerated Solution: {sol}.')\n",
    "print(f'Makespan: {Cmax}')\n",
    "print(\"\\nElapsed time: \", elapsed_time, \"seconds\")\n",
    "\n",
    "RW_neh.append(\"%.3f\" % (Cmax))\n",
    "RW_neh.append(\" %.3fs\" % (elapsed_time))"
   ]
  },
  {
   "cell_type": "code",
   "execution_count": 54,
   "id": "61ef927c-ffa8-4111-ac1b-92b2ece416d6",
   "metadata": {},
   "outputs": [
    {
     "name": "stdout",
     "output_type": "stream",
     "text": [
      "NEH Solution: [4, 2, 19, 10, 7, 5, 3, 8, 1, 12, 6, 18, 16, 9, 14, 15, 0, 17, 13, 11].\n",
      "Makespan: 1284.0\n",
      "\n",
      "\n",
      "Generated Solution: [8, 13, 9, 11, 0, 14, 16, 17, 3, 10, 1, 18, 6, 5, 7, 2, 4, 15, 19, 12].\n",
      "Makespan: 1475.0\n",
      "\n",
      "Elapsed time:  0.5198044776916504 seconds\n"
     ]
    }
   ],
   "source": [
    "print(f'NEH Solution: {neh_20_5_7}.')\n",
    "print(f'Makespan: {cmax_20_5_7}')\n",
    "start_time = time.time()\n",
    "sol, Cmax, _ = random_walk(neh_20_5_7, instance_7)\n",
    "elapsed_time = time.time() - start_time\n",
    "\n",
    "print(f'\\n\\nGenerated Solution: {sol}.')\n",
    "print(f'Makespan: {Cmax}')\n",
    "print(\"\\nElapsed time: \", elapsed_time, \"seconds\")\n",
    "\n",
    "RW_neh.append(\"%.3f\" % (Cmax))\n",
    "RW_neh.append(\" %.3fs\" % (elapsed_time))"
   ]
  },
  {
   "cell_type": "markdown",
   "id": "2b16401b-9fc7-433f-8405-8417ae870616",
   "metadata": {
    "tags": []
   },
   "source": [
    "### Hill climbing"
   ]
  },
  {
   "cell_type": "markdown",
   "id": "5f006359-17f9-489f-a7d5-43b413b86ede",
   "metadata": {
    "tags": []
   },
   "source": [
    "#### Simple"
   ]
  },
  {
   "cell_type": "code",
   "execution_count": 55,
   "id": "cef539ad-8e73-4b47-98f9-b55136955a5b",
   "metadata": {},
   "outputs": [
    {
     "name": "stdout",
     "output_type": "stream",
     "text": [
      "Original Solution: [7, 17, 1, 12, 16, 13, 8, 18, 10, 11, 5, 14, 19, 0, 3, 6, 2, 9, 15, 4].\n",
      "Makespan: 1517.0\n",
      "\n",
      "\n",
      "Generated Solution: [14, 12, 4, 6, 16, 13, 8, 3, 10, 7, 11, 19, 1, 5, 18, 2, 0, 17, 15, 9].\n",
      "Makespan: 1339.0\n",
      "\n",
      "Elapsed time:  0.44022035598754883 seconds\n"
     ]
    }
   ],
   "source": [
    "print(f'Original Solution: {rnd_solution}.')\n",
    "print(f'Makespan: {evaluate_sequence(rnd_solution, instance_1)}')\n",
    "start_time = time.time()\n",
    "sol, Cmax, _ = simple_hill_climbing(rnd_solution, instance_1)\n",
    "elapsed_time = time.time() - start_time\n",
    "\n",
    "print(f'\\n\\nGenerated Solution: {sol}.')\n",
    "print(f'Makespan: {Cmax}')\n",
    "print(\"\\nElapsed time: \", elapsed_time, \"seconds\")\n",
    "\n",
    "HC1_random.append(\"%.3f\" % (Cmax))\n",
    "HC1_random.append(\" %.3fs\" % (elapsed_time))"
   ]
  },
  {
   "cell_type": "code",
   "execution_count": 56,
   "id": "d814293e-7912-4b39-9960-eb37e142c181",
   "metadata": {},
   "outputs": [
    {
     "name": "stdout",
     "output_type": "stream",
     "text": [
      "Original Solution: [7, 17, 1, 12, 16, 13, 8, 18, 10, 11, 5, 14, 19, 0, 3, 6, 2, 9, 15, 4].\n",
      "Makespan: 1463.0\n",
      "\n",
      "\n",
      "Generated Solution: [4, 10, 3, 2, 16, 9, 19, 14, 12, 11, 5, 18, 1, 0, 13, 6, 8, 15, 7, 17].\n",
      "Makespan: 1259.0\n",
      "\n",
      "Elapsed time:  0.47971081733703613 seconds\n"
     ]
    }
   ],
   "source": [
    "print(f'Original Solution: {rnd_solution}.')\n",
    "print(f'Makespan: {evaluate_sequence(rnd_solution, instance_7)}')\n",
    "start_time = time.time()\n",
    "sol, Cmax, _ = simple_hill_climbing(rnd_solution, instance_7)\n",
    "elapsed_time = time.time() - start_time\n",
    "\n",
    "print(f'\\n\\nGenerated Solution: {sol}.')\n",
    "print(f'Makespan: {Cmax}')\n",
    "print(\"\\nElapsed time: \", elapsed_time, \"seconds\")\n",
    "\n",
    "HC1_random.append(\"%.3f\" % (Cmax))\n",
    "HC1_random.append(\" %.3fs\" % (elapsed_time))"
   ]
  },
  {
   "cell_type": "code",
   "execution_count": 57,
   "id": "f177de60-cc09-4311-906a-f5975b6b3fe8",
   "metadata": {},
   "outputs": [
    {
     "name": "stdout",
     "output_type": "stream",
     "text": [
      "NEH Solution: [8, 6, 15, 10, 7, 1, 16, 2, 14, 13, 17, 3, 9, 11, 0, 18, 5, 4, 12, 19].\n",
      "Makespan: 1334.0\n",
      "\n",
      "\n",
      "Generated Solution: [8, 12, 15, 10, 7, 1, 16, 2, 14, 13, 17, 3, 4, 11, 0, 18, 5, 9, 6, 19].\n",
      "Makespan: 1305.0\n",
      "\n",
      "Elapsed time:  0.2230544090270996 seconds\n"
     ]
    }
   ],
   "source": [
    "print(f'NEH Solution: {neh_20_5_1}.')\n",
    "print(f'Makespan: {cmax_20_5_1}')\n",
    "start_time = time.time()\n",
    "sol, Cmax, _ = simple_hill_climbing(neh_20_5_1, instance_1)\n",
    "elapsed_time = time.time() - start_time\n",
    "\n",
    "print(f'\\n\\nGenerated Solution: {sol}.')\n",
    "print(f'Makespan: {Cmax}')\n",
    "print(\"\\nElapsed time: \", elapsed_time, \"seconds\")\n",
    "\n",
    "HC1_neh.append(\"%.3f\" % (Cmax))\n",
    "HC1_neh.append(\" %.3fs\" % (elapsed_time))"
   ]
  },
  {
   "cell_type": "code",
   "execution_count": 58,
   "id": "8a9cea57-7837-4513-bf8c-7f8150b644df",
   "metadata": {},
   "outputs": [
    {
     "name": "stdout",
     "output_type": "stream",
     "text": [
      "NEH Solution: [4, 2, 19, 10, 7, 5, 3, 8, 1, 12, 6, 18, 16, 9, 14, 15, 0, 17, 13, 11].\n",
      "Makespan: 1284.0\n",
      "\n",
      "\n",
      "Generated Solution: [4, 15, 19, 10, 7, 16, 3, 8, 1, 12, 6, 18, 5, 11, 2, 14, 0, 17, 13, 9].\n",
      "Makespan: 1251.0\n",
      "\n",
      "Elapsed time:  0.18195533752441406 seconds\n"
     ]
    }
   ],
   "source": [
    "print(f'NEH Solution: {neh_20_5_7}.')\n",
    "print(f'Makespan: {cmax_20_5_7}')\n",
    "start_time = time.time()\n",
    "sol, Cmax, _ = simple_hill_climbing(neh_20_5_7, instance_7)\n",
    "elapsed_time = time.time() - start_time\n",
    "\n",
    "print(f'\\n\\nGenerated Solution: {sol}.')\n",
    "print(f'Makespan: {Cmax}')\n",
    "print(\"\\nElapsed time: \", elapsed_time, \"seconds\")\n",
    "\n",
    "HC1_neh.append(\"%.3f\" % (Cmax))\n",
    "HC1_neh.append(\" %.3fs\" % (elapsed_time))"
   ]
  },
  {
   "cell_type": "markdown",
   "id": "4d7758c6-90b9-4d2c-a53d-77d7b955c1c5",
   "metadata": {
    "tags": []
   },
   "source": [
    "#### Steepest Ascent"
   ]
  },
  {
   "cell_type": "code",
   "execution_count": 59,
   "id": "7d888a38-c56c-4808-98f2-a74777acfd2c",
   "metadata": {},
   "outputs": [
    {
     "name": "stdout",
     "output_type": "stream",
     "text": [
      "Original Solution: [7, 17, 1, 12, 16, 13, 8, 18, 10, 11, 5, 14, 19, 0, 3, 6, 2, 9, 15, 4].\n",
      "Makespan: 1517.0\n",
      "\n",
      "\n",
      "Generated Solution: [7, 17, 3, 12, 16, 13, 8, 18, 10, 11, 5, 14, 19, 0, 1, 6, 2, 9, 15, 4].\n",
      "Makespan: 1412.0\n",
      "\n",
      "Elapsed time:  76.80205225944519 seconds\n"
     ]
    }
   ],
   "source": [
    "print(f'Original Solution: {rnd_solution}.')\n",
    "print(f'Makespan: {evaluate_sequence(rnd_solution, instance_1)}')\n",
    "start_time = time.time()\n",
    "sol, Cmax, _ = steepest_ascent_hill_climbing(rnd_solution, instance_1)\n",
    "elapsed_time = time.time() - start_time\n",
    "\n",
    "print(f'\\n\\nGenerated Solution: {sol}.')\n",
    "print(f'Makespan: {Cmax}')\n",
    "print(\"\\nElapsed time: \", elapsed_time, \"seconds\")\n",
    "\n",
    "HC2_random.append(\"%.3f\" % (Cmax))\n",
    "HC2_random.append(\" %.3fs\" % (elapsed_time))"
   ]
  },
  {
   "cell_type": "code",
   "execution_count": 60,
   "id": "207509c6-15e0-48ee-9825-9389d44d31dc",
   "metadata": {},
   "outputs": [
    {
     "name": "stdout",
     "output_type": "stream",
     "text": [
      "Original Solution: [7, 17, 1, 12, 16, 13, 8, 18, 10, 11, 5, 14, 19, 0, 3, 6, 2, 9, 15, 4].\n",
      "Makespan: 1463.0\n",
      "\n",
      "\n",
      "Generated Solution: [4, 17, 1, 12, 16, 13, 8, 18, 10, 11, 5, 14, 19, 0, 3, 6, 2, 9, 15, 7].\n",
      "Makespan: 1396.0\n",
      "\n",
      "Elapsed time:  75.42877459526062 seconds\n"
     ]
    }
   ],
   "source": [
    "print(f'Original Solution: {rnd_solution}.')\n",
    "print(f'Makespan: {evaluate_sequence(rnd_solution, instance_7)}')\n",
    "start_time = time.time()\n",
    "sol, Cmax, _ = steepest_ascent_hill_climbing(rnd_solution, instance_7)\n",
    "elapsed_time = time.time() - start_time\n",
    "\n",
    "print(f'\\n\\nGenerated Solution: {sol}.')\n",
    "print(f'Makespan: {Cmax}')\n",
    "print(\"\\nElapsed time: \", elapsed_time, \"seconds\")\n",
    "\n",
    "HC2_random.append(\"%.3f\" % (Cmax))\n",
    "HC2_random.append(\" %.3fs\" % (elapsed_time))"
   ]
  },
  {
   "cell_type": "code",
   "execution_count": 61,
   "id": "24ac56df-8592-4afb-9c79-a0c31295b828",
   "metadata": {},
   "outputs": [
    {
     "name": "stdout",
     "output_type": "stream",
     "text": [
      "NEH Solution: [8, 6, 15, 10, 7, 1, 16, 2, 14, 13, 17, 3, 9, 11, 0, 18, 5, 4, 12, 19].\n",
      "Makespan: 1334.0\n",
      "\n",
      "\n",
      "Generated Solution: [8, 12, 15, 10, 7, 1, 16, 2, 14, 13, 17, 3, 9, 11, 0, 18, 5, 4, 6, 19].\n",
      "Makespan: 1331.0\n",
      "\n",
      "Elapsed time:  74.94645524024963 seconds\n"
     ]
    }
   ],
   "source": [
    "print(f'NEH Solution: {neh_20_5_1}.')\n",
    "print(f'Makespan: {cmax_20_5_1}')\n",
    "start_time = time.time()\n",
    "sol, Cmax, _ = steepest_ascent_hill_climbing(neh_20_5_1, instance_1)\n",
    "elapsed_time = time.time() - start_time\n",
    "\n",
    "print(f'\\n\\nGenerated Solution: {sol}.')\n",
    "print(f'Makespan: {Cmax}')\n",
    "print(\"\\nElapsed time: \", elapsed_time, \"seconds\")\n",
    "\n",
    "HC2_neh.append(\"%.3f\" % (Cmax))\n",
    "HC2_neh.append(\" %.3fs\" % (elapsed_time))"
   ]
  },
  {
   "cell_type": "code",
   "execution_count": 62,
   "id": "c2844686-bd5e-4903-a574-58533db21e1c",
   "metadata": {},
   "outputs": [
    {
     "name": "stdout",
     "output_type": "stream",
     "text": [
      "NEH Solution: [4, 2, 19, 10, 7, 5, 3, 8, 1, 12, 6, 18, 16, 9, 14, 15, 0, 17, 13, 11].\n",
      "Makespan: 1284.0\n",
      "\n",
      "\n",
      "Generated Solution: [4, 2, 19, 10, 7, 5, 3, 8, 1, 12, 6, 18, 16, 11, 14, 15, 0, 17, 13, 9].\n",
      "Makespan: 1280.0\n",
      "\n",
      "Elapsed time:  75.50138998031616 seconds\n"
     ]
    }
   ],
   "source": [
    "print(f'NEH Solution: {neh_20_5_7}.')\n",
    "print(f'Makespan: {cmax_20_5_7}')\n",
    "start_time = time.time()\n",
    "sol, Cmax, _ = steepest_ascent_hill_climbing(neh_20_5_7, instance_7)\n",
    "elapsed_time = time.time() - start_time\n",
    "\n",
    "print(f'\\n\\nGenerated Solution: {sol}.')\n",
    "print(f'Makespan: {Cmax}')\n",
    "print(\"\\nElapsed time: \", elapsed_time, \"seconds\")\n",
    "\n",
    "HC2_neh.append(\"%.3f\" % (Cmax))\n",
    "HC2_neh.append(\" %.3fs\" % (elapsed_time))"
   ]
  },
  {
   "cell_type": "markdown",
   "id": "96032150-9c12-4a20-ab71-cc8a7649d61f",
   "metadata": {
    "tags": []
   },
   "source": [
    "#### Stochastic"
   ]
  },
  {
   "cell_type": "code",
   "execution_count": 63,
   "id": "d58222a1-bfa9-4fd1-94eb-2e5cd3234126",
   "metadata": {},
   "outputs": [
    {
     "name": "stdout",
     "output_type": "stream",
     "text": [
      "Original Solution: [7, 17, 1, 12, 16, 13, 8, 18, 10, 11, 5, 14, 19, 0, 3, 6, 2, 9, 15, 4].\n",
      "Makespan: 1517.0\n",
      "\n",
      "\n",
      "Generated Solution: [13, 4, 1, 7, 14, 11, 8, 12, 10, 6, 16, 5, 15, 0, 17, 18, 3, 9, 19, 2].\n",
      "Makespan: 1323.0\n",
      "\n",
      "Elapsed time:  0.9835658073425293 seconds\n"
     ]
    }
   ],
   "source": [
    "print(f'Original Solution: {rnd_solution}.')\n",
    "print(f'Makespan: {evaluate_sequence(rnd_solution, instance_1)}')\n",
    "start_time = time.time()\n",
    "sol, Cmax, _ = stochastic_hill_climbing(rnd_solution, instance_1)\n",
    "elapsed_time = time.time() - start_time\n",
    "\n",
    "print(f'\\n\\nGenerated Solution: {sol}.')\n",
    "print(f'Makespan: {Cmax}')\n",
    "print(\"\\nElapsed time: \", elapsed_time, \"seconds\")\n",
    "\n",
    "HC3_random.append(\"%.3f\" % (Cmax))\n",
    "HC3_random.append(\" %.3fs\" % (elapsed_time))"
   ]
  },
  {
   "cell_type": "code",
   "execution_count": 64,
   "id": "14f8ca4a-9120-4b8a-ac4d-c4370678d6c7",
   "metadata": {},
   "outputs": [
    {
     "name": "stdout",
     "output_type": "stream",
     "text": [
      "Original Solution: [7, 17, 1, 12, 16, 13, 8, 18, 10, 11, 5, 14, 19, 0, 3, 6, 2, 9, 15, 4].\n",
      "Makespan: 1463.0\n",
      "\n",
      "\n",
      "Generated Solution: [4, 19, 10, 12, 16, 0, 8, 14, 9, 1, 5, 7, 2, 13, 3, 6, 18, 11, 15, 17].\n",
      "Makespan: 1259.0\n",
      "\n",
      "Elapsed time:  0.8700587749481201 seconds\n"
     ]
    }
   ],
   "source": [
    "print(f'Original Solution: {rnd_solution}.')\n",
    "print(f'Makespan: {evaluate_sequence(rnd_solution, instance_7)}')\n",
    "start_time = time.time()\n",
    "sol, Cmax, _ = stochastic_hill_climbing(rnd_solution, instance_7)\n",
    "elapsed_time = time.time() - start_time\n",
    "\n",
    "print(f'\\n\\nGenerated Solution: {sol}.')\n",
    "print(f'Makespan: {Cmax}')\n",
    "print(\"\\nElapsed time: \", elapsed_time, \"seconds\")\n",
    "\n",
    "HC3_random.append(\"%.3f\" % (Cmax))\n",
    "HC3_random.append(\" %.3fs\" % (elapsed_time))"
   ]
  },
  {
   "cell_type": "code",
   "execution_count": 65,
   "id": "3cb04df2-4173-41d5-bd88-8b1e718bcee0",
   "metadata": {},
   "outputs": [
    {
     "name": "stdout",
     "output_type": "stream",
     "text": [
      "NEH Solution: [8, 6, 15, 10, 7, 1, 16, 2, 14, 13, 17, 3, 9, 11, 0, 18, 5, 4, 12, 19].\n",
      "Makespan: 1334.0\n",
      "\n",
      "\n",
      "Generated Solution: [8, 12, 15, 10, 7, 1, 16, 2, 14, 13, 17, 3, 4, 11, 0, 18, 5, 9, 6, 19].\n",
      "Makespan: 1305.0\n",
      "\n",
      "Elapsed time:  0.28456926345825195 seconds\n"
     ]
    }
   ],
   "source": [
    "print(f'NEH Solution: {neh_20_5_1}.')\n",
    "print(f'Makespan: {cmax_20_5_1}')\n",
    "start_time = time.time()\n",
    "sol, Cmax, _ = stochastic_hill_climbing(neh_20_5_1, instance_1)\n",
    "elapsed_time = time.time() - start_time\n",
    "\n",
    "print(f'\\n\\nGenerated Solution: {sol}.')\n",
    "print(f'Makespan: {Cmax}')\n",
    "print(\"\\nElapsed time: \", elapsed_time, \"seconds\")\n",
    "\n",
    "HC3_neh.append(\"%.3f\" % (Cmax))\n",
    "HC3_neh.append(\" %.3fs\" % (elapsed_time))"
   ]
  },
  {
   "cell_type": "code",
   "execution_count": 66,
   "id": "8df73c1d-6795-46d5-bdae-baf19083393c",
   "metadata": {},
   "outputs": [
    {
     "name": "stdout",
     "output_type": "stream",
     "text": [
      "NEH Solution: [4, 2, 19, 10, 7, 5, 3, 8, 1, 12, 6, 18, 16, 9, 14, 15, 0, 17, 13, 11].\n",
      "Makespan: 1284.0\n",
      "\n",
      "\n",
      "Generated Solution: [4, 15, 19, 10, 7, 5, 3, 8, 1, 2, 6, 18, 16, 12, 0, 9, 14, 11, 13, 17].\n",
      "Makespan: 1259.0\n",
      "\n",
      "Elapsed time:  0.541069507598877 seconds\n"
     ]
    }
   ],
   "source": [
    "print(f'NEH Solution: {neh_20_5_7}.')\n",
    "print(f'Makespan: {cmax_20_5_7}')\n",
    "start_time = time.time()\n",
    "sol, Cmax, _ = stochastic_hill_climbing(neh_20_5_7, instance_7)\n",
    "elapsed_time = time.time() - start_time\n",
    "\n",
    "print(f'\\n\\nGenerated Solution: {sol}.')\n",
    "print(f'Makespan: {Cmax}')\n",
    "print(\"\\nElapsed time: \", elapsed_time, \"seconds\")\n",
    "\n",
    "HC3_neh.append(\"%.3f\" % (Cmax))\n",
    "HC3_neh.append(\" %.3fs\" % (elapsed_time))"
   ]
  },
  {
   "cell_type": "markdown",
   "id": "be153f63-08da-4915-8dcc-616e676eec46",
   "metadata": {
    "tags": []
   },
   "source": [
    "### Simulated Annealing"
   ]
  },
  {
   "cell_type": "markdown",
   "id": "7b6ee59d-25ed-4c89-a737-3926a6fef4fb",
   "metadata": {},
   "source": [
    "> As shown above, we implemented several methods for generating the next neighbor for SA. Below, the chosen method is the method \"best_swap\". Which takes more time than \"random_swap\" or \"random_insertion\""
   ]
  },
  {
   "cell_type": "code",
   "execution_count": null,
   "id": "09145c77-5c72-4105-89e3-e8eab4d4e7c0",
   "metadata": {},
   "outputs": [
    {
     "name": "stdout",
     "output_type": "stream",
     "text": [
      "Original Solution: [7, 17, 1, 12, 16, 13, 8, 18, 10, 11, 5, 14, 19, 0, 3, 6, 2, 9, 15, 4].\n",
      "Makespan: 1517.0\n"
     ]
    }
   ],
   "source": [
    "print(f'Original Solution: {rnd_solution}.')\n",
    "print(f'Makespan: {evaluate_sequence(rnd_solution, instance_1)}')\n",
    "start_time = time.time()\n",
    "sol, Cmax = simulated_annealing(rnd_solution, instance_1, method=\"best_first_swap\")\n",
    "elapsed_time = time.time() - start_time\n",
    "\n",
    "print(f'\\n\\nGenerated Solution: {sol}.')\n",
    "print(f'Makespan: {Cmax}')\n",
    "print(\"\\nElapsed time: \", elapsed_time, \"seconds\")\n",
    "\n",
    "SA_random.append(\"%.3f\" % (Cmax))\n",
    "SA_random.append(\" %.3fs\" % (elapsed_time))"
   ]
  },
  {
   "cell_type": "code",
   "execution_count": null,
   "id": "e958c64e-2a73-43fe-bb94-eb29ab3ec07c",
   "metadata": {},
   "outputs": [],
   "source": [
    "print(f'Original Solution: {rnd_solution}.')\n",
    "print(f'Makespan: {evaluate_sequence(rnd_solution, instance_7)}')\n",
    "start_time = time.time()\n",
    "sol, Cmax = simulated_annealing(rnd_solution, instance_7, method=\"best_first_swap\")\n",
    "elapsed_time = time.time() - start_time\n",
    "\n",
    "print(f'\\n\\nGenerated Solution: {sol}.')\n",
    "print(f'Makespan: {Cmax}')\n",
    "print(\"\\nElapsed time: \", elapsed_time, \"seconds\")\n",
    "\n",
    "SA_random.append(\"%.3f\" % (Cmax))\n",
    "SA_random.append(\" %.3fs\" % (elapsed_time))"
   ]
  },
  {
   "cell_type": "code",
   "execution_count": null,
   "id": "dd9e2088-0910-40c1-8795-454d198343d1",
   "metadata": {},
   "outputs": [],
   "source": [
    "print(f'NEH Solution: {neh_20_5_1}.')\n",
    "print(f'Makespan: {cmax_20_5_1}')\n",
    "start_time = time.time()\n",
    "sol, Cmax = simulated_annealing(neh_20_5_1, instance_1, method=\"best_first_swap\")\n",
    "elapsed_time = time.time() - start_time\n",
    "\n",
    "print(f'\\n\\nGenerated Solution: {sol}.')\n",
    "print(f'Makespan: {Cmax}')\n",
    "print(\"\\nElapsed time: \", elapsed_time, \"seconds\")\n",
    "\n",
    "SA_neh.append(\"%.3f\" % (Cmax))\n",
    "SA_neh.append(\" %.3fs\" % (elapsed_time))"
   ]
  },
  {
   "cell_type": "code",
   "execution_count": null,
   "id": "c098f250-2b0d-467c-944f-196969211842",
   "metadata": {},
   "outputs": [],
   "source": [
    "print(f'NEH Solution: {neh_20_5_7}.')\n",
    "print(f'Makespan: {cmax_20_5_7}')\n",
    "start_time = time.time()\n",
    "sol, Cmax = simulated_annealing(neh_20_5_7, instance_7, method=\"best_first_swap\")\n",
    "elapsed_time = time.time() - start_time\n",
    "\n",
    "print(f'\\n\\nGenerated Solution: {sol}.')\n",
    "print(f'Makespan: {Cmax}')\n",
    "print(\"\\nElapsed time: \", elapsed_time, \"seconds\")\n",
    "\n",
    "SA_neh.append(\"%.3f\" % (Cmax))\n",
    "SA_neh.append(\" %.3fs\" % (elapsed_time))"
   ]
  },
  {
   "cell_type": "markdown",
   "id": "a8769933-db35-490f-b9fa-345d390a4459",
   "metadata": {
    "tags": []
   },
   "source": [
    "### Tabu Search"
   ]
  },
  {
   "cell_type": "code",
   "execution_count": null,
   "id": "50a025a3-bab7-4df1-9bc6-8956aac8b61c",
   "metadata": {},
   "outputs": [],
   "source": [
    "print(f'Original Solution: {rnd_solution}.')\n",
    "print(f'Makespan: {evaluate_sequence(rnd_solution, instance_1)}')\n",
    "start_time = time.time()\n",
    "sol, Cmax, _ = tabu_search(rnd_solution, instance_1)\n",
    "elapsed_time = time.time() - start_time\n",
    "\n",
    "print(f'\\n\\nGenerated Solution: {sol}.')\n",
    "print(f'Makespan: {Cmax}')\n",
    "print(\"\\nElapsed time: \", elapsed_time, \"seconds\")\n",
    "\n",
    "TS_random.append(\"%.3f\" % (Cmax))\n",
    "TS_random.append(\" %.3fs\" % (elapsed_time))"
   ]
  },
  {
   "cell_type": "code",
   "execution_count": null,
   "id": "f46d9bfc-75fb-43b4-aa70-cf9302aaf71f",
   "metadata": {},
   "outputs": [],
   "source": [
    "print(f'Original Solution: {rnd_solution}.')\n",
    "print(f'Makespan: {evaluate_sequence(rnd_solution, instance_7)}')\n",
    "start_time = time.time()\n",
    "sol, Cmax, _ = tabu_search(rnd_solution, instance_7)\n",
    "elapsed_time = time.time() - start_time\n",
    "\n",
    "print(f'\\n\\nGenerated Solution: {sol}.')\n",
    "print(f'Makespan: {Cmax}')\n",
    "print(\"\\nElapsed time: \", elapsed_time, \"seconds\")\n",
    "\n",
    "TS_random.append(\"%.3f\" % (Cmax))\n",
    "TS_random.append(\" %.3fs\" % (elapsed_time))"
   ]
  },
  {
   "cell_type": "code",
   "execution_count": null,
   "id": "14850583-8575-4ebc-88af-d36d86fe45ee",
   "metadata": {},
   "outputs": [],
   "source": [
    "print(f'NEH Solution: {neh_20_5_1}.')\n",
    "print(f'Makespan: {cmax_20_5_1}')\n",
    "start_time = time.time()\n",
    "sol, Cmax, _ = tabu_search(neh_20_5_1, instance_1)\n",
    "elapsed_time = time.time() - start_time\n",
    "\n",
    "print(f'\\n\\nGenerated Solution: {sol}.')\n",
    "print(f'Makespan: {Cmax}')\n",
    "print(\"\\nElapsed time: \", elapsed_time, \"seconds\")\n",
    "\n",
    "TS_neh.append(\"%.3f\" % (Cmax))\n",
    "TS_neh.append(\" %.3fs\" % (elapsed_time))"
   ]
  },
  {
   "cell_type": "code",
   "execution_count": null,
   "id": "0cfe426a-ce91-41a1-92fc-c54472fa39f9",
   "metadata": {},
   "outputs": [],
   "source": [
    "print(f'NEH Solution: {neh_20_5_7}.')\n",
    "print(f'Makespan: {cmax_20_5_7}')\n",
    "start_time = time.time()\n",
    "sol, Cmax, _ = tabu_search(neh_20_5_7, instance_7)\n",
    "elapsed_time = time.time() - start_time\n",
    "\n",
    "print(f'\\n\\nGenerated Solution: {sol}.')\n",
    "print(f'Makespan: {Cmax}')\n",
    "print(\"\\nElapsed time: \", elapsed_time, \"seconds\")\n",
    "\n",
    "TS_neh.append(\"%.3f\" % (Cmax))\n",
    "TS_neh.append(\" %.3fs\" % (elapsed_time))"
   ]
  },
  {
   "cell_type": "markdown",
   "id": "ebfbf8d6-9108-4dc7-8519-9fb76fc034d2",
   "metadata": {
    "tags": []
   },
   "source": [
    "### VNS"
   ]
  },
  {
   "cell_type": "code",
   "execution_count": null,
   "id": "dabbfaca-112c-487f-a2b1-dd56ea221264",
   "metadata": {},
   "outputs": [],
   "source": [
    "print(f'Original Solution: {rnd_solution}.')\n",
    "print(f'Makespan: {evaluate_sequence(rnd_solution, instance_1)}')\n",
    "start_time = time.time()\n",
    "sol, Cmax = vns(rnd_solution, instance_1, 100, 5)\n",
    "elapsed_time = time.time() - start_time\n",
    "\n",
    "print(f'\\n\\nGenerated Solution: {sol}.')\n",
    "print(f'Makespan: {Cmax}')\n",
    "print(\"\\nElapsed time: \", elapsed_time, \"seconds\")\n",
    "\n",
    "VNS_random.append(\"%.3f\" % (Cmax))\n",
    "VNS_random.append(\" %.3fs\" % (elapsed_time))"
   ]
  },
  {
   "cell_type": "code",
   "execution_count": null,
   "id": "f9d4c769-bd37-4a6f-bace-3d0386329e76",
   "metadata": {},
   "outputs": [],
   "source": [
    "print(f'Original Solution: {rnd_solution}.')\n",
    "print(f'Makespan: {evaluate_sequence(rnd_solution, instance_7)}')\n",
    "start_time = time.time()\n",
    "sol, Cmax = vns(rnd_solution, instance_7, 100, 5)\n",
    "elapsed_time = time.time() - start_time\n",
    "\n",
    "print(f'\\n\\nGenerated Solution: {sol}.')\n",
    "print(f'Makespan: {Cmax}')\n",
    "print(\"\\nElapsed time: \", elapsed_time, \"seconds\")\n",
    "\n",
    "VNS_random.append(\"%.3f\" % (Cmax))\n",
    "VNS_random.append(\" %.3fs\" % (elapsed_time))"
   ]
  },
  {
   "cell_type": "code",
   "execution_count": null,
   "id": "89d54155-2660-4fb8-8503-b050e9012836",
   "metadata": {},
   "outputs": [],
   "source": [
    "print(f'NEH Solution: {neh_20_5_1}.')\n",
    "print(f'Makespan: {cmax_20_5_1}')\n",
    "start_time = time.time()\n",
    "sol, Cmax = vns(neh_20_5_1, instance_1, 100, 5)\n",
    "elapsed_time = time.time() - start_time\n",
    "\n",
    "print(f'\\n\\nGenerated Solution: {sol}.')\n",
    "print(f'Makespan: {Cmax}')\n",
    "print(\"\\nElapsed time: \", elapsed_time, \"seconds\")\n",
    "\n",
    "VNS_neh.append(\"%.3f\" % (Cmax))\n",
    "VNS_neh.append(\" %.3fs\" % (elapsed_time))"
   ]
  },
  {
   "cell_type": "code",
   "execution_count": null,
   "id": "cafec8ea-135d-446f-afe6-8ba0a639a076",
   "metadata": {},
   "outputs": [],
   "source": [
    "print(f'NEH Solution: {neh_20_5_7}.')\n",
    "print(f'Makespan: {cmax_20_5_7}')\n",
    "start_time = time.time()\n",
    "sol, Cmax = vns(neh_20_5_7, instance_7, 100, 5)\n",
    "elapsed_time = time.time() - start_time\n",
    "\n",
    "print(f'\\n\\nGenerated Solution: {sol}.')\n",
    "print(f'Makespan: {Cmax}')\n",
    "print(\"\\nElapsed time: \", elapsed_time, \"seconds\")\n",
    "\n",
    "VNS_neh.append(\"%.3f\" % (Cmax))\n",
    "VNS_neh.append(\" %.3fs\" % (elapsed_time))"
   ]
  },
  {
   "cell_type": "markdown",
   "id": "7ece7de0-197d-4f61-9f12-21149ee7a7f0",
   "metadata": {},
   "source": [
    "### Results"
   ]
  },
  {
   "cell_type": "code",
   "execution_count": null,
   "id": "a3c8d575-a837-44bd-b41f-455501508edc",
   "metadata": {},
   "outputs": [],
   "source": [
    "df_random.loc[0]=RW_random\n",
    "df_random.loc[1]=HC1_random\n",
    "df_random.loc[2]=HC2_random\n",
    "df_random.loc[3]=HC3_random\n",
    "df_random.loc[4]=SA_random\n",
    "df_random.loc[5]=TS_random\n",
    "df_random.loc[6]=VNS_random"
   ]
  },
  {
   "cell_type": "code",
   "execution_count": null,
   "id": "20cd9dc6-e38c-474c-9917-534820fd2776",
   "metadata": {},
   "outputs": [],
   "source": [
    "df_random"
   ]
  },
  {
   "cell_type": "markdown",
   "id": "9df603ed-204d-46aa-9ffe-7c848c63555c",
   "metadata": {},
   "source": [
    "**Observations**\n",
    "- The Random Walk algorithm performed the worst in terms of makespan, achieving the highest values on both instances. However, it was the fastest algorithm for both instances. This is because the neighbors are generated randomly, and there's no comparaison between current and past solutions.\n",
    "\n",
    "- The Simple Hill Climbing algorithm achieved better makespan values than the Random Walk, but still worse than the other algorithms. It was faster than the Steepest Ascent Hill Climbing algorithm, but slower than most other algorithms.\n",
    "\n",
    "- The Steepest Ascent Hill Climbing algorithm achieved better makespan values than the Random Walk algorithm, but worse than the other algorithms. However, it was the slowest algorithm for both instances.\n",
    "\n",
    "- The Stochastic Hill Climbing algorithm achieved better makespan values than the Simple Hill Climbing algorithm, Steepest Ascent Hill Climbing algorithm and Random walk, but worse than the Simulated Annealing, Tabu Search, and VNS algorithms.\n",
    "\n",
    "- The Simulated Annealing algorithm achieved better makespan values than the Stochastic Hill Climbing and Tabu Search algorithms, but worse than the VNS algorithm. It was among the slowest algorithms.\n",
    "\n",
    "- The Tabu Search algorithm achieved slightly similar makespan values to the Simulated Annealing algorithm, but was slightly slower.\n",
    "\n",
    "- The VNS algorithm achieved the best makespan values for both instances, and was the fastest algorithm for both instances."
   ]
  },
  {
   "cell_type": "code",
   "execution_count": null,
   "id": "9040b5ca-3e18-4cab-a9ea-76875806f1d3",
   "metadata": {},
   "outputs": [],
   "source": [
    "df_neh.loc[0]=RW_neh\n",
    "df_neh.loc[1]=HC1_neh\n",
    "df_neh.loc[2]=HC2_neh\n",
    "df_neh.loc[3]=HC3_neh\n",
    "df_neh.loc[4]=SA_neh\n",
    "df_neh.loc[5]=TS_neh\n",
    "df_neh.loc[6]=VNS_neh"
   ]
  },
  {
   "cell_type": "code",
   "execution_count": null,
   "id": "cff0c8ba-1d08-4bce-91c9-717cb5721327",
   "metadata": {},
   "outputs": [],
   "source": [
    "df_neh"
   ]
  },
  {
   "cell_type": "markdown",
   "id": "a78b3425-cae8-4e69-9e1d-3811f95f57ec",
   "metadata": {},
   "source": [
    "**Observations**\n",
    "- Similarly as above, we observe that the Random Walk algorithm performed the worst in terms of makespan, achieving the highest values on both instances.\n",
    "\n",
    "- Stochastic Hill Climbing, Simulated Annealing, Simple Hill climbing, and Tabu Search algorithms have similar makespan and time for both instances."
   ]
  },
  {
   "cell_type": "markdown",
   "id": "4ff2e170-b8f0-4aaa-9021-afa0c363dfc3",
   "metadata": {},
   "source": [
    "### Remarks"
   ]
  },
  {
   "cell_type": "markdown",
   "id": "9087a935-fd23-4234-9e5f-977468ab1833",
   "metadata": {},
   "source": [
    "- We implemented several methods for generating neighbors, and these methods has been used within algorithms such as SA and TS. Since the methods are different in complexity, the chosen method for these algorithm will have a significant impact on the execution time.\n",
    "- We have tweaked the Tabu Search, compared to the version that we saw in the lecture.\n",
    "- We acknowledge that hyperparameters have an impact on the resulting solution."
   ]
  },
  {
   "cell_type": "markdown",
   "id": "5ad1c00d-8f07-4bdc-bc98-27925f7bf04c",
   "metadata": {},
   "source": [
    "#### VNS Number of iterations"
   ]
  },
  {
   "cell_type": "markdown",
   "id": "c1cea779-8950-4a73-ae8a-1da97d68f38d",
   "metadata": {},
   "source": [
    "##### 100 iterations, 5 neighbors"
   ]
  },
  {
   "cell_type": "code",
   "execution_count": null,
   "id": "9143a70a-15a7-4105-9dba-1b8b45b5a434",
   "metadata": {},
   "outputs": [],
   "source": [
    "print(f'NEH Solution: {neh_20_5_1}.')\n",
    "print(f'Makespan: {cmax_20_5_1}')\n",
    "start_time = time.time()\n",
    "sol, Cmax = vns(neh_20_5_1, instance_1, 100, 5)\n",
    "elapsed_time = time.time() - start_time\n",
    "\n",
    "print(f'\\n\\nGenerated Solution: {sol}.')\n",
    "print(f'Makespan: {Cmax}')\n",
    "print(\"\\nElapsed time: \", elapsed_time, \"seconds\")"
   ]
  },
  {
   "cell_type": "markdown",
   "id": "caff3862-ebf2-43fe-9a9b-ac89f8ea9732",
   "metadata": {},
   "source": [
    "##### 10000 iterations, 10 neighbors"
   ]
  },
  {
   "cell_type": "code",
   "execution_count": null,
   "id": "640757ec-5ba3-47f6-af32-7f56a21ae97e",
   "metadata": {},
   "outputs": [],
   "source": [
    "print(f'NEH Solution: {neh_20_5_1}.')\n",
    "print(f'Makespan: {cmax_20_5_1}')\n",
    "start_time = time.time()\n",
    "sol, Cmax = vns(neh_20_5_1, instance_1, 10000, 10)\n",
    "elapsed_time = time.time() - start_time\n",
    "\n",
    "print(f'\\n\\nGenerated Solution: {sol}.')\n",
    "print(f'Makespan: {Cmax}')\n",
    "print(\"\\nElapsed time: \", elapsed_time, \"seconds\")"
   ]
  },
  {
   "cell_type": "markdown",
   "id": "21b1b28a-aed8-46aa-bb5d-c8ca596a436d",
   "metadata": {},
   "source": [
    "**Observation**: For a small instance like this one with 20 jobs and 5 machines, VNS quickly reaches a very good solution, regardless of the initial solution."
   ]
  }
 ],
 "metadata": {
  "kernelspec": {
   "display_name": "Python 3 (ipykernel)",
   "language": "python",
   "name": "python3"
  },
  "language_info": {
   "codemirror_mode": {
    "name": "ipython",
    "version": 3
   },
   "file_extension": ".py",
   "mimetype": "text/x-python",
   "name": "python",
   "nbconvert_exporter": "python",
   "pygments_lexer": "ipython3",
   "version": "3.10.9"
  }
 },
 "nbformat": 4,
 "nbformat_minor": 5
}
