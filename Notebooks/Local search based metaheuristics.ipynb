{
 "cells": [
  {
   "cell_type": "markdown",
   "id": "77f27592-08b0-4dd6-80c3-0396c2a1fc08",
   "metadata": {},
   "source": [
    "# Local search - Flowshop problem"
   ]
  },
  {
   "cell_type": "markdown",
   "id": "44b0addf-4dcd-40c6-a31a-25f4e5003253",
   "metadata": {},
   "source": [
    "This notebook contains a hands-on the flowshop problem. We will focus on implementing some of the most known local search algorithms in order to solve this problem.\n",
    "\n",
    "### Table of content\n",
    "- [Neighborhood functions](#Neighborhood-functions)\n",
    "- [Random walk](#Random-walk)\n",
    "- [Hill climbing](#Hill-climbing)\n",
    "    - [Simple Hill climbing](#Simple-hill-climbing)\n",
    "    - [Steepest Ascent Hill climbing](#Steepest-ascent-hill-climbing)\n",
    "    - [Stochastic Hill climbing](#Stochastic-hill-climbing)\n",
    "- [Simulated annealing](#Simulated-annealing)\n",
    "- [Tabu Search](#Tabu-Search)\n",
    "- [VNS](#VNS)\n",
    "- [Tests](#Tests)\n",
    "\n",
    "\n",
    "### References\n",
    "- [Benchmarks for Basic Scheduling Problems](http://mistic.heig-vd.ch/taillard/articles.dir/Taillard1993EJOR.pdf)\n",
    "- [Introduction to Hill Climbing](https://www.geeksforgeeks.org/introduction-hill-climbing-artificial-intelligence/)\n",
    "- [Implement Simulated annealing in Python](https://medium.com/swlh/how-to-implement-simulated-annealing-algorithm-in-python-ab196c2f56a0)\n",
    "- [Tabu Search](https://medium.com/swlh/tabu-search-in-python-3199c44d44f1)"
   ]
  },
  {
   "cell_type": "code",
   "execution_count": 157,
   "id": "605c8752-b209-4806-a627-f522d8bcd2c0",
   "metadata": {},
   "outputs": [],
   "source": [
    "import numpy as np\n",
    "import matplotlib as plt\n",
    "import itertools\n",
    "import time\n",
    "import pandas as pd\n",
    "import math\n",
    "import random\n",
    "from collections import deque\n",
    "from itertools import combinations"
   ]
  },
  {
   "cell_type": "code",
   "execution_count": 158,
   "id": "09fa172d-7df7-4b79-a5bd-5d15c06ab60a",
   "metadata": {},
   "outputs": [],
   "source": [
    "def evaluate_sequence(sequence, processing_times):\n",
    "    _, num_machines = processing_times.shape\n",
    "    num_jobs = len(sequence)\n",
    "    completion_times = np.zeros((num_jobs, num_machines))\n",
    "    \n",
    "    # Calculate the completion times for the first machine\n",
    "    completion_times[0][0] = processing_times[sequence[0]][0]\n",
    "    for i in range(1, num_jobs):\n",
    "        completion_times[i][0] = completion_times[i-1][0] + processing_times[sequence[i]][0]\n",
    "    \n",
    "    # Calculate the completion times for the remaining machines\n",
    "    for j in range(1, num_machines):\n",
    "        completion_times[0][j] = completion_times[0][j-1] + processing_times[sequence[0]][j]\n",
    "        for i in range(1, num_jobs):\n",
    "            completion_times[i][j] = max(completion_times[i-1][j], completion_times[i][j-1]) + processing_times[sequence[i]][j]\n",
    "    \n",
    "    # Return the total completion time, which is the completion time of the last job in the last machine\n",
    "    return completion_times[num_jobs-1][num_machines-1]"
   ]
  },
  {
   "cell_type": "code",
   "execution_count": 159,
   "id": "fe1ca7e2-b67c-4af6-be0c-0fc65c2a93b6",
   "metadata": {},
   "outputs": [
    {
     "name": "stdout",
     "output_type": "stream",
     "text": [
      "[[ 93  99  82  99   6  12  90 100  61  44]\n",
      " [ 96  14 108  91 111  60  67  94  74  17]\n",
      " [ 69  46  68  63  51  41  34  32   9 106]\n",
      " [ 80  68  32 119  54  73  14  16  48  46]\n",
      " [ 43  43  33  88  80  58 102  35  99  30]\n",
      " [104  54  13  23  41  21  87 112   5  15]\n",
      " [ 57 108  76 103  96  70  57   7  48  40]\n",
      " [ 28  99 114 116 119  42  24  83 105 103]\n",
      " [ 63  94  30  42  56  28  78  47  91 109]\n",
      " [ 60  25  22  40  53  22  30  38  79  49]\n",
      " [ 87  47  94  83  58  11  42  71  16  77]\n",
      " [ 88  75  75  98  22   8  73  14  99  59]\n",
      " [ 32  97  97  55  64  65  75  11  47  75]\n",
      " [ 94  28  51   9  69 101  79  72  97 105]\n",
      " [ 23  35   9  88  82  15  83  73  95  73]] \n",
      "\n",
      "Initial solution: [5, 6, 9, 8, 4, 2, 1, 7, 0, 3] \n",
      "\n",
      "Makespan: 1497.0\n"
     ]
    }
   ],
   "source": [
    "# Generate a random example to work with 7 jobs and 2 machines\n",
    "rnd_data = np.random.randint(size=(15,10), low=5, high=120)\n",
    "permutation = np.random.permutation(10).tolist()\n",
    "print(rnd_data, \"\\n\")\n",
    "print('Initial solution:', permutation, \"\\n\")\n",
    "\n",
    "Cmax = evaluate_sequence(permutation, rnd_data)\n",
    "print(f'Makespan: {Cmax}')"
   ]
  },
  {
   "cell_type": "markdown",
   "id": "60015e82-6520-4d50-9db8-f6be4d8ad487",
   "metadata": {
    "tags": []
   },
   "source": [
    "# Neighborhood functions"
   ]
  },
  {
   "cell_type": "markdown",
   "id": "27b59d5c-3fd8-4157-b1f2-31779f2d0076",
   "metadata": {},
   "source": [
    "#### Swap-based functions"
   ]
  },
  {
   "cell_type": "code",
   "execution_count": 160,
   "id": "e5db5838-9c99-450b-bc55-f8370c8f17fe",
   "metadata": {},
   "outputs": [],
   "source": [
    "def swap(solution, i, k):\n",
    "    temp = solution[k]\n",
    "    solution[k] = solution[i]\n",
    "    solution[i] = temp\n",
    "    return solution"
   ]
  },
  {
   "cell_type": "code",
   "execution_count": 161,
   "id": "12f5d601-043f-430e-8a87-8cd1a0c892fc",
   "metadata": {},
   "outputs": [],
   "source": [
    "def random_swap(solution, processing_times):\n",
    "    i = np.random.choice(list(solution))\n",
    "    k = np.random.choice(list(solution))\n",
    "    # Generating two different random positions\n",
    "    while (i == k):\n",
    "        k = np.random.choice(list(solution))\n",
    "    # Switch between job i and job k in the given sequence\n",
    "    neighbor = solution.copy()\n",
    "    return swap(neighbor, i, k), evaluate_sequence(neighbor, processing_times)"
   ]
  },
  {
   "cell_type": "code",
   "execution_count": 162,
   "id": "49aa10a6-2a2f-4d7e-9900-0f2ba56f74ec",
   "metadata": {},
   "outputs": [
    {
     "name": "stdout",
     "output_type": "stream",
     "text": [
      "Original solution: [5, 6, 9, 8, 4, 2, 1, 7, 0, 3]\n",
      "Makespan:  1497.0\n",
      "\n",
      "Neighboor solution: [5, 6, 9, 0, 4, 2, 1, 7, 8, 3]\n",
      "Makespan: 1614.0\n"
     ]
    }
   ],
   "source": [
    "neighbor, neighbor_cmax = random_swap(permutation, rnd_data)\n",
    "\n",
    "print(\"Original solution:\", permutation)\n",
    "print(\"Makespan: \", Cmax)\n",
    "\n",
    "print(\"\\nNeighboor solution:\", neighbor)\n",
    "print(\"Makespan:\", neighbor_cmax)"
   ]
  },
  {
   "cell_type": "code",
   "execution_count": 163,
   "id": "4aab5d0b-26f4-4db2-83cb-59fa266f86bf",
   "metadata": {},
   "outputs": [],
   "source": [
    "def best_first_swap(solution, processing_times):\n",
    "    # This function will take a solution, and return the first best solution.\n",
    "    # The first solution that is better then the current one 'solution' in args.\n",
    "    num_jobs = len(solution)\n",
    "    best_cmax = evaluate_sequence(solution, processing_times)\n",
    "    best_neighbor = solution.copy()\n",
    "    for k1 in range(num_jobs):\n",
    "        for k2 in range(k1+1, num_jobs):\n",
    "            neighbor = solution.copy()\n",
    "            neighbor = swap(neighbor,k1,k2)\n",
    "            cmax = evaluate_sequence(neighbor, processing_times)\n",
    "            if cmax < best_cmax:\n",
    "                best_neighbor = neighbor\n",
    "                best_cmax = cmax\n",
    "                return best_neighbor, best_cmax\n",
    "    return best_neighbor, best_cmax"
   ]
  },
  {
   "cell_type": "code",
   "execution_count": 164,
   "id": "62fe24a1-bd81-48b6-b423-3b7748a1562b",
   "metadata": {},
   "outputs": [
    {
     "name": "stdout",
     "output_type": "stream",
     "text": [
      "Original solution: [5, 6, 9, 8, 4, 2, 1, 7, 0, 3]\n",
      "Makespan: 1497.0\n",
      "\n",
      "Neighboor solution: [6, 5, 9, 8, 4, 2, 1, 7, 0, 3]\n",
      "Makespan: 1454.0\n"
     ]
    }
   ],
   "source": [
    "neighbor, neighbor_cmax = best_first_swap(permutation, rnd_data)\n",
    "\n",
    "print(\"Original solution:\", permutation)\n",
    "print(\"Makespan:\", Cmax)\n",
    "\n",
    "print(\"\\nNeighboor solution:\", neighbor)\n",
    "print(\"Makespan:\", neighbor_cmax)"
   ]
  },
  {
   "cell_type": "code",
   "execution_count": 165,
   "id": "3400517d-4c62-4fc4-9f17-69ecdfea6e3f",
   "metadata": {},
   "outputs": [],
   "source": [
    "def best_swap(solution, processing_times):\n",
    "    # This function will take a solution, and return its best neighbor solution.\n",
    "    num_jobs = len(solution)\n",
    "    best_cmax = np.Infinity\n",
    "    for k1 in range(num_jobs):\n",
    "        for k2 in range(k1+1, num_jobs):\n",
    "            neighbor = solution.copy()\n",
    "            neighbor = swap(neighbor,k1,k2)\n",
    "            cmax = evaluate_sequence(neighbor, processing_times)\n",
    "            if cmax < best_cmax:\n",
    "                best_neighbor = neighbor\n",
    "                best_cmax = cmax\n",
    "    return best_neighbor, best_cmax"
   ]
  },
  {
   "cell_type": "code",
   "execution_count": 166,
   "id": "004a9d57-13c3-4fff-bd92-5479cce13819",
   "metadata": {},
   "outputs": [
    {
     "name": "stdout",
     "output_type": "stream",
     "text": [
      "Original solution: [5, 6, 9, 8, 4, 2, 1, 7, 0, 3]\n",
      "Makespan: 1497.0\n",
      "\n",
      "Neighboor solution: [4, 6, 9, 8, 5, 2, 1, 7, 0, 3]\n",
      "Makespan: 1424.0\n"
     ]
    }
   ],
   "source": [
    "neighbor, neighbor_cmax = best_swap(permutation, rnd_data)\n",
    "\n",
    "print(\"Original solution:\", permutation)\n",
    "print(\"Makespan:\", Cmax)\n",
    "\n",
    "print(\"\\nNeighboor solution:\", neighbor)\n",
    "print(\"Makespan:\", neighbor_cmax)"
   ]
  },
  {
   "cell_type": "code",
   "execution_count": 167,
   "id": "ac539f4d-2c22-4cd1-bceb-4b2a628a43ac",
   "metadata": {
    "tags": []
   },
   "outputs": [],
   "source": [
    "def best_swaps(solution, processing_times):\n",
    "    # This function will take a solution, and return a list that contains all solutions that are better than it.\n",
    "    num_jobs = len(solution)\n",
    "    cmax = evaluate_sequence(solution, processing_times)\n",
    "    bests = []\n",
    "    for k1 in range(num_jobs):\n",
    "        for k2 in range(k1+1, num_jobs):\n",
    "            neighbor = solution.copy()\n",
    "            swap(neighbor,k1,k2)\n",
    "            neighbor_cmax = evaluate_sequence(neighbor, processing_times)\n",
    "            if neighbor_cmax < cmax:\n",
    "                bests.append((neighbor_cmax, neighbor))\n",
    "    bests.sort(key=lambda x: x[0])\n",
    "    return bests"
   ]
  },
  {
   "cell_type": "code",
   "execution_count": 168,
   "id": "23d6fbc4-6ec6-4998-9c98-4c8ca3c52fbe",
   "metadata": {},
   "outputs": [
    {
     "name": "stdout",
     "output_type": "stream",
     "text": [
      "Original solution: [5, 6, 9, 8, 4, 2, 1, 7, 0, 3]\n",
      "Makespan: 1497.0\n",
      "\n",
      "\n",
      "Better Neighboors: [(1424.0, [4, 6, 9, 8, 5, 2, 1, 7, 0, 3]), (1453.0, [3, 6, 9, 8, 4, 2, 1, 7, 0, 5]), (1454.0, [6, 5, 9, 8, 4, 2, 1, 7, 0, 3]), (1464.0, [5, 3, 9, 8, 4, 2, 1, 7, 0, 6]), (1470.0, [9, 6, 5, 8, 4, 2, 1, 7, 0, 3]), (1478.0, [8, 6, 9, 5, 4, 2, 1, 7, 0, 3]), (1478.0, [5, 6, 9, 8, 4, 1, 2, 7, 0, 3]), (1487.0, [5, 6, 9, 8, 1, 2, 4, 7, 0, 3])]\n"
     ]
    }
   ],
   "source": [
    "bests = best_swaps(permutation, rnd_data)\n",
    "\n",
    "print(\"Original solution:\", permutation)\n",
    "print(\"Makespan:\", Cmax)\n",
    "\n",
    "print(\"\\n\\nBetter Neighboors:\", bests)"
   ]
  },
  {
   "cell_type": "markdown",
   "id": "a560b467-2512-4134-87e7-1a25acef4a34",
   "metadata": {},
   "source": [
    "#### Insertion-based functions"
   ]
  },
  {
   "cell_type": "code",
   "execution_count": 169,
   "id": "f8374ebb-925b-4971-b070-63b9ecb644be",
   "metadata": {},
   "outputs": [],
   "source": [
    "def random_insertion(solution, processing_times):\n",
    "    # This function consists of choosing random two indices, i and k.\n",
    "    # Remove the element at indice i, and insert it in the position k.\n",
    "    i = np.random.choice(list(solution))\n",
    "    k = np.random.choice(list(solution))\n",
    "    while (i == k):\n",
    "        k = np.random.choice(list(solution))\n",
    "    neighbor = solution.copy()\n",
    "    neighbor.remove(solution[i])\n",
    "    neighbor.insert(k, solution[i])\n",
    "    return neighbor, evaluate_sequence(neighbor, processing_times)"
   ]
  },
  {
   "cell_type": "code",
   "execution_count": 170,
   "id": "71d8c528-1416-4616-b65c-98f3666b188f",
   "metadata": {},
   "outputs": [
    {
     "name": "stdout",
     "output_type": "stream",
     "text": [
      "Original solution: [5, 6, 9, 8, 4, 2, 1, 7, 0, 3]\n",
      "Makespan: 1497.0\n",
      "\n",
      "Neighboor solution: [5, 6, 9, 4, 8, 2, 1, 7, 0, 3]\n",
      "Makespan: 1497.0\n"
     ]
    }
   ],
   "source": [
    "neighbor, neighbor_cmax = random_insertion(permutation, rnd_data)\n",
    "\n",
    "print(\"Original solution:\", permutation)\n",
    "print(\"Makespan:\", Cmax)\n",
    "\n",
    "print(\"\\nNeighboor solution:\", neighbor)\n",
    "print(\"Makespan:\", neighbor_cmax)"
   ]
  },
  {
   "cell_type": "code",
   "execution_count": 171,
   "id": "4e230e0c-4012-43be-84f1-7bdca28aa8d1",
   "metadata": {},
   "outputs": [],
   "source": [
    "def best_insertion(solution, processing_times):\n",
    "    # This function consists of trying all different insertions.\n",
    "    # Then it returns the best one among them\n",
    "    num_jobs = len(solution)\n",
    "    best_cmax = np.Infinity\n",
    "    for k1 in range(num_jobs):\n",
    "        s = solution.copy()\n",
    "        s_job = solution[k1]\n",
    "        s.remove(s_job)\n",
    "        for k2 in range(num_jobs):\n",
    "            if k1 != k2:\n",
    "                neighbor = s.copy()\n",
    "                neighbor.insert(k2, s_job)\n",
    "                cmax = evaluate_sequence(neighbor, processing_times)\n",
    "                if cmax < best_cmax:\n",
    "                    best_neighbor = neighbor\n",
    "                    best_cmax = cmax\n",
    "    return best_neighbor, best_cmax"
   ]
  },
  {
   "cell_type": "code",
   "execution_count": 172,
   "id": "1f47c7d9-750d-4ae0-ab29-164cf178b89d",
   "metadata": {},
   "outputs": [
    {
     "name": "stdout",
     "output_type": "stream",
     "text": [
      "Original solution: [5, 6, 9, 8, 4, 2, 1, 7, 0, 3]\n",
      "Makespan: 1497.0\n",
      "\n",
      "Neighboor solution: [6, 9, 8, 4, 2, 1, 7, 0, 3, 5]\n",
      "Makespan: 1408.0\n"
     ]
    }
   ],
   "source": [
    "neighbor, neighbor_cmax = best_insertion(permutation, rnd_data)\n",
    "\n",
    "print(\"Original solution:\", permutation)\n",
    "print(\"Makespan:\", Cmax)\n",
    "\n",
    "print(\"\\nNeighboor solution:\", neighbor)\n",
    "print(\"Makespan:\", neighbor_cmax)"
   ]
  },
  {
   "cell_type": "code",
   "execution_count": 173,
   "id": "b00ad379-861e-4717-ad36-6f7f84081fc4",
   "metadata": {},
   "outputs": [],
   "source": [
    "def best_edge_insertion(solution, processing_times):\n",
    "    num_jobs = len(solution)\n",
    "    best_cmax = np.Infinity\n",
    "    for k1 in range(num_jobs-1):\n",
    "        s = solution.copy()\n",
    "        s_job1 = s[k1] \n",
    "        s_job2 = s[k1+1]\n",
    "        s.remove(s_job1)\n",
    "        s.remove(s_job2)\n",
    "        for k2 in range(num_jobs-1):\n",
    "            if(k1 != k2):\n",
    "                neighbor = s.copy()\n",
    "                neighbor.insert(k2, s_job1)\n",
    "                neighbor.insert(k2+1, s_job2)\n",
    "                cmax = evaluate_sequence(neighbor, processing_times)\n",
    "                if cmax < best_cmax:\n",
    "                    best_neighbor = neighbor\n",
    "                    best_cmax = cmax\n",
    "    return best_neighbor, best_cmax"
   ]
  },
  {
   "cell_type": "code",
   "execution_count": 174,
   "id": "b063869a-9c1e-4f74-beca-3fadebb7058d",
   "metadata": {},
   "outputs": [
    {
     "name": "stdout",
     "output_type": "stream",
     "text": [
      "Original solution: [5, 6, 9, 8, 4, 2, 1, 7, 0, 3]\n",
      "Makespan: 1497.0\n",
      "\n",
      "Neighboor solution: [9, 8, 4, 2, 1, 7, 0, 5, 6, 3]\n",
      "Makespan: 1349.0\n"
     ]
    }
   ],
   "source": [
    "neighbor, neighbor_cmax = best_edge_insertion(permutation, rnd_data)\n",
    "\n",
    "print(\"Original solution:\", permutation)\n",
    "print(\"Makespan:\", Cmax)\n",
    "\n",
    "print(\"\\nNeighboor solution:\", neighbor)\n",
    "print(\"Makespan:\", neighbor_cmax)"
   ]
  },
  {
   "cell_type": "markdown",
   "id": "692dbdf1-e4c6-410f-be29-c7ffac5b65f8",
   "metadata": {
    "tags": []
   },
   "source": [
    "# Random walk"
   ]
  },
  {
   "cell_type": "code",
   "execution_count": 175,
   "id": "4dcb91ed-9780-4c73-94b4-b91c2abe1947",
   "metadata": {},
   "outputs": [],
   "source": [
    "def random_walk(solution, processing_times, nb_iter=1000, threshold=None):\n",
    "    x = solution\n",
    "    cmax = evaluate_sequence(solution, processing_times)\n",
    "    iterations = 0\n",
    "    while iterations < nb_iter:\n",
    "        x, cmax = random_swap(x, processing_times)\n",
    "        if threshold is not None and cmax < threshold:\n",
    "            return x, cmax, iterations\n",
    "        iterations += 1\n",
    "    return x, cmax, iterations"
   ]
  },
  {
   "cell_type": "code",
   "execution_count": 176,
   "id": "f5c31e87-a169-4b31-a8f8-26ec4d9341a0",
   "metadata": {},
   "outputs": [
    {
     "name": "stdout",
     "output_type": "stream",
     "text": [
      "Initial solution: [5, 6, 9, 8, 4, 2, 1, 7, 0, 3]\n",
      "Makespan: 1497.0\n",
      "\n",
      "Generated solution: [7, 4, 9, 8, 6, 2, 1, 3, 0, 5]\n",
      "Makespan: 1397.0\n",
      "Number of iterations: 2\n",
      "\n",
      "Elapsed time: 0.001994609832763672 seconds\n"
     ]
    }
   ],
   "source": [
    "print(\"Initial solution:\", permutation)\n",
    "print(\"Makespan:\", Cmax)\n",
    "\n",
    "start_time = time.time()\n",
    "neighbor, neighbor_cmax, iterations = random_walk(permutation, rnd_data, threshold=1450)\n",
    "elapsed_time = time.time() - start_time\n",
    "\n",
    "print(\"\\nGenerated solution:\", neighbor)\n",
    "print(\"Makespan:\", neighbor_cmax)\n",
    "print(\"Number of iterations:\", iterations)\n",
    "print(\"\\nElapsed time:\", elapsed_time, \"seconds\")"
   ]
  },
  {
   "cell_type": "markdown",
   "id": "ab575cb5-db64-496b-b3b2-63b66c4eb4da",
   "metadata": {
    "tags": []
   },
   "source": [
    "# Hill climbing"
   ]
  },
  {
   "cell_type": "markdown",
   "id": "34af2173-3f1a-4714-9e7b-630c30504162",
   "metadata": {},
   "source": [
    "## Simple Hill climbing"
   ]
  },
  {
   "cell_type": "markdown",
   "id": "a47c4fde-8f53-4d33-9b05-a68fb69053ae",
   "metadata": {},
   "source": [
    "It examines the neighboring nodes and selects the first neighboring node which optimizes the current cost as the next node."
   ]
  },
  {
   "cell_type": "code",
   "execution_count": 177,
   "id": "da04b71a-d038-4f94-9249-51970f08411c",
   "metadata": {},
   "outputs": [],
   "source": [
    "def simple_hill_climbing(solution, processing_times, nb_iter=10000):\n",
    "    x = solution\n",
    "    cmax = evaluate_sequence(solution, processing_times)\n",
    "    iterations = 0\n",
    "    while iterations < nb_iter:\n",
    "        best_neighbor, best_cmax  = best_first_swap(x, processing_times)\n",
    "        if best_cmax == cmax:\n",
    "            return best_neighbor, best_cmax, iterations\n",
    "        x = best_neighbor\n",
    "        cmax = best_cmax\n",
    "        iterations += 1\n",
    "    return x, cmax, iterations"
   ]
  },
  {
   "cell_type": "code",
   "execution_count": 178,
   "id": "f69a43ed-7567-4c7d-8177-f847cede5d35",
   "metadata": {},
   "outputs": [
    {
     "name": "stdout",
     "output_type": "stream",
     "text": [
      "Initial solution: [5, 6, 9, 8, 4, 2, 1, 7, 0, 3]\n",
      "Makespan: 1497.0\n",
      "\n",
      "Generated solution: [8, 9, 2, 4, 1, 7, 0, 5, 6, 3]\n",
      "Makespan: 1324.0\n",
      "Number of iterations: 2\n",
      "\n",
      "Elapsed time: 0.07110452651977539 seconds\n"
     ]
    }
   ],
   "source": [
    "print(\"Initial solution:\", permutation)\n",
    "print(\"Makespan:\", Cmax)\n",
    "\n",
    "start_time = time.time()\n",
    "best_solution, best_cmax, nb_iterations = simple_hill_climbing(permutation, rnd_data)\n",
    "elapsed_time = time.time() - start_time\n",
    "\n",
    "print(\"\\nGenerated solution:\", best_solution)\n",
    "print(\"Makespan:\", best_cmax)\n",
    "print(\"Number of iterations:\", iterations)\n",
    "print(\"\\nElapsed time:\", elapsed_time, \"seconds\")"
   ]
  },
  {
   "cell_type": "markdown",
   "id": "ed4bc07b-bdad-49b7-afc1-43495c0fa5d6",
   "metadata": {},
   "source": [
    "## Steepest Ascent Hill climbing"
   ]
  },
  {
   "cell_type": "markdown",
   "id": "3f9ec70f-ff4a-47a3-af8b-77e812359311",
   "metadata": {},
   "source": [
    "It examines the neighboring nodes one by one and selects the best neighboring node which optimizes the current cost as the next node."
   ]
  },
  {
   "cell_type": "code",
   "execution_count": 179,
   "id": "95d320c1-6831-49ce-8400-bd0bcbc279f5",
   "metadata": {},
   "outputs": [],
   "source": [
    "def steepest_ascent_hill_climbing(solution, processing_times, nb_iter=1000):\n",
    "    x = solution\n",
    "    cmax = evaluate_sequence(solution, processing_times)\n",
    "    iterations = 0\n",
    "    while iterations < nb_iter:\n",
    "        best_neighbor, best_cmax = best_swap(solution, processing_times)\n",
    "        if best_cmax > cmax:\n",
    "            return x, cmax\n",
    "        else:\n",
    "            x = best_neighbor\n",
    "            cmax = best_cmax\n",
    "            iterations += 1\n",
    "    return best_neighbor, best_cmax, iterations"
   ]
  },
  {
   "cell_type": "code",
   "execution_count": 180,
   "id": "37b7eb5c-32db-49c3-a813-8d1b1705e27c",
   "metadata": {},
   "outputs": [
    {
     "name": "stdout",
     "output_type": "stream",
     "text": [
      "Initial solution: [5, 6, 9, 8, 4, 2, 1, 7, 0, 3]\n",
      "Makespan: 1497.0\n",
      "\n",
      "Generated solution: [4, 6, 9, 8, 5, 2, 1, 7, 0, 3]\n",
      "Makespan: 1424.0\n",
      "Number of iterations: 1000\n",
      "\n",
      "Elapsed time: 6.898458480834961 seconds\n"
     ]
    }
   ],
   "source": [
    "print(\"Initial solution:\", permutation)\n",
    "print(\"Makespan:\", Cmax)\n",
    "\n",
    "start_time = time.time()\n",
    "best_solution, best_cmax, nb_iterations = steepest_ascent_hill_climbing(permutation, rnd_data)\n",
    "elapsed_time = time.time() - start_time\n",
    "\n",
    "print(\"\\nGenerated solution:\", best_solution)\n",
    "print(\"Makespan:\", best_cmax)\n",
    "print(\"Number of iterations:\", nb_iterations)\n",
    "print(\"\\nElapsed time:\", elapsed_time, \"seconds\")"
   ]
  },
  {
   "cell_type": "markdown",
   "id": "88dff591-ef9f-41f7-b1a4-41d89e2f0f6e",
   "metadata": {},
   "source": [
    "## Stochastic Hill climbing"
   ]
  },
  {
   "cell_type": "markdown",
   "id": "a00a8bea-7dd9-4cf8-a1f5-11dd187a4b99",
   "metadata": {},
   "source": [
    "Among the generated neighbor states which are better than the current state, It chooses a state randomly (or based on some probability function)."
   ]
  },
  {
   "cell_type": "code",
   "execution_count": 181,
   "id": "56c000e8-4e8c-4370-b5cc-598491ed0e73",
   "metadata": {},
   "outputs": [],
   "source": [
    "def stochastic_hill_climbing(solution, processing_times, nb_iter=1000):\n",
    "    x = solution\n",
    "    cmax = evaluate_sequence(solution, processing_times)\n",
    "    iterations = 0\n",
    "    while iterations < nb_iter:\n",
    "        best_neighbours  = best_swaps(x, processing_times)\n",
    "        if len(best_neighbours) == 0:\n",
    "            return x, cmax, iterations\n",
    "        i = random.randint(0,len(best_neighbours) - 1)\n",
    "        best_cmax, best_neighbor = best_neighbours[i]\n",
    "        if best_cmax > cmax:\n",
    "            return x, cmax, iterations\n",
    "        x = best_neighbor\n",
    "        cmax = best_cmax\n",
    "        iterations += 1\n",
    "    return best_neighbor, best_cmax, iterations"
   ]
  },
  {
   "cell_type": "code",
   "execution_count": 182,
   "id": "ac4f7793-1d47-464d-ac74-3cc316974e0b",
   "metadata": {},
   "outputs": [
    {
     "name": "stdout",
     "output_type": "stream",
     "text": [
      "Initial solution: [5, 6, 9, 8, 4, 2, 1, 7, 0, 3]\n",
      "Makespan: 1497.0\n",
      "\n",
      "Generated solution: [2, 4, 7, 8, 3, 5, 9, 1, 0, 6]\n",
      "Makespan: 1391.0\n",
      "Number of iterations: 5\n",
      "\n",
      "Elapsed time: 0.05128741264343262 seconds\n"
     ]
    }
   ],
   "source": [
    "print(\"Initial solution:\", permutation)\n",
    "print(\"Makespan:\", Cmax)\n",
    "\n",
    "start_time = time.time()\n",
    "best_solution, best_cmax, nb_iterations = stochastic_hill_climbing(permutation, rnd_data)\n",
    "elapsed_time = time.time() - start_time\n",
    "\n",
    "print(\"\\nGenerated solution:\", best_solution)\n",
    "print(\"Makespan:\", best_cmax)\n",
    "print(\"Number of iterations:\", nb_iterations)\n",
    "print(\"\\nElapsed time:\", elapsed_time, \"seconds\")"
   ]
  },
  {
   "cell_type": "markdown",
   "id": "c8a5b5c0-3fac-43ab-838c-353dcbe41ddf",
   "metadata": {
    "tags": []
   },
   "source": [
    "# Simulated annealing"
   ]
  },
  {
   "cell_type": "code",
   "execution_count": 183,
   "id": "945bf139-f4ba-4815-ae07-637d64513c6d",
   "metadata": {},
   "outputs": [],
   "source": [
    "def get_neighbor(solution, processing_times, method=\"random_swap\"):\n",
    "    # Swapping methods\n",
    "    if method == \"random_swap\":\n",
    "        neighbor, cost = random_swap(solution, processing_times)\n",
    "    elif method == \"best_swap\":\n",
    "        neighbor, cost = best_swap(solution, processing_times)\n",
    "    elif method == \"best_first_swap\":\n",
    "        neighbor, cost = best_first_swap(solution, processing_times)\n",
    "    # Insertion methods\n",
    "    elif method == \"random_insertion\":\n",
    "        neighbor, cost = random_insertion(solution, processing_times)\n",
    "    elif method == \"best_edge_insertion\":\n",
    "        neighbor, cost = best_edge_insertion(solution, processing_times)\n",
    "    elif method == \"best_insertion\":\n",
    "        neighbor, cost = best_insertion(solution, processing_times)\n",
    "    # Randomly pick a method of generating neighbors.\n",
    "    else:     \n",
    "        i = random.randint(0, 5)\n",
    "        if i == 0:\n",
    "            neighbor, cost = random_swap(solution, processing_times)\n",
    "        elif i == 1:\n",
    "            neighbor, cost = best_swap(solution, processing_times)\n",
    "        elif i == 2:\n",
    "            neighbor, cost = best_first_swap(solution, processing_times)\n",
    "        elif i == 3:\n",
    "            neighbor, cost = random_insertion(solution, processing_times)\n",
    "        elif i == 4:\n",
    "            neighbor, cost = best_edge_insertion(solution, processing_times)\n",
    "        else:\n",
    "            neighbor, cost = best_insertion(solution, processing_times)\n",
    "    return neighbor, cost"
   ]
  },
  {
   "cell_type": "code",
   "execution_count": 184,
   "id": "5231a745-f2d5-4e7e-8dd5-8bdfefdfd19e",
   "metadata": {},
   "outputs": [],
   "source": [
    "def simulated_annealing(initial_solution, processing_times, method=\"random\", initial_temp=100, final_temp=1, alpha=0.1):\n",
    "    current_temp = initial_temp\n",
    "    current_solution = initial_solution.copy()\n",
    "    current_cost = evaluate_sequence(initial_solution, processing_times)\n",
    "    while current_temp > final_temp:\n",
    "        neighbor, neighbor_cost  = get_neighbor(current_solution, processing_times, method)\n",
    "        cost_diff = current_cost - neighbor_cost\n",
    "        if cost_diff > 0:\n",
    "            current_solution = neighbor\n",
    "            current_cost = neighbor_cost\n",
    "        else:\n",
    "            if random.uniform(0, 1) < math.exp(-cost_diff / current_temp):\n",
    "                solution = neighbor\n",
    "        current_temp -= alpha\n",
    "    return current_solution, current_cost"
   ]
  },
  {
   "cell_type": "code",
   "execution_count": 185,
   "id": "fb5a1abd-a34c-4617-8f31-aa4ab18d1323",
   "metadata": {},
   "outputs": [
    {
     "name": "stdout",
     "output_type": "stream",
     "text": [
      "Initial solution: [5, 6, 9, 8, 4, 2, 1, 7, 0, 3]\n",
      "Makespan: 1497.0\n",
      "\n",
      "Generated solution: [4, 6, 8, 1, 2, 9, 7, 3, 0, 5]\n",
      "Makespan: 1346.0\n",
      "\n",
      "Elapsed time: 0.22452425956726074 seconds\n"
     ]
    }
   ],
   "source": [
    "print(\"Initial solution:\", permutation)\n",
    "print(\"Makespan:\", Cmax)\n",
    "\n",
    "start_time = time.time()\n",
    "best_solution, best_cmax = simulated_annealing(permutation, rnd_data, method=\"random_insertion\")\n",
    "elapsed_time = time.time() - start_time\n",
    "\n",
    "print(\"\\nGenerated solution:\", best_solution)\n",
    "print(\"Makespan:\", best_cmax)\n",
    "print(\"\\nElapsed time:\", elapsed_time, \"seconds\")"
   ]
  },
  {
   "cell_type": "code",
   "execution_count": 186,
   "id": "024b0466-c819-485a-921d-ffe9e557946a",
   "metadata": {},
   "outputs": [
    {
     "name": "stdout",
     "output_type": "stream",
     "text": [
      "Initial solution: [5, 6, 9, 8, 4, 2, 1, 7, 0, 3]\n",
      "Makespan: 1497.0\n",
      "\n",
      "Generated solution: [4, 6, 8, 1, 2, 9, 7, 0, 3, 5]\n",
      "Makespan: 1346.0\n",
      "\n",
      "Elapsed time: 6.292591094970703 seconds\n"
     ]
    }
   ],
   "source": [
    "# In this test, the method is set to random, so at each iteration we choose a different function for generating the next neighbor\n",
    "print(\"Initial solution:\", permutation)\n",
    "print(\"Makespan:\", Cmax)\n",
    "\n",
    "start_time = time.time()\n",
    "best_solution, best_cmax = simulated_annealing(permutation, rnd_data)\n",
    "elapsed_time = time.time() - start_time\n",
    "\n",
    "print(\"\\nGenerated solution:\", best_solution)\n",
    "print(\"Makespan:\", best_cmax)\n",
    "print(\"\\nElapsed time:\", elapsed_time, \"seconds\")"
   ]
  },
  {
   "cell_type": "code",
   "execution_count": 187,
   "id": "19f2a95d-ff89-4dbd-ba30-69e740e309e4",
   "metadata": {},
   "outputs": [
    {
     "name": "stdout",
     "output_type": "stream",
     "text": [
      "Initial solution: [5, 6, 9, 8, 4, 2, 1, 7, 0, 3]\n",
      "Makespan: 1497.0\n",
      "\n",
      "Generated solution: [4, 7, 8, 9, 0, 2, 1, 3, 5, 6]\n",
      "Makespan: 1317.0\n",
      "\n",
      "Elapsed time: 6.840753078460693 seconds\n"
     ]
    }
   ],
   "source": [
    "print(\"Initial solution:\", permutation)\n",
    "print(\"Makespan:\", Cmax)\n",
    "\n",
    "start_time = time.time()\n",
    "best_solution, best_cmax = simulated_annealing(permutation, rnd_data, method=\"best_swap\")\n",
    "elapsed_time = time.time() - start_time\n",
    "\n",
    "print(\"\\nGenerated solution:\", best_solution)\n",
    "print(\"Makespan:\", best_cmax)\n",
    "print(\"\\nElapsed time:\", elapsed_time, \"seconds\")"
   ]
  },
  {
   "cell_type": "markdown",
   "id": "36e7c6f4-a8f9-4c69-8454-9beddcde1b93",
   "metadata": {
    "tags": []
   },
   "source": [
    "# Tabu Search"
   ]
  },
  {
   "cell_type": "code",
   "execution_count": 188,
   "id": "5f22c57e-fd88-4456-9f8c-43c3ebebe5b6",
   "metadata": {},
   "outputs": [],
   "source": [
    "def tabu_search(initial_solution, processing_times, nb_iter=1000):\n",
    "    tabu_list = deque(maxlen=15)\n",
    "    best_solution = initial_solution.copy()\n",
    "    best_cmax = evaluate_sequence(initial_solution, processing_times)\n",
    "    iterations = 0\n",
    "    while iterations < nb_iter:\n",
    "        neighbours = best_swaps(best_solution, processing_times)\n",
    "        # If we don't have any best neighboors, we generate one randomly\n",
    "        if len(neighbours):\n",
    "            best_solution = random_swap(best_solution, processing_times)\n",
    "        # We check for neighbours\n",
    "        for neighbour in neighbours:\n",
    "            if neighbour[1] not in tabu_list:\n",
    "                best_solution = neighbour[1]\n",
    "                best_cmax = neighbour[0]\n",
    "                tabu_list.append(neighbour[1])\n",
    "                break\n",
    "            # If It is in the tabu list we would look for the next neighbor\n",
    "            else:\n",
    "                continue\n",
    "        iterations += 1\n",
    "    return best_solution, best_cmax, iterations"
   ]
  },
  {
   "cell_type": "code",
   "execution_count": 189,
   "id": "13251a4c-ad0b-4dcc-98e6-ed4d5963202e",
   "metadata": {},
   "outputs": [
    {
     "name": "stdout",
     "output_type": "stream",
     "text": [
      "Initial solution: [5, 6, 9, 8, 4, 2, 1, 7, 0, 3]\n",
      "Makespan: 1497.0\n",
      "\n",
      "Generated solution: [4, 7, 8, 9, 0, 2, 1, 3, 5, 6]\n",
      "Makespan: 1317.0\n",
      "\n",
      "Elapsed time: 7.935917854309082 seconds\n"
     ]
    }
   ],
   "source": [
    "print(\"Initial solution:\", permutation)\n",
    "print(\"Makespan:\", Cmax)\n",
    "\n",
    "start_time = time.time()\n",
    "best_solution, best_cmax, iterations = tabu_search(permutation, rnd_data)\n",
    "elapsed_time = time.time() - start_time\n",
    "\n",
    "print(\"\\nGenerated solution:\", best_solution)\n",
    "print(\"Makespan:\", best_cmax)\n",
    "print(\"\\nElapsed time:\", elapsed_time, \"seconds\")"
   ]
  },
  {
   "cell_type": "markdown",
   "id": "6f0f8dd5-13bc-4131-a3c0-28ef2ea58241",
   "metadata": {
    "tags": []
   },
   "source": [
    "# VNS"
   ]
  },
  {
   "cell_type": "code",
   "execution_count": 190,
   "id": "9366edf2-3a21-443c-b55f-6ae972c413a2",
   "metadata": {},
   "outputs": [],
   "source": [
    "# This function performs a random perturbation on a list by swapping the elements of k adjacent positions.\n",
    "# solution: the list to be perturbed\n",
    "# k: the number of adjacent positions to be swapped\n",
    "def shake(solution, k):\n",
    "    n = len(solution)\n",
    "    # If k is greater than the length of the list, then we create perturbations on all elements.\n",
    "    indices = random.sample(range(n), min(k, n-1))\n",
    "    indices.sort()\n",
    "    neighbor = solution.copy()\n",
    "    for i in indices:\n",
    "        j = (i+k) % n\n",
    "        neighbor[i], neighbor[j] = neighbor[j], neighbor[i]\n",
    "    return neighbor"
   ]
  },
  {
   "cell_type": "code",
   "execution_count": 211,
   "id": "c01d4b42-68db-4d6a-9c7d-ee6291170fe7",
   "metadata": {},
   "outputs": [],
   "source": [
    "def vns(sol_init, processing_times, max_iterations, k_max):\n",
    "    num_jobs = len(sol_init)\n",
    "    current_solution = sol_init\n",
    "    current_cost = evaluate_sequence(current_solution, processing_times)\n",
    "    k = 1\n",
    "    iteration = 0\n",
    "    while iteration < max_iterations:       \n",
    "        # Appliquer la perturbation \"shake\" pour générer le voisin aléatoire\n",
    "        best_neighbor_solution = shake(current_solution, k)\n",
    "        best_neighbor_cost = evaluate_sequence(best_neighbor_solution, processing_times)\n",
    "        \n",
    "        # Parcourir les voisins pour trouver la meilleure solution locale\n",
    "        for l in range(1, k_max+1):\n",
    "            neighbor, neighbor_cost  = get_neighbor(current_solution, processing_times, method=\"random\")\n",
    "            if (neighbor_cost < best_neighbor_cost):\n",
    "                best_neighbor_solution = neighbor\n",
    "                best_neighbor_cost = neighbor_cost            \n",
    "        \n",
    "        # Si la meilleure solution trouvée dans le voisinage est meilleure que la solution courante\n",
    "        # alors on met à jour la solution courante et on réinitialise le rayon de la recherche\n",
    "        if ( best_neighbor_cost < current_cost ):\n",
    "            current_solution = best_neighbor_solution\n",
    "            current_cost = best_neighbor_cost\n",
    "            k = 1\n",
    "        else:\n",
    "            k += 1\n",
    "        iteration += 1\n",
    "    return current_solution, current_cost"
   ]
  },
  {
   "cell_type": "code",
   "execution_count": 192,
   "id": "c18829e1-c4c7-41c0-ae19-187e1c7be203",
   "metadata": {},
   "outputs": [
    {
     "name": "stdout",
     "output_type": "stream",
     "text": [
      "Initial solution: [5, 6, 9, 8, 4, 2, 1, 7, 0, 3]\n",
      "Makespan: 1497.0\n",
      "\n",
      "Generated solution: [4, 9, 7, 0, 2, 8, 1, 3, 5, 6]\n",
      "Makespan: 1318.0\n",
      "\n",
      "Elapsed time: 0.14304304122924805 seconds\n"
     ]
    }
   ],
   "source": [
    "# For 100 iterations, and k set to 5\n",
    "print(\"Initial solution:\", permutation)\n",
    "print(\"Makespan:\", Cmax)\n",
    "\n",
    "start_time = time.time()\n",
    "best_solution, best_cmax = vns(permutation, rnd_data, 100, 5)\n",
    "elapsed_time = time.time() - start_time\n",
    "\n",
    "print(\"\\nGenerated solution:\", best_solution)\n",
    "print(\"Makespan:\", best_cmax)\n",
    "print(\"\\nElapsed time:\", elapsed_time, \"seconds\")"
   ]
  },
  {
   "cell_type": "code",
   "execution_count": 193,
   "id": "d970468d-099d-429f-a96b-eb9c808d72aa",
   "metadata": {},
   "outputs": [
    {
     "name": "stdout",
     "output_type": "stream",
     "text": [
      "Initial solution: [5, 6, 9, 8, 4, 2, 1, 7, 0, 3]\n",
      "Makespan: 1497.0\n",
      "\n",
      "Generated solution: [4, 6, 9, 8, 1, 2, 7, 3, 0, 5]\n",
      "Makespan: 1352.0\n",
      "\n",
      "Elapsed time: 2.0959348678588867 seconds\n"
     ]
    }
   ],
   "source": [
    "# For 1000 iterations, and k set to 10\n",
    "print(\"Initial solution:\", permutation)\n",
    "print(\"Makespan:\", Cmax)\n",
    "\n",
    "start_time = time.time()\n",
    "best_solution, best_cmax = vns(permutation, rnd_data, 1000, 10)\n",
    "elapsed_time = time.time() - start_time\n",
    "\n",
    "print(\"\\nGenerated solution:\", best_solution)\n",
    "print(\"Makespan:\", best_cmax)\n",
    "print(\"\\nElapsed time:\", elapsed_time, \"seconds\")"
   ]
  },
  {
   "cell_type": "markdown",
   "id": "f51a512a-6076-4690-b914-798c7985978f",
   "metadata": {},
   "source": [
    "# Tests"
   ]
  },
  {
   "cell_type": "markdown",
   "id": "3e623658-9add-48f9-a240-9b1056d51237",
   "metadata": {
    "tags": []
   },
   "source": [
    "## Heuristics"
   ]
  },
  {
   "cell_type": "markdown",
   "id": "168473fe-8f16-4d47-9733-655ac2379bd5",
   "metadata": {},
   "source": [
    "### NEH Heuristic"
   ]
  },
  {
   "cell_type": "code",
   "execution_count": 82,
   "id": "38bd380a-db52-45a5-9870-b2fd578eef9d",
   "metadata": {},
   "outputs": [],
   "source": [
    "def order_jobs_in_descending_order_of_total_completion_time(processing_times):\n",
    "    total_completion_time = processing_times.sum(axis=1)\n",
    "    return np.argsort(total_completion_time, axis=0).tolist()"
   ]
  },
  {
   "cell_type": "code",
   "execution_count": 83,
   "id": "1577ec2a-8c6e-4b7f-82a6-851762bce198",
   "metadata": {},
   "outputs": [],
   "source": [
    "def insertion(sequence, position, value):\n",
    "    new_seq = sequence[:]\n",
    "    new_seq.insert(position, value)\n",
    "    return new_seq"
   ]
  },
  {
   "cell_type": "code",
   "execution_count": 84,
   "id": "bbcf692d-c395-4b55-84d0-4b1d7abd2a7e",
   "metadata": {},
   "outputs": [],
   "source": [
    "def neh_algorithm(processing_times):\n",
    "    ordered_sequence = order_jobs_in_descending_order_of_total_completion_time(processing_times)\n",
    "    # Define the initial order\n",
    "    J1, J2 = ordered_sequence[:2]\n",
    "    sequence = [J1, J2] if evaluate_sequence([J1, J2], processing_times) < evaluate_sequence([J2, J1], processing_times) else [J2, J1]\n",
    "    del ordered_sequence[:2]\n",
    "    # Add remaining jobs\n",
    "    for job in ordered_sequence:\n",
    "        Cmax = float('inf')\n",
    "        best_sequence = []\n",
    "        for i in range(len(sequence)+1):\n",
    "            new_sequence = insertion(sequence, i, job)\n",
    "            Cmax_eval = evaluate_sequence(new_sequence, processing_times)\n",
    "            if Cmax_eval < Cmax:\n",
    "                Cmax = Cmax_eval\n",
    "                best_sequence = new_sequence\n",
    "        sequence = best_sequence\n",
    "    return sequence, Cmax"
   ]
  },
  {
   "cell_type": "markdown",
   "id": "0ac7e67b-ab16-4050-a826-08f87fb2afca",
   "metadata": {
    "tags": []
   },
   "source": [
    "## Reading Taillard Instances"
   ]
  },
  {
   "cell_type": "markdown",
   "id": "242bf872-31e5-4d89-b521-e8caa86dfb48",
   "metadata": {},
   "source": [
    "### Taillard, 20 jobs 5 machines"
   ]
  },
  {
   "cell_type": "code",
   "execution_count": 80,
   "id": "0bff55a9-3411-44fa-9b0a-77ebe6046cf0",
   "metadata": {},
   "outputs": [
    {
     "name": "stdout",
     "output_type": "stream",
     "text": [
      "Taillard, 20 jobs 5 machines contains 10 benchmark.\n"
     ]
    }
   ],
   "source": [
    "# Open the file that contains the instances\n",
    "file = open(\"Benchmarks/tai20_5.txt\", \"r\")\n",
    "\n",
    "# Read the file line by line to retrieve the instances\n",
    "n = 0\n",
    "instances_20_5 = [[]]\n",
    "line = file.readline()\n",
    "\n",
    "while line:\n",
    "    if line != '\\n':\n",
    "        line = line.strip(' ')\n",
    "        line = line[:-1]\n",
    "        line = line.split()\n",
    "        line = [int(num) for num in line]\n",
    "        instances_20_5[n].append(line)\n",
    "    else:\n",
    "        instances_20_5.append([])\n",
    "        n += 1\n",
    "    line = file.readline()\n",
    "    \n",
    "print(f'Taillard, 20 jobs 5 machines contains {len(instances_20_5)} benchmark.')   "
   ]
  },
  {
   "cell_type": "markdown",
   "id": "a9097831-d9e6-4429-8990-141b5daec7e1",
   "metadata": {},
   "source": [
    "### Taillard, 50 jobs 10 machines"
   ]
  },
  {
   "cell_type": "code",
   "execution_count": 81,
   "id": "233dd7e3-abfd-451c-a231-cef6326623b5",
   "metadata": {},
   "outputs": [
    {
     "name": "stdout",
     "output_type": "stream",
     "text": [
      "Taillard, 50 jobs 10 machines contains 10 benchmark.\n"
     ]
    }
   ],
   "source": [
    "# Open the file that contains the instances\n",
    "file = open(\"Benchmarks/tai50_10.txt\", \"r\")\n",
    "\n",
    "# Read the file line by line to retrieve the instances\n",
    "n = 0\n",
    "instances_50_10 = [[]]\n",
    "line = file.readline()\n",
    "\n",
    "while line:\n",
    "    if line != '\\n':\n",
    "        line = line.strip(' ')\n",
    "        line = line[:-1]\n",
    "        line = line.split()\n",
    "        line = [int(num) for num in line]\n",
    "        instances_50_10[n].append(line)\n",
    "    else:\n",
    "        instances_50_10.append([])\n",
    "        n += 1\n",
    "    line = file.readline()\n",
    "    \n",
    "print(f'Taillard, 50 jobs 10 machines contains {len(instances_50_10)} benchmark.')"
   ]
  },
  {
   "cell_type": "markdown",
   "id": "cae4893e-3894-4599-8cbd-bc1d327b50bc",
   "metadata": {},
   "source": [
    "## Running the tests"
   ]
  },
  {
   "cell_type": "code",
   "execution_count": 97,
   "id": "cf0025bf-06cb-4fef-9206-bacde240634c",
   "metadata": {},
   "outputs": [],
   "source": [
    "# Prepare dataframes that will gather all our results\n",
    "df_random = pd.DataFrame({'Metaheuristic': pd.Series(dtype='str'),\n",
    "                   '20-5-1 (Makespan)': pd.Series(dtype='str'),\n",
    "                   '20-5-1 (Time)': pd.Series(dtype='str'),\n",
    "                   '20-5-7 (Makespan)': pd.Series(dtype='str'),\n",
    "                   '20-5-7 (Time)': pd.Series(dtype='str'),\n",
    "                  }) \n",
    "df_neh = pd.DataFrame({'Metaheuristic': pd.Series(dtype='str'),\n",
    "                   '20-5-1 (Makespan)': pd.Series(dtype='str'),\n",
    "                   '20-5-1 (Time)': pd.Series(dtype='str'),\n",
    "                   '20-5-7 (Makespan)': pd.Series(dtype='str'),\n",
    "                   '20-5-7 (Time)': pd.Series(dtype='str'),\n",
    "                  }) "
   ]
  },
  {
   "cell_type": "code",
   "execution_count": 98,
   "id": "11a9ae30-90fe-4993-8481-310db296ff47",
   "metadata": {},
   "outputs": [],
   "source": [
    "RW_random = ['Random Walk']\n",
    "HC1_random = ['Simple Hill climbing']\n",
    "HC2_random = ['Steepest Ascent Hill climbing']\n",
    "HC3_random = ['Stochastic Hill climbing']\n",
    "SA_random = ['Simulated annealing']\n",
    "TS_random = ['Tabu Search']\n",
    "VNS_random = ['VNS']"
   ]
  },
  {
   "cell_type": "code",
   "execution_count": 99,
   "id": "c2245e6d-b835-431c-914b-f9372d1253ed",
   "metadata": {},
   "outputs": [],
   "source": [
    "RW_neh = ['Random Walk']\n",
    "HC1_neh = ['Simple Hill climbing']\n",
    "HC2_neh = ['Steepest Ascent Hill climbing']\n",
    "HC3_neh = ['Stochastic Hill climbing']\n",
    "SA_neh = ['Simulated annealing']\n",
    "TS_neh = ['Tabu Search']\n",
    "VNS_neh = ['VNS']"
   ]
  },
  {
   "cell_type": "code",
   "execution_count": 104,
   "id": "7b05eee7-30b7-4da3-a02f-98481f5870cf",
   "metadata": {},
   "outputs": [
    {
     "name": "stdout",
     "output_type": "stream",
     "text": [
      "1334.0\n"
     ]
    }
   ],
   "source": [
    "instance_1 = np.array(instances_20_5[0])\n",
    "instance_1 = instance_1.T\n",
    "neh_20_5_1, cmax_20_5_1 = neh_algorithm(instance_1)\n",
    "print(cmax_20_5_1)"
   ]
  },
  {
   "cell_type": "code",
   "execution_count": 105,
   "id": "5fa87814-044f-4f2f-b528-26bfc76e0b43",
   "metadata": {},
   "outputs": [
    {
     "name": "stdout",
     "output_type": "stream",
     "text": [
      "1284.0\n"
     ]
    }
   ],
   "source": [
    "instance_7 = np.array(instances_20_5[6])\n",
    "instance_7 = instance_7.T\n",
    "neh_20_5_7, cmax_20_5_7 = neh_algorithm(instance_7)\n",
    "print(cmax_20_5_7)"
   ]
  },
  {
   "cell_type": "markdown",
   "id": "fb9d7d10-7d8f-4e5b-a38f-d874d2a584b3",
   "metadata": {
    "tags": []
   },
   "source": [
    "### Random walk"
   ]
  },
  {
   "cell_type": "code",
   "execution_count": 136,
   "id": "a73cd6aa-dec3-4b2d-a3fb-ae73cc31b210",
   "metadata": {},
   "outputs": [
    {
     "name": "stdout",
     "output_type": "stream",
     "text": [
      "Original Solution: [3, 6, 12, 4, 7, 17, 8, 18, 19, 11, 15, 16, 1, 14, 0, 13, 9, 10, 5, 2].\n",
      "Makespan: 1503.0\n",
      "\n",
      "\n",
      "Generated Solution: [18, 12, 11, 14, 6, 5, 2, 16, 10, 17, 7, 3, 9, 15, 1, 8, 0, 13, 4, 19].\n",
      "Makespan: 1485.0\n",
      "\n",
      "Elapsed time:  0.20685696601867676 seconds\n"
     ]
    }
   ],
   "source": [
    "rnd_solution = list(range(20))\n",
    "random.shuffle(rnd_solution)\n",
    "\n",
    "print(f'Original Solution: {rnd_solution}.')\n",
    "print(f'Makespan: {evaluate_sequence(rnd_solution, instance_1)}')\n",
    "start_time = time.time()\n",
    "sol, Cmax, _ = random_walk(rnd_solution, instance_1)\n",
    "elapsed_time = time.time() - start_time\n",
    "\n",
    "print(f'\\n\\nGenerated Solution: {sol}.')\n",
    "print(f'Makespan: {Cmax}')\n",
    "print(\"\\nElapsed time: \", elapsed_time, \"seconds\")\n",
    "\n",
    "RW_random.append(\"%.3f\" % (Cmax))\n",
    "RW_random.append(\" %.3fs\" % (elapsed_time))"
   ]
  },
  {
   "cell_type": "code",
   "execution_count": 137,
   "id": "00b62aad-a9eb-4d36-9b0a-bd52648a146f",
   "metadata": {},
   "outputs": [
    {
     "name": "stdout",
     "output_type": "stream",
     "text": [
      "Original Solution: [18, 7, 5, 17, 1, 8, 2, 13, 16, 6, 4, 10, 14, 3, 12, 9, 0, 19, 15, 11].\n",
      "Makespan: 1495.0\n",
      "\n",
      "\n",
      "Generated Solution: [8, 12, 5, 3, 1, 18, 15, 19, 13, 17, 14, 0, 2, 9, 7, 16, 4, 6, 11, 10].\n",
      "Makespan: 1509.0\n",
      "\n",
      "Elapsed time:  0.17856240272521973 seconds\n"
     ]
    }
   ],
   "source": [
    "rnd_solution = list(range(20))\n",
    "random.shuffle(rnd_solution)\n",
    "\n",
    "print(f'Original Solution: {rnd_solution}.')\n",
    "print(f'Makespan: {evaluate_sequence(rnd_solution, instance_7)}')\n",
    "start_time = time.time()\n",
    "sol, Cmax, _ = random_walk(rnd_solution, instance_7)\n",
    "elapsed_time = time.time() - start_time\n",
    "\n",
    "print(f'\\n\\nGenerated Solution: {sol}.')\n",
    "print(f'Makespan: {Cmax}')\n",
    "print(\"\\nElapsed time: \", elapsed_time, \"seconds\")\n",
    "\n",
    "RW_random.append(\"%.3f\" % (Cmax))\n",
    "RW_random.append(\" %.3fs\" % (elapsed_time))"
   ]
  },
  {
   "cell_type": "code",
   "execution_count": 237,
   "id": "509f69de-a7dd-4222-9e36-05d5a1c67ce5",
   "metadata": {},
   "outputs": [
    {
     "name": "stdout",
     "output_type": "stream",
     "text": [
      "NEH Solution: [8, 6, 15, 10, 7, 1, 16, 2, 14, 13, 17, 3, 9, 11, 0, 18, 5, 4, 12, 19].\n",
      "Makespan: 1334.0\n",
      "\n",
      "\n",
      "Generated Solution: [5, 16, 18, 15, 17, 12, 10, 1, 0, 7, 2, 14, 6, 11, 9, 8, 3, 4, 19, 13].\n",
      "Makespan: 1422.0\n",
      "\n",
      "Elapsed time:  0.21238231658935547 seconds\n"
     ]
    }
   ],
   "source": [
    "print(f'NEH Solution: {neh_20_5_1}.')\n",
    "print(f'Makespan: {cmax_20_5_1}')\n",
    "start_time = time.time()\n",
    "sol, Cmax, _ = random_walk(neh_20_5_1, instance_1)\n",
    "elapsed_time = time.time() - start_time\n",
    "\n",
    "print(f'\\n\\nGenerated Solution: {sol}.')\n",
    "print(f'Makespan: {Cmax}')\n",
    "print(\"\\nElapsed time: \", elapsed_time, \"seconds\")\n",
    "\n",
    "RW_neh.append(\"%.3f\" % (Cmax))\n",
    "RW_neh.append(\" %.3fs\" % (elapsed_time))"
   ]
  },
  {
   "cell_type": "code",
   "execution_count": 238,
   "id": "61ef927c-ffa8-4111-ac1b-92b2ece416d6",
   "metadata": {},
   "outputs": [
    {
     "name": "stdout",
     "output_type": "stream",
     "text": [
      "NEH Solution: [4, 2, 19, 10, 7, 5, 3, 8, 1, 12, 6, 18, 16, 9, 14, 15, 0, 17, 13, 11].\n",
      "Makespan: 1284.0\n",
      "\n",
      "\n",
      "Generated Solution: [13, 18, 8, 11, 19, 15, 14, 17, 2, 5, 3, 1, 0, 4, 7, 9, 6, 10, 16, 12].\n",
      "Makespan: 1476.0\n",
      "\n",
      "Elapsed time:  0.20998215675354004 seconds\n"
     ]
    }
   ],
   "source": [
    "print(f'NEH Solution: {neh_20_5_7}.')\n",
    "print(f'Makespan: {cmax_20_5_7}')\n",
    "start_time = time.time()\n",
    "sol, Cmax, _ = random_walk(neh_20_5_7, instance_7)\n",
    "elapsed_time = time.time() - start_time\n",
    "\n",
    "print(f'\\n\\nGenerated Solution: {sol}.')\n",
    "print(f'Makespan: {Cmax}')\n",
    "print(\"\\nElapsed time: \", elapsed_time, \"seconds\")\n",
    "\n",
    "RW_neh.append(\"%.3f\" % (Cmax))\n",
    "RW_neh.append(\" %.3fs\" % (elapsed_time))"
   ]
  },
  {
   "cell_type": "markdown",
   "id": "2b16401b-9fc7-433f-8405-8417ae870616",
   "metadata": {
    "jp-MarkdownHeadingCollapsed": true,
    "tags": []
   },
   "source": [
    "### Hill climbing"
   ]
  },
  {
   "cell_type": "markdown",
   "id": "5f006359-17f9-489f-a7d5-43b413b86ede",
   "metadata": {
    "jp-MarkdownHeadingCollapsed": true,
    "tags": []
   },
   "source": [
    "#### Simple"
   ]
  },
  {
   "cell_type": "code",
   "execution_count": 145,
   "id": "cef539ad-8e73-4b47-98f9-b55136955a5b",
   "metadata": {},
   "outputs": [
    {
     "name": "stdout",
     "output_type": "stream",
     "text": [
      "Original Solution: [5, 15, 18, 8, 16, 14, 19, 1, 11, 13, 7, 0, 10, 12, 2, 4, 6, 9, 17, 3].\n",
      "Makespan: 1511.0\n",
      "\n",
      "\n",
      "Generated Solution: [12, 5, 18, 8, 16, 14, 17, 13, 11, 3, 1, 0, 4, 15, 7, 10, 6, 9, 19, 2].\n",
      "Makespan: 1323.0\n",
      "\n",
      "Elapsed time:  0.2649540901184082 seconds\n"
     ]
    }
   ],
   "source": [
    "rnd_solution = list(range(20))\n",
    "random.shuffle(rnd_solution)\n",
    "\n",
    "print(f'Original Solution: {rnd_solution}.')\n",
    "print(f'Makespan: {evaluate_sequence(rnd_solution, instance_1)}')\n",
    "start_time = time.time()\n",
    "sol, Cmax, _ = simple_hill_climbing(rnd_solution, instance_1)\n",
    "elapsed_time = time.time() - start_time\n",
    "\n",
    "print(f'\\n\\nGenerated Solution: {sol}.')\n",
    "print(f'Makespan: {Cmax}')\n",
    "print(\"\\nElapsed time: \", elapsed_time, \"seconds\")\n",
    "\n",
    "HC1_random.append(\"%.3f\" % (Cmax))\n",
    "HC1_random.append(\" %.3fs\" % (elapsed_time))"
   ]
  },
  {
   "cell_type": "code",
   "execution_count": 146,
   "id": "d814293e-7912-4b39-9960-eb37e142c181",
   "metadata": {},
   "outputs": [
    {
     "name": "stdout",
     "output_type": "stream",
     "text": [
      "Original Solution: [14, 10, 16, 13, 9, 15, 19, 17, 11, 6, 0, 1, 4, 5, 2, 8, 3, 18, 7, 12].\n",
      "Makespan: 1505.0\n",
      "\n",
      "\n",
      "Generated Solution: [4, 14, 19, 10, 6, 3, 12, 8, 0, 5, 16, 1, 15, 13, 2, 9, 11, 18, 7, 17].\n",
      "Makespan: 1262.0\n",
      "\n",
      "Elapsed time:  0.1772928237915039 seconds\n"
     ]
    }
   ],
   "source": [
    "rnd_solution = list(range(20))\n",
    "random.shuffle(rnd_solution)\n",
    "\n",
    "print(f'Original Solution: {rnd_solution}.')\n",
    "print(f'Makespan: {evaluate_sequence(rnd_solution, instance_7)}')\n",
    "start_time = time.time()\n",
    "sol, Cmax, _ = simple_hill_climbing(rnd_solution, instance_7)\n",
    "elapsed_time = time.time() - start_time\n",
    "\n",
    "print(f'\\n\\nGenerated Solution: {sol}.')\n",
    "print(f'Makespan: {Cmax}')\n",
    "print(\"\\nElapsed time: \", elapsed_time, \"seconds\")\n",
    "\n",
    "HC1_random.append(\"%.3f\" % (Cmax))\n",
    "HC1_random.append(\" %.3fs\" % (elapsed_time))"
   ]
  },
  {
   "cell_type": "code",
   "execution_count": 147,
   "id": "f177de60-cc09-4311-906a-f5975b6b3fe8",
   "metadata": {},
   "outputs": [
    {
     "name": "stdout",
     "output_type": "stream",
     "text": [
      "NEH Solution: [8, 6, 15, 10, 7, 1, 16, 2, 14, 13, 17, 3, 9, 11, 0, 18, 5, 4, 12, 19].\n",
      "Makespan: 1334.0\n",
      "\n",
      "\n",
      "Generated Solution: [8, 12, 15, 10, 7, 1, 16, 2, 14, 13, 17, 3, 4, 11, 0, 18, 5, 9, 6, 19].\n",
      "Makespan: 1305.0\n",
      "\n",
      "Elapsed time:  0.0866696834564209 seconds\n"
     ]
    }
   ],
   "source": [
    "print(f'NEH Solution: {neh_20_5_1}.')\n",
    "print(f'Makespan: {cmax_20_5_1}')\n",
    "start_time = time.time()\n",
    "sol, Cmax, _ = simple_hill_climbing(neh_20_5_1, instance_1)\n",
    "elapsed_time = time.time() - start_time\n",
    "\n",
    "print(f'\\n\\nGenerated Solution: {sol}.')\n",
    "print(f'Makespan: {Cmax}')\n",
    "print(\"\\nElapsed time: \", elapsed_time, \"seconds\")\n",
    "\n",
    "HC1_neh.append(\"%.3f\" % (Cmax))\n",
    "HC1_neh.append(\" %.3fs\" % (elapsed_time))"
   ]
  },
  {
   "cell_type": "code",
   "execution_count": 148,
   "id": "8a9cea57-7837-4513-bf8c-7f8150b644df",
   "metadata": {},
   "outputs": [
    {
     "name": "stdout",
     "output_type": "stream",
     "text": [
      "NEH Solution: [4, 2, 19, 10, 7, 5, 3, 8, 1, 12, 6, 18, 16, 9, 14, 15, 0, 17, 13, 11].\n",
      "Makespan: 1284.0\n",
      "\n",
      "\n",
      "Generated Solution: [4, 15, 19, 10, 7, 16, 3, 8, 1, 12, 6, 18, 5, 11, 2, 14, 0, 17, 13, 9].\n",
      "Makespan: 1251.0\n",
      "\n",
      "Elapsed time:  0.12863445281982422 seconds\n"
     ]
    }
   ],
   "source": [
    "print(f'NEH Solution: {neh_20_5_7}.')\n",
    "print(f'Makespan: {cmax_20_5_7}')\n",
    "start_time = time.time()\n",
    "sol, Cmax, _ = simple_hill_climbing(neh_20_5_7, instance_7)\n",
    "elapsed_time = time.time() - start_time\n",
    "\n",
    "print(f'\\n\\nGenerated Solution: {sol}.')\n",
    "print(f'Makespan: {Cmax}')\n",
    "print(\"\\nElapsed time: \", elapsed_time, \"seconds\")\n",
    "\n",
    "HC1_neh.append(\"%.3f\" % (Cmax))\n",
    "HC1_neh.append(\" %.3fs\" % (elapsed_time))"
   ]
  },
  {
   "cell_type": "markdown",
   "id": "4d7758c6-90b9-4d2c-a53d-77d7b955c1c5",
   "metadata": {
    "jp-MarkdownHeadingCollapsed": true,
    "tags": []
   },
   "source": [
    "#### Steepest Ascent"
   ]
  },
  {
   "cell_type": "code",
   "execution_count": 149,
   "id": "7d888a38-c56c-4808-98f2-a74777acfd2c",
   "metadata": {},
   "outputs": [
    {
     "name": "stdout",
     "output_type": "stream",
     "text": [
      "Original Solution: [11, 16, 14, 0, 3, 2, 8, 10, 18, 19, 12, 1, 5, 7, 9, 4, 6, 13, 17, 15].\n",
      "Makespan: 1474.0\n",
      "\n",
      "\n",
      "Generated Solution: [11, 16, 14, 0, 3, 2, 8, 10, 18, 15, 12, 1, 5, 7, 9, 4, 6, 13, 17, 19].\n",
      "Makespan: 1385.0\n",
      "\n",
      "Elapsed time:  27.873820066452026 seconds\n"
     ]
    }
   ],
   "source": [
    "rnd_solution = list(range(20))\n",
    "random.shuffle(rnd_solution)\n",
    "\n",
    "print(f'Original Solution: {rnd_solution}.')\n",
    "print(f'Makespan: {evaluate_sequence(rnd_solution, instance_1)}')\n",
    "start_time = time.time()\n",
    "sol, Cmax, _ = steepest_ascent_hill_climbing(rnd_solution, instance_1)\n",
    "elapsed_time = time.time() - start_time\n",
    "\n",
    "print(f'\\n\\nGenerated Solution: {sol}.')\n",
    "print(f'Makespan: {Cmax}')\n",
    "print(\"\\nElapsed time: \", elapsed_time, \"seconds\")\n",
    "\n",
    "HC2_random.append(\"%.3f\" % (Cmax))\n",
    "HC2_random.append(\" %.3fs\" % (elapsed_time))"
   ]
  },
  {
   "cell_type": "code",
   "execution_count": 150,
   "id": "207509c6-15e0-48ee-9825-9389d44d31dc",
   "metadata": {},
   "outputs": [
    {
     "name": "stdout",
     "output_type": "stream",
     "text": [
      "Original Solution: [0, 7, 18, 4, 12, 16, 10, 14, 2, 19, 13, 11, 6, 5, 8, 9, 3, 15, 17, 1].\n",
      "Makespan: 1452.0\n",
      "\n",
      "\n",
      "Generated Solution: [0, 7, 18, 4, 12, 16, 10, 14, 2, 19, 13, 11, 6, 5, 8, 1, 3, 15, 17, 9].\n",
      "Makespan: 1392.0\n",
      "\n",
      "Elapsed time:  28.596442461013794 seconds\n"
     ]
    }
   ],
   "source": [
    "rnd_solution = list(range(20))\n",
    "random.shuffle(rnd_solution)\n",
    "\n",
    "print(f'Original Solution: {rnd_solution}.')\n",
    "print(f'Makespan: {evaluate_sequence(rnd_solution, instance_7)}')\n",
    "start_time = time.time()\n",
    "sol, Cmax, _ = steepest_ascent_hill_climbing(rnd_solution, instance_7)\n",
    "elapsed_time = time.time() - start_time\n",
    "\n",
    "print(f'\\n\\nGenerated Solution: {sol}.')\n",
    "print(f'Makespan: {Cmax}')\n",
    "print(\"\\nElapsed time: \", elapsed_time, \"seconds\")\n",
    "\n",
    "HC2_random.append(\"%.3f\" % (Cmax))\n",
    "HC2_random.append(\" %.3fs\" % (elapsed_time))"
   ]
  },
  {
   "cell_type": "code",
   "execution_count": 151,
   "id": "24ac56df-8592-4afb-9c79-a0c31295b828",
   "metadata": {},
   "outputs": [
    {
     "name": "stdout",
     "output_type": "stream",
     "text": [
      "NEH Solution: [8, 6, 15, 10, 7, 1, 16, 2, 14, 13, 17, 3, 9, 11, 0, 18, 5, 4, 12, 19].\n",
      "Makespan: 1334.0\n",
      "\n",
      "\n",
      "Generated Solution: [8, 12, 15, 10, 7, 1, 16, 2, 14, 13, 17, 3, 9, 11, 0, 18, 5, 4, 6, 19].\n",
      "Makespan: 1331.0\n",
      "\n",
      "Elapsed time:  28.401727437973022 seconds\n"
     ]
    }
   ],
   "source": [
    "print(f'NEH Solution: {neh_20_5_1}.')\n",
    "print(f'Makespan: {cmax_20_5_1}')\n",
    "start_time = time.time()\n",
    "sol, Cmax, _ = steepest_ascent_hill_climbing(neh_20_5_1, instance_1)\n",
    "elapsed_time = time.time() - start_time\n",
    "\n",
    "print(f'\\n\\nGenerated Solution: {sol}.')\n",
    "print(f'Makespan: {Cmax}')\n",
    "print(\"\\nElapsed time: \", elapsed_time, \"seconds\")\n",
    "\n",
    "HC2_neh.append(\"%.3f\" % (Cmax))\n",
    "HC2_neh.append(\" %.3fs\" % (elapsed_time))"
   ]
  },
  {
   "cell_type": "code",
   "execution_count": 152,
   "id": "c2844686-bd5e-4903-a574-58533db21e1c",
   "metadata": {},
   "outputs": [
    {
     "name": "stdout",
     "output_type": "stream",
     "text": [
      "NEH Solution: [4, 2, 19, 10, 7, 5, 3, 8, 1, 12, 6, 18, 16, 9, 14, 15, 0, 17, 13, 11].\n",
      "Makespan: 1284.0\n",
      "\n",
      "\n",
      "Generated Solution: [4, 2, 19, 10, 7, 5, 3, 8, 1, 12, 6, 18, 16, 11, 14, 15, 0, 17, 13, 9].\n",
      "Makespan: 1280.0\n",
      "\n",
      "Elapsed time:  28.897857427597046 seconds\n"
     ]
    }
   ],
   "source": [
    "print(f'NEH Solution: {neh_20_5_7}.')\n",
    "print(f'Makespan: {cmax_20_5_7}')\n",
    "start_time = time.time()\n",
    "sol, Cmax, _ = steepest_ascent_hill_climbing(neh_20_5_7, instance_7)\n",
    "elapsed_time = time.time() - start_time\n",
    "\n",
    "print(f'\\n\\nGenerated Solution: {sol}.')\n",
    "print(f'Makespan: {Cmax}')\n",
    "print(\"\\nElapsed time: \", elapsed_time, \"seconds\")\n",
    "\n",
    "HC2_neh.append(\"%.3f\" % (Cmax))\n",
    "HC2_neh.append(\" %.3fs\" % (elapsed_time))"
   ]
  },
  {
   "cell_type": "markdown",
   "id": "96032150-9c12-4a20-ab71-cc8a7649d61f",
   "metadata": {
    "jp-MarkdownHeadingCollapsed": true,
    "tags": []
   },
   "source": [
    "#### Stochastic"
   ]
  },
  {
   "cell_type": "code",
   "execution_count": 195,
   "id": "d58222a1-bfa9-4fd1-94eb-2e5cd3234126",
   "metadata": {},
   "outputs": [
    {
     "name": "stdout",
     "output_type": "stream",
     "text": [
      "Original Solution: [19, 14, 15, 17, 10, 18, 8, 0, 1, 5, 2, 7, 13, 6, 16, 11, 4, 12, 3, 9].\n",
      "Makespan: 1457.0\n",
      "\n",
      "\n",
      "Generated Solution: [2, 14, 15, 13, 10, 18, 8, 5, 7, 0, 12, 16, 3, 4, 17, 11, 1, 9, 6, 19].\n",
      "Makespan: 1305.0\n",
      "\n",
      "Elapsed time:  0.33051371574401855 seconds\n"
     ]
    }
   ],
   "source": [
    "rnd_solution = list(range(20))\n",
    "random.shuffle(rnd_solution)\n",
    "\n",
    "print(f'Original Solution: {rnd_solution}.')\n",
    "print(f'Makespan: {evaluate_sequence(rnd_solution, instance_1)}')\n",
    "start_time = time.time()\n",
    "sol, Cmax, _ = stochastic_hill_climbing(rnd_solution, instance_1)\n",
    "elapsed_time = time.time() - start_time\n",
    "\n",
    "print(f'\\n\\nGenerated Solution: {sol}.')\n",
    "print(f'Makespan: {Cmax}')\n",
    "print(\"\\nElapsed time: \", elapsed_time, \"seconds\")\n",
    "\n",
    "HC3_random.append(\"%.3f\" % (Cmax))\n",
    "HC3_random.append(\" %.3fs\" % (elapsed_time))"
   ]
  },
  {
   "cell_type": "code",
   "execution_count": 196,
   "id": "14f8ca4a-9120-4b8a-ac4d-c4370678d6c7",
   "metadata": {},
   "outputs": [
    {
     "name": "stdout",
     "output_type": "stream",
     "text": [
      "Original Solution: [19, 18, 4, 6, 14, 15, 0, 2, 13, 5, 1, 9, 16, 3, 8, 12, 10, 17, 7, 11].\n",
      "Makespan: 1499.0\n",
      "\n",
      "\n",
      "Generated Solution: [4, 10, 15, 5, 2, 19, 7, 14, 1, 12, 13, 11, 6, 3, 8, 16, 18, 0, 17, 9].\n",
      "Makespan: 1251.0\n",
      "\n",
      "Elapsed time:  0.42995691299438477 seconds\n"
     ]
    }
   ],
   "source": [
    "rnd_solution = list(range(20))\n",
    "random.shuffle(rnd_solution)\n",
    "\n",
    "print(f'Original Solution: {rnd_solution}.')\n",
    "print(f'Makespan: {evaluate_sequence(rnd_solution, instance_7)}')\n",
    "start_time = time.time()\n",
    "sol, Cmax, _ = stochastic_hill_climbing(rnd_solution, instance_7)\n",
    "elapsed_time = time.time() - start_time\n",
    "\n",
    "print(f'\\n\\nGenerated Solution: {sol}.')\n",
    "print(f'Makespan: {Cmax}')\n",
    "print(\"\\nElapsed time: \", elapsed_time, \"seconds\")\n",
    "\n",
    "HC3_random.append(\"%.3f\" % (Cmax))\n",
    "HC3_random.append(\" %.3fs\" % (elapsed_time))"
   ]
  },
  {
   "cell_type": "code",
   "execution_count": 197,
   "id": "3cb04df2-4173-41d5-bd88-8b1e718bcee0",
   "metadata": {},
   "outputs": [
    {
     "name": "stdout",
     "output_type": "stream",
     "text": [
      "NEH Solution: [8, 6, 15, 10, 7, 1, 16, 2, 14, 13, 17, 3, 9, 11, 0, 18, 5, 4, 12, 19].\n",
      "Makespan: 1334.0\n",
      "\n",
      "\n",
      "Generated Solution: [8, 12, 15, 10, 7, 1, 16, 2, 14, 13, 17, 3, 4, 11, 0, 18, 5, 9, 6, 19].\n",
      "Makespan: 1305.0\n",
      "\n",
      "Elapsed time:  0.09839677810668945 seconds\n"
     ]
    }
   ],
   "source": [
    "print(f'NEH Solution: {neh_20_5_1}.')\n",
    "print(f'Makespan: {cmax_20_5_1}')\n",
    "start_time = time.time()\n",
    "sol, Cmax, _ = stochastic_hill_climbing(neh_20_5_1, instance_1)\n",
    "elapsed_time = time.time() - start_time\n",
    "\n",
    "print(f'\\n\\nGenerated Solution: {sol}.')\n",
    "print(f'Makespan: {Cmax}')\n",
    "print(\"\\nElapsed time: \", elapsed_time, \"seconds\")\n",
    "\n",
    "HC3_neh.append(\"%.3f\" % (Cmax))\n",
    "HC3_neh.append(\" %.3fs\" % (elapsed_time))"
   ]
  },
  {
   "cell_type": "code",
   "execution_count": 198,
   "id": "8df73c1d-6795-46d5-bdae-baf19083393c",
   "metadata": {},
   "outputs": [
    {
     "name": "stdout",
     "output_type": "stream",
     "text": [
      "NEH Solution: [4, 2, 19, 10, 7, 5, 3, 8, 1, 12, 6, 18, 16, 9, 14, 15, 0, 17, 13, 11].\n",
      "Makespan: 1284.0\n",
      "\n",
      "\n",
      "Generated Solution: [4, 15, 1, 10, 7, 18, 3, 11, 19, 12, 16, 5, 6, 8, 14, 2, 0, 17, 13, 9].\n",
      "Makespan: 1251.0\n",
      "\n",
      "Elapsed time:  0.20838570594787598 seconds\n"
     ]
    }
   ],
   "source": [
    "print(f'NEH Solution: {neh_20_5_7}.')\n",
    "print(f'Makespan: {cmax_20_5_7}')\n",
    "start_time = time.time()\n",
    "sol, Cmax, _ = stochastic_hill_climbing(neh_20_5_7, instance_7)\n",
    "elapsed_time = time.time() - start_time\n",
    "\n",
    "print(f'\\n\\nGenerated Solution: {sol}.')\n",
    "print(f'Makespan: {Cmax}')\n",
    "print(\"\\nElapsed time: \", elapsed_time, \"seconds\")\n",
    "\n",
    "HC3_neh.append(\"%.3f\" % (Cmax))\n",
    "HC3_neh.append(\" %.3fs\" % (elapsed_time))"
   ]
  },
  {
   "cell_type": "markdown",
   "id": "be153f63-08da-4915-8dcc-616e676eec46",
   "metadata": {
    "tags": []
   },
   "source": [
    "### Simulated Annealing"
   ]
  },
  {
   "cell_type": "markdown",
   "id": "7b6ee59d-25ed-4c89-a737-3926a6fef4fb",
   "metadata": {},
   "source": [
    "> As shown above, we implemented several methods for generating the next neighbor for SA. Below, the chosen method is the method \"best_swap\". Which takes more time than \"random_swap\" or \"random_insertion\""
   ]
  },
  {
   "cell_type": "code",
   "execution_count": 199,
   "id": "09145c77-5c72-4105-89e3-e8eab4d4e7c0",
   "metadata": {},
   "outputs": [
    {
     "name": "stdout",
     "output_type": "stream",
     "text": [
      "Original Solution: [9, 4, 18, 16, 15, 14, 2, 13, 5, 12, 8, 0, 1, 10, 3, 6, 7, 17, 11, 19].\n",
      "Makespan: 1431.0\n",
      "\n",
      "\n",
      "Generated Solution: [5, 3, 18, 16, 15, 14, 2, 13, 7, 12, 8, 0, 1, 10, 4, 6, 17, 11, 9, 19].\n",
      "Makespan: 1297.0\n",
      "\n",
      "Elapsed time:  26.560821056365967 seconds\n"
     ]
    }
   ],
   "source": [
    "rnd_solution = list(range(20))\n",
    "random.shuffle(rnd_solution)\n",
    "\n",
    "print(f'Original Solution: {rnd_solution}.')\n",
    "print(f'Makespan: {evaluate_sequence(rnd_solution, instance_1)}')\n",
    "start_time = time.time()\n",
    "sol, Cmax = simulated_annealing(rnd_solution, instance_1, method=\"best_swap\")\n",
    "elapsed_time = time.time() - start_time\n",
    "\n",
    "print(f'\\n\\nGenerated Solution: {sol}.')\n",
    "print(f'Makespan: {Cmax}')\n",
    "print(\"\\nElapsed time: \", elapsed_time, \"seconds\")\n",
    "\n",
    "SA_random.append(\"%.3f\" % (Cmax))\n",
    "SA_random.append(\" %.3fs\" % (elapsed_time))"
   ]
  },
  {
   "cell_type": "code",
   "execution_count": 201,
   "id": "e958c64e-2a73-43fe-bb94-eb29ab3ec07c",
   "metadata": {},
   "outputs": [
    {
     "name": "stdout",
     "output_type": "stream",
     "text": [
      "Original Solution: [0, 13, 12, 3, 4, 8, 5, 1, 17, 14, 7, 10, 6, 16, 11, 9, 15, 18, 2, 19].\n",
      "Makespan: 1431.0\n",
      "\n",
      "\n",
      "Generated Solution: [4, 10, 14, 3, 0, 12, 5, 1, 2, 19, 7, 8, 6, 16, 11, 13, 15, 18, 17, 9].\n",
      "Makespan: 1251.0\n",
      "\n",
      "Elapsed time:  27.609627723693848 seconds\n"
     ]
    }
   ],
   "source": [
    "rnd_solution = list(range(20))\n",
    "random.shuffle(rnd_solution)\n",
    "\n",
    "print(f'Original Solution: {rnd_solution}.')\n",
    "print(f'Makespan: {evaluate_sequence(rnd_solution, instance_7)}')\n",
    "start_time = time.time()\n",
    "sol, Cmax = simulated_annealing(rnd_solution, instance_7, method=\"best_swap\")\n",
    "elapsed_time = time.time() - start_time\n",
    "\n",
    "print(f'\\n\\nGenerated Solution: {sol}.')\n",
    "print(f'Makespan: {Cmax}')\n",
    "print(\"\\nElapsed time: \", elapsed_time, \"seconds\")\n",
    "\n",
    "SA_random.append(\"%.3f\" % (Cmax))\n",
    "SA_random.append(\" %.3fs\" % (elapsed_time))"
   ]
  },
  {
   "cell_type": "code",
   "execution_count": 202,
   "id": "dd9e2088-0910-40c1-8795-454d198343d1",
   "metadata": {},
   "outputs": [
    {
     "name": "stdout",
     "output_type": "stream",
     "text": [
      "NEH Solution: [8, 6, 15, 10, 7, 1, 16, 2, 14, 13, 17, 3, 9, 11, 0, 18, 5, 4, 12, 19].\n",
      "Makespan: 1334.0\n",
      "\n",
      "\n",
      "Generated Solution: [8, 12, 15, 10, 7, 1, 16, 2, 14, 13, 17, 3, 4, 11, 0, 18, 5, 9, 6, 19].\n",
      "Makespan: 1305.0\n",
      "\n",
      "Elapsed time:  27.970661163330078 seconds\n"
     ]
    }
   ],
   "source": [
    "print(f'NEH Solution: {neh_20_5_1}.')\n",
    "print(f'Makespan: {cmax_20_5_1}')\n",
    "start_time = time.time()\n",
    "sol, Cmax = simulated_annealing(neh_20_5_1, instance_1, method=\"best_swap\")\n",
    "elapsed_time = time.time() - start_time\n",
    "\n",
    "print(f'\\n\\nGenerated Solution: {sol}.')\n",
    "print(f'Makespan: {Cmax}')\n",
    "print(\"\\nElapsed time: \", elapsed_time, \"seconds\")\n",
    "\n",
    "SA_neh.append(\"%.3f\" % (Cmax))\n",
    "SA_neh.append(\" %.3fs\" % (elapsed_time))"
   ]
  },
  {
   "cell_type": "code",
   "execution_count": 203,
   "id": "c098f250-2b0d-467c-944f-196969211842",
   "metadata": {},
   "outputs": [
    {
     "name": "stdout",
     "output_type": "stream",
     "text": [
      "NEH Solution: [4, 2, 19, 10, 7, 5, 3, 8, 1, 12, 6, 18, 16, 9, 14, 15, 0, 17, 13, 11].\n",
      "Makespan: 1284.0\n",
      "\n",
      "\n",
      "Generated Solution: [4, 15, 19, 10, 7, 16, 3, 8, 1, 12, 6, 18, 5, 11, 14, 2, 0, 17, 13, 9].\n",
      "Makespan: 1251.0\n",
      "\n",
      "Elapsed time:  25.21662950515747 seconds\n"
     ]
    }
   ],
   "source": [
    "print(f'NEH Solution: {neh_20_5_7}.')\n",
    "print(f'Makespan: {cmax_20_5_7}')\n",
    "start_time = time.time()\n",
    "sol, Cmax = simulated_annealing(neh_20_5_7, instance_7, method=\"best_swap\")\n",
    "elapsed_time = time.time() - start_time\n",
    "\n",
    "print(f'\\n\\nGenerated Solution: {sol}.')\n",
    "print(f'Makespan: {Cmax}')\n",
    "print(\"\\nElapsed time: \", elapsed_time, \"seconds\")\n",
    "\n",
    "SA_neh.append(\"%.3f\" % (Cmax))\n",
    "SA_neh.append(\" %.3fs\" % (elapsed_time))"
   ]
  },
  {
   "cell_type": "markdown",
   "id": "a8769933-db35-490f-b9fa-345d390a4459",
   "metadata": {
    "tags": []
   },
   "source": [
    "### Tabu Search"
   ]
  },
  {
   "cell_type": "code",
   "execution_count": 230,
   "id": "50a025a3-bab7-4df1-9bc6-8956aac8b61c",
   "metadata": {},
   "outputs": [
    {
     "name": "stdout",
     "output_type": "stream",
     "text": [
      "Original Solution: [3, 14, 1, 11, 5, 10, 9, 15, 2, 6, 16, 8, 4, 12, 13, 0, 18, 17, 7, 19].\n",
      "Makespan: 1412.0\n",
      "\n",
      "\n",
      "Generated Solution: [14, 5, 2, 15, 12, 10, 7, 0, 1, 6, 16, 8, 4, 3, 17, 11, 18, 13, 9, 19].\n",
      "Makespan: 1297.0\n",
      "\n",
      "Elapsed time:  26.501147747039795 seconds\n"
     ]
    }
   ],
   "source": [
    "rnd_solution = list(range(20))\n",
    "random.shuffle(rnd_solution)\n",
    "\n",
    "print(f'Original Solution: {rnd_solution}.')\n",
    "print(f'Makespan: {evaluate_sequence(rnd_solution, instance_1)}')\n",
    "start_time = time.time()\n",
    "sol, Cmax, _ = tabu_search(rnd_solution, instance_1)\n",
    "elapsed_time = time.time() - start_time\n",
    "\n",
    "print(f'\\n\\nGenerated Solution: {sol}.')\n",
    "print(f'Makespan: {Cmax}')\n",
    "print(\"\\nElapsed time: \", elapsed_time, \"seconds\")\n",
    "\n",
    "TS_random.append(\"%.3f\" % (Cmax))\n",
    "TS_random.append(\" %.3fs\" % (elapsed_time))"
   ]
  },
  {
   "cell_type": "code",
   "execution_count": 231,
   "id": "f46d9bfc-75fb-43b4-aa70-cf9302aaf71f",
   "metadata": {},
   "outputs": [
    {
     "name": "stdout",
     "output_type": "stream",
     "text": [
      "Original Solution: [0, 12, 5, 17, 7, 18, 6, 8, 19, 2, 3, 15, 11, 1, 9, 16, 10, 4, 14, 13].\n",
      "Makespan: 1444.0\n",
      "\n",
      "\n",
      "Generated Solution: [10, 12, 19, 0, 7, 18, 6, 8, 5, 2, 3, 15, 11, 1, 13, 16, 17, 4, 14, 9].\n",
      "Makespan: 1285.0\n",
      "\n",
      "Elapsed time:  26.213616132736206 seconds\n"
     ]
    }
   ],
   "source": [
    "rnd_solution = list(range(20))\n",
    "random.shuffle(rnd_solution)\n",
    "\n",
    "print(f'Original Solution: {rnd_solution}.')\n",
    "print(f'Makespan: {evaluate_sequence(rnd_solution, instance_7)}')\n",
    "start_time = time.time()\n",
    "sol, Cmax, _ = tabu_search(rnd_solution, instance_7)\n",
    "elapsed_time = time.time() - start_time\n",
    "\n",
    "print(f'\\n\\nGenerated Solution: {sol}.')\n",
    "print(f'Makespan: {Cmax}')\n",
    "print(\"\\nElapsed time: \", elapsed_time, \"seconds\")\n",
    "\n",
    "TS_random.append(\"%.3f\" % (Cmax))\n",
    "TS_random.append(\" %.3fs\" % (elapsed_time))"
   ]
  },
  {
   "cell_type": "code",
   "execution_count": 242,
   "id": "14850583-8575-4ebc-88af-d36d86fe45ee",
   "metadata": {},
   "outputs": [
    {
     "name": "stdout",
     "output_type": "stream",
     "text": [
      "NEH Solution: [8, 6, 15, 10, 7, 1, 16, 2, 14, 13, 17, 3, 9, 11, 0, 18, 5, 4, 12, 19].\n",
      "Makespan: 1334.0\n",
      "\n",
      "\n",
      "Generated Solution: [8, 12, 15, 10, 7, 1, 16, 2, 14, 13, 17, 3, 4, 11, 0, 18, 5, 9, 6, 19].\n",
      "Makespan: 1305.0\n",
      "\n",
      "Elapsed time:  27.079190254211426 seconds\n"
     ]
    }
   ],
   "source": [
    "print(f'NEH Solution: {neh_20_5_1}.')\n",
    "print(f'Makespan: {cmax_20_5_1}')\n",
    "start_time = time.time()\n",
    "sol, Cmax, _ = tabu_search(neh_20_5_1, instance_1)\n",
    "elapsed_time = time.time() - start_time\n",
    "\n",
    "print(f'\\n\\nGenerated Solution: {sol}.')\n",
    "print(f'Makespan: {Cmax}')\n",
    "print(\"\\nElapsed time: \", elapsed_time, \"seconds\")\n",
    "\n",
    "TS_neh.append(\"%.3f\" % (Cmax))\n",
    "TS_neh.append(\" %.3fs\" % (elapsed_time))"
   ]
  },
  {
   "cell_type": "code",
   "execution_count": 243,
   "id": "0cfe426a-ce91-41a1-92fc-c54472fa39f9",
   "metadata": {},
   "outputs": [
    {
     "name": "stdout",
     "output_type": "stream",
     "text": [
      "NEH Solution: [4, 2, 19, 10, 7, 5, 3, 8, 1, 12, 6, 18, 16, 9, 14, 15, 0, 17, 13, 11].\n",
      "Makespan: 1284.0\n",
      "\n",
      "\n",
      "Generated Solution: [4, 15, 19, 10, 7, 16, 3, 8, 1, 12, 6, 18, 5, 11, 14, 2, 0, 17, 13, 9].\n",
      "Makespan: 1251.0\n",
      "\n",
      "Elapsed time:  27.07159948348999 seconds\n"
     ]
    }
   ],
   "source": [
    "print(f'NEH Solution: {neh_20_5_7}.')\n",
    "print(f'Makespan: {cmax_20_5_7}')\n",
    "start_time = time.time()\n",
    "sol, Cmax, _ = tabu_search(neh_20_5_7, instance_7)\n",
    "elapsed_time = time.time() - start_time\n",
    "\n",
    "print(f'\\n\\nGenerated Solution: {sol}.')\n",
    "print(f'Makespan: {Cmax}')\n",
    "print(\"\\nElapsed time: \", elapsed_time, \"seconds\")\n",
    "\n",
    "TS_neh.append(\"%.3f\" % (Cmax))\n",
    "TS_neh.append(\" %.3fs\" % (elapsed_time))"
   ]
  },
  {
   "cell_type": "markdown",
   "id": "ebfbf8d6-9108-4dc7-8519-9fb76fc034d2",
   "metadata": {
    "tags": []
   },
   "source": [
    "### VNS"
   ]
  },
  {
   "cell_type": "code",
   "execution_count": 228,
   "id": "dabbfaca-112c-487f-a2b1-dd56ea221264",
   "metadata": {},
   "outputs": [
    {
     "name": "stdout",
     "output_type": "stream",
     "text": [
      "Original Solution: [16, 9, 8, 4, 14, 18, 13, 17, 19, 7, 0, 2, 10, 11, 15, 3, 6, 5, 12, 1].\n",
      "Makespan: 1542.0\n",
      "\n",
      "\n",
      "Generated Solution: [5, 3, 8, 4, 14, 15, 0, 17, 13, 16, 7, 18, 6, 10, 2, 1, 12, 11, 9, 19].\n",
      "Makespan: 1297.0\n",
      "\n",
      "Elapsed time:  0.13280415534973145 seconds\n"
     ]
    }
   ],
   "source": [
    "rnd_solution = list(range(20))\n",
    "random.shuffle(rnd_solution)\n",
    "\n",
    "print(f'Original Solution: {rnd_solution}.')\n",
    "print(f'Makespan: {evaluate_sequence(rnd_solution, instance_1)}')\n",
    "start_time = time.time()\n",
    "sol, Cmax = vns(rnd_solution, instance_1, 100, 5)\n",
    "elapsed_time = time.time() - start_time\n",
    "\n",
    "print(f'\\n\\nGenerated Solution: {sol}.')\n",
    "print(f'Makespan: {Cmax}')\n",
    "print(\"\\nElapsed time: \", elapsed_time, \"seconds\")\n",
    "\n",
    "VNS_random.append(\"%.3f\" % (Cmax))\n",
    "VNS_random.append(\" %.3fs\" % (elapsed_time))"
   ]
  },
  {
   "cell_type": "code",
   "execution_count": 229,
   "id": "f9d4c769-bd37-4a6f-bace-3d0386329e76",
   "metadata": {},
   "outputs": [
    {
     "name": "stdout",
     "output_type": "stream",
     "text": [
      "Original Solution: [19, 11, 9, 10, 4, 12, 18, 0, 13, 5, 3, 8, 1, 16, 15, 6, 17, 14, 2, 7].\n",
      "Makespan: 1481.0\n",
      "\n",
      "\n",
      "Generated Solution: [4, 14, 0, 18, 19, 7, 5, 12, 13, 1, 3, 2, 15, 16, 10, 17, 11, 6, 8, 9].\n",
      "Makespan: 1252.0\n",
      "\n",
      "Elapsed time:  0.12657928466796875 seconds\n"
     ]
    }
   ],
   "source": [
    "rnd_solution = list(range(20))\n",
    "random.shuffle(rnd_solution)\n",
    "\n",
    "print(f'Original Solution: {rnd_solution}.')\n",
    "print(f'Makespan: {evaluate_sequence(rnd_solution, instance_7)}')\n",
    "start_time = time.time()\n",
    "sol, Cmax = vns(rnd_solution, instance_7, 100, 5)\n",
    "elapsed_time = time.time() - start_time\n",
    "\n",
    "print(f'\\n\\nGenerated Solution: {sol}.')\n",
    "print(f'Makespan: {Cmax}')\n",
    "print(\"\\nElapsed time: \", elapsed_time, \"seconds\")\n",
    "\n",
    "VNS_random.append(\"%.3f\" % (Cmax))\n",
    "VNS_random.append(\" %.3fs\" % (elapsed_time))"
   ]
  },
  {
   "cell_type": "code",
   "execution_count": 247,
   "id": "89d54155-2660-4fb8-8503-b050e9012836",
   "metadata": {},
   "outputs": [
    {
     "name": "stdout",
     "output_type": "stream",
     "text": [
      "NEH Solution: [8, 6, 15, 10, 7, 1, 16, 2, 14, 13, 17, 3, 9, 11, 0, 18, 5, 4, 12, 19].\n",
      "Makespan: 1334.0\n",
      "\n",
      "\n",
      "Generated Solution: [8, 12, 15, 10, 7, 1, 16, 2, 14, 13, 17, 3, 4, 11, 0, 18, 5, 9, 6, 19].\n",
      "Makespan: 1305.0\n",
      "\n",
      "Elapsed time:  0.13494634628295898 seconds\n"
     ]
    }
   ],
   "source": [
    "print(f'NEH Solution: {neh_20_5_1}.')\n",
    "print(f'Makespan: {cmax_20_5_1}')\n",
    "start_time = time.time()\n",
    "sol, Cmax = vns(neh_20_5_1, instance_1, 100, 5)\n",
    "elapsed_time = time.time() - start_time\n",
    "\n",
    "print(f'\\n\\nGenerated Solution: {sol}.')\n",
    "print(f'Makespan: {Cmax}')\n",
    "print(\"\\nElapsed time: \", elapsed_time, \"seconds\")\n",
    "\n",
    "VNS_neh.append(\"%.3f\" % (Cmax))\n",
    "VNS_neh.append(\" %.3fs\" % (elapsed_time))"
   ]
  },
  {
   "cell_type": "code",
   "execution_count": 248,
   "id": "cafec8ea-135d-446f-afe6-8ba0a639a076",
   "metadata": {},
   "outputs": [
    {
     "name": "stdout",
     "output_type": "stream",
     "text": [
      "NEH Solution: [4, 2, 19, 10, 7, 5, 3, 8, 1, 12, 6, 18, 16, 9, 14, 15, 0, 17, 13, 11].\n",
      "Makespan: 1284.0\n",
      "\n",
      "\n",
      "Generated Solution: [4, 14, 19, 10, 7, 15, 3, 0, 1, 12, 16, 18, 6, 2, 9, 5, 8, 11, 13, 17].\n",
      "Makespan: 1259.0\n",
      "\n",
      "Elapsed time:  0.13113856315612793 seconds\n"
     ]
    }
   ],
   "source": [
    "print(f'NEH Solution: {neh_20_5_7}.')\n",
    "print(f'Makespan: {cmax_20_5_7}')\n",
    "start_time = time.time()\n",
    "sol, Cmax = vns(neh_20_5_7, instance_7, 100, 5)\n",
    "elapsed_time = time.time() - start_time\n",
    "\n",
    "print(f'\\n\\nGenerated Solution: {sol}.')\n",
    "print(f'Makespan: {Cmax}')\n",
    "print(\"\\nElapsed time: \", elapsed_time, \"seconds\")\n",
    "\n",
    "VNS_neh.append(\"%.3f\" % (Cmax))\n",
    "VNS_neh.append(\" %.3fs\" % (elapsed_time))"
   ]
  },
  {
   "cell_type": "markdown",
   "id": "7ece7de0-197d-4f61-9f12-21149ee7a7f0",
   "metadata": {},
   "source": [
    "### Results"
   ]
  },
  {
   "cell_type": "code",
   "execution_count": 232,
   "id": "a3c8d575-a837-44bd-b41f-455501508edc",
   "metadata": {},
   "outputs": [],
   "source": [
    "df_random.loc[0]=RW_random\n",
    "df_random.loc[1]=HC1_random\n",
    "df_random.loc[2]=HC2_random\n",
    "df_random.loc[3]=HC3_random\n",
    "df_random.loc[4]=SA_random\n",
    "df_random.loc[5]=TS_random\n",
    "df_random.loc[6]=VNS_random"
   ]
  },
  {
   "cell_type": "code",
   "execution_count": 233,
   "id": "20cd9dc6-e38c-474c-9917-534820fd2776",
   "metadata": {},
   "outputs": [
    {
     "data": {
      "text/html": [
       "<div>\n",
       "<style scoped>\n",
       "    .dataframe tbody tr th:only-of-type {\n",
       "        vertical-align: middle;\n",
       "    }\n",
       "\n",
       "    .dataframe tbody tr th {\n",
       "        vertical-align: top;\n",
       "    }\n",
       "\n",
       "    .dataframe thead th {\n",
       "        text-align: right;\n",
       "    }\n",
       "</style>\n",
       "<table border=\"1\" class=\"dataframe\">\n",
       "  <thead>\n",
       "    <tr style=\"text-align: right;\">\n",
       "      <th></th>\n",
       "      <th>Metaheuristic</th>\n",
       "      <th>20-5-1 (Makespan)</th>\n",
       "      <th>20-5-1 (Time)</th>\n",
       "      <th>20-5-7 (Makespan)</th>\n",
       "      <th>20-5-7 (Time)</th>\n",
       "    </tr>\n",
       "  </thead>\n",
       "  <tbody>\n",
       "    <tr>\n",
       "      <th>0</th>\n",
       "      <td>Random Walk</td>\n",
       "      <td>1485.000</td>\n",
       "      <td>0.207s</td>\n",
       "      <td>1509.000</td>\n",
       "      <td>0.179s</td>\n",
       "    </tr>\n",
       "    <tr>\n",
       "      <th>1</th>\n",
       "      <td>Simple Hill climbing</td>\n",
       "      <td>1323.000</td>\n",
       "      <td>0.265s</td>\n",
       "      <td>1262.000</td>\n",
       "      <td>0.177s</td>\n",
       "    </tr>\n",
       "    <tr>\n",
       "      <th>2</th>\n",
       "      <td>Steepest Ascent Hill climbing</td>\n",
       "      <td>1385.000</td>\n",
       "      <td>27.874s</td>\n",
       "      <td>1392.000</td>\n",
       "      <td>28.596s</td>\n",
       "    </tr>\n",
       "    <tr>\n",
       "      <th>3</th>\n",
       "      <td>Stochastic Hill climbing</td>\n",
       "      <td>1305.000</td>\n",
       "      <td>0.331s</td>\n",
       "      <td>1251.000</td>\n",
       "      <td>0.430s</td>\n",
       "    </tr>\n",
       "    <tr>\n",
       "      <th>4</th>\n",
       "      <td>Simulated annealing</td>\n",
       "      <td>1297.000</td>\n",
       "      <td>26.561s</td>\n",
       "      <td>1251.000</td>\n",
       "      <td>27.610s</td>\n",
       "    </tr>\n",
       "    <tr>\n",
       "      <th>5</th>\n",
       "      <td>Tabu Search</td>\n",
       "      <td>1297.000</td>\n",
       "      <td>26.501s</td>\n",
       "      <td>1285.000</td>\n",
       "      <td>26.214s</td>\n",
       "    </tr>\n",
       "    <tr>\n",
       "      <th>6</th>\n",
       "      <td>VNS</td>\n",
       "      <td>1297.000</td>\n",
       "      <td>0.133s</td>\n",
       "      <td>1252.000</td>\n",
       "      <td>0.127s</td>\n",
       "    </tr>\n",
       "  </tbody>\n",
       "</table>\n",
       "</div>"
      ],
      "text/plain": [
       "                   Metaheuristic 20-5-1 (Makespan) 20-5-1 (Time)  \\\n",
       "0                    Random Walk          1485.000        0.207s   \n",
       "1           Simple Hill climbing          1323.000        0.265s   \n",
       "2  Steepest Ascent Hill climbing          1385.000       27.874s   \n",
       "3       Stochastic Hill climbing          1305.000        0.331s   \n",
       "4            Simulated annealing          1297.000       26.561s   \n",
       "5                    Tabu Search          1297.000       26.501s   \n",
       "6                            VNS          1297.000        0.133s   \n",
       "\n",
       "  20-5-7 (Makespan) 20-5-7 (Time)  \n",
       "0          1509.000        0.179s  \n",
       "1          1262.000        0.177s  \n",
       "2          1392.000       28.596s  \n",
       "3          1251.000        0.430s  \n",
       "4          1251.000       27.610s  \n",
       "5          1285.000       26.214s  \n",
       "6          1252.000        0.127s  "
      ]
     },
     "execution_count": 233,
     "metadata": {},
     "output_type": "execute_result"
    }
   ],
   "source": [
    "df_random"
   ]
  },
  {
   "cell_type": "markdown",
   "id": "9df603ed-204d-46aa-9ffe-7c848c63555c",
   "metadata": {},
   "source": [
    "**Observations**\n",
    "- The Random Walk algorithm performed the worst in terms of makespan, achieving the highest values on both instances. However, it was the fastest algorithm for both instances. This is because the neighbors are generated randomly, and there's no comparaison between current and past solutions.\n",
    "\n",
    "- The Simple Hill Climbing algorithm achieved better makespan values than the Random Walk, but still worse than the other algorithms. It was faster than the Steepest Ascent Hill Climbing algorithm, but slower than most other algorithms.\n",
    "\n",
    "- The Steepest Ascent Hill Climbing algorithm achieved better makespan values than the Random Walk algorithm, but worse than the other algorithms. However, it was the slowest algorithm for both instances.\n",
    "\n",
    "- The Stochastic Hill Climbing algorithm achieved better makespan values than the Simple Hill Climbing algorithm, Steepest Ascent Hill Climbing algorithm and Random walk, but worse than the Simulated Annealing, Tabu Search, and VNS algorithms.\n",
    "\n",
    "- The Simulated Annealing algorithm achieved better makespan values than the Stochastic Hill Climbing and Tabu Search algorithms, but worse than the VNS algorithm. It was among the slowest algorithms.\n",
    "\n",
    "- The Tabu Search algorithm achieved slightly similar makespan values to the Simulated Annealing algorithm, but was slightly slower.\n",
    "\n",
    "- The VNS algorithm achieved the best makespan values for both instances, and was the fastest algorithm for both instances."
   ]
  },
  {
   "cell_type": "code",
   "execution_count": 249,
   "id": "9040b5ca-3e18-4cab-a9ea-76875806f1d3",
   "metadata": {},
   "outputs": [],
   "source": [
    "df_neh.loc[0]=RW_neh\n",
    "df_neh.loc[1]=HC1_neh\n",
    "df_neh.loc[2]=HC2_neh\n",
    "df_neh.loc[3]=HC3_neh\n",
    "df_neh.loc[4]=SA_neh\n",
    "df_neh.loc[5]=TS_neh\n",
    "df_neh.loc[6]=VNS_neh"
   ]
  },
  {
   "cell_type": "code",
   "execution_count": 250,
   "id": "cff0c8ba-1d08-4bce-91c9-717cb5721327",
   "metadata": {},
   "outputs": [
    {
     "data": {
      "text/html": [
       "<div>\n",
       "<style scoped>\n",
       "    .dataframe tbody tr th:only-of-type {\n",
       "        vertical-align: middle;\n",
       "    }\n",
       "\n",
       "    .dataframe tbody tr th {\n",
       "        vertical-align: top;\n",
       "    }\n",
       "\n",
       "    .dataframe thead th {\n",
       "        text-align: right;\n",
       "    }\n",
       "</style>\n",
       "<table border=\"1\" class=\"dataframe\">\n",
       "  <thead>\n",
       "    <tr style=\"text-align: right;\">\n",
       "      <th></th>\n",
       "      <th>Metaheuristic</th>\n",
       "      <th>20-5-1 (Makespan)</th>\n",
       "      <th>20-5-1 (Time)</th>\n",
       "      <th>20-5-7 (Makespan)</th>\n",
       "      <th>20-5-7 (Time)</th>\n",
       "    </tr>\n",
       "  </thead>\n",
       "  <tbody>\n",
       "    <tr>\n",
       "      <th>0</th>\n",
       "      <td>Random Walk</td>\n",
       "      <td>1422.000</td>\n",
       "      <td>0.212s</td>\n",
       "      <td>1476.000</td>\n",
       "      <td>0.210s</td>\n",
       "    </tr>\n",
       "    <tr>\n",
       "      <th>1</th>\n",
       "      <td>Simple Hill climbing</td>\n",
       "      <td>1305.000</td>\n",
       "      <td>0.087s</td>\n",
       "      <td>1251.000</td>\n",
       "      <td>0.129s</td>\n",
       "    </tr>\n",
       "    <tr>\n",
       "      <th>2</th>\n",
       "      <td>Steepest Ascent Hill climbing</td>\n",
       "      <td>1331.000</td>\n",
       "      <td>28.402s</td>\n",
       "      <td>1280.000</td>\n",
       "      <td>28.898s</td>\n",
       "    </tr>\n",
       "    <tr>\n",
       "      <th>3</th>\n",
       "      <td>Stochastic Hill climbing</td>\n",
       "      <td>1305.000</td>\n",
       "      <td>0.098s</td>\n",
       "      <td>1251.000</td>\n",
       "      <td>0.208s</td>\n",
       "    </tr>\n",
       "    <tr>\n",
       "      <th>4</th>\n",
       "      <td>Simulated annealing</td>\n",
       "      <td>1305.000</td>\n",
       "      <td>27.971s</td>\n",
       "      <td>1251.000</td>\n",
       "      <td>25.217s</td>\n",
       "    </tr>\n",
       "    <tr>\n",
       "      <th>5</th>\n",
       "      <td>Tabu Search</td>\n",
       "      <td>1305.000</td>\n",
       "      <td>27.079s</td>\n",
       "      <td>1251.000</td>\n",
       "      <td>27.072s</td>\n",
       "    </tr>\n",
       "    <tr>\n",
       "      <th>6</th>\n",
       "      <td>VNS</td>\n",
       "      <td>1305.000</td>\n",
       "      <td>0.135s</td>\n",
       "      <td>1259.000</td>\n",
       "      <td>0.131s</td>\n",
       "    </tr>\n",
       "  </tbody>\n",
       "</table>\n",
       "</div>"
      ],
      "text/plain": [
       "                   Metaheuristic 20-5-1 (Makespan) 20-5-1 (Time)  \\\n",
       "0                    Random Walk          1422.000        0.212s   \n",
       "1           Simple Hill climbing          1305.000        0.087s   \n",
       "2  Steepest Ascent Hill climbing          1331.000       28.402s   \n",
       "3       Stochastic Hill climbing          1305.000        0.098s   \n",
       "4            Simulated annealing          1305.000       27.971s   \n",
       "5                    Tabu Search          1305.000       27.079s   \n",
       "6                            VNS          1305.000        0.135s   \n",
       "\n",
       "  20-5-7 (Makespan) 20-5-7 (Time)  \n",
       "0          1476.000        0.210s  \n",
       "1          1251.000        0.129s  \n",
       "2          1280.000       28.898s  \n",
       "3          1251.000        0.208s  \n",
       "4          1251.000       25.217s  \n",
       "5          1251.000       27.072s  \n",
       "6          1259.000        0.131s  "
      ]
     },
     "execution_count": 250,
     "metadata": {},
     "output_type": "execute_result"
    }
   ],
   "source": [
    "df_neh"
   ]
  },
  {
   "cell_type": "markdown",
   "id": "a78b3425-cae8-4e69-9e1d-3811f95f57ec",
   "metadata": {},
   "source": [
    "**Observations**\n",
    "- Similarly as above, we observe that the Random Walk algorithm performed the worst in terms of makespan, achieving the highest values on both instances.\n",
    "\n",
    "- Stochastic Hill Climbing, Simulated Annealing, Simple Hill climbing, and Tabu Search algorithms have similar makespan and time for both instances."
   ]
  },
  {
   "cell_type": "code",
   "execution_count": 12,
   "id": "cd8234da-c1e2-4db5-b32e-e0bd105233ab",
   "metadata": {},
   "outputs": [
    {
     "data": {
      "text/html": [
       "<div>\n",
       "<style scoped>\n",
       "    .dataframe tbody tr th:only-of-type {\n",
       "        vertical-align: middle;\n",
       "    }\n",
       "\n",
       "    .dataframe tbody tr th {\n",
       "        vertical-align: top;\n",
       "    }\n",
       "\n",
       "    .dataframe thead th {\n",
       "        text-align: right;\n",
       "    }\n",
       "</style>\n",
       "<table border=\"1\" class=\"dataframe\">\n",
       "  <thead>\n",
       "    <tr style=\"text-align: right;\">\n",
       "      <th>Metaheuristic</th>\n",
       "      <th>Random Walk</th>\n",
       "      <th>Simple Hill Climbing</th>\n",
       "      <th>Steepest Ascent Hill Climbing</th>\n",
       "      <th>Stochastic Hill Climbing</th>\n",
       "      <th>Simulated Annealing</th>\n",
       "      <th>Tabu Search</th>\n",
       "      <th>VNS</th>\n",
       "    </tr>\n",
       "  </thead>\n",
       "  <tbody>\n",
       "    <tr>\n",
       "      <th>20-5-1 (Random)</th>\n",
       "      <td>1485.0</td>\n",
       "      <td>1323.0</td>\n",
       "      <td>1385.0</td>\n",
       "      <td>1305.0</td>\n",
       "      <td>1297.0</td>\n",
       "      <td>1297.0</td>\n",
       "      <td>1297.0</td>\n",
       "    </tr>\n",
       "    <tr>\n",
       "      <th>20-5-7 (Random)</th>\n",
       "      <td>1509.0</td>\n",
       "      <td>1262.0</td>\n",
       "      <td>1392.0</td>\n",
       "      <td>1251.0</td>\n",
       "      <td>1251.0</td>\n",
       "      <td>1285.0</td>\n",
       "      <td>1252.0</td>\n",
       "    </tr>\n",
       "    <tr>\n",
       "      <th>20-5-1 (NEH)</th>\n",
       "      <td>1422.0</td>\n",
       "      <td>1305.0</td>\n",
       "      <td>1331.0</td>\n",
       "      <td>1305.0</td>\n",
       "      <td>1305.0</td>\n",
       "      <td>1305.0</td>\n",
       "      <td>1305.0</td>\n",
       "    </tr>\n",
       "    <tr>\n",
       "      <th>20-5-7 (NEH)</th>\n",
       "      <td>1476.0</td>\n",
       "      <td>1251.0</td>\n",
       "      <td>1280.0</td>\n",
       "      <td>1251.0</td>\n",
       "      <td>1251.0</td>\n",
       "      <td>1251.0</td>\n",
       "      <td>1259.0</td>\n",
       "    </tr>\n",
       "  </tbody>\n",
       "</table>\n",
       "</div>"
      ],
      "text/plain": [
       "Metaheuristic    Random Walk  Simple Hill Climbing  \\\n",
       "20-5-1 (Random)       1485.0                1323.0   \n",
       "20-5-7 (Random)       1509.0                1262.0   \n",
       "20-5-1 (NEH)          1422.0                1305.0   \n",
       "20-5-7 (NEH)          1476.0                1251.0   \n",
       "\n",
       "Metaheuristic    Steepest Ascent Hill Climbing  Stochastic Hill Climbing  \\\n",
       "20-5-1 (Random)                         1385.0                    1305.0   \n",
       "20-5-7 (Random)                         1392.0                    1251.0   \n",
       "20-5-1 (NEH)                            1331.0                    1305.0   \n",
       "20-5-7 (NEH)                            1280.0                    1251.0   \n",
       "\n",
       "Metaheuristic    Simulated Annealing  Tabu Search     VNS  \n",
       "20-5-1 (Random)               1297.0       1297.0  1297.0  \n",
       "20-5-7 (Random)               1251.0       1285.0  1252.0  \n",
       "20-5-1 (NEH)                  1305.0       1305.0  1305.0  \n",
       "20-5-7 (NEH)                  1251.0       1251.0  1259.0  "
      ]
     },
     "execution_count": 12,
     "metadata": {},
     "output_type": "execute_result"
    }
   ],
   "source": [
    "data = {\n",
    "    'Metaheuristic': ['Random Walk', 'Simple Hill Climbing', 'Steepest Ascent Hill Climbing', 'Stochastic Hill Climbing', 'Simulated Annealing', 'Tabu Search', 'VNS'],\n",
    "    '20-5-1 (Random)': [1485.000, 1323.000, 1385.000, 1305.000, 1297.000, 1297.000, 1297.000],\n",
    "    '20-5-7 (Random)': [1509.000, 1262.000, 1392.000, 1251.000, 1251.000, 1285.000, 1252.000],\n",
    "    '20-5-1 (NEH)': [1422.000, 1305.000, 1331.000, 1305.000, 1305.000, 1305.000, 1305.000],\n",
    "    '20-5-7 (NEH)': [1476.000, 1251.000, 1280.000, 1251.000, 1251.000, 1251.000, 1259.000],\n",
    "}\n",
    "\n",
    "df = pd.DataFrame(data)\n",
    "df = df.set_index('Metaheuristic').T\n",
    "df"
   ]
  },
  {
   "cell_type": "code",
   "execution_count": 16,
   "id": "f93e7b4c-55a7-472f-bbe9-278e7ae680e8",
   "metadata": {},
   "outputs": [
    {
     "data": {
      "text/plain": [
       "<Figure size 1600x800 with 0 Axes>"
      ]
     },
     "metadata": {},
     "output_type": "display_data"
    },
    {
     "data": {
      "image/png": "[encoded data removed]",
      "text/plain": [
       "<Figure size 640x480 with 1 Axes>"
      ]
     },
     "metadata": {},
     "output_type": "display_data"
    }
   ],
   "source": [
    "plt.figure(figsize=(16,8))\n",
    "df.plot(kind='bar', colormap='Paired');\n",
    "\n",
    "# Set plot labels and title\n",
    "plt.xlabel('Instance')\n",
    "plt.ylabel('Makespan')\n",
    "plt.title('Makespan Comparison for Different Instances and Algorithms', fontsize=10)\n",
    "plt.xticks(rotation=0)\n",
    "plt.savefig('pop_meta.png')\n",
    "plt.tight_layout()\n",
    "plt.show()"
   ]
  },
  {
   "cell_type": "markdown",
   "id": "4ff2e170-b8f0-4aaa-9021-afa0c363dfc3",
   "metadata": {},
   "source": [
    "### Remarks"
   ]
  },
  {
   "cell_type": "markdown",
   "id": "9087a935-fd23-4234-9e5f-977468ab1833",
   "metadata": {},
   "source": [
    "- We implemented several methods for generating neighbors, and these methods has been used within algorithms such as SA and TS. Since the methods are different in complexity, the chosen method for these algorithm will have a significant impact on the execution time.\n",
    "- We have tweaked the Tabu Search, compared to the version that we saw in the lecture.\n",
    "- We acknowledge that hyperparameters have an impact on the resulting solution."
   ]
  },
  {
   "cell_type": "markdown",
   "id": "5ad1c00d-8f07-4bdc-bc98-27925f7bf04c",
   "metadata": {},
   "source": [
    "#### VNS Number of iterations"
   ]
  },
  {
   "cell_type": "markdown",
   "id": "c1cea779-8950-4a73-ae8a-1da97d68f38d",
   "metadata": {},
   "source": [
    "##### 100 iterations, 5 neighbors"
   ]
  },
  {
   "cell_type": "code",
   "execution_count": 253,
   "id": "9143a70a-15a7-4105-9dba-1b8b45b5a434",
   "metadata": {},
   "outputs": [
    {
     "name": "stdout",
     "output_type": "stream",
     "text": [
      "NEH Solution: [8, 6, 15, 10, 7, 1, 16, 2, 14, 13, 17, 3, 9, 11, 0, 18, 5, 4, 12, 19].\n",
      "Makespan: 1334.0\n",
      "\n",
      "\n",
      "Generated Solution: [8, 12, 15, 10, 7, 1, 16, 2, 14, 13, 17, 3, 4, 11, 0, 18, 5, 9, 6, 19].\n",
      "Makespan: 1305.0\n",
      "\n",
      "Elapsed time:  0.200164794921875 seconds\n"
     ]
    }
   ],
   "source": [
    "print(f'NEH Solution: {neh_20_5_1}.')\n",
    "print(f'Makespan: {cmax_20_5_1}')\n",
    "start_time = time.time()\n",
    "sol, Cmax = vns(neh_20_5_1, instance_1, 100, 5)\n",
    "elapsed_time = time.time() - start_time\n",
    "\n",
    "print(f'\\n\\nGenerated Solution: {sol}.')\n",
    "print(f'Makespan: {Cmax}')\n",
    "print(\"\\nElapsed time: \", elapsed_time, \"seconds\")"
   ]
  },
  {
   "cell_type": "markdown",
   "id": "caff3862-ebf2-43fe-9a9b-ac89f8ea9732",
   "metadata": {},
   "source": [
    "##### 10000 iterations, 10 neighbors"
   ]
  },
  {
   "cell_type": "code",
   "execution_count": 255,
   "id": "640757ec-5ba3-47f6-af32-7f56a21ae97e",
   "metadata": {},
   "outputs": [
    {
     "name": "stdout",
     "output_type": "stream",
     "text": [
      "NEH Solution: [8, 6, 15, 10, 7, 1, 16, 2, 14, 13, 17, 3, 9, 11, 0, 18, 5, 4, 12, 19].\n",
      "Makespan: 1334.0\n",
      "\n",
      "\n",
      "Generated Solution: [8, 12, 15, 10, 7, 1, 16, 2, 14, 13, 17, 3, 4, 11, 0, 18, 5, 9, 6, 19].\n",
      "Makespan: 1305.0\n",
      "\n",
      "Elapsed time:  21.224849700927734 seconds\n"
     ]
    }
   ],
   "source": [
    "print(f'NEH Solution: {neh_20_5_1}.')\n",
    "print(f'Makespan: {cmax_20_5_1}')\n",
    "start_time = time.time()\n",
    "sol, Cmax = vns(neh_20_5_1, instance_1, 10000, 10)\n",
    "elapsed_time = time.time() - start_time\n",
    "\n",
    "print(f'\\n\\nGenerated Solution: {sol}.')\n",
    "print(f'Makespan: {Cmax}')\n",
    "print(\"\\nElapsed time: \", elapsed_time, \"seconds\")"
   ]
  },
  {
   "cell_type": "markdown",
   "id": "21b1b28a-aed8-46aa-bb5d-c8ca596a436d",
   "metadata": {},
   "source": [
    "**Observation**: For a small instance like this one with 20 jobs and 5 machines, VNS quickly reaches a very good solution, regardless of the initial solution."
   ]
  }
 ],
 "metadata": {
  "kernelspec": {
   "display_name": "Python 3 (ipykernel)",
   "language": "python",
   "name": "python3"
  },
  "language_info": {
   "codemirror_mode": {
    "name": "ipython",
    "version": 3
   },
   "file_extension": ".py",
   "mimetype": "text/x-python",
   "name": "python",
   "nbconvert_exporter": "python",
   "pygments_lexer": "ipython3",
   "version": "3.10.9"
  }
 },
 "nbformat": 4,
 "nbformat_minor": 5
}
