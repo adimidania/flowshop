{
 "cells": [
  {
   "cell_type": "markdown",
   "id": "23a51b08",
   "metadata": {},
   "source": [
    "# Heuristics - Flowshop problem"
   ]
  },
  {
   "cell_type": "markdown",
   "id": "1d9c5ea6",
   "metadata": {
    "tags": []
   },
   "source": [
    "This notebook contains a hands-on the flowshop problem. We will focus on implementing some of the most known heuristics to solve this problem. These heuristics can quickly generate good solutions, even for large problem instances, with a reasonable amount of computational resources. This is particularly useful in production environments where quick turnaround times are important.\n",
    "\n",
    "### Table of content\n",
    "- [NEH Heuristic](#NEH)\n",
    "- [Greedy NEH](#Greedy-NEH)\n",
    "- [Johnson Heuristic](#Johnson)\n",
    "- [Ham Heuristic](#Ham)\n",
    "- [Palmer Heuristic](#Palmer)\n",
    "- [CDS Heuristic](#CDS)\n",
    "- [Gupta Heuristic](#Gupta)\n",
    "- [PRSKE Heuristic](#PRSKE)\n",
    "- [Artificial Heuristic](#Artificial-Heuristic)\n",
    "- [Tests](#Tests)\n",
    "\n",
    "### References\n",
    "- [Finding an Optimal Sequence in the Flowshop Scheduling Using Johnson’s Algorithm](https://ijiset.com/vol2/v2s1/IJISET_V2_I1_50.pdf)\n",
    "- [Benchmarks for Basic Scheduling Problems](http://mistic.heig-vd.ch/taillard/articles.dir/Taillard1993EJOR.pdf)\n",
    "- [Selected heuristic algorithms for solving job shop and flow shop scheduling problems](https://core.ac.uk/display/53190359?utm_source=pdf&utm_medium=banner&utm_campaign=pdf-decoration-v1)"
   ]
  },
  {
   "cell_type": "code",
   "execution_count": 1,
   "id": "a14487ae",
   "metadata": {},
   "outputs": [],
   "source": [
    "import numpy as np\n",
    "import matplotlib as plt\n",
    "import itertools\n",
    "import time\n",
    "import pandas as pd\n",
    "import random"
   ]
  },
  {
   "cell_type": "code",
   "execution_count": 2,
   "id": "bf4ec211",
   "metadata": {},
   "outputs": [],
   "source": [
    "def evaluate_sequence(sequence, processing_times):\n",
    "    _, num_machines = processing_times.shape\n",
    "    num_jobs = len(sequence)\n",
    "    completion_times = np.zeros((num_jobs, num_machines))\n",
    "    \n",
    "    # Calculate the completion times for the first machine\n",
    "    completion_times[0][0] = processing_times[sequence[0]][0]\n",
    "    for i in range(1, num_jobs):\n",
    "        completion_times[i][0] = completion_times[i-1][0] + processing_times[sequence[i]][0]\n",
    "    \n",
    "    # Calculate the completion times for the remaining machines\n",
    "    for j in range(1, num_machines):\n",
    "        completion_times[0][j] = completion_times[0][j-1] + processing_times[sequence[0]][j]\n",
    "        for i in range(1, num_jobs):\n",
    "            completion_times[i][j] = max(completion_times[i-1][j], completion_times[i][j-1]) + processing_times[sequence[i]][j]\n",
    "    \n",
    "    # Return the total completion time, which is the completion time of the last job in the last machine\n",
    "    return completion_times[num_jobs-1][num_machines-1]"
   ]
  },
  {
   "cell_type": "markdown",
   "id": "0bdab97e",
   "metadata": {
    "tags": []
   },
   "source": [
    "# NEH"
   ]
  },
  {
   "cell_type": "code",
   "execution_count": 3,
   "id": "07f43b4e",
   "metadata": {},
   "outputs": [],
   "source": [
    "def order_jobs_in_descending_order_of_total_completion_time(processing_times):\n",
    "    total_completion_time = processing_times.sum(axis=1)\n",
    "    return np.argsort(total_completion_time, axis=0).tolist()"
   ]
  },
  {
   "cell_type": "code",
   "execution_count": 4,
   "id": "2dff1614",
   "metadata": {},
   "outputs": [],
   "source": [
    "def insertion(sequence, position, value):\n",
    "    new_seq = sequence[:]\n",
    "    new_seq.insert(position, value)\n",
    "    return new_seq"
   ]
  },
  {
   "cell_type": "code",
   "execution_count": 5,
   "id": "72c7b39a",
   "metadata": {},
   "outputs": [],
   "source": [
    "def neh_algorithm(processing_times):\n",
    "    ordered_sequence = order_jobs_in_descending_order_of_total_completion_time(processing_times)\n",
    "    # Define the initial order\n",
    "    J1, J2 = ordered_sequence[:2]\n",
    "    sequence = [J1, J2] if evaluate_sequence([J1, J2], processing_times) < evaluate_sequence([J2, J1], processing_times) else [J2, J1]\n",
    "    del ordered_sequence[:2]\n",
    "    # Add remaining jobs\n",
    "    for job in ordered_sequence:\n",
    "        Cmax = float('inf')\n",
    "        best_sequence = []\n",
    "        for i in range(len(sequence)+1):\n",
    "            new_sequence = insertion(sequence, i, job)\n",
    "            Cmax_eval = evaluate_sequence(new_sequence, processing_times)\n",
    "            if Cmax_eval < Cmax:\n",
    "                Cmax = Cmax_eval\n",
    "                best_sequence = new_sequence\n",
    "        sequence = best_sequence\n",
    "    return sequence, Cmax"
   ]
  },
  {
   "cell_type": "markdown",
   "id": "8d3d8030-1f44-4682-ba93-bb3f2821a14e",
   "metadata": {},
   "source": [
    "# Greedy NEH"
   ]
  },
  {
   "cell_type": "code",
   "execution_count": 6,
   "id": "5a66db94-fb29-4af1-8f56-8f19c88d6750",
   "metadata": {},
   "outputs": [],
   "source": [
    "def greedy_neh_algorithm(processing_times, num_candidates, num_iterations):\n",
    "    n = len(processing_times)\n",
    "    ordered_sequence = order_jobs_in_descending_order_of_total_completion_time(processing_times)\n",
    "    best_sequence = []\n",
    "    best_cmax = float('inf')\n",
    "    for i in range(num_iterations):\n",
    "        partial_sequence = [ordered_sequence[0]]\n",
    "        for k in range(1, n):\n",
    "            candidates = []\n",
    "            for job in ordered_sequence:\n",
    "                if job not in partial_sequence:\n",
    "                    for i in range(k+1):\n",
    "                        candidate_sequence = insertion(partial_sequence, i, job)\n",
    "                        candidate_cmax = evaluate_sequence(candidate_sequence, processing_times)\n",
    "                        candidates.append((candidate_sequence, candidate_cmax))\n",
    "            candidates.sort(key=lambda x: x[1])\n",
    "            partial_sequence, cmax = random.choice(candidates[:num_candidates])\n",
    "        if cmax < best_cmax:\n",
    "                best_sequence = partial_sequence\n",
    "                best_cmax = cmax\n",
    "        ordered_sequence.append(ordered_sequence.pop(0))\n",
    "    return best_sequence, best_cmax"
   ]
  },
  {
   "cell_type": "markdown",
   "id": "1d09c8ba",
   "metadata": {},
   "source": [
    "# Johnson"
   ]
  },
  {
   "cell_type": "code",
   "execution_count": 7,
   "id": "8e7518ba",
   "metadata": {},
   "outputs": [],
   "source": [
    "def johnson_method(processing_times):\n",
    "    jobs, machines = processing_times.shape\n",
    "    copy_processing_times = processing_times.copy()\n",
    "    maximum = processing_times.max() + 1\n",
    "    m1 = []\n",
    "    m2 = []\n",
    "    \n",
    "    if machines != 2:\n",
    "        raise Exception(\"Johson method only works with two machines\")\n",
    "        \n",
    "    for i in range(jobs):\n",
    "        minimum = copy_processing_times.min()\n",
    "        position = np.where(copy_processing_times == minimum)\n",
    "        \n",
    "        if position[1][0] == 0:\n",
    "            m1.append(position[0][0])\n",
    "        else:\n",
    "            m2.insert(0, position[0][0])\n",
    "        \n",
    "        copy_processing_times[position[0][0]] = maximum\n",
    "        \n",
    "    return m1+m2"
   ]
  },
  {
   "cell_type": "markdown",
   "id": "65612cf2",
   "metadata": {},
   "source": [
    "# Ham"
   ]
  },
  {
   "cell_type": "code",
   "execution_count": 8,
   "id": "89ce9e8e",
   "metadata": {},
   "outputs": [],
   "source": [
    "def ham_heuristic(processing_time):\n",
    "    jobs, machines = processing_time.shape\n",
    "    sequence = list(range(jobs))\n",
    "    # Calculating the first summation\n",
    "    P1 = processing_time[:,:machines//2].sum(axis=1)\n",
    "    # Calculating the second summation\n",
    "    P2 = processing_time[:,machines//2:].sum(axis=1)\n",
    "    # Calculating the first solution, ordered by P2 - P1\n",
    "    P2_P1 = P2 - P1\n",
    "    solution_1 = [job for _ , job in sorted(zip(P2_P1, sequence), reverse=True)]\n",
    "    # Calculating the second solution\n",
    "    positives = np.argwhere(P2_P1 >= 0).flatten()\n",
    "    negatives = np.argwhere(P2_P1 < 0).flatten()\n",
    "    positive_indices = [job for _ , job in sorted(zip(P1[positives], positives))]\n",
    "    negative_indices = [job for _ , job in sorted(zip(P2[negatives], negatives), reverse=True)]\n",
    "    positive_indices.extend(negative_indices)\n",
    "    # Calculating Cmax for both solutions\n",
    "    Cmax1 = evaluate_sequence(solution_1, processing_time)\n",
    "    Cmax2 = evaluate_sequence(positive_indices, processing_time)\n",
    "    # Returning the best solution among them\n",
    "    if Cmax1 < Cmax2:\n",
    "        return solution_1, Cmax1\n",
    "    else:\n",
    "        return positive_indices, Cmax2"
   ]
  },
  {
   "cell_type": "markdown",
   "id": "f2a1b9e1",
   "metadata": {},
   "source": [
    "# Palmer"
   ]
  },
  {
   "cell_type": "code",
   "execution_count": 9,
   "id": "1860c783-bab5-446e-866d-e5d97711d043",
   "metadata": {},
   "outputs": [],
   "source": [
    "def palmer_heuristic(processing_times):\n",
    "    jobs, machines = processing_times.shape\n",
    "    slope_indices = []\n",
    "    for i in range(jobs):\n",
    "        processing_time_sum = np.sum(processing_times[i])\n",
    "        fi = 0\n",
    "        for j in range(machines):\n",
    "            fi += (machines - 2*j + 1) * processing_times[i][j] / processing_time_sum\n",
    "        slope_indices.append(fi)\n",
    "    order = sorted(range(jobs), key=lambda k: slope_indices[k])\n",
    "    return order"
   ]
  },
  {
   "cell_type": "markdown",
   "id": "a86f8c04",
   "metadata": {
    "tags": []
   },
   "source": [
    "# CDS"
   ]
  },
  {
   "cell_type": "code",
   "execution_count": 10,
   "id": "4ef77345",
   "metadata": {},
   "outputs": [],
   "source": [
    "def CDS_heuristic(processing_times):\n",
    "    jobs, machines = processing_times.shape\n",
    "    m = machines-1\n",
    "    johnson_proc_times = np.zeros((jobs,2))\n",
    "    best_cost = np.inf\n",
    "    best_seq = []\n",
    "    for k in range(m):\n",
    "        johnson_proc_times[:,0] += processing_times[:,k]\n",
    "        johnson_proc_times[:,1] += processing_times[:,-k-1]\n",
    "        seq = johnson_method(johnson_proc_times)\n",
    "        cost = evaluate_sequence(seq,processing_times)\n",
    "        if cost < best_cost:\n",
    "            best_cost = cost\n",
    "            best_seq = seq\n",
    "    return best_seq, best_cost"
   ]
  },
  {
   "cell_type": "markdown",
   "id": "70bd091f",
   "metadata": {},
   "source": [
    "# Gupta"
   ]
  },
  {
   "cell_type": "code",
   "execution_count": 11,
   "id": "3dd6e56e-8cbe-42f2-9b93-1ee7b0b07d8d",
   "metadata": {},
   "outputs": [],
   "source": [
    "def sign(x):\n",
    "    if x > 0:\n",
    "        return 1\n",
    "    elif x < 0:\n",
    "        return -1\n",
    "    else:\n",
    "        return 0"
   ]
  },
  {
   "cell_type": "code",
   "execution_count": 12,
   "id": "c0146e9e-4e3e-4eef-99fe-ff066407f8e6",
   "metadata": {},
   "outputs": [],
   "source": [
    "def min_gupta(job, processing_times):\n",
    "    m = np.inf\n",
    "    _, machines = processing_times.shape\n",
    "    for i in range(machines-1):\n",
    "        k = processing_times[job][i] + processing_times[job][i+1]\n",
    "        if (k < m):\n",
    "            m = k\n",
    "    return m"
   ]
  },
  {
   "cell_type": "code",
   "execution_count": 13,
   "id": "4e70a268-16a3-4697-a57c-5eca2399992e",
   "metadata": {},
   "outputs": [],
   "source": [
    "def gupta_heuristic(processing_times):\n",
    "    jobs, machines = processing_times.shape\n",
    "    f = []\n",
    "    total_times = []\n",
    "    for i in range(jobs):\n",
    "        fi = sign(processing_times[i][0] - processing_times[i][machines-1]) / min_gupta(i,processing_times)\n",
    "        f.append(fi)\n",
    "        total_time = sum(processing_times[i])\n",
    "        total_times.append(total_time)\n",
    "    order = sorted(range(jobs), key=lambda k: (f[k], total_times[k]))\n",
    "    return order"
   ]
  },
  {
   "cell_type": "markdown",
   "id": "f213fc1a",
   "metadata": {},
   "source": [
    "# PRSKE"
   ]
  },
  {
   "cell_type": "code",
   "execution_count": 14,
   "id": "4826113d",
   "metadata": {},
   "outputs": [],
   "source": [
    "def skewness(processing_times):\n",
    "    jobs, machines = processing_times.shape\n",
    "    skewnesses = []\n",
    "    # Calculate the skewness for each job \n",
    "    for i in range(jobs):\n",
    "        avg = np.mean(processing_times[i,:])\n",
    "        numerator = 0\n",
    "        denominator = 0\n",
    "        for j in range(machines):\n",
    "            m = (processing_times[i,j] - avg)\n",
    "            numerator += m**3\n",
    "            denominator += m**2\n",
    "        # Actually calculating the skewness    \n",
    "        numerator = numerator*(1/machines)\n",
    "        denominator = (np.sqrt(denominator*(1/machines)))**3\n",
    "        skewnesses.append(numerator/denominator)\n",
    "    return np.array(skewnesses)"
   ]
  },
  {
   "cell_type": "code",
   "execution_count": 15,
   "id": "ffe3ade9",
   "metadata": {},
   "outputs": [],
   "source": [
    "def PRSKE_heuristic(processing_times):\n",
    "    avg = np.mean(processing_times, axis=1)\n",
    "    std = np.std(processing_times, axis=1, ddof=1)\n",
    "    skw = skewness(processing_times)\n",
    "    order = skw + std + avg\n",
    "    sequence = [job for _ , job in sorted(zip(order, list(range(processing_times.shape[0]))),reverse=True)]\n",
    "    return sequence, evaluate_sequence(sequence, processing_times)"
   ]
  },
  {
   "cell_type": "markdown",
   "id": "3841b745-fafe-46fe-9686-ad6166be9dc1",
   "metadata": {},
   "source": [
    "# Artificial Heuristic"
   ]
  },
  {
   "cell_type": "code",
   "execution_count": 16,
   "id": "1b62d7d1-eab1-42e8-ac11-7f6c232096d8",
   "metadata": {},
   "outputs": [],
   "source": [
    "def artificial_heuristic(processing_times):\n",
    "    jobs, machines = processing_times.shape\n",
    "    r = 1\n",
    "    best_cost = np.inf\n",
    "    best_seq = []\n",
    "    while r != machines :\n",
    "        wi = np.zeros((jobs, machines - r))\n",
    "        for i in range(jobs):\n",
    "            for j in range(0, machines - r):\n",
    "                wi[i, j] = (machines - r) - (j)\n",
    "       \n",
    "        am = np.zeros((jobs, 2))    \n",
    "        am[:, 0] = np.sum(wi[:, :machines - r] * processing_times[:, :machines - r], axis=1)\n",
    "        for i in range(jobs):\n",
    "            for j in range(0, machines - r):\n",
    "                am[i, 1] += wi[i, j ] * processing_times[i, machines - j - 1]\n",
    "        seq = johnson_method(am)\n",
    "        cost = evaluate_sequence(seq, processing_times)\n",
    "        if cost < best_cost:\n",
    "            best_cost = cost\n",
    "            best_seq = seq\n",
    "        r += 1\n",
    "       \n",
    "    return best_seq, best_cost"
   ]
  },
  {
   "cell_type": "code",
   "execution_count": 17,
   "id": "d2e14d48-7aa2-43e5-b1de-60d065f1561f",
   "metadata": {},
   "outputs": [],
   "source": [
    "def all_permutations(iterable):\n",
    "    permutations = list(itertools.permutations(iterable))\n",
    "    permutations_as_lists = [list(p) for p in permutations]\n",
    "    return permutations_as_lists"
   ]
  },
  {
   "cell_type": "code",
   "execution_count": 18,
   "id": "45162b3c-941c-47f8-b26b-fddb4c708bf9",
   "metadata": {},
   "outputs": [],
   "source": [
    "def brute_force(processing_times, permutations):\n",
    "    M = float('inf')\n",
    "    sol = []\n",
    "    for permutation in permutations:\n",
    "        m = evaluate_sequence(permutation, processing_times)\n",
    "        if m < M:\n",
    "            M = m\n",
    "            sol = permutation\n",
    "    return sol, M"
   ]
  },
  {
   "cell_type": "code",
   "execution_count": 19,
   "id": "961ef15d-f645-4b8e-9071-22fdc5c6fefe",
   "metadata": {},
   "outputs": [
    {
     "name": "stdout",
     "output_type": "stream",
     "text": [
      "[[ 93  58  12 115  58]\n",
      " [ 87 110  32  98  60]\n",
      " [ 66  84  93  44  49]\n",
      " [ 72 107  77  62  21]\n",
      " [119 107  94  67  83]\n",
      " [ 55  82  55  16  53]\n",
      " [ 60  56  24  97  40]\n",
      " [ 73   6 100  41  12]] \n",
      "\n"
     ]
    }
   ],
   "source": [
    "rnd_data = np.random.randint(size=(8,5), low=5, high=120)\n",
    "print(rnd_data, \"\\n\")"
   ]
  },
  {
   "cell_type": "code",
   "execution_count": 20,
   "id": "4101225f-7d40-4077-801a-a2bad490649e",
   "metadata": {},
   "outputs": [
    {
     "name": "stdout",
     "output_type": "stream",
     "text": [
      "Best sequence found by Brute Force [1, 4, 0, 2, 3, 5, 6, 7] with a makespan of 877.0\n",
      "Elapsed time: 5.902706623077393 seconds\n"
     ]
    }
   ],
   "source": [
    "init_jobs = 8\n",
    "init_job_list = list(range(init_jobs))\n",
    "\n",
    "start_time = time.time()\n",
    "sequence_list = all_permutations(init_job_list)\n",
    "sol, M = brute_force(rnd_data, sequence_list)\n",
    "elapsed_time = time.time() - start_time\n",
    "\n",
    "print(f'Best sequence found by Brute Force {sol} with a makespan of {M}')\n",
    "print(\"Elapsed time:\", elapsed_time, \"seconds\")"
   ]
  },
  {
   "cell_type": "code",
   "execution_count": 21,
   "id": "05efd098-8613-48cd-8311-c9ea480f6347",
   "metadata": {},
   "outputs": [
    {
     "name": "stdout",
     "output_type": "stream",
     "text": [
      "Best sequence found by Brute Force [4, 1, 2, 3, 6, 0, 5, 7] with a makespan of 1001.0\n",
      "Elapsed time: 0.0004127025604248047 seconds\n"
     ]
    }
   ],
   "source": [
    "start_time = time.time()\n",
    "sol = gupta_heuristic(rnd_data)\n",
    "M = evaluate_sequence(sol, rnd_data)\n",
    "elapsed_time = time.time() - start_time\n",
    "\n",
    "print(f'Best sequence found by Brute Force {sol} with a makespan of {M}')\n",
    "print(\"Elapsed time:\", elapsed_time, \"seconds\")"
   ]
  },
  {
   "cell_type": "markdown",
   "id": "a84fd3f3",
   "metadata": {},
   "source": [
    "# Tests"
   ]
  },
  {
   "cell_type": "markdown",
   "id": "66811895-0b43-45eb-b7f5-db2488e61077",
   "metadata": {},
   "source": [
    "In this notebook, we will test all the heuristics implemented above on the first and the seventh instance of each benchmark listed below:\n",
    "- Taillard, 20 jobs 5 machines.\n",
    "- Taillard, 50 jobs 10 machines.\n",
    "- Taillard, 100 jobs 10 machines.\n",
    "- Taillard, 200 jobs 10 machines.\n",
    "\n",
    "For each test, we will save the execution time and the deviation.\n",
    "The deviation being equal to $\\frac{Cmax-UP}{UP}$."
   ]
  },
  {
   "cell_type": "code",
   "execution_count": 22,
   "id": "7c26f7a5-e7e4-4c94-827f-1c778e4ad1b2",
   "metadata": {},
   "outputs": [],
   "source": [
    "def deviation(Cmax, UP):\n",
    "    return ((Cmax - UP)/UP)*100"
   ]
  },
  {
   "cell_type": "markdown",
   "id": "77840574",
   "metadata": {
    "tags": []
   },
   "source": [
    "## Reading Taillard Instances"
   ]
  },
  {
   "cell_type": "markdown",
   "id": "30f47110-83c0-4222-95fd-000a2f5ae440",
   "metadata": {
    "tags": []
   },
   "source": [
    "### Taillard, 20 jobs 5 machines"
   ]
  },
  {
   "cell_type": "code",
   "execution_count": 23,
   "id": "1bb33d95",
   "metadata": {},
   "outputs": [
    {
     "name": "stdout",
     "output_type": "stream",
     "text": [
      "Taillard, 20 jobs 5 machines contains 10 benchmark.\n"
     ]
    }
   ],
   "source": [
    "# Open the file that contains the instances\n",
    "file = open(\"Benchmarks/tai20_5.txt\", \"r\")\n",
    "\n",
    "# Read the file line by line to retrieve the instances\n",
    "n = 0\n",
    "instances_20_5 = [[]]\n",
    "line = file.readline()\n",
    "\n",
    "while line:\n",
    "    if line != '\\n':\n",
    "        line = line.strip(' ')\n",
    "        line = line[:-1]\n",
    "        line = line.split()\n",
    "        line = [int(num) for num in line]\n",
    "        instances_20_5[n].append(line)\n",
    "    else:\n",
    "        instances_20_5.append([])\n",
    "        n += 1\n",
    "    line = file.readline()\n",
    "    \n",
    "print(f'Taillard, 20 jobs 5 machines contains {len(instances_20_5)} benchmark.')   "
   ]
  },
  {
   "cell_type": "markdown",
   "id": "20fb69cc",
   "metadata": {
    "tags": []
   },
   "source": [
    "### Taillard, 50 jobs 10 machines"
   ]
  },
  {
   "cell_type": "code",
   "execution_count": 24,
   "id": "41f7c6fe",
   "metadata": {},
   "outputs": [
    {
     "name": "stdout",
     "output_type": "stream",
     "text": [
      "Taillard, 50 jobs 10 machines contains 10 benchmark.\n"
     ]
    }
   ],
   "source": [
    "# Open the file that contains the instances\n",
    "file = open(\"Benchmarks/tai50_10.txt\", \"r\")\n",
    "\n",
    "# Read the file line by line to retrieve the instances\n",
    "n = 0\n",
    "instances_50_10 = [[]]\n",
    "line = file.readline()\n",
    "\n",
    "while line:\n",
    "    if line != '\\n':\n",
    "        line = line.strip(' ')\n",
    "        line = line[:-1]\n",
    "        line = line.split()\n",
    "        line = [int(num) for num in line]\n",
    "        instances_50_10[n].append(line)\n",
    "    else:\n",
    "        instances_50_10.append([])\n",
    "        n += 1\n",
    "    line = file.readline()\n",
    "    \n",
    "print(f'Taillard, 50 jobs 10 machines contains {len(instances_50_10)} benchmark.')"
   ]
  },
  {
   "cell_type": "markdown",
   "id": "ea030880",
   "metadata": {
    "tags": []
   },
   "source": [
    "### Taillard, 100 jobs 10 machines"
   ]
  },
  {
   "cell_type": "code",
   "execution_count": 25,
   "id": "dbdca94f",
   "metadata": {},
   "outputs": [
    {
     "name": "stdout",
     "output_type": "stream",
     "text": [
      "Taillard, 100 jobs 10 machines contains 10 benchmark.\n"
     ]
    }
   ],
   "source": [
    "# Open the file that contains the instances\n",
    "file = open(\"Benchmarks/tai100_10.txt\", \"r\")\n",
    "\n",
    "# Read the file line by line to retrieve the instances\n",
    "n = 0\n",
    "instances_100_10 = [[]]\n",
    "line = file.readline()\n",
    "\n",
    "while line:\n",
    "    if line != '\\n':\n",
    "        line = line.strip(' ')\n",
    "        line = line[:-1]\n",
    "        line = line.split()\n",
    "        line = [int(num) for num in line]\n",
    "        instances_100_10[n].append(line)\n",
    "    else:\n",
    "        instances_100_10.append([])\n",
    "        n += 1\n",
    "    line = file.readline()\n",
    "    \n",
    "print(f'Taillard, 100 jobs 10 machines contains {len(instances_100_10)} benchmark.')"
   ]
  },
  {
   "cell_type": "markdown",
   "id": "2f7bf449-f383-4e89-a54e-abdd747b9128",
   "metadata": {
    "tags": []
   },
   "source": [
    "## Tests on the 7th instance"
   ]
  },
  {
   "cell_type": "code",
   "execution_count": 26,
   "id": "bb9c26b6-b6ae-4cbc-ace8-053ef953f5ca",
   "metadata": {},
   "outputs": [],
   "source": [
    "# Prepare a dataframe that will gather all our results\n",
    "df_1 = pd.DataFrame({'Heuristic': pd.Series(dtype='str'),\n",
    "                   '20-5 (Deviation)': pd.Series(dtype='str'),\n",
    "                   '20-5 (Time)': pd.Series(dtype='str'),\n",
    "                   '50-10 (Deviation)': pd.Series(dtype='str'),\n",
    "                   '50-10 (Time)': pd.Series(dtype='str'),\n",
    "                   '100-10 (Deviation)': pd.Series(dtype='str'),\n",
    "                   '100-10 (Time)': pd.Series(dtype='str'),\n",
    "                  }) "
   ]
  },
  {
   "cell_type": "code",
   "execution_count": 27,
   "id": "c19ced6a-bfb4-4e10-a014-b8b67bf22372",
   "metadata": {},
   "outputs": [],
   "source": [
    "NEH = ['NEH']\n",
    "GNEH = ['Greedy NEH']\n",
    "Ham = ['Ham']\n",
    "Gupta = ['Gupta']\n",
    "Palmer = ['Palmer']\n",
    "CDS = ['CDS']\n",
    "PRSKE = ['PRSKE']\n",
    "ARTIFICIAL = ['Artificial Heuristic']"
   ]
  },
  {
   "cell_type": "markdown",
   "id": "7c22556b-9b5a-49b0-b3a5-76d6a0a7a8fc",
   "metadata": {
    "tags": []
   },
   "source": [
    "### 20 jobs 5 machines"
   ]
  },
  {
   "cell_type": "code",
   "execution_count": 28,
   "id": "430ea293-d2a8-4c6b-9ca7-c2c45dc3757c",
   "metadata": {},
   "outputs": [],
   "source": [
    "instance_0 = np.array(instances_20_5[6])\n",
    "instance_0 = instance_0.T"
   ]
  },
  {
   "cell_type": "code",
   "execution_count": 29,
   "id": "644803fc-6872-441f-96b3-2b3f472c2b87",
   "metadata": {},
   "outputs": [
    {
     "data": {
      "text/plain": [
       "array([[15, 28, 77,  1, 45],\n",
       "       [64,  4, 36, 59, 73],\n",
       "       [64, 43, 57, 95, 59],\n",
       "       [48, 93, 15, 49, 63],\n",
       "       [ 9,  1, 81, 90, 54],\n",
       "       [91, 81, 82, 78, 98],\n",
       "       [27, 77, 98,  3, 39],\n",
       "       [34, 69, 97, 69, 75],\n",
       "       [42, 52, 12, 99, 33],\n",
       "       [ 3, 28, 35, 41,  8],\n",
       "       [11, 28, 84, 73, 86],\n",
       "       [54, 77, 70, 28, 41],\n",
       "       [27, 42, 27, 99, 41],\n",
       "       [30, 53, 37, 13, 22],\n",
       "       [ 9, 46, 59, 59, 43],\n",
       "       [15, 49, 42, 47, 34],\n",
       "       [88, 15, 57,  8, 80],\n",
       "       [55, 43, 16, 92, 16],\n",
       "       [50, 65, 11, 87, 37],\n",
       "       [57, 41, 34, 62, 94]])"
      ]
     },
     "execution_count": 29,
     "metadata": {},
     "output_type": "execute_result"
    }
   ],
   "source": [
    "instance_0"
   ]
  },
  {
   "cell_type": "code",
   "execution_count": 30,
   "id": "e52bd83d-179c-4ffa-8f95-7933192d6217",
   "metadata": {},
   "outputs": [
    {
     "name": "stdout",
     "output_type": "stream",
     "text": [
      "1324.0\n"
     ]
    }
   ],
   "source": [
    "print(evaluate_sequence([2, 19, 15, 1, 4, 3, 10, 5, 12, 16, 7, 18, 14, 6, 13, 8, 0, 17, 11, 9],instance_0))"
   ]
  },
  {
   "cell_type": "code",
   "execution_count": 31,
   "id": "e16feb68-2db6-4815-ba45-beee548cf772",
   "metadata": {},
   "outputs": [],
   "source": [
    "instance_0 = np.array(instances_20_5[6])\n",
    "instance_0 = instance_0.T\n",
    "UB = 1239"
   ]
  },
  {
   "cell_type": "code",
   "execution_count": 32,
   "id": "f8817921-99ac-4b53-b20c-13c753c2841c",
   "metadata": {},
   "outputs": [
    {
     "name": "stdout",
     "output_type": "stream",
     "text": [
      "Solution: [4, 2, 19, 10, 7, 5, 3, 8, 1, 12, 6, 18, 16, 9, 14, 15, 0, 17, 13, 11].\n",
      "\n",
      "Cmax: 1284.0\n",
      "\n",
      "Elapsed time:  0.0337371826171875 seconds\n"
     ]
    }
   ],
   "source": [
    "# NEH Algorithm\n",
    "start_time = time.time()\n",
    "sol, Cmax = neh_algorithm(instance_0)\n",
    "elapsed_time = time.time() - start_time\n",
    "\n",
    "print(f'Solution: {sol}.')\n",
    "print(f'\\nCmax: {Cmax}')\n",
    "print(\"\\nElapsed time: \", elapsed_time, \"seconds\")\n",
    "\n",
    "NEH.append(\"%.3f\" % (deviation(Cmax, UB)))\n",
    "NEH.append(\" %.3fs\" % (elapsed_time))"
   ]
  },
  {
   "cell_type": "code",
   "execution_count": 33,
   "id": "c364ebbd-bd40-414c-8bca-85b550a8e4a2",
   "metadata": {},
   "outputs": [
    {
     "name": "stdout",
     "output_type": "stream",
     "text": [
      "Solution: [4, 15, 1, 10, 14, 5, 11, 19, 2, 7, 8, 6, 17, 13, 0, 16, 3, 12, 18, 9].\n",
      "\n",
      "Cmax: 1257.0\n",
      "\n",
      "Elapsed time:  1.8922481536865234 seconds\n"
     ]
    }
   ],
   "source": [
    "# Greedy NEH Algorithm\n",
    "start_time = time.time()\n",
    "sol, Cmax = greedy_neh_algorithm(instance_0, 4, 6)\n",
    "elapsed_time = time.time() - start_time\n",
    "\n",
    "print(f'Solution: {sol}.')\n",
    "print(f'\\nCmax: {Cmax}')\n",
    "print(\"\\nElapsed time: \", elapsed_time, \"seconds\")\n",
    "\n",
    "GNEH.append(\"%.3f\" % (deviation(Cmax, UB)))\n",
    "GNEH.append(\" %.3fs\" % (elapsed_time))"
   ]
  },
  {
   "cell_type": "code",
   "execution_count": 34,
   "id": "bc4df6c5-e9ed-4a3a-92ca-415bab980bbb",
   "metadata": {},
   "outputs": [
    {
     "name": "stdout",
     "output_type": "stream",
     "text": [
      "Solution: [4, 10, 7, 14, 2, 1, 12, 19, 5, 0, 15, 9, 8, 16, 6, 17, 18, 11, 13, 3].\n",
      "\n",
      "Cmax: 1334.0\n",
      "\n",
      "Elapsed time:  0.005689144134521484 seconds\n"
     ]
    }
   ],
   "source": [
    "# Ham Heuristic\n",
    "start_time = time.time()\n",
    "sol, Cmax = ham_heuristic(instance_0)\n",
    "elapsed_time = time.time() - start_time\n",
    "\n",
    "print(f'Solution: {sol}.')\n",
    "print(f'\\nCmax: {Cmax}')\n",
    "print(\"\\nElapsed time: \", elapsed_time, \"seconds\")\n",
    "\n",
    "\n",
    "Ham.append(\"%.3f\" % (deviation(Cmax, UB)))\n",
    "Ham.append(\" %.3fs\" % (elapsed_time))"
   ]
  },
  {
   "cell_type": "code",
   "execution_count": 35,
   "id": "64861b9e-8c0a-4288-a509-6fece8c72927",
   "metadata": {},
   "outputs": [
    {
     "name": "stdout",
     "output_type": "stream",
     "text": [
      "Solution: [4, 9, 10, 1, 6, 0, 14, 15, 3, 12, 19, 7, 5, 2, 18, 11, 16, 8, 17, 13].\n",
      "\n",
      "Cmax: 1390.0\n",
      "\n",
      "Elapsed time:  0.0020165443420410156 seconds\n"
     ]
    }
   ],
   "source": [
    "# Gupta Heuristic\n",
    "start_time = time.time()\n",
    "sol = gupta_heuristic(instance_0)\n",
    "Cmax = evaluate_sequence(sol, instance_0)\n",
    "elapsed_time = time.time() - start_time\n",
    "\n",
    "print(f'Solution: {sol}.')\n",
    "print(f'\\nCmax: {Cmax}')\n",
    "print(\"\\nElapsed time: \", elapsed_time, \"seconds\")\n",
    "\n",
    "Gupta.append(\"%.3f\" % (deviation(Cmax, UB)))\n",
    "Gupta.append(\" %.3fs\" % (elapsed_time))"
   ]
  },
  {
   "cell_type": "code",
   "execution_count": 36,
   "id": "94580183-8b59-4cb2-a999-4d731f84b3ca",
   "metadata": {},
   "outputs": [
    {
     "name": "stdout",
     "output_type": "stream",
     "text": [
      "Solution: [4, 10, 14, 12, 19, 1, 7, 9, 0, 15, 2, 8, 5, 18, 3, 16, 17, 6, 11, 13].\n",
      "\n",
      "Cmax: 1360.0\n",
      "\n",
      "Elapsed time:  0.004403352737426758 seconds\n"
     ]
    }
   ],
   "source": [
    "# Palmer Heuristic\n",
    "start_time = time.time()\n",
    "sol = palmer_heuristic(instance_0)\n",
    "Cmax = evaluate_sequence(sol, instance_0)\n",
    "elapsed_time = time.time() - start_time\n",
    "\n",
    "print(f'Solution: {sol}.')\n",
    "print(f'\\nCmax: {Cmax}')\n",
    "print(\"\\nElapsed time: \", elapsed_time, \"seconds\")\n",
    "\n",
    "Palmer.append(\"%.3f\" % (deviation(Cmax, UB)))\n",
    "Palmer.append(\" %.3fs\" % (elapsed_time))"
   ]
  },
  {
   "cell_type": "code",
   "execution_count": 37,
   "id": "c87130ea-88c5-4638-8d0e-96df482ebb9a",
   "metadata": {},
   "outputs": [
    {
     "name": "stdout",
     "output_type": "stream",
     "text": [
      "Solution: [9, 4, 14, 10, 0, 15, 6, 12, 7, 3, 19, 1, 5, 16, 2, 11, 18, 8, 13, 17].\n",
      "\n",
      "Cmax: 1393.0\n",
      "\n",
      "Elapsed time:  0.00465083122253418 seconds\n"
     ]
    }
   ],
   "source": [
    "# CDS Heuristic\n",
    "start_time = time.time()\n",
    "sol, Cmax = CDS_heuristic(instance_0)\n",
    "elapsed_time = time.time() - start_time\n",
    "\n",
    "print(f'Solution: {sol}.')\n",
    "print(f'\\nCmax: {Cmax}')\n",
    "print(\"\\nElapsed time: \", elapsed_time, \"seconds\")\n",
    "\n",
    "CDS.append(\"%.3f\" % (deviation(Cmax, UB)))\n",
    "CDS.append(\" %.3fs\" % (elapsed_time))"
   ]
  },
  {
   "cell_type": "code",
   "execution_count": 38,
   "id": "3262a8cd-8579-425d-8366-652bb68af9da",
   "metadata": {},
   "outputs": [
    {
     "name": "stdout",
     "output_type": "stream",
     "text": [
      "Solution: [5, 7, 10, 4, 6, 16, 2, 3, 19, 8, 18, 12, 17, 1, 11, 0, 14, 15, 13, 9].\n",
      "\n",
      "Cmax: 1636.0\n",
      "\n",
      "Elapsed time:  0.0009961128234863281 seconds\n"
     ]
    }
   ],
   "source": [
    "# PKSE Heuristic\n",
    "start_time = time.time()\n",
    "sol, Cmax = PRSKE_heuristic(instance_0)\n",
    "elapsed_time = time.time() - start_time\n",
    "\n",
    "print(f'Solution: {sol}.')\n",
    "print(f'\\nCmax: {Cmax}')\n",
    "print(\"\\nElapsed time: \", elapsed_time, \"seconds\")\n",
    "\n",
    "PRSKE.append(\"%.3f\" % (deviation(Cmax, UB)))\n",
    "PRSKE.append(\" %.3fs\" % (elapsed_time))"
   ]
  },
  {
   "cell_type": "code",
   "execution_count": 39,
   "id": "1b2cd004-8f31-4671-be9b-d6cbcb76e99b",
   "metadata": {},
   "outputs": [
    {
     "name": "stdout",
     "output_type": "stream",
     "text": [
      "Solution: [9, 4, 14, 10, 0, 15, 6, 12, 7, 3, 19, 1, 5, 16, 2, 11, 18, 8, 13, 17].\n",
      "\n",
      "Cmax: 1393.0\n",
      "\n",
      "Elapsed time:  0.004266023635864258 seconds\n"
     ]
    }
   ],
   "source": [
    "# Artificial_heuristic Heuristic\n",
    "start_time = time.time()\n",
    "sol, Cmax = artificial_heuristic(instance_0)\n",
    "elapsed_time = time.time() - start_time\n",
    "\n",
    "print(f'Solution: {sol}.')\n",
    "print(f'\\nCmax: {Cmax}')\n",
    "print(\"\\nElapsed time: \", elapsed_time, \"seconds\")\n",
    "\n",
    "ARTIFICIAL.append(\"%.3f\" % (deviation(Cmax, UB)))\n",
    "ARTIFICIAL.append(\" %.3fs\" % (elapsed_time))"
   ]
  },
  {
   "cell_type": "markdown",
   "id": "11957bae-a887-471b-b0b6-d759804f210d",
   "metadata": {
    "tags": []
   },
   "source": [
    "### 50 jobs 10 machines"
   ]
  },
  {
   "cell_type": "code",
   "execution_count": 40,
   "id": "e0d7abcd-3770-436c-9ad8-b4d6a851f1ef",
   "metadata": {},
   "outputs": [],
   "source": [
    "instance_0 = np.array(instances_50_10[6])\n",
    "instance_0 = instance_0.T\n",
    "UB = 3107"
   ]
  },
  {
   "cell_type": "code",
   "execution_count": 41,
   "id": "84e688cf-28f1-47d9-85e5-eaafdf1f2000",
   "metadata": {},
   "outputs": [
    {
     "name": "stdout",
     "output_type": "stream",
     "text": [
      "Solution: [48, 0, 36, 18, 7, 4, 9, 44, 2, 1, 8, 19, 34, 27, 41, 13, 6, 3, 15, 11, 29, 43, 22, 20, 25, 47, 42, 23, 26, 32, 16, 12, 5, 31, 28, 38, 46, 37, 21, 33, 40, 39, 45, 49, 10, 14, 24, 17, 30, 35].\n",
      "\n",
      "Cmax: 3271.0\n",
      "\n",
      "Elapsed time:  1.734560251235962 seconds\n"
     ]
    }
   ],
   "source": [
    "# NEH Algorithm\n",
    "start_time = time.time()\n",
    "sol, Cmax = neh_algorithm(instance_0)\n",
    "elapsed_time = time.time() - start_time\n",
    "\n",
    "print(f'Solution: {sol}.')\n",
    "print(f'\\nCmax: {Cmax}')\n",
    "print(\"\\nElapsed time: \", elapsed_time, \"seconds\")\n",
    "\n",
    "NEH.append(\"%.3f\" % (deviation(Cmax, UB)))\n",
    "NEH.append(\" %.3fs\" % (elapsed_time))"
   ]
  },
  {
   "cell_type": "code",
   "execution_count": 42,
   "id": "847efe48-ed24-4d33-a2b2-141277c9986b",
   "metadata": {},
   "outputs": [
    {
     "name": "stdout",
     "output_type": "stream",
     "text": [
      "Solution: [16, 19, 1, 36, 9, 8, 46, 18, 42, 27, 44, 0, 6, 23, 4, 10, 22, 20, 32, 15, 11, 41, 34, 29, 43, 14, 49, 2, 21, 26, 5, 47, 13, 39, 17, 25, 7, 48, 31, 3, 38, 33, 28, 24, 12, 30, 45, 37, 35, 40].\n",
      "\n",
      "Cmax: 3273.0\n",
      "\n",
      "Elapsed time:  21.662691831588745 seconds\n"
     ]
    }
   ],
   "source": [
    "# Greedy NEH Algorithm\n",
    "start_time = time.time()\n",
    "sol, Cmax = greedy_neh_algorithm(instance_0, 4, 1)\n",
    "elapsed_time = time.time() - start_time\n",
    "\n",
    "print(f'Solution: {sol}.')\n",
    "print(f'\\nCmax: {Cmax}')\n",
    "print(\"\\nElapsed time: \", elapsed_time, \"seconds\")\n",
    "\n",
    "GNEH.append(\"%.3f\" % (deviation(Cmax, UB)))\n",
    "GNEH.append(\" %.3fs\" % (elapsed_time))"
   ]
  },
  {
   "cell_type": "code",
   "execution_count": 43,
   "id": "082ca183-0ef4-49eb-a9d7-f92d83e2b6a8",
   "metadata": {},
   "outputs": [
    {
     "name": "stdout",
     "output_type": "stream",
     "text": [
      "Solution: [5, 40, 47, 31, 32, 36, 48, 26, 16, 33, 19, 1, 9, 0, 27, 6, 42, 8, 7, 10, 15, 18, 4, 13, 46, 49, 34, 23, 43, 2, 14, 29, 41, 28, 44, 24, 11, 30, 45, 38, 3, 20, 39, 21, 22, 35, 12, 25, 17, 37].\n",
      "\n",
      "Cmax: 3520.0\n",
      "\n",
      "Elapsed time:  0.008232355117797852 seconds\n"
     ]
    }
   ],
   "source": [
    "# Ham Heuristic\n",
    "start_time = time.time()\n",
    "sol, Cmax = ham_heuristic(instance_0)\n",
    "elapsed_time = time.time() - start_time\n",
    "\n",
    "print(f'Solution: {sol}.')\n",
    "print(f'\\nCmax: {Cmax}')\n",
    "print(\"\\nElapsed time: \", elapsed_time, \"seconds\")\n",
    "\n",
    "Ham.append(\"%.3f\" % (deviation(Cmax, UB)))\n",
    "Ham.append(\" %.3fs\" % (elapsed_time))"
   ]
  },
  {
   "cell_type": "code",
   "execution_count": 44,
   "id": "62e8c28c-e38a-44a9-9e62-6e5ee0499c04",
   "metadata": {},
   "outputs": [
    {
     "name": "stdout",
     "output_type": "stream",
     "text": [
      "Solution: [32, 31, 25, 40, 47, 20, 39, 15, 41, 12, 1, 36, 0, 9, 8, 27, 2, 7, 18, 26, 13, 42, 34, 49, 10, 29, 23, 3, 4, 6, 38, 19, 28, 24, 22, 45, 44, 16, 14, 46, 43, 48, 11, 30, 35, 37, 17, 5, 21, 33].\n",
      "\n",
      "Cmax: 3696.0\n",
      "\n",
      "Elapsed time:  0.006766080856323242 seconds\n"
     ]
    }
   ],
   "source": [
    "# Gupta Heuristic\n",
    "start_time = time.time()\n",
    "sol = gupta_heuristic(instance_0)\n",
    "Cmax = evaluate_sequence(sol, instance_0)\n",
    "elapsed_time = time.time() - start_time\n",
    "\n",
    "print(f'Solution: {sol}.')\n",
    "print(f'\\nCmax: {Cmax}')\n",
    "print(\"\\nElapsed time: \", elapsed_time, \"seconds\")\n",
    "\n",
    "Gupta.append(\"%.3f\" % (deviation(Cmax, UB)))\n",
    "Gupta.append(\" %.3fs\" % (elapsed_time))"
   ]
  },
  {
   "cell_type": "code",
   "execution_count": 45,
   "id": "de03c338-8392-46ec-8916-4fc371296326",
   "metadata": {},
   "outputs": [
    {
     "name": "stdout",
     "output_type": "stream",
     "text": [
      "Solution: [36, 31, 48, 8, 0, 47, 9, 1, 32, 19, 27, 5, 18, 42, 7, 15, 6, 41, 26, 43, 16, 45, 4, 2, 20, 33, 34, 10, 40, 11, 25, 13, 39, 23, 44, 49, 28, 17, 14, 46, 12, 22, 29, 24, 21, 30, 3, 38, 35, 37].\n",
      "\n",
      "Cmax: 3543.0\n",
      "\n",
      "Elapsed time:  0.01179361343383789 seconds\n"
     ]
    }
   ],
   "source": [
    "# Palmer Heuristic\n",
    "start_time = time.time()\n",
    "sol = palmer_heuristic(instance_0)\n",
    "Cmax = evaluate_sequence(sol, instance_0)\n",
    "elapsed_time = time.time() - start_time\n",
    "\n",
    "print(f'Solution: {sol}.')\n",
    "print(f'\\nCmax: {Cmax}')\n",
    "print(\"\\nElapsed time: \", elapsed_time, \"seconds\")\n",
    "\n",
    "Palmer.append(\"%.3f\" % (deviation(Cmax, UB)))\n",
    "Palmer.append(\" %.3fs\" % (elapsed_time))"
   ]
  },
  {
   "cell_type": "code",
   "execution_count": 46,
   "id": "f0bf84a9-43c8-4e4b-93f1-0d9c64485110",
   "metadata": {},
   "outputs": [
    {
     "name": "stdout",
     "output_type": "stream",
     "text": [
      "Solution: [5, 40, 47, 31, 32, 36, 48, 26, 16, 33, 19, 1, 9, 0, 27, 6, 42, 8, 7, 10, 15, 18, 4, 13, 46, 49, 34, 23, 43, 2, 14, 29, 41, 28, 44, 24, 11, 30, 45, 38, 3, 20, 39, 21, 22, 35, 12, 25, 17, 37].\n",
      "\n",
      "Cmax: 3520.0\n",
      "\n",
      "Elapsed time:  0.048005104064941406 seconds\n"
     ]
    }
   ],
   "source": [
    "# CDS Heuristic\n",
    "start_time = time.time()\n",
    "sol, Cmax = CDS_heuristic(instance_0)\n",
    "elapsed_time = time.time() - start_time\n",
    "\n",
    "print(f'Solution: {sol}.')\n",
    "print(f'\\nCmax: {Cmax}')\n",
    "print(\"\\nElapsed time: \", elapsed_time, \"seconds\")\n",
    "\n",
    "CDS.append(\"%.3f\" % (deviation(Cmax, UB)))\n",
    "CDS.append(\" %.3fs\" % (elapsed_time))"
   ]
  },
  {
   "cell_type": "code",
   "execution_count": 47,
   "id": "f0d189f6-49ec-4bf3-8eb8-bd9702d284a2",
   "metadata": {},
   "outputs": [
    {
     "name": "stdout",
     "output_type": "stream",
     "text": [
      "Solution: [4, 31, 38, 13, 46, 11, 49, 44, 23, 3, 27, 18, 24, 15, 36, 8, 34, 42, 41, 33, 10, 14, 21, 7, 28, 0, 19, 43, 6, 29, 48, 37, 22, 2, 35, 30, 9, 12, 17, 20, 47, 1, 45, 32, 16, 25, 5, 39, 40, 26].\n",
      "\n",
      "Cmax: 3804.0\n",
      "\n",
      "Elapsed time:  0.010255575180053711 seconds\n"
     ]
    }
   ],
   "source": [
    "# PKSE Heuristic\n",
    "start_time = time.time()\n",
    "sol, Cmax = PRSKE_heuristic(instance_0)\n",
    "elapsed_time = time.time() - start_time\n",
    "\n",
    "print(f'Solution: {sol}.')\n",
    "print(f'\\nCmax: {Cmax}')\n",
    "print(\"\\nElapsed time: \", elapsed_time, \"seconds\")\n",
    "\n",
    "PRSKE.append(\"%.3f\" % (deviation(Cmax, UB)))\n",
    "PRSKE.append(\" %.3fs\" % (elapsed_time))"
   ]
  },
  {
   "cell_type": "code",
   "execution_count": 48,
   "id": "655f06ef-2193-4daf-9df7-c6743797d5a0",
   "metadata": {},
   "outputs": [
    {
     "name": "stdout",
     "output_type": "stream",
     "text": [
      "Solution: [5, 32, 47, 48, 26, 16, 36, 1, 31, 19, 33, 8, 0, 9, 45, 27, 41, 43, 6, 15, 7, 42, 18, 4, 13, 49, 46, 34, 23, 2, 28, 10, 38, 44, 11, 24, 3, 29, 14, 20, 21, 12, 30, 22, 17, 39, 37, 35, 40, 25].\n",
      "\n",
      "Cmax: 3467.0\n",
      "\n",
      "Elapsed time:  0.046674489974975586 seconds\n"
     ]
    }
   ],
   "source": [
    "# Artificial_heuristic Heuristic\n",
    "start_time = time.time()\n",
    "sol, Cmax = artificial_heuristic(instance_0)\n",
    "elapsed_time = time.time() - start_time\n",
    "\n",
    "print(f'Solution: {sol}.')\n",
    "print(f'\\nCmax: {Cmax}')\n",
    "print(\"\\nElapsed time: \", elapsed_time, \"seconds\")\n",
    "\n",
    "ARTIFICIAL.append(\"%.3f\" % (deviation(Cmax, UB)))\n",
    "ARTIFICIAL.append(\" %.3fs\" % (elapsed_time))"
   ]
  },
  {
   "cell_type": "markdown",
   "id": "4eda136f-6c57-43b7-b576-1ec6c709cc21",
   "metadata": {
    "tags": []
   },
   "source": [
    "### 100 jobs 10 machines"
   ]
  },
  {
   "cell_type": "code",
   "execution_count": 49,
   "id": "f45b3a88-d74f-4748-85e7-c2e77627bee4",
   "metadata": {},
   "outputs": [],
   "source": [
    "instance_0 = np.array(instances_100_10[6])\n",
    "instance_0 = instance_0.T\n",
    "UB = 5599"
   ]
  },
  {
   "cell_type": "code",
   "execution_count": 50,
   "id": "2047cb95-1e77-4832-b2e8-e9ac19554518",
   "metadata": {},
   "outputs": [
    {
     "name": "stdout",
     "output_type": "stream",
     "text": [
      "Solution: [98, 94, 92, 77, 20, 50, 30, 99, 91, 19, 17, 49, 45, 71, 57, 69, 25, 36, 3, 35, 89, 16, 79, 65, 62, 63, 72, 95, 39, 56, 41, 82, 14, 42, 88, 27, 7, 67, 43, 76, 44, 31, 15, 32, 22, 1, 55, 47, 84, 90, 74, 12, 70, 24, 68, 61, 86, 97, 9, 21, 4, 38, 29, 18, 73, 40, 93, 81, 51, 34, 59, 0, 54, 28, 10, 52, 85, 58, 66, 23, 13, 26, 96, 33, 78, 87, 2, 46, 75, 5, 64, 8, 6, 48, 60, 83, 37, 11, 80, 53].\n",
      "\n",
      "Cmax: 5719.0\n",
      "\n",
      "Elapsed time:  12.799433469772339 seconds\n"
     ]
    }
   ],
   "source": [
    "# NEH Algorithm\n",
    "start_time = time.time()\n",
    "sol, Cmax = neh_algorithm(instance_0)\n",
    "elapsed_time = time.time() - start_time\n",
    "\n",
    "print(f'Solution: {sol}.')\n",
    "print(f'\\nCmax: {Cmax}')\n",
    "print(\"\\nElapsed time: \", elapsed_time, \"seconds\")\n",
    "\n",
    "NEH.append(\"%.3f\" % (deviation(Cmax, UB)))\n",
    "NEH.append(\" %.3fs\" % (elapsed_time))"
   ]
  },
  {
   "cell_type": "code",
   "execution_count": 51,
   "id": "2612777c-0207-46df-ac02-dda2eb0b53e1",
   "metadata": {},
   "outputs": [
    {
     "name": "stdout",
     "output_type": "stream",
     "text": [
      "Solution: [55, 63, 0, 32, 91, 12, 98, 36, 49, 92, 94, 97, 9, 28, 41, 19, 86, 50, 54, 39, 59, 71, 20, 43, 67, 17, 96, 81, 35, 3, 65, 15, 31, 25, 47, 10, 14, 1, 62, 61, 48, 88, 79, 23, 69, 73, 99, 58, 18, 30, 95, 52, 42, 40, 57, 4, 56, 72, 45, 70, 89, 82, 77, 93, 44, 34, 76, 66, 13, 51, 7, 85, 90, 22, 33, 24, 68, 21, 29, 64, 6, 38, 26, 78, 27, 87, 2, 8, 60, 5, 84, 80, 74, 83, 16, 37, 53, 46, 75, 11].\n",
      "\n",
      "Cmax: 5710.0\n",
      "\n",
      "Elapsed time:  296.2470271587372 seconds\n"
     ]
    }
   ],
   "source": [
    "# Greedy NEH Algorithm\n",
    "start_time = time.time()\n",
    "sol, Cmax = greedy_neh_algorithm(instance_0, 2, 1)\n",
    "elapsed_time = time.time() - start_time\n",
    "\n",
    "print(f'Solution: {sol}.')\n",
    "print(f'\\nCmax: {Cmax}')\n",
    "print(\"\\nElapsed time: \", elapsed_time, \"seconds\")\n",
    "\n",
    "GNEH.append(\"%.3f\" % (deviation(Cmax, UB)))\n",
    "GNEH.append(\" %.3fs\" % (elapsed_time))"
   ]
  },
  {
   "cell_type": "code",
   "execution_count": 52,
   "id": "7a66f227-4e05-4128-baca-45ffcd69dbc2",
   "metadata": {},
   "outputs": [
    {
     "name": "stdout",
     "output_type": "stream",
     "text": [
      "Solution: [55, 98, 66, 12, 0, 34, 54, 26, 63, 38, 32, 20, 67, 85, 23, 3, 7, 24, 4, 78, 36, 17, 82, 14, 49, 69, 95, 41, 42, 91, 39, 57, 15, 99, 65, 29, 45, 94, 19, 77, 50, 35, 81, 59, 92, 74, 25, 9, 97, 56, 60, 89, 22, 30, 79, 62, 27, 44, 70, 16, 71, 10, 48, 88, 40, 1, 96, 43, 90, 18, 47, 86, 93, 33, 73, 61, 31, 2, 8, 84, 72, 76, 68, 53, 51, 28, 58, 83, 21, 5, 80, 64, 37, 6, 13, 87, 52, 46, 75, 11].\n",
      "\n",
      "Cmax: 6315.0\n",
      "\n",
      "Elapsed time:  0.0 seconds\n"
     ]
    }
   ],
   "source": [
    "# Ham Heuristic\n",
    "start_time = time.time()\n",
    "sol, Cmax = ham_heuristic(instance_0)\n",
    "elapsed_time = time.time() - start_time\n",
    "\n",
    "print(f'Solution: {sol}.')\n",
    "print(f'\\nCmax: {Cmax}')\n",
    "print(\"\\nElapsed time: \", elapsed_time, \"seconds\")\n",
    "\n",
    "Ham.append(\"%.3f\" % (deviation(Cmax, UB)))\n",
    "Ham.append(\" %.3fs\" % (elapsed_time))"
   ]
  },
  {
   "cell_type": "code",
   "execution_count": 53,
   "id": "859a2b7f-0676-4a0d-bfa0-d851761ed845",
   "metadata": {},
   "outputs": [
    {
     "name": "stdout",
     "output_type": "stream",
     "text": [
      "Solution: [98, 34, 23, 75, 86, 73, 21, 55, 58, 40, 27, 0, 16, 76, 63, 12, 32, 10, 91, 3, 4, 2, 31, 95, 24, 82, 47, 29, 78, 7, 69, 70, 36, 94, 20, 71, 96, 49, 45, 65, 57, 88, 93, 35, 25, 99, 15, 60, 81, 33, 50, 59, 97, 19, 77, 74, 22, 79, 92, 39, 41, 62, 1, 37, 9, 68, 83, 67, 48, 30, 51, 84, 8, 17, 56, 26, 90, 89, 5, 54, 64, 13, 66, 42, 18, 14, 43, 80, 52, 61, 46, 6, 87, 53, 72, 38, 28, 11, 85, 44].\n",
      "\n",
      "Cmax: 6524.0\n",
      "\n",
      "Elapsed time:  0.003027200698852539 seconds\n"
     ]
    }
   ],
   "source": [
    "# Gupta Heuristic\n",
    "start_time = time.time()\n",
    "sol = gupta_heuristic(instance_0)\n",
    "Cmax = evaluate_sequence(sol, instance_0)\n",
    "elapsed_time = time.time() - start_time\n",
    "\n",
    "print(f'Solution: {sol}.')\n",
    "print(f'\\nCmax: {Cmax}')\n",
    "print(\"\\nElapsed time: \", elapsed_time, \"seconds\")\n",
    "\n",
    "Gupta.append(\"%.3f\" % (deviation(Cmax, UB)))\n",
    "Gupta.append(\" %.3fs\" % (elapsed_time))"
   ]
  },
  {
   "cell_type": "code",
   "execution_count": 54,
   "id": "8d27baa5-22c9-45ef-921e-791778930f02",
   "metadata": {},
   "outputs": [
    {
     "name": "stdout",
     "output_type": "stream",
     "text": [
      "Solution: [98, 20, 63, 49, 32, 82, 55, 3, 34, 7, 69, 36, 67, 94, 86, 54, 91, 95, 0, 10, 17, 99, 45, 65, 24, 12, 29, 96, 61, 39, 57, 19, 4, 44, 23, 13, 27, 77, 60, 15, 16, 41, 38, 25, 22, 52, 92, 78, 81, 88, 79, 40, 31, 33, 26, 73, 35, 70, 42, 66, 30, 14, 50, 2, 58, 47, 85, 21, 51, 97, 68, 89, 46, 18, 75, 93, 56, 8, 62, 71, 59, 48, 90, 28, 76, 74, 64, 1, 43, 9, 80, 5, 6, 37, 87, 53, 84, 72, 83, 11].\n",
      "\n",
      "Cmax: 6280.0\n",
      "\n",
      "Elapsed time:  0.003830432891845703 seconds\n"
     ]
    }
   ],
   "source": [
    "# Palmer Heuristic\n",
    "start_time = time.time()\n",
    "sol = palmer_heuristic(instance_0)\n",
    "Cmax = evaluate_sequence(sol, instance_0)\n",
    "elapsed_time = time.time() - start_time\n",
    "\n",
    "print(f'Solution: {sol}.')\n",
    "print(f'\\nCmax: {Cmax}')\n",
    "print(\"\\nElapsed time: \", elapsed_time, \"seconds\")\n",
    "\n",
    "Palmer.append(\"%.3f\" % (deviation(Cmax, UB)))\n",
    "Palmer.append(\" %.3fs\" % (elapsed_time))"
   ]
  },
  {
   "cell_type": "code",
   "execution_count": 55,
   "id": "4591f9d8-0d7d-4e4e-81db-2bca64092290",
   "metadata": {},
   "outputs": [
    {
     "name": "stdout",
     "output_type": "stream",
     "text": [
      "Solution: [0, 34, 52, 63, 12, 13, 55, 98, 23, 38, 67, 7, 4, 20, 82, 54, 32, 86, 91, 96, 39, 10, 49, 24, 44, 3, 36, 14, 41, 17, 69, 95, 30, 79, 22, 57, 45, 60, 25, 94, 65, 99, 29, 19, 77, 35, 50, 81, 59, 92, 89, 56, 97, 42, 62, 15, 40, 71, 74, 88, 9, 1, 18, 47, 93, 70, 43, 27, 61, 84, 16, 90, 72, 48, 28, 33, 78, 2, 68, 83, 8, 26, 87, 31, 37, 85, 80, 64, 73, 46, 76, 51, 53, 66, 58, 5, 6, 21, 75, 11].\n",
      "\n",
      "Cmax: 6201.0\n",
      "\n",
      "Elapsed time:  0.024932146072387695 seconds\n"
     ]
    }
   ],
   "source": [
    "# CDS Heuristic\n",
    "start_time = time.time()\n",
    "sol, Cmax = CDS_heuristic(instance_0)\n",
    "elapsed_time = time.time() - start_time\n",
    "\n",
    "print(f'Solution: {sol}.')\n",
    "print(f'\\nCmax: {Cmax}')\n",
    "print(\"\\nElapsed time: \", elapsed_time, \"seconds\")\n",
    "\n",
    "CDS.append(\"%.3f\" % (deviation(Cmax, UB)))\n",
    "CDS.append(\" %.3fs\" % (elapsed_time))"
   ]
  },
  {
   "cell_type": "code",
   "execution_count": 56,
   "id": "5a905c9b-e520-4611-8f22-ba374daaa2b6",
   "metadata": {},
   "outputs": [
    {
     "name": "stdout",
     "output_type": "stream",
     "text": [
      "Solution: [89, 35, 29, 81, 94, 77, 9, 16, 72, 92, 74, 71, 56, 40, 84, 93, 91, 99, 62, 50, 59, 1, 83, 43, 76, 42, 97, 44, 19, 95, 39, 30, 32, 15, 22, 49, 36, 20, 65, 45, 28, 14, 67, 25, 18, 17, 57, 79, 73, 47, 90, 86, 87, 61, 10, 60, 69, 27, 3, 63, 7, 48, 54, 80, 70, 8, 41, 68, 96, 5, 58, 88, 2, 82, 23, 53, 33, 6, 37, 46, 64, 31, 0, 4, 21, 24, 98, 38, 78, 11, 26, 34, 85, 12, 66, 55, 13, 51, 75, 52].\n",
      "\n",
      "Cmax: 6696.0\n",
      "\n",
      "Elapsed time:  0.0 seconds\n"
     ]
    }
   ],
   "source": [
    "# PKSE Heuristic\n",
    "start_time = time.time()\n",
    "sol, Cmax = PRSKE_heuristic(instance_0)\n",
    "elapsed_time = time.time() - start_time\n",
    "\n",
    "print(f'Solution: {sol}.')\n",
    "print(f'\\nCmax: {Cmax}')\n",
    "print(\"\\nElapsed time: \", elapsed_time, \"seconds\")\n",
    "\n",
    "PRSKE.append(\"%.3f\" % (deviation(Cmax, UB)))\n",
    "PRSKE.append(\" %.3fs\" % (elapsed_time))"
   ]
  },
  {
   "cell_type": "code",
   "execution_count": 57,
   "id": "e80b6013-4d24-4d6a-b334-6dff4c9590d1",
   "metadata": {},
   "outputs": [
    {
     "name": "stdout",
     "output_type": "stream",
     "text": [
      "Solution: [55, 98, 34, 63, 12, 13, 0, 82, 54, 61, 4, 67, 20, 38, 7, 32, 23, 24, 3, 86, 49, 36, 69, 96, 39, 10, 17, 91, 41, 44, 65, 95, 27, 94, 99, 15, 45, 57, 60, 19, 29, 77, 35, 81, 50, 59, 89, 97, 25, 92, 16, 22, 79, 30, 56, 71, 74, 88, 14, 62, 18, 1, 9, 33, 93, 42, 40, 70, 31, 73, 68, 76, 8, 90, 48, 43, 28, 47, 2, 84, 78, 80, 83, 72, 58, 85, 26, 21, 51, 37, 64, 6, 46, 53, 87, 5, 66, 52, 75, 11].\n",
      "\n",
      "Cmax: 6229.0\n",
      "\n",
      "Elapsed time:  0.03738665580749512 seconds\n"
     ]
    }
   ],
   "source": [
    "# Artificial_heuristic Heuristic\n",
    "start_time = time.time()\n",
    "sol, Cmax = artificial_heuristic(instance_0)\n",
    "elapsed_time = time.time() - start_time\n",
    "\n",
    "print(f'Solution: {sol}.')\n",
    "print(f'\\nCmax: {Cmax}')\n",
    "print(\"\\nElapsed time: \", elapsed_time, \"seconds\")\n",
    "\n",
    "ARTIFICIAL.append(\"%.3f\" % (deviation(Cmax, UB)))\n",
    "ARTIFICIAL.append(\" %.3fs\" % (elapsed_time))"
   ]
  },
  {
   "cell_type": "markdown",
   "id": "5b310329",
   "metadata": {},
   "source": [
    "### Results"
   ]
  },
  {
   "cell_type": "code",
   "execution_count": 58,
   "id": "7a92d9ef-63e3-4c48-9b79-874e5dc070a2",
   "metadata": {},
   "outputs": [],
   "source": [
    "df_1.loc[0]=NEH\n",
    "df_1.loc[1]=GNEH\n",
    "df_1.loc[2]=Ham\n",
    "df_1.loc[3]=Gupta\n",
    "df_1.loc[4]=Palmer\n",
    "df_1.loc[5]=CDS\n",
    "df_1.loc[6]=PRSKE\n",
    "df_1.loc[7]=ARTIFICIAL"
   ]
  },
  {
   "cell_type": "code",
   "execution_count": 59,
   "id": "99b06c05",
   "metadata": {},
   "outputs": [
    {
     "data": {
      "text/html": [
       "<div>\n",
       "<style scoped>\n",
       "    .dataframe tbody tr th:only-of-type {\n",
       "        vertical-align: middle;\n",
       "    }\n",
       "\n",
       "    .dataframe tbody tr th {\n",
       "        vertical-align: top;\n",
       "    }\n",
       "\n",
       "    .dataframe thead th {\n",
       "        text-align: right;\n",
       "    }\n",
       "</style>\n",
       "<table border=\"1\" class=\"dataframe\">\n",
       "  <thead>\n",
       "    <tr style=\"text-align: right;\">\n",
       "      <th></th>\n",
       "      <th>Heuristic</th>\n",
       "      <th>20-5 (Deviation)</th>\n",
       "      <th>20-5 (Time)</th>\n",
       "      <th>50-10 (Deviation)</th>\n",
       "      <th>50-10 (Time)</th>\n",
       "      <th>100-10 (Deviation)</th>\n",
       "      <th>100-10 (Time)</th>\n",
       "    </tr>\n",
       "  </thead>\n",
       "  <tbody>\n",
       "    <tr>\n",
       "      <th>0</th>\n",
       "      <td>NEH</td>\n",
       "      <td>3.632</td>\n",
       "      <td>0.034s</td>\n",
       "      <td>5.278</td>\n",
       "      <td>1.735s</td>\n",
       "      <td>2.143</td>\n",
       "      <td>12.799s</td>\n",
       "    </tr>\n",
       "    <tr>\n",
       "      <th>1</th>\n",
       "      <td>Greedy NEH</td>\n",
       "      <td>1.453</td>\n",
       "      <td>1.892s</td>\n",
       "      <td>5.343</td>\n",
       "      <td>21.663s</td>\n",
       "      <td>1.982</td>\n",
       "      <td>296.247s</td>\n",
       "    </tr>\n",
       "    <tr>\n",
       "      <th>2</th>\n",
       "      <td>Ham</td>\n",
       "      <td>7.667</td>\n",
       "      <td>0.006s</td>\n",
       "      <td>13.293</td>\n",
       "      <td>0.008s</td>\n",
       "      <td>12.788</td>\n",
       "      <td>0.000s</td>\n",
       "    </tr>\n",
       "    <tr>\n",
       "      <th>3</th>\n",
       "      <td>Gupta</td>\n",
       "      <td>12.187</td>\n",
       "      <td>0.002s</td>\n",
       "      <td>18.957</td>\n",
       "      <td>0.007s</td>\n",
       "      <td>16.521</td>\n",
       "      <td>0.003s</td>\n",
       "    </tr>\n",
       "    <tr>\n",
       "      <th>4</th>\n",
       "      <td>Palmer</td>\n",
       "      <td>9.766</td>\n",
       "      <td>0.004s</td>\n",
       "      <td>14.033</td>\n",
       "      <td>0.012s</td>\n",
       "      <td>12.163</td>\n",
       "      <td>0.004s</td>\n",
       "    </tr>\n",
       "    <tr>\n",
       "      <th>5</th>\n",
       "      <td>CDS</td>\n",
       "      <td>12.429</td>\n",
       "      <td>0.005s</td>\n",
       "      <td>13.293</td>\n",
       "      <td>0.048s</td>\n",
       "      <td>10.752</td>\n",
       "      <td>0.025s</td>\n",
       "    </tr>\n",
       "    <tr>\n",
       "      <th>6</th>\n",
       "      <td>PRSKE</td>\n",
       "      <td>32.042</td>\n",
       "      <td>0.001s</td>\n",
       "      <td>22.433</td>\n",
       "      <td>0.010s</td>\n",
       "      <td>19.593</td>\n",
       "      <td>0.000s</td>\n",
       "    </tr>\n",
       "    <tr>\n",
       "      <th>7</th>\n",
       "      <td>Artificial Heuristic</td>\n",
       "      <td>12.429</td>\n",
       "      <td>0.004s</td>\n",
       "      <td>11.587</td>\n",
       "      <td>0.047s</td>\n",
       "      <td>11.252</td>\n",
       "      <td>0.037s</td>\n",
       "    </tr>\n",
       "  </tbody>\n",
       "</table>\n",
       "</div>"
      ],
      "text/plain": [
       "              Heuristic 20-5 (Deviation) 20-5 (Time) 50-10 (Deviation)  \\\n",
       "0                   NEH            3.632      0.034s             5.278   \n",
       "1            Greedy NEH            1.453      1.892s             5.343   \n",
       "2                   Ham            7.667      0.006s            13.293   \n",
       "3                 Gupta           12.187      0.002s            18.957   \n",
       "4                Palmer            9.766      0.004s            14.033   \n",
       "5                   CDS           12.429      0.005s            13.293   \n",
       "6                 PRSKE           32.042      0.001s            22.433   \n",
       "7  Artificial Heuristic           12.429      0.004s            11.587   \n",
       "\n",
       "  50-10 (Time) 100-10 (Deviation) 100-10 (Time)  \n",
       "0       1.735s              2.143       12.799s  \n",
       "1      21.663s              1.982      296.247s  \n",
       "2       0.008s             12.788        0.000s  \n",
       "3       0.007s             16.521        0.003s  \n",
       "4       0.012s             12.163        0.004s  \n",
       "5       0.048s             10.752        0.025s  \n",
       "6       0.010s             19.593        0.000s  \n",
       "7       0.047s             11.252        0.037s  "
      ]
     },
     "execution_count": 59,
     "metadata": {},
     "output_type": "execute_result"
    }
   ],
   "source": [
    "# Displaying the results that we have got for the seventh instance of each benchmark\n",
    "df_1"
   ]
  },
  {
   "cell_type": "markdown",
   "id": "13c54a47-6eaa-4457-adff-ea731f38beeb",
   "metadata": {},
   "source": [
    "## Tests on the 1st instance"
   ]
  },
  {
   "cell_type": "code",
   "execution_count": 60,
   "id": "ae82aceb-6f2b-4b2c-aecc-af970df9195f",
   "metadata": {},
   "outputs": [],
   "source": [
    "# Prepare a dataframe that will gather all our results\n",
    "df_0 = pd.DataFrame({'Heuristic': pd.Series(dtype='str'),\n",
    "                   '20-5 (Deviation)': pd.Series(dtype='str'),\n",
    "                   '20-5 (Time)': pd.Series(dtype='str'),\n",
    "                   '50-10 (Deviation)': pd.Series(dtype='str'),\n",
    "                   '50-10 (Time)': pd.Series(dtype='str'),\n",
    "                   '100-10 (Deviation)': pd.Series(dtype='str'),\n",
    "                   '100-10 (Time)': pd.Series(dtype='str'),\n",
    "                  }) "
   ]
  },
  {
   "cell_type": "code",
   "execution_count": 61,
   "id": "a7c79d65-817d-4016-9703-f0cc84e0c11a",
   "metadata": {},
   "outputs": [],
   "source": [
    "NEH = ['NEH']\n",
    "GNEH = ['Greedy NEH']\n",
    "Ham = ['Ham']\n",
    "Gupta = ['Gupta']\n",
    "Palmer = ['Palmer']\n",
    "CDS = ['CDS']\n",
    "PRSKE = ['PRSKE']\n",
    "ARTIFICIAL = ['Artificial Heuristic']"
   ]
  },
  {
   "cell_type": "markdown",
   "id": "e83752be-9d0f-4913-b3e0-564a8bbdcac6",
   "metadata": {
    "jp-MarkdownHeadingCollapsed": true,
    "tags": []
   },
   "source": [
    "### 20 jobs 5 machines"
   ]
  },
  {
   "cell_type": "code",
   "execution_count": 62,
   "id": "8710508f-481f-4a0a-9795-7ddb29d4e337",
   "metadata": {},
   "outputs": [],
   "source": [
    "instance_0 = np.array(instances_20_5[0])\n",
    "instance_0 = instance_0.T\n",
    "UB = 1278"
   ]
  },
  {
   "cell_type": "code",
   "execution_count": 63,
   "id": "4b58197f-80df-4375-b01e-3738dd297de5",
   "metadata": {},
   "outputs": [
    {
     "name": "stdout",
     "output_type": "stream",
     "text": [
      "Solution: [8, 6, 15, 10, 7, 1, 16, 2, 14, 13, 17, 3, 9, 11, 0, 18, 5, 4, 12, 19].\n",
      "\n",
      "Cmax: 1334.0\n",
      "\n",
      "Elapsed time:  0.02990436553955078 seconds\n"
     ]
    }
   ],
   "source": [
    "# NEH Algorithm\n",
    "start_time = time.time()\n",
    "sol, Cmax = neh_algorithm(instance_0)\n",
    "elapsed_time = time.time() - start_time\n",
    "\n",
    "print(f'Solution: {sol}.')\n",
    "print(f'\\nCmax: {Cmax}')\n",
    "print(\"\\nElapsed time: \", elapsed_time, \"seconds\")\n",
    "\n",
    "NEH.append(\"%.3f\" % (deviation(Cmax, UB)))\n",
    "NEH.append(\" %.3fs\" % (elapsed_time))"
   ]
  },
  {
   "cell_type": "code",
   "execution_count": 64,
   "id": "ec824f38-eaa0-405f-9d6f-f6aa0e0ba82f",
   "metadata": {},
   "outputs": [
    {
     "name": "stdout",
     "output_type": "stream",
     "text": [
      "Solution: [16, 8, 14, 3, 0, 10, 9, 7, 2, 17, 18, 6, 15, 5, 13, 4, 19, 11, 1, 12].\n",
      "\n",
      "Cmax: 1321.0\n",
      "\n",
      "Elapsed time:  0.33155059814453125 seconds\n"
     ]
    }
   ],
   "source": [
    "# Greedy NEH Algorithm\n",
    "start_time = time.time()\n",
    "sol, Cmax = greedy_neh_algorithm(instance_0, 5, 2)\n",
    "elapsed_time = time.time() - start_time\n",
    "\n",
    "print(f'Solution: {sol}.')\n",
    "print(f'\\nCmax: {Cmax}')\n",
    "print(\"\\nElapsed time: \", elapsed_time, \"seconds\")\n",
    "\n",
    "GNEH.append(\"%.3f\" % (deviation(Cmax, UB)))\n",
    "GNEH.append(\" %.3fs\" % (elapsed_time))"
   ]
  },
  {
   "cell_type": "code",
   "execution_count": 65,
   "id": "ac93ed5e-1d92-4126-b095-9645406787de",
   "metadata": {},
   "outputs": [
    {
     "name": "stdout",
     "output_type": "stream",
     "text": [
      "Solution: [2, 8, 16, 14, 18, 10, 1, 12, 15, 7, 13, 5, 0, 4, 9, 17, 3, 6, 19, 11].\n",
      "\n",
      "Cmax: 1417.0\n",
      "\n",
      "Elapsed time:  0.0 seconds\n"
     ]
    }
   ],
   "source": [
    "# Ham Heuristic\n",
    "start_time = time.time()\n",
    "sol, Cmax = ham_heuristic(instance_0)\n",
    "elapsed_time = time.time() - start_time\n",
    "\n",
    "print(f'Solution: {sol}.')\n",
    "print(f'\\nCmax: {Cmax}')\n",
    "print(\"\\nElapsed time: \", elapsed_time, \"seconds\")\n",
    "\n",
    "\n",
    "Ham.append(\"%.3f\" % (deviation(Cmax, UB)))\n",
    "Ham.append(\" %.3fs\" % (elapsed_time))"
   ]
  },
  {
   "cell_type": "code",
   "execution_count": 66,
   "id": "a75b1bbf-b9c1-4f3b-a410-93f4bed2397a",
   "metadata": {},
   "outputs": [
    {
     "name": "stdout",
     "output_type": "stream",
     "text": [
      "Solution: [10, 2, 8, 16, 14, 15, 7, 13, 0, 3, 18, 6, 4, 5, 9, 17, 1, 19, 12, 11].\n",
      "\n",
      "Cmax: 1396.0\n",
      "\n",
      "Elapsed time:  0.0 seconds\n"
     ]
    }
   ],
   "source": [
    "# Gupta Heuristic\n",
    "start_time = time.time()\n",
    "sol = gupta_heuristic(instance_0)\n",
    "Cmax = evaluate_sequence(sol, instance_0)\n",
    "elapsed_time = time.time() - start_time\n",
    "\n",
    "print(f'Solution: {sol}.')\n",
    "print(f'\\nCmax: {Cmax}')\n",
    "print(\"\\nElapsed time: \", elapsed_time, \"seconds\")\n",
    "\n",
    "Gupta.append(\"%.3f\" % (deviation(Cmax, UB)))\n",
    "Gupta.append(\" %.3fs\" % (elapsed_time))"
   ]
  },
  {
   "cell_type": "code",
   "execution_count": 67,
   "id": "10f492db-27b7-4f1f-9b03-b76bcbeb2b72",
   "metadata": {},
   "outputs": [
    {
     "name": "stdout",
     "output_type": "stream",
     "text": [
      "Solution: [8, 16, 10, 14, 2, 15, 18, 5, 13, 7, 1, 3, 0, 4, 12, 6, 11, 9, 17, 19].\n",
      "\n",
      "Cmax: 1384.0\n",
      "\n",
      "Elapsed time:  0.0 seconds\n"
     ]
    }
   ],
   "source": [
    "# Palmer Heuristic\n",
    "start_time = time.time()\n",
    "sol = palmer_heuristic(instance_0)\n",
    "Cmax = evaluate_sequence(sol, instance_0)\n",
    "elapsed_time = time.time() - start_time\n",
    "\n",
    "print(f'Solution: {sol}.')\n",
    "print(f'\\nCmax: {Cmax}')\n",
    "print(\"\\nElapsed time: \", elapsed_time, \"seconds\")\n",
    "\n",
    "Palmer.append(\"%.3f\" % (deviation(Cmax, UB)))\n",
    "Palmer.append(\" %.3fs\" % (elapsed_time))"
   ]
  },
  {
   "cell_type": "code",
   "execution_count": 68,
   "id": "b8bb2314-f86e-4e47-83d5-2390f5127d9f",
   "metadata": {},
   "outputs": [
    {
     "name": "stdout",
     "output_type": "stream",
     "text": [
      "Solution: [14, 2, 8, 13, 16, 7, 6, 0, 18, 3, 10, 15, 11, 1, 4, 5, 19, 17, 9, 12].\n",
      "\n",
      "Cmax: 1390.0\n",
      "\n",
      "Elapsed time:  0.003989696502685547 seconds\n"
     ]
    }
   ],
   "source": [
    "# CDS Heuristic\n",
    "start_time = time.time()\n",
    "sol, Cmax = CDS_heuristic(instance_0)\n",
    "elapsed_time = time.time() - start_time\n",
    "\n",
    "print(f'Solution: {sol}.')\n",
    "print(f'\\nCmax: {Cmax}')\n",
    "print(\"\\nElapsed time: \", elapsed_time, \"seconds\")\n",
    "\n",
    "CDS.append(\"%.3f\" % (deviation(Cmax, UB)))\n",
    "CDS.append(\" %.3fs\" % (elapsed_time))"
   ]
  },
  {
   "cell_type": "code",
   "execution_count": 69,
   "id": "14118fab-30e1-407a-8775-3bdd7ee8596c",
   "metadata": {},
   "outputs": [
    {
     "name": "stdout",
     "output_type": "stream",
     "text": [
      "Solution: [3, 17, 10, 1, 9, 11, 6, 4, 19, 15, 18, 5, 0, 12, 8, 13, 14, 7, 16, 2].\n",
      "\n",
      "Cmax: 1593.0\n",
      "\n",
      "Elapsed time:  0.0 seconds\n"
     ]
    }
   ],
   "source": [
    "# PKSE Heuristic\n",
    "start_time = time.time()\n",
    "sol, Cmax = PRSKE_heuristic(instance_0)\n",
    "elapsed_time = time.time() - start_time\n",
    "\n",
    "print(f'Solution: {sol}.')\n",
    "print(f'\\nCmax: {Cmax}')\n",
    "print(\"\\nElapsed time: \", elapsed_time, \"seconds\")\n",
    "\n",
    "PRSKE.append(\"%.3f\" % (deviation(Cmax, UB)))\n",
    "PRSKE.append(\" %.3fs\" % (elapsed_time))"
   ]
  },
  {
   "cell_type": "code",
   "execution_count": 70,
   "id": "83f96a53-063a-4c33-b3ef-4d538978d5bd",
   "metadata": {},
   "outputs": [
    {
     "name": "stdout",
     "output_type": "stream",
     "text": [
      "Solution: [2, 8, 14, 16, 13, 7, 18, 5, 10, 15, 1, 3, 4, 0, 11, 6, 17, 9, 19, 12].\n",
      "\n",
      "Cmax: 1367.0\n",
      "\n",
      "Elapsed time:  0.0 seconds\n"
     ]
    }
   ],
   "source": [
    "# Artificial_heuristic Heuristic\n",
    "start_time = time.time()\n",
    "sol, Cmax = artificial_heuristic(instance_0)\n",
    "elapsed_time = time.time() - start_time\n",
    "\n",
    "print(f'Solution: {sol}.')\n",
    "print(f'\\nCmax: {Cmax}')\n",
    "print(\"\\nElapsed time: \", elapsed_time, \"seconds\")\n",
    "\n",
    "ARTIFICIAL.append(\"%.3f\" % (deviation(Cmax, UB)))\n",
    "ARTIFICIAL.append(\" %.3fs\" % (elapsed_time))"
   ]
  },
  {
   "cell_type": "markdown",
   "id": "0e41aaa1-18f4-42a4-9049-590c92c8ba8a",
   "metadata": {
    "jp-MarkdownHeadingCollapsed": true,
    "tags": []
   },
   "source": [
    "### 50 jobs 10 machines"
   ]
  },
  {
   "cell_type": "code",
   "execution_count": 71,
   "id": "50e1a81f-f161-4ef3-8b66-48906b72df27",
   "metadata": {},
   "outputs": [],
   "source": [
    "instance_0 = np.array(instances_50_10[0])\n",
    "instance_0 = instance_0.T\n",
    "UB = 3025"
   ]
  },
  {
   "cell_type": "code",
   "execution_count": 72,
   "id": "9145f56a-da55-4e6d-ace3-06fe3b25a839",
   "metadata": {},
   "outputs": [
    {
     "name": "stdout",
     "output_type": "stream",
     "text": [
      "Solution: [19, 33, 30, 14, 35, 13, 41, 34, 9, 43, 32, 42, 24, 11, 39, 46, 17, 47, 12, 40, 37, 8, 4, 45, 28, 1, 2, 10, 44, 21, 5, 3, 48, 16, 31, 29, 25, 49, 23, 0, 15, 36, 7, 27, 6, 22, 20, 38, 26, 18].\n",
      "\n",
      "Cmax: 3229.0\n",
      "\n",
      "Elapsed time:  0.7297382354736328 seconds\n"
     ]
    }
   ],
   "source": [
    "# NEH Algorithm\n",
    "start_time = time.time()\n",
    "sol, Cmax = neh_algorithm(instance_0)\n",
    "elapsed_time = time.time() - start_time\n",
    "\n",
    "print(f'Solution: {sol}.')\n",
    "print(f'\\nCmax: {Cmax}')\n",
    "print(\"\\nElapsed time: \", elapsed_time, \"seconds\")\n",
    "\n",
    "NEH.append(\"%.3f\" % (deviation(Cmax, UB)))\n",
    "NEH.append(\" %.3fs\" % (elapsed_time))"
   ]
  },
  {
   "cell_type": "code",
   "execution_count": 73,
   "id": "cfa2531f-5db6-401b-aaa5-78f4e85dc295",
   "metadata": {},
   "outputs": [
    {
     "name": "stdout",
     "output_type": "stream",
     "text": [
      "Solution: [43, 32, 17, 24, 14, 39, 33, 2, 37, 1, 48, 42, 35, 16, 45, 10, 40, 12, 4, 9, 0, 28, 19, 47, 27, 13, 29, 11, 36, 7, 3, 31, 38, 49, 41, 34, 30, 22, 6, 25, 15, 5, 44, 46, 8, 20, 21, 18, 23, 26].\n",
      "\n",
      "Cmax: 3249.0\n",
      "\n",
      "Elapsed time:  10.7084481716156 seconds\n"
     ]
    }
   ],
   "source": [
    "# Greedy NEH Algorithm\n",
    "start_time = time.time()\n",
    "sol, Cmax = greedy_neh_algorithm(instance_0, 4, 1)\n",
    "elapsed_time = time.time() - start_time\n",
    "\n",
    "print(f'Solution: {sol}.')\n",
    "print(f'\\nCmax: {Cmax}')\n",
    "print(\"\\nElapsed time: \", elapsed_time, \"seconds\")\n",
    "\n",
    "GNEH.append(\"%.3f\" % (deviation(Cmax, UB)))\n",
    "GNEH.append(\" %.3fs\" % (elapsed_time))"
   ]
  },
  {
   "cell_type": "code",
   "execution_count": 74,
   "id": "a97e9d2b-23bb-4ad9-8bd2-f72ef7892758",
   "metadata": {},
   "outputs": [
    {
     "name": "stdout",
     "output_type": "stream",
     "text": [
      "Solution: [32, 41, 43, 23, 1, 19, 17, 24, 36, 30, 0, 29, 25, 13, 48, 42, 35, 9, 37, 5, 28, 46, 45, 2, 3, 12, 16, 14, 39, 8, 22, 10, 4, 27, 15, 11, 7, 44, 33, 20, 40, 31, 34, 18, 21, 6, 49, 47, 38, 26].\n",
      "\n",
      "Cmax: 3647.0\n",
      "\n",
      "Elapsed time:  0.002991914749145508 seconds\n"
     ]
    }
   ],
   "source": [
    "# Ham Heuristic\n",
    "start_time = time.time()\n",
    "sol, Cmax = ham_heuristic(instance_0)\n",
    "elapsed_time = time.time() - start_time\n",
    "\n",
    "print(f'Solution: {sol}.')\n",
    "print(f'\\nCmax: {Cmax}')\n",
    "print(\"\\nElapsed time: \", elapsed_time, \"seconds\")\n",
    "\n",
    "Ham.append(\"%.3f\" % (deviation(Cmax, UB)))\n",
    "Ham.append(\" %.3fs\" % (elapsed_time))"
   ]
  },
  {
   "cell_type": "code",
   "execution_count": 75,
   "id": "2fa72103-5777-4233-9b69-3854aae4e786",
   "metadata": {},
   "outputs": [
    {
     "name": "stdout",
     "output_type": "stream",
     "text": [
      "Solution: [32, 21, 41, 26, 28, 19, 24, 31, 17, 48, 40, 13, 36, 42, 10, 5, 27, 3, 15, 37, 35, 14, 45, 18, 39, 8, 22, 49, 2, 4, 7, 6, 34, 20, 9, 47, 11, 0, 16, 44, 12, 33, 46, 1, 29, 30, 25, 23, 43, 38].\n",
      "\n",
      "Cmax: 3627.0\n",
      "\n",
      "Elapsed time:  0.0029909610748291016 seconds\n"
     ]
    }
   ],
   "source": [
    "# Gupta Heuristic\n",
    "start_time = time.time()\n",
    "sol = gupta_heuristic(instance_0)\n",
    "Cmax = evaluate_sequence(sol, instance_0)\n",
    "elapsed_time = time.time() - start_time\n",
    "\n",
    "print(f'Solution: {sol}.')\n",
    "print(f'\\nCmax: {Cmax}')\n",
    "print(\"\\nElapsed time: \", elapsed_time, \"seconds\")\n",
    "\n",
    "Gupta.append(\"%.3f\" % (deviation(Cmax, UB)))\n",
    "Gupta.append(\" %.3fs\" % (elapsed_time))"
   ]
  },
  {
   "cell_type": "code",
   "execution_count": 76,
   "id": "9863801c-a1a9-44a3-8965-fa26957f8e6c",
   "metadata": {},
   "outputs": [
    {
     "name": "stdout",
     "output_type": "stream",
     "text": [
      "Solution: [19, 17, 32, 41, 35, 37, 13, 42, 14, 43, 1, 48, 28, 3, 30, 24, 36, 21, 33, 15, 2, 45, 27, 5, 29, 11, 12, 31, 40, 39, 6, 10, 9, 7, 46, 0, 16, 8, 18, 25, 22, 20, 4, 44, 34, 23, 47, 26, 49, 38].\n",
      "\n",
      "Cmax: 3415.0\n",
      "\n",
      "Elapsed time:  0.0059833526611328125 seconds\n"
     ]
    }
   ],
   "source": [
    "# Palmer Heuristic\n",
    "start_time = time.time()\n",
    "sol = palmer_heuristic(instance_0)\n",
    "Cmax = evaluate_sequence(sol, instance_0)\n",
    "elapsed_time = time.time() - start_time\n",
    "\n",
    "print(f'Solution: {sol}.')\n",
    "print(f'\\nCmax: {Cmax}')\n",
    "print(\"\\nElapsed time: \", elapsed_time, \"seconds\")\n",
    "\n",
    "Palmer.append(\"%.3f\" % (deviation(Cmax, UB)))\n",
    "Palmer.append(\" %.3fs\" % (elapsed_time))"
   ]
  },
  {
   "cell_type": "code",
   "execution_count": 77,
   "id": "5b04d97c-6803-4838-98dc-e8b6c965bacd",
   "metadata": {},
   "outputs": [
    {
     "name": "stdout",
     "output_type": "stream",
     "text": [
      "Solution: [17, 19, 36, 32, 24, 29, 48, 21, 43, 41, 30, 37, 28, 35, 11, 6, 13, 42, 1, 15, 33, 14, 3, 40, 27, 2, 22, 12, 39, 45, 7, 8, 4, 34, 16, 46, 31, 25, 10, 5, 9, 18, 20, 49, 47, 44, 0, 23, 26, 38].\n",
      "\n",
      "Cmax: 3421.0\n",
      "\n",
      "Elapsed time:  0.020940780639648438 seconds\n"
     ]
    }
   ],
   "source": [
    "# CDS Heuristic\n",
    "start_time = time.time()\n",
    "sol, Cmax = CDS_heuristic(instance_0)\n",
    "elapsed_time = time.time() - start_time\n",
    "\n",
    "print(f'Solution: {sol}.')\n",
    "print(f'\\nCmax: {Cmax}')\n",
    "print(\"\\nElapsed time: \", elapsed_time, \"seconds\")\n",
    "\n",
    "CDS.append(\"%.3f\" % (deviation(Cmax, UB)))\n",
    "CDS.append(\" %.3fs\" % (elapsed_time))"
   ]
  },
  {
   "cell_type": "code",
   "execution_count": 78,
   "id": "23f66d9e-4066-44ab-80cb-dfc2e1fcd6ff",
   "metadata": {},
   "outputs": [
    {
     "name": "stdout",
     "output_type": "stream",
     "text": [
      "Solution: [14, 49, 4, 8, 16, 12, 22, 1, 44, 15, 24, 42, 10, 37, 33, 35, 39, 21, 46, 45, 28, 27, 40, 2, 30, 20, 3, 19, 32, 18, 34, 11, 31, 13, 5, 17, 48, 23, 7, 29, 6, 9, 38, 25, 0, 47, 41, 36, 43, 26].\n",
      "\n",
      "Cmax: 3900.0\n",
      "\n",
      "Elapsed time:  0.005984783172607422 seconds\n"
     ]
    }
   ],
   "source": [
    "# PKSE Heuristic\n",
    "start_time = time.time()\n",
    "sol, Cmax = PRSKE_heuristic(instance_0)\n",
    "elapsed_time = time.time() - start_time\n",
    "\n",
    "print(f'Solution: {sol}.')\n",
    "print(f'\\nCmax: {Cmax}')\n",
    "print(\"\\nElapsed time: \", elapsed_time, \"seconds\")\n",
    "\n",
    "PRSKE.append(\"%.3f\" % (deviation(Cmax, UB)))\n",
    "PRSKE.append(\" %.3fs\" % (elapsed_time))"
   ]
  },
  {
   "cell_type": "code",
   "execution_count": 79,
   "id": "491923d8-f46c-4cb5-ac58-d300d436b00e",
   "metadata": {},
   "outputs": [
    {
     "name": "stdout",
     "output_type": "stream",
     "text": [
      "Solution: [41, 17, 43, 32, 19, 29, 36, 35, 48, 21, 24, 13, 33, 30, 28, 42, 37, 1, 3, 14, 2, 15, 45, 27, 8, 39, 22, 10, 16, 4, 12, 46, 9, 5, 11, 40, 31, 44, 20, 7, 25, 34, 6, 49, 18, 0, 47, 23, 38, 26].\n",
      "\n",
      "Cmax: 3461.0\n",
      "\n",
      "Elapsed time:  0.025282621383666992 seconds\n"
     ]
    }
   ],
   "source": [
    "# Artificial_heuristic Heuristic\n",
    "start_time = time.time()\n",
    "sol, Cmax = artificial_heuristic(instance_0)\n",
    "elapsed_time = time.time() - start_time\n",
    "\n",
    "print(f'Solution: {sol}.')\n",
    "print(f'\\nCmax: {Cmax}')\n",
    "print(\"\\nElapsed time: \", elapsed_time, \"seconds\")\n",
    "\n",
    "ARTIFICIAL.append(\"%.3f\" % (deviation(Cmax, UB)))\n",
    "ARTIFICIAL.append(\" %.3fs\" % (elapsed_time))"
   ]
  },
  {
   "cell_type": "markdown",
   "id": "f0beddef-1836-4900-bb86-fa2147e37895",
   "metadata": {
    "jp-MarkdownHeadingCollapsed": true,
    "tags": []
   },
   "source": [
    "### 100 jobs 10 machines"
   ]
  },
  {
   "cell_type": "code",
   "execution_count": 80,
   "id": "bbae3194-4d2a-4621-9c97-62250cd6cff2",
   "metadata": {},
   "outputs": [],
   "source": [
    "instance_0 = np.array(instances_100_10[0])\n",
    "instance_0 = instance_0.T\n",
    "UB = 5770"
   ]
  },
  {
   "cell_type": "code",
   "execution_count": 81,
   "id": "22f48a06-70c1-47ba-a192-c4e599ef8d53",
   "metadata": {},
   "outputs": [
    {
     "name": "stdout",
     "output_type": "stream",
     "text": [
      "Solution: [69, 5, 75, 79, 26, 19, 33, 6, 3, 97, 40, 66, 84, 72, 80, 85, 32, 95, 30, 24, 65, 83, 18, 0, 45, 8, 20, 31, 50, 94, 59, 38, 9, 34, 16, 90, 61, 86, 78, 41, 28, 87, 96, 7, 10, 63, 92, 27, 81, 76, 1, 4, 64, 57, 14, 73, 52, 17, 42, 70, 51, 68, 47, 23, 89, 46, 35, 43, 98, 77, 60, 55, 13, 91, 21, 67, 56, 15, 48, 37, 82, 99, 22, 88, 12, 25, 49, 44, 93, 54, 2, 71, 36, 39, 62, 29, 74, 53, 58, 11].\n",
      "\n",
      "Cmax: 6062.0\n",
      "\n",
      "Elapsed time:  6.391362428665161 seconds\n"
     ]
    }
   ],
   "source": [
    "# NEH Algorithm\n",
    "start_time = time.time()\n",
    "sol, Cmax = neh_algorithm(instance_0)\n",
    "elapsed_time = time.time() - start_time\n",
    "\n",
    "print(f'Solution: {sol}.')\n",
    "print(f'\\nCmax: {Cmax}')\n",
    "print(\"\\nElapsed time: \", elapsed_time, \"seconds\")\n",
    "\n",
    "NEH.append(\"%.3f\" % (deviation(Cmax, UB)))\n",
    "NEH.append(\" %.3fs\" % (elapsed_time))"
   ]
  },
  {
   "cell_type": "code",
   "execution_count": 84,
   "id": "2dd93ff3-2304-4d4d-bc84-11bc7c365cab",
   "metadata": {},
   "outputs": [
    {
     "name": "stdout",
     "output_type": "stream",
     "text": [
      "Solution: [76, 4, 57, 19, 43, 60, 34, 96, 24, 95, 69, 14, 75, 46, 65, 35, 59, 80, 94, 30, 66, 28, 16, 48, 1, 92, 20, 81, 90, 7, 50, 0, 82, 85, 40, 99, 10, 8, 78, 49, 31, 6, 84, 38, 72, 91, 21, 64, 9, 68, 79, 33, 93, 37, 61, 5, 54, 97, 88, 17, 47, 23, 45, 77, 18, 63, 15, 42, 32, 53, 22, 3, 70, 13, 26, 56, 67, 51, 27, 36, 44, 62, 83, 41, 39, 12, 87, 86, 29, 73, 74, 89, 52, 25, 55, 98, 58, 2, 71, 11].\n",
      "\n",
      "Cmax: 5894.0\n",
      "\n",
      "Elapsed time:  157.97121906280518 seconds\n"
     ]
    }
   ],
   "source": [
    "# Greedy NEH Algorithm\n",
    "start_time = time.time()\n",
    "sol, Cmax = greedy_neh_algorithm(instance_0, 4,1)\n",
    "elapsed_time = time.time() - start_time\n",
    "\n",
    "print(f'Solution: {sol}.')\n",
    "print(f'\\nCmax: {Cmax}')\n",
    "print(\"\\nElapsed time: \", elapsed_time, \"seconds\")\n",
    "\n",
    "GNEH.append(\"%.3f\" % (deviation(Cmax, UB)))\n",
    "GNEH.append(\" %.3fs\" % (elapsed_time))"
   ]
  },
  {
   "cell_type": "code",
   "execution_count": 85,
   "id": "505e1acc-1037-4fec-adcd-89d339f788a7",
   "metadata": {},
   "outputs": [
    {
     "name": "stdout",
     "output_type": "stream",
     "text": [
      "Solution: [69, 43, 57, 60, 4, 20, 63, 92, 26, 51, 14, 76, 19, 38, 42, 30, 95, 86, 1, 90, 59, 34, 64, 16, 83, 49, 94, 82, 88, 61, 32, 33, 48, 80, 23, 7, 37, 40, 41, 5, 66, 78, 87, 79, 54, 56, 96, 91, 0, 21, 65, 22, 75, 3, 67, 24, 84, 31, 9, 13, 74, 47, 8, 10, 18, 72, 45, 97, 55, 46, 89, 17, 85, 70, 15, 2, 50, 53, 6, 98, 99, 93, 52, 27, 68, 28, 73, 77, 81, 62, 25, 12, 44, 29, 35, 58, 71, 36, 11, 39].\n",
      "\n",
      "Cmax: 6255.0\n",
      "\n",
      "Elapsed time:  0.003989696502685547 seconds\n"
     ]
    }
   ],
   "source": [
    "# Ham Heuristic\n",
    "start_time = time.time()\n",
    "sol, Cmax = ham_heuristic(instance_0)\n",
    "elapsed_time = time.time() - start_time\n",
    "\n",
    "print(f'Solution: {sol}.')\n",
    "print(f'\\nCmax: {Cmax}')\n",
    "print(\"\\nElapsed time: \", elapsed_time, \"seconds\")\n",
    "\n",
    "Ham.append(\"%.3f\" % (deviation(Cmax, UB)))\n",
    "Ham.append(\" %.3fs\" % (elapsed_time))"
   ]
  },
  {
   "cell_type": "code",
   "execution_count": 86,
   "id": "c869878a-52f5-468e-b1fa-e248d54affcb",
   "metadata": {},
   "outputs": [
    {
     "name": "stdout",
     "output_type": "stream",
     "text": [
      "Solution: [36, 60, 34, 57, 92, 41, 14, 35, 48, 13, 50, 42, 69, 73, 30, 46, 59, 76, 27, 38, 68, 56, 23, 45, 55, 16, 86, 82, 88, 95, 33, 78, 72, 19, 61, 94, 66, 84, 7, 96, 5, 65, 79, 91, 54, 21, 0, 87, 31, 40, 10, 9, 67, 93, 80, 3, 53, 70, 22, 18, 52, 90, 8, 15, 75, 28, 77, 89, 24, 17, 64, 85, 32, 49, 47, 99, 62, 98, 6, 97, 83, 37, 1, 44, 81, 58, 74, 2, 4, 29, 39, 12, 25, 71, 43, 63, 20, 26, 11, 51].\n",
      "\n",
      "Cmax: 6499.0\n",
      "\n",
      "Elapsed time:  0.011967897415161133 seconds\n"
     ]
    }
   ],
   "source": [
    "# Gupta Heuristic\n",
    "start_time = time.time()\n",
    "sol = gupta_heuristic(instance_0)\n",
    "Cmax = evaluate_sequence(sol, instance_0)\n",
    "elapsed_time = time.time() - start_time\n",
    "\n",
    "print(f'Solution: {sol}.')\n",
    "print(f'\\nCmax: {Cmax}')\n",
    "print(\"\\nElapsed time: \", elapsed_time, \"seconds\")\n",
    "\n",
    "Gupta.append(\"%.3f\" % (deviation(Cmax, UB)))\n",
    "Gupta.append(\" %.3fs\" % (elapsed_time))"
   ]
  },
  {
   "cell_type": "code",
   "execution_count": 87,
   "id": "996bf290-8878-44c0-a6ac-62ec856a22de",
   "metadata": {},
   "outputs": [
    {
     "name": "stdout",
     "output_type": "stream",
     "text": [
      "Solution: [57, 69, 19, 43, 60, 63, 34, 14, 38, 30, 20, 59, 92, 5, 95, 56, 4, 94, 41, 1, 76, 79, 83, 82, 33, 48, 23, 66, 91, 96, 88, 16, 0, 80, 86, 54, 13, 64, 42, 78, 51, 61, 21, 7, 40, 84, 55, 32, 37, 46, 50, 72, 49, 97, 44, 75, 26, 10, 87, 65, 27, 9, 35, 17, 6, 18, 73, 89, 24, 3, 28, 31, 81, 90, 45, 85, 67, 15, 8, 62, 36, 93, 47, 98, 22, 52, 70, 53, 12, 77, 71, 99, 68, 2, 58, 74, 39, 11, 25, 29].\n",
      "\n",
      "Cmax: 6028.0\n",
      "\n",
      "Elapsed time:  0.006982088088989258 seconds\n"
     ]
    }
   ],
   "source": [
    "# Palmer Heuristic\n",
    "start_time = time.time()\n",
    "sol = palmer_heuristic(instance_0)\n",
    "Cmax = evaluate_sequence(sol, instance_0)\n",
    "elapsed_time = time.time() - start_time\n",
    "\n",
    "print(f'Solution: {sol}.')\n",
    "print(f'\\nCmax: {Cmax}')\n",
    "print(\"\\nElapsed time: \", elapsed_time, \"seconds\")\n",
    "\n",
    "Palmer.append(\"%.3f\" % (deviation(Cmax, UB)))\n",
    "Palmer.append(\" %.3fs\" % (elapsed_time))"
   ]
  },
  {
   "cell_type": "code",
   "execution_count": 88,
   "id": "b99afe10-3498-4b96-8cd1-4f4c9f3789b1",
   "metadata": {},
   "outputs": [
    {
     "name": "stdout",
     "output_type": "stream",
     "text": [
      "Solution: [60, 34, 14, 20, 57, 59, 38, 56, 55, 69, 44, 16, 95, 43, 76, 90, 84, 63, 32, 19, 50, 5, 41, 88, 62, 46, 79, 80, 4, 40, 82, 30, 61, 78, 86, 23, 91, 94, 17, 48, 92, 96, 10, 1, 21, 81, 87, 33, 83, 6, 54, 45, 0, 13, 65, 15, 89, 97, 75, 85, 73, 31, 3, 18, 7, 35, 72, 37, 64, 9, 68, 24, 77, 51, 70, 67, 12, 93, 66, 8, 53, 26, 22, 52, 27, 28, 36, 49, 47, 42, 39, 99, 98, 74, 58, 2, 29, 71, 25, 11].\n",
      "\n",
      "Cmax: 6209.0\n",
      "\n",
      "Elapsed time:  0.045876264572143555 seconds\n"
     ]
    }
   ],
   "source": [
    "# CDS Heuristic\n",
    "start_time = time.time()\n",
    "sol, Cmax = CDS_heuristic(instance_0)\n",
    "elapsed_time = time.time() - start_time\n",
    "\n",
    "print(f'Solution: {sol}.')\n",
    "print(f'\\nCmax: {Cmax}')\n",
    "print(\"\\nElapsed time: \", elapsed_time, \"seconds\")\n",
    "\n",
    "CDS.append(\"%.3f\" % (deviation(Cmax, UB)))\n",
    "CDS.append(\" %.3fs\" % (elapsed_time))"
   ]
  },
  {
   "cell_type": "code",
   "execution_count": 89,
   "id": "3da180d8-9b43-48a9-a9d0-013ebf0d6f8a",
   "metadata": {},
   "outputs": [
    {
     "name": "stdout",
     "output_type": "stream",
     "text": [
      "Solution: [22, 56, 74, 65, 67, 91, 21, 75, 83, 72, 15, 41, 45, 96, 13, 97, 34, 17, 24, 0, 23, 5, 84, 47, 66, 6, 89, 50, 2, 3, 64, 19, 7, 40, 32, 38, 31, 70, 81, 9, 1, 8, 29, 18, 51, 37, 87, 10, 12, 94, 49, 80, 48, 85, 46, 62, 30, 78, 92, 33, 79, 88, 59, 98, 55, 93, 61, 77, 4, 68, 99, 90, 52, 73, 54, 27, 26, 25, 82, 69, 35, 95, 63, 53, 42, 16, 20, 28, 60, 86, 58, 14, 43, 71, 39, 76, 44, 11, 57, 36].\n",
      "\n",
      "Cmax: 7093.0\n",
      "\n",
      "Elapsed time:  0.010969877243041992 seconds\n"
     ]
    }
   ],
   "source": [
    "# PKSE Heuristic\n",
    "start_time = time.time()\n",
    "sol, Cmax = PRSKE_heuristic(instance_0)\n",
    "elapsed_time = time.time() - start_time\n",
    "\n",
    "print(f'Solution: {sol}.')\n",
    "print(f'\\nCmax: {Cmax}')\n",
    "print(\"\\nElapsed time: \", elapsed_time, \"seconds\")\n",
    "\n",
    "PRSKE.append(\"%.3f\" % (deviation(Cmax, UB)))\n",
    "PRSKE.append(\" %.3fs\" % (elapsed_time))"
   ]
  },
  {
   "cell_type": "code",
   "execution_count": 90,
   "id": "de5c237e-7e42-4f52-bead-b3a19f1e00a1",
   "metadata": {},
   "outputs": [
    {
     "name": "stdout",
     "output_type": "stream",
     "text": [
      "Solution: [60, 14, 20, 34, 57, 69, 59, 44, 56, 19, 38, 55, 76, 43, 16, 84, 95, 30, 66, 63, 79, 86, 92, 4, 41, 61, 23, 82, 5, 96, 48, 46, 35, 88, 33, 50, 80, 72, 78, 94, 91, 83, 54, 21, 7, 1, 0, 97, 13, 65, 15, 6, 89, 75, 85, 17, 45, 18, 87, 10, 73, 31, 81, 40, 3, 12, 64, 37, 9, 32, 51, 8, 70, 62, 68, 93, 24, 67, 22, 26, 77, 52, 53, 42, 28, 98, 90, 27, 47, 49, 99, 36, 29, 74, 2, 58, 39, 71, 25, 11].\n",
      "\n",
      "Cmax: 6207.0\n",
      "\n",
      "Elapsed time:  0.06781697273254395 seconds\n"
     ]
    }
   ],
   "source": [
    "# Artificial_heuristic Heuristic\n",
    "start_time = time.time()\n",
    "sol, Cmax = artificial_heuristic(instance_0)\n",
    "elapsed_time = time.time() - start_time\n",
    "\n",
    "print(f'Solution: {sol}.')\n",
    "print(f'\\nCmax: {Cmax}')\n",
    "print(\"\\nElapsed time: \", elapsed_time, \"seconds\")\n",
    "\n",
    "ARTIFICIAL.append(\"%.3f\" % (deviation(Cmax, UB)))\n",
    "ARTIFICIAL.append(\" %.3fs\" % (elapsed_time))"
   ]
  },
  {
   "cell_type": "markdown",
   "id": "8bb50aad-22dd-4ff0-aac1-dab2b063db63",
   "metadata": {
    "tags": []
   },
   "source": [
    "### Results"
   ]
  },
  {
   "cell_type": "code",
   "execution_count": 93,
   "id": "54e59e8e-c1b5-4116-a67a-d4c1340a1d47",
   "metadata": {},
   "outputs": [],
   "source": [
    "df_0.loc[0]=NEH\n",
    "df_0.loc[1]=GNEH\n",
    "df_0.loc[2]=Ham\n",
    "df_0.loc[3]=Gupta\n",
    "df_0.loc[4]=Palmer\n",
    "df_0.loc[5]=CDS\n",
    "df_0.loc[6]=PRSKE\n",
    "df_0.loc[7]=ARTIFICIAL"
   ]
  },
  {
   "cell_type": "code",
   "execution_count": 94,
   "id": "521809e3-f5e2-4496-8032-8718407bf906",
   "metadata": {},
   "outputs": [
    {
     "data": {
      "text/html": [
       "<div>\n",
       "<style scoped>\n",
       "    .dataframe tbody tr th:only-of-type {\n",
       "        vertical-align: middle;\n",
       "    }\n",
       "\n",
       "    .dataframe tbody tr th {\n",
       "        vertical-align: top;\n",
       "    }\n",
       "\n",
       "    .dataframe thead th {\n",
       "        text-align: right;\n",
       "    }\n",
       "</style>\n",
       "<table border=\"1\" class=\"dataframe\">\n",
       "  <thead>\n",
       "    <tr style=\"text-align: right;\">\n",
       "      <th></th>\n",
       "      <th>Heuristic</th>\n",
       "      <th>20-5 (Deviation)</th>\n",
       "      <th>20-5 (Time)</th>\n",
       "      <th>50-10 (Deviation)</th>\n",
       "      <th>50-10 (Time)</th>\n",
       "      <th>100-10 (Deviation)</th>\n",
       "      <th>100-10 (Time)</th>\n",
       "    </tr>\n",
       "  </thead>\n",
       "  <tbody>\n",
       "    <tr>\n",
       "      <th>0</th>\n",
       "      <td>NEH</td>\n",
       "      <td>4.382</td>\n",
       "      <td>0.030s</td>\n",
       "      <td>6.744</td>\n",
       "      <td>0.730s</td>\n",
       "      <td>5.061</td>\n",
       "      <td>6.391s</td>\n",
       "    </tr>\n",
       "    <tr>\n",
       "      <th>1</th>\n",
       "      <td>Greedy NEH</td>\n",
       "      <td>3.365</td>\n",
       "      <td>0.332s</td>\n",
       "      <td>7.405</td>\n",
       "      <td>10.708s</td>\n",
       "      <td>2.149</td>\n",
       "      <td>157.971s</td>\n",
       "    </tr>\n",
       "    <tr>\n",
       "      <th>2</th>\n",
       "      <td>Ham</td>\n",
       "      <td>10.876</td>\n",
       "      <td>0.000s</td>\n",
       "      <td>20.562</td>\n",
       "      <td>0.003s</td>\n",
       "      <td>8.406</td>\n",
       "      <td>0.004s</td>\n",
       "    </tr>\n",
       "    <tr>\n",
       "      <th>3</th>\n",
       "      <td>Gupta</td>\n",
       "      <td>9.233</td>\n",
       "      <td>0.000s</td>\n",
       "      <td>19.901</td>\n",
       "      <td>0.003s</td>\n",
       "      <td>12.634</td>\n",
       "      <td>0.012s</td>\n",
       "    </tr>\n",
       "    <tr>\n",
       "      <th>4</th>\n",
       "      <td>Palmer</td>\n",
       "      <td>8.294</td>\n",
       "      <td>0.000s</td>\n",
       "      <td>12.893</td>\n",
       "      <td>0.006s</td>\n",
       "      <td>4.471</td>\n",
       "      <td>0.007s</td>\n",
       "    </tr>\n",
       "    <tr>\n",
       "      <th>5</th>\n",
       "      <td>CDS</td>\n",
       "      <td>8.764</td>\n",
       "      <td>0.004s</td>\n",
       "      <td>13.091</td>\n",
       "      <td>0.021s</td>\n",
       "      <td>7.608</td>\n",
       "      <td>0.046s</td>\n",
       "    </tr>\n",
       "    <tr>\n",
       "      <th>6</th>\n",
       "      <td>PRSKE</td>\n",
       "      <td>24.648</td>\n",
       "      <td>0.000s</td>\n",
       "      <td>28.926</td>\n",
       "      <td>0.006s</td>\n",
       "      <td>22.929</td>\n",
       "      <td>0.011s</td>\n",
       "    </tr>\n",
       "    <tr>\n",
       "      <th>7</th>\n",
       "      <td>Artificial Heuristic</td>\n",
       "      <td>6.964</td>\n",
       "      <td>0.000s</td>\n",
       "      <td>14.413</td>\n",
       "      <td>0.025s</td>\n",
       "      <td>7.574</td>\n",
       "      <td>0.068s</td>\n",
       "    </tr>\n",
       "  </tbody>\n",
       "</table>\n",
       "</div>"
      ],
      "text/plain": [
       "              Heuristic 20-5 (Deviation) 20-5 (Time) 50-10 (Deviation)  \\\n",
       "0                   NEH            4.382      0.030s             6.744   \n",
       "1            Greedy NEH            3.365      0.332s             7.405   \n",
       "2                   Ham           10.876      0.000s            20.562   \n",
       "3                 Gupta            9.233      0.000s            19.901   \n",
       "4                Palmer            8.294      0.000s            12.893   \n",
       "5                   CDS            8.764      0.004s            13.091   \n",
       "6                 PRSKE           24.648      0.000s            28.926   \n",
       "7  Artificial Heuristic            6.964      0.000s            14.413   \n",
       "\n",
       "  50-10 (Time) 100-10 (Deviation) 100-10 (Time)  \n",
       "0       0.730s              5.061        6.391s  \n",
       "1      10.708s              2.149      157.971s  \n",
       "2       0.003s              8.406        0.004s  \n",
       "3       0.003s             12.634        0.012s  \n",
       "4       0.006s              4.471        0.007s  \n",
       "5       0.021s              7.608        0.046s  \n",
       "6       0.006s             22.929        0.011s  \n",
       "7       0.025s              7.574        0.068s  "
      ]
     },
     "execution_count": 94,
     "metadata": {},
     "output_type": "execute_result"
    }
   ],
   "source": [
    "# Displaying the results that we have got for the first instance of each benchmark\n",
    "df_0"
   ]
  }
 ],
 "metadata": {
  "kernelspec": {
   "display_name": "Python 3 (ipykernel)",
   "language": "python",
   "name": "python3"
  },
  "language_info": {
   "codemirror_mode": {
    "name": "ipython",
    "version": 3
   },
   "file_extension": ".py",
   "mimetype": "text/x-python",
   "name": "python",
   "nbconvert_exporter": "python",
   "pygments_lexer": "ipython3",
   "version": "3.10.9"
  }
 },
 "nbformat": 4,
 "nbformat_minor": 5
}
