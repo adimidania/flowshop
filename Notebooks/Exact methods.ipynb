{
 "cells": [
  {
   "cell_type": "markdown",
   "id": "23a51b08",
   "metadata": {},
   "source": [
    "# Exhaustive search - Flowshop problem"
   ]
  },
  {
   "cell_type": "markdown",
   "id": "1d9c5ea6",
   "metadata": {
    "tags": []
   },
   "source": [
    "This notebook contains a hands-on the flowshop problem. We will focus on implementing the exact methods to solve this problem. These methods guarantee to find the optimal solution for our problem. Note that some heuristics such as NEH are also being implemented in order to initialize the best makespan.\n",
    "\n",
    "### Table of content\n",
    "- [Brute force](#Brute-force)\n",
    "- [Heuristics](#Heuristics)\n",
    "- [Branch & Bound](#Branch-&-Bound)\n",
    "- [Tests](#Tests)\n",
    "   \n",
    "\n",
    "\n",
    "### References\n",
    "- [Finding an Optimal Sequence in the Flowshop Scheduling Using Johnson’s Algorithm](https://ijiset.com/vol2/v2s1/IJISET_V2_I1_50.pdf)\n",
    "- [Benchmarks for Basic Scheduling Problems](http://mistic.heig-vd.ch/taillard/articles.dir/Taillard1993EJOR.pdf)"
   ]
  },
  {
   "cell_type": "code",
   "execution_count": 25,
   "id": "a14487ae",
   "metadata": {},
   "outputs": [],
   "source": [
    "import numpy as np\n",
    "import matplotlib as plt\n",
    "import itertools\n",
    "import time\n",
    "import math"
   ]
  },
  {
   "cell_type": "markdown",
   "id": "c70c0db4",
   "metadata": {},
   "source": [
    "# Brute force"
   ]
  },
  {
   "cell_type": "code",
   "execution_count": 2,
   "id": "51ec15bb",
   "metadata": {},
   "outputs": [],
   "source": [
    "def all_permutations(iterable):\n",
    "    permutations = list(itertools.permutations(iterable))\n",
    "    permutations_as_lists = [list(p) for p in permutations]\n",
    "    return permutations_as_lists"
   ]
  },
  {
   "cell_type": "code",
   "execution_count": 3,
   "id": "bf4ec211",
   "metadata": {},
   "outputs": [],
   "source": [
    "def evaluate_sequence(sequence, processing_times):\n",
    "    _, num_machines = processing_times.shape\n",
    "    num_jobs = len(sequence)\n",
    "    completion_times = np.zeros((num_jobs, num_machines))\n",
    "    \n",
    "    # Calculate the completion times for the first machine\n",
    "    completion_times[0][0] = processing_times[sequence[0]][0]\n",
    "    for i in range(1, num_jobs):\n",
    "        completion_times[i][0] = completion_times[i-1][0] + processing_times[sequence[i]][0]\n",
    "    \n",
    "    # Calculate the completion times for the remaining machines\n",
    "    for j in range(1, num_machines):\n",
    "        completion_times[0][j] = completion_times[0][j-1] + processing_times[sequence[0]][j]\n",
    "        for i in range(1, num_jobs):\n",
    "            completion_times[i][j] = max(completion_times[i-1][j], completion_times[i][j-1]) + processing_times[sequence[i]][j]\n",
    "    \n",
    "    # Return the total completion time, which is the completion time of the last job in the last machine\n",
    "    return completion_times[num_jobs-1][num_machines-1]"
   ]
  },
  {
   "cell_type": "code",
   "execution_count": 4,
   "id": "646baf38",
   "metadata": {},
   "outputs": [],
   "source": [
    "def brute_force(processing_times, permutations):\n",
    "    M = float('inf')\n",
    "    sol = []\n",
    "    for permutation in permutations:\n",
    "        m = evaluate_sequence(permutation, processing_times)\n",
    "        if m < M:\n",
    "            M = m\n",
    "            sol = permutation\n",
    "    return sol, M"
   ]
  },
  {
   "cell_type": "markdown",
   "id": "0bdab97e",
   "metadata": {
    "tags": []
   },
   "source": [
    "# Heuristics"
   ]
  },
  {
   "cell_type": "markdown",
   "id": "eb839016-95af-4c9b-b23c-3d8398ee5ccb",
   "metadata": {},
   "source": [
    "## NEH Algorithm"
   ]
  },
  {
   "cell_type": "code",
   "execution_count": 5,
   "id": "07f43b4e",
   "metadata": {},
   "outputs": [],
   "source": [
    "def order_jobs_in_descending_order_of_total_completion_time(processing_times):\n",
    "    total_completion_time = processing_times.sum(axis=1)\n",
    "    return np.argsort(total_completion_time, axis=0).tolist()"
   ]
  },
  {
   "cell_type": "code",
   "execution_count": 6,
   "id": "2dff1614",
   "metadata": {},
   "outputs": [],
   "source": [
    "def insertion(sequence, position, value):\n",
    "    new_seq = sequence[:]\n",
    "    new_seq.insert(position, value)\n",
    "    return new_seq"
   ]
  },
  {
   "cell_type": "code",
   "execution_count": 7,
   "id": "72c7b39a",
   "metadata": {},
   "outputs": [],
   "source": [
    "def neh_algorithm(processing_times):\n",
    "    ordered_sequence = order_jobs_in_descending_order_of_total_completion_time(processing_times)\n",
    "    # Define the initial order\n",
    "    J1, J2 = ordered_sequence[:2]\n",
    "    sequence = [J1, J2] if evaluate_sequence([J1, J2], processing_times) < evaluate_sequence([J2, J1], processing_times) else [J2, J1]\n",
    "    del ordered_sequence[:2]\n",
    "    # Add remaining jobs\n",
    "    for job in ordered_sequence:\n",
    "        Cmax = float('inf')\n",
    "        best_sequence = []\n",
    "        for i in range(len(sequence)+1):\n",
    "            new_sequence = insertion(sequence, i, job)\n",
    "            Cmax_eval = evaluate_sequence(new_sequence, processing_times)\n",
    "            if Cmax_eval < Cmax:\n",
    "                Cmax = Cmax_eval\n",
    "                best_sequence = new_sequence\n",
    "        sequence = best_sequence\n",
    "    return sequence, Cmax"
   ]
  },
  {
   "cell_type": "markdown",
   "id": "1d09c8ba",
   "metadata": {},
   "source": [
    "## Johnson Algorithm"
   ]
  },
  {
   "cell_type": "code",
   "execution_count": 8,
   "id": "8e7518ba",
   "metadata": {},
   "outputs": [],
   "source": [
    "def johnson_method(processing_times):\n",
    "    jobs, machines = processing_times.shape\n",
    "    copy_processing_times = processing_times.copy()\n",
    "    maximum = processing_times.max() + 1\n",
    "    m1 = []\n",
    "    m2 = []\n",
    "    \n",
    "    if machines != 2:\n",
    "        raise Exception(\"Johson method only works with two machines\")\n",
    "        \n",
    "    for i in range(jobs):\n",
    "        minimum = copy_processing_times.min()\n",
    "        position = np.where(copy_processing_times == minimum)\n",
    "        \n",
    "        if position[1][0] == 0:\n",
    "            m1.append(position[0][0])\n",
    "        else:\n",
    "            m2.insert(0, position[0][0])\n",
    "        \n",
    "        copy_processing_times[position[0][0]] = maximum\n",
    "        \n",
    "    return m1+m2"
   ]
  },
  {
   "cell_type": "markdown",
   "id": "5305d103",
   "metadata": {},
   "source": [
    "### Tests"
   ]
  },
  {
   "cell_type": "code",
   "execution_count": 9,
   "id": "eea7148c",
   "metadata": {},
   "outputs": [
    {
     "name": "stdout",
     "output_type": "stream",
     "text": [
      "[[ 5 18]\n",
      " [13 11]\n",
      " [ 9 20]\n",
      " [15  6]\n",
      " [ 9 10]\n",
      " [18 17]\n",
      " [20  7]] \n",
      "\n",
      "Best sequence found by Johnson is [0, 2, 4, 5, 1, 6, 3] with a makespan of 95.0\n",
      "Elapsed time: 0.0 seconds\n"
     ]
    }
   ],
   "source": [
    "# Generate a random example to work with 7 jobs and 2 machines\n",
    "rnd_data = np.random.randint(size=(7,2), low=5, high=23)\n",
    "print(rnd_data, \"\\n\")\n",
    "\n",
    "start_time = time.time()\n",
    "sol = johnson_method(rnd_data)\n",
    "elapsed_time = time.time() - start_time\n",
    "\n",
    "print(f'Best sequence found by Johnson is {sol} with a makespan of {evaluate_sequence(sol, rnd_data)}')\n",
    "print(\"Elapsed time:\", elapsed_time, \"seconds\")"
   ]
  },
  {
   "cell_type": "code",
   "execution_count": 10,
   "id": "cdb22439",
   "metadata": {},
   "outputs": [
    {
     "name": "stdout",
     "output_type": "stream",
     "text": [
      "[[ 5 18]\n",
      " [13 11]\n",
      " [ 9 20]\n",
      " [15  6]\n",
      " [ 9 10]\n",
      " [18 17]\n",
      " [20  7]] \n",
      "\n",
      "Best sequence found by Brute Force [0, 1, 2, 4, 5, 6, 3] with a makespan of 95.0\n",
      "Elapsed time: 0.4567866325378418 seconds\n"
     ]
    }
   ],
   "source": [
    "init_jobs = 7\n",
    "init_job_list = list(range(init_jobs))\n",
    "print(rnd_data, \"\\n\")\n",
    "\n",
    "start_time = time.time()\n",
    "sequence_list = all_permutations(init_job_list)\n",
    "sol, M = brute_force(rnd_data, sequence_list)\n",
    "elapsed_time = time.time() - start_time\n",
    "\n",
    "print(f'Best sequence found by Brute Force {sol} with a makespan of {M}')\n",
    "print(\"Elapsed time:\", elapsed_time, \"seconds\")"
   ]
  },
  {
   "cell_type": "markdown",
   "id": "44f15289",
   "metadata": {},
   "source": [
    "# Branch & Bound"
   ]
  },
  {
   "cell_type": "markdown",
   "id": "0a4b10ba",
   "metadata": {},
   "source": [
    "- Branch & Bound.\n",
    "- Branch & Bound pure."
   ]
  },
  {
   "cell_type": "code",
   "execution_count": 11,
   "id": "06006686",
   "metadata": {},
   "outputs": [],
   "source": [
    "# Define the Node structure of the seach tree that we will be using\n",
    "class Node:\n",
    "    def __init__(self, jobs, remaining_jobs, parent=None, lower_bound=1e100):\n",
    "        self.jobs = jobs\n",
    "        self.remaining_jobs = remaining_jobs\n",
    "        self.parent = parent\n",
    "        self.lower_bound = lower_bound\n",
    "    def __str__(self):\n",
    "        return f\"Node(jobs={self.jobs}, remaining_jobs={self.remaining_jobs}, lower_bound={self.lower_bound})\""
   ]
  },
  {
   "cell_type": "markdown",
   "id": "a7a8b730-7528-449c-9a29-7ab73d7529f4",
   "metadata": {},
   "source": [
    "## Branch & Bound"
   ]
  },
  {
   "cell_type": "code",
   "execution_count": 17,
   "id": "3e7ce5b3-7bcf-4698-a3e2-3c60c99b741c",
   "metadata": {},
   "outputs": [],
   "source": [
    "def branch_and_bound(processing_times, initial_solution, initial_cost):\n",
    "    jobs, machines = processing_times.shape\n",
    "    # Initialize the nodes list to the `root_node`\n",
    "    root_node = Node([], set(range(jobs)))\n",
    "    best_solution = initial_solution.copy()\n",
    "    best_solution_cost = initial_cost\n",
    "    nodes = [root_node]\n",
    "    i = 1\n",
    "    while nodes:\n",
    "        node = nodes.pop()\n",
    "        # Explore neighbours of the node `node`\n",
    "        for job in node.remaining_jobs:\n",
    "            child_jobs = node.jobs + [job]\n",
    "            child_remaining_jobs = node.remaining_jobs - {job}\n",
    "            child_lower_bound = evaluate_sequence(child_jobs, processing_times)\n",
    "            # If the child node is a leaf node (i.e., all jobs have been assigned) then calculate its cost\n",
    "            if not child_remaining_jobs:\n",
    "                if child_lower_bound < best_solution_cost:\n",
    "                    best_solution = child_jobs\n",
    "                    best_solution_cost = child_lower_bound   \n",
    "                    continue\n",
    "            # If the child node is not a leaf then calculate its lower bound and compare it with current `best_solution_cost`\n",
    "            if child_lower_bound < best_solution_cost:\n",
    "                child_node = Node(child_jobs, child_remaining_jobs, parent=node, lower_bound=child_lower_bound)\n",
    "                nodes.append(child_node)\n",
    "        i += 1\n",
    "    return best_solution, best_solution_cost, i"
   ]
  },
  {
   "cell_type": "markdown",
   "id": "a88f2773",
   "metadata": {},
   "source": [
    "## Branch & Bound pure"
   ]
  },
  {
   "cell_type": "code",
   "execution_count": 12,
   "id": "e8ed32b5",
   "metadata": {},
   "outputs": [],
   "source": [
    "def branch_and_bound_pure(processing_times,initial_solution, initial_cost):\n",
    "    jobs, machines = processing_times.shape\n",
    "    # Initialize the nodes list to the `root_node`\n",
    "    root_node = Node([], set(range(jobs)))\n",
    "    best_solution = initial_solution.copy()\n",
    "    best_solution_cost = initial_cost\n",
    "    nodes = [root_node]\n",
    "    i = 1\n",
    "    while nodes:\n",
    "        node = nodes.pop()\n",
    "        # Explore neighbours of the node `node`\n",
    "        for job in node.remaining_jobs:\n",
    "            child_jobs = node.jobs + [job]\n",
    "            child_remaining_jobs = node.remaining_jobs - {job}\n",
    "            # If the child node is a leaf node (i.e., all jobs have been assigned) then calculate its cost\n",
    "            if not child_remaining_jobs:\n",
    "                child_lower_bound = evaluate_sequence(child_jobs, processing_times)\n",
    "                if child_lower_bound < best_solution_cost:\n",
    "                    best_solution = child_jobs\n",
    "                    best_solution_cost = child_lower_bound   \n",
    "                    continue\n",
    "            else:\n",
    "                # If the child node is not a leaf then calculate its lower bound and compare it with current `best_solution_cost`\n",
    "                child_lower_bound = evaluate_sequence(child_jobs, processing_times)\n",
    "                child_node = Node(child_jobs, child_remaining_jobs, parent=node, lower_bound=child_lower_bound)\n",
    "                nodes.append(child_node)\n",
    "        i += 1\n",
    "    return best_solution, best_solution_cost, i"
   ]
  },
  {
   "cell_type": "markdown",
   "id": "869e95b5",
   "metadata": {
    "tags": []
   },
   "source": [
    "# Tests"
   ]
  },
  {
   "cell_type": "markdown",
   "id": "9b112eca-7cbd-4572-b75c-9e090eb7ea4c",
   "metadata": {},
   "source": [
    "## Random instance"
   ]
  },
  {
   "cell_type": "code",
   "execution_count": 37,
   "id": "933a24ac",
   "metadata": {},
   "outputs": [
    {
     "name": "stdout",
     "output_type": "stream",
     "text": [
      "[[35 49 46 11 44]\n",
      " [39 47 49 45 11]\n",
      " [38 35 22 36 28]\n",
      " [38 14 17 27 13]\n",
      " [48 17 11 42 39]\n",
      " [10 48 36 27 41]\n",
      " [42 18 24 21 23]\n",
      " [23 30 44 12 32]] \n",
      "\n"
     ]
    }
   ],
   "source": [
    "rnd_data = np.random.randint(size=(8,5), low=10, high=50)\n",
    "print(rnd_data, \"\\n\")"
   ]
  },
  {
   "cell_type": "code",
   "execution_count": 38,
   "id": "14340ee0",
   "metadata": {},
   "outputs": [
    {
     "name": "stdout",
     "output_type": "stream",
     "text": [
      "Results of Branch & Bound pure:\n",
      "Best sequence is [7, 5, 4, 1, 0, 2, 6, 3] with a makespan of 384.0.\n",
      "No. Nodes visited is 69282.\n",
      "Elapsed time of 15.603382110595703 seconds.\n"
     ]
    }
   ],
   "source": [
    "initial_solution = [i for i in range(8)]\n",
    "initial_cost = evaluate_sequence(initial_solution, rnd_data)\n",
    "\n",
    "start_time = time.time()\n",
    "best_solution, best_cost, i = branch_and_bound_pure(rnd_data, initial_solution, initial_cost)\n",
    "elapsed_time = time.time() - start_time\n",
    "\n",
    "print(f'Results of Branch & Bound pure:')\n",
    "print(f'Best sequence is {best_solution} with a makespan of {best_cost}.')\n",
    "print(f'No. Nodes visited is {i}.')\n",
    "print(f'Elapsed time of {elapsed_time} seconds.')"
   ]
  },
  {
   "cell_type": "code",
   "execution_count": 39,
   "id": "193f0331-0489-4a2c-9c81-97d600f33f86",
   "metadata": {},
   "outputs": [
    {
     "name": "stdout",
     "output_type": "stream",
     "text": [
      "Results of Branch & Bound:\n",
      "Best sequence is [7, 5, 4, 1, 0, 2, 6, 3] with a makespan of 384.0.\n",
      "No. Nodes visited is 26817.\n",
      "Elapsed time of 8.128053426742554 seconds.\n"
     ]
    }
   ],
   "source": [
    "initial_solution = [i for i in range(8)]\n",
    "initial_cost = evaluate_sequence(initial_solution, rnd_data)\n",
    "\n",
    "start_time = time.time()\n",
    "best_solution, best_cost, i = branch_and_bound(rnd_data, initial_solution, initial_cost)\n",
    "elapsed_time = time.time() - start_time\n",
    "\n",
    "print(f'Results of Branch & Bound:')\n",
    "print(f'Best sequence is {best_solution} with a makespan of {best_cost}.')\n",
    "print(f'No. Nodes visited is {i}.')\n",
    "print(f'Elapsed time of {elapsed_time} seconds.')"
   ]
  },
  {
   "cell_type": "code",
   "execution_count": 43,
   "id": "5870bc3e-2204-44e8-8b60-f9212b433e47",
   "metadata": {},
   "outputs": [
    {
     "name": "stdout",
     "output_type": "stream",
     "text": [
      "Results of Branch & Bound (with NEH Initialization):\n",
      "Best sequence is [5, 7, 4, 1, 0, 2, 6, 3] with a makespan of 384.0.\n",
      "No. Nodes visited is 26444.\n",
      "Elapsed time of 7.4751317501068115 seconds.\n"
     ]
    }
   ],
   "source": [
    "initial_solution, initial_cost = neh_algorithm(rnd_data)\n",
    "\n",
    "start_time = time.time()\n",
    "best_solution, best_cost, i = branch_and_bound(rnd_data, initial_solution, initial_cost)\n",
    "elapsed_time = time.time() - start_time\n",
    "\n",
    "print(f'Results of Branch & Bound (with NEH Initialization):')\n",
    "print(f'Best sequence is {best_solution} with a makespan of {best_cost}.')\n",
    "print(f'No. Nodes visited is {i}.')\n",
    "print(f'Elapsed time of {elapsed_time} seconds.')"
   ]
  },
  {
   "cell_type": "code",
   "execution_count": 40,
   "id": "7e72b792-15e6-4368-a496-a9fef6ac757e",
   "metadata": {},
   "outputs": [
    {
     "name": "stdout",
     "output_type": "stream",
     "text": [
      "Results of Brute Force:\n",
      "Best sequence is [5, 4, 7, 1, 0, 2, 6, 3] with a makespan of 384.0.\n",
      "No. of tested solutions 40320.\n",
      "Elapsed time of 6.222885847091675 seconds.\n"
     ]
    }
   ],
   "source": [
    "start_time = time.time()\n",
    "best_solution, best_cost = brute_force(rnd_data, all_permutations(range(8)))\n",
    "elapsed_time = time.time() - start_time\n",
    "\n",
    "print(f'Results of Brute Force:')\n",
    "print(f'Best sequence is {best_solution} with a makespan of {best_cost}.')\n",
    "print(f'No. of tested solutions {math.factorial(8)}.')\n",
    "print(f'Elapsed time of {elapsed_time} seconds.')"
   ]
  },
  {
   "cell_type": "markdown",
   "id": "b930a42d",
   "metadata": {},
   "source": [
    "## Common Instance"
   ]
  },
  {
   "cell_type": "code",
   "execution_count": 41,
   "id": "4bd1ac1c",
   "metadata": {},
   "outputs": [],
   "source": [
    "instance_common = np.array([\n",
    "    [71, 79, 85, 82, 83], \n",
    "    [84, 71, 66, 68, 81],\n",
    "    [78, 81, 75, 72, 87],\n",
    "    [78, 75, 66, 72, 88],\n",
    "    [72, 88, 83, 85, 88],\n",
    "    [86, 88, 79, 82, 78],\n",
    "    [75, 66, 86, 78, 78],\n",
    "    [80, 79, 66, 83, 78],\n",
    "    [73, 73, 67, 77, 71],\n",
    "    [80, 77, 83, 78, 67],\n",
    "])"
   ]
  },
  {
   "cell_type": "code",
   "execution_count": 42,
   "id": "a321fa13-0ada-4f1f-9c29-61bcac1075e3",
   "metadata": {},
   "outputs": [
    {
     "data": {
      "text/plain": [
       "(10, 5)"
      ]
     },
     "execution_count": 42,
     "metadata": {},
     "output_type": "execute_result"
    }
   ],
   "source": [
    "instance_common.shape"
   ]
  },
  {
   "cell_type": "code",
   "execution_count": 45,
   "id": "8b49a261-4d5e-4fa4-8644-481177b4122c",
   "metadata": {},
   "outputs": [
    {
     "name": "stdout",
     "output_type": "stream",
     "text": [
      "Results of Branch & Bound:\n",
      "Best sequence is [3, 2, 7, 6, 8, 0, 1, 4, 5, 9] with a makespan of 1102.0.\n",
      "No. Nodes visited is 6235278.\n",
      "Elapsed time of 1796.516449213028 seconds.\n"
     ]
    }
   ],
   "source": [
    "initial_solution = [i for i in range(10)]\n",
    "initial_cost = evaluate_sequence(initial_solution, instance_common)\n",
    "\n",
    "start_time = time.time()\n",
    "best_solution, best_cost, i = branch_and_bound(instance_common, initial_solution, initial_cost)\n",
    "elapsed_time = time.time() - start_time\n",
    "\n",
    "print(f'Results of Branch & Bound:')\n",
    "print(f'Best sequence is {best_solution} with a makespan of {best_cost}.')\n",
    "print(f'No. Nodes visited is {i}.')\n",
    "print(f'Elapsed time of {elapsed_time} seconds.')"
   ]
  }
 ],
 "metadata": {
  "kernelspec": {
   "display_name": "Python 3 (ipykernel)",
   "language": "python",
   "name": "python3"
  },
  "language_info": {
   "codemirror_mode": {
    "name": "ipython",
    "version": 3
   },
   "file_extension": ".py",
   "mimetype": "text/x-python",
   "name": "python",
   "nbconvert_exporter": "python",
   "pygments_lexer": "ipython3",
   "version": "3.10.9"
  }
 },
 "nbformat": 4,
 "nbformat_minor": 5
}
