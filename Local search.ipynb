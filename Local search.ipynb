{
 "cells": [
  {
   "cell_type": "markdown",
   "id": "77f27592-08b0-4dd6-80c3-0396c2a1fc08",
   "metadata": {},
   "source": [
    "# Local search - Flowshop problem"
   ]
  },
  {
   "cell_type": "markdown",
   "id": "44b0addf-4dcd-40c6-a31a-25f4e5003253",
   "metadata": {},
   "source": [
    "### About this notebook\n",
    "This notebook contains a hands-on the flowshop problem. We will focus on implementing some of the most known local search algorithms in order to solve this problem.\n",
    "\n",
    "### Used ressources\n",
    "- [Benchmarks for Basic Scheduling Problems](http://mistic.heig-vd.ch/taillard/articles.dir/Taillard1993EJOR.pdf)\n",
    "- [Implement Simulated annealing in Python](https://medium.com/swlh/how-to-implement-simulated-annealing-algorithm-in-python-ab196c2f56a0)\n",
    "- [Introduction to Hill Climbing](https://www.geeksforgeeks.org/introduction-hill-climbing-artificial-intelligence/)"
   ]
  },
  {
   "cell_type": "code",
   "execution_count": 1,
   "id": "605c8752-b209-4806-a627-f522d8bcd2c0",
   "metadata": {},
   "outputs": [],
   "source": [
    "import numpy as np\n",
    "import matplotlib as plt\n",
    "import itertools\n",
    "import time\n",
    "import pandas as pd\n",
    "import math\n",
    "import random"
   ]
  },
  {
   "cell_type": "code",
   "execution_count": 2,
   "id": "09fa172d-7df7-4b79-a5bd-5d15c06ab60a",
   "metadata": {},
   "outputs": [],
   "source": [
    "def evaluate_sequence(sequence, processing_times):\n",
    "    _, num_machines = processing_times.shape\n",
    "    num_jobs = len(sequence)\n",
    "    completion_times = np.zeros((num_jobs, num_machines))\n",
    "    \n",
    "    # Calculate the completion times for the first machine\n",
    "    completion_times[0][0] = processing_times[sequence[0]][0]\n",
    "    for i in range(1, num_jobs):\n",
    "        completion_times[i][0] = completion_times[i-1][0] + processing_times[sequence[i]][0]\n",
    "    \n",
    "    # Calculate the completion times for the remaining machines\n",
    "    for j in range(1, num_machines):\n",
    "        completion_times[0][j] = completion_times[0][j-1] + processing_times[sequence[0]][j]\n",
    "        for i in range(1, num_jobs):\n",
    "            completion_times[i][j] = max(completion_times[i-1][j], completion_times[i][j-1]) + processing_times[sequence[i]][j]\n",
    "    \n",
    "    # Return the total completion time, which is the completion time of the last job in the last machine\n",
    "    return completion_times[num_jobs-1][num_machines-1]"
   ]
  },
  {
   "cell_type": "code",
   "execution_count": 3,
   "id": "fe1ca7e2-b67c-4af6-be0c-0fc65c2a93b6",
   "metadata": {},
   "outputs": [
    {
     "name": "stdout",
     "output_type": "stream",
     "text": [
      "[[ 52  92  96  78  37  26   6   8 116 114]\n",
      " [ 92  74  78  92  19 101  82   6  92  66]\n",
      " [ 14  73  33 110  95  47  57  94  78  74]\n",
      " [ 21  32 112  61  71  11  42  20  52  72]\n",
      " [ 64  14  59  38  14  91  56  92  28   9]\n",
      " [  8  19  12  72  36 108 105 119  71  86]\n",
      " [  8 108  59  53 103  74  97  36  81 110]\n",
      " [ 13  63  84 100  25  62  48  45  18  37]\n",
      " [ 56  40  41  13  88  63  30   6  60  12]\n",
      " [114  92   5  27  73  90  13   8  54  98]\n",
      " [ 40  56  56  41  28  95  51  71  99  16]\n",
      " [111  19 103 118  66  73 116  96  89  68]\n",
      " [  8  61   9  78  44 111 115  14  97  76]\n",
      " [ 37  20  23  65  97  42  32  26  39  64]\n",
      " [ 47  54  56   9  34  57  78  81  80  20]] \n",
      "\n",
      "Initial solution: [3, 5, 2, 8, 1, 9, 6, 4, 7, 0] \n",
      "\n",
      "Makespan: 1457.0\n"
     ]
    }
   ],
   "source": [
    "# Generate a random example to work with 7 jobs and 2 machines\n",
    "rnd_data = np.random.randint(size=(15,10), low=5, high=120)\n",
    "permutation = np.random.permutation(10).tolist()\n",
    "print(rnd_data, \"\\n\")\n",
    "print('Initial solution:', permutation, \"\\n\")\n",
    "\n",
    "Cmax = evaluate_sequence(permutation, rnd_data)\n",
    "print(f'Makespan: {Cmax}')"
   ]
  },
  {
   "cell_type": "markdown",
   "id": "60015e82-6520-4d50-9db8-f6be4d8ad487",
   "metadata": {},
   "source": [
    "## Generating neighbours"
   ]
  },
  {
   "cell_type": "markdown",
   "id": "27b59d5c-3fd8-4157-b1f2-31779f2d0076",
   "metadata": {},
   "source": [
    "#### Swaping methods"
   ]
  },
  {
   "cell_type": "code",
   "execution_count": 4,
   "id": "e5db5838-9c99-450b-bc55-f8370c8f17fe",
   "metadata": {},
   "outputs": [],
   "source": [
    "def swap(solution, i, k):\n",
    "    temp = solution[k]\n",
    "    solution[k] = solution[i]\n",
    "    solution[i] = temp\n",
    "    return solution"
   ]
  },
  {
   "cell_type": "code",
   "execution_count": 5,
   "id": "12f5d601-043f-430e-8a87-8cd1a0c892fc",
   "metadata": {},
   "outputs": [],
   "source": [
    "def random_swap(solution, processing_times):\n",
    "    i = np.random.choice(list(solution))\n",
    "    k = np.random.choice(list(solution))\n",
    "    # Generating two different random positions\n",
    "    while (i == k):\n",
    "        k = np.random.choice(list(solution))\n",
    "    # Switch between job i and job k in the given sequence\n",
    "    neighbor = solution.copy()\n",
    "    return swap(neighbor, i, k), evaluate_sequence(neighbor, processing_times)"
   ]
  },
  {
   "cell_type": "code",
   "execution_count": 6,
   "id": "49aa10a6-2a2f-4d7e-9900-0f2ba56f74ec",
   "metadata": {},
   "outputs": [
    {
     "name": "stdout",
     "output_type": "stream",
     "text": [
      "Original solution:  [3, 5, 2, 8, 1, 9, 6, 4, 7, 0]\n",
      "Makespan:  1457.0\n",
      "\n",
      "Neighboor solution:  [3, 5, 2, 8, 4, 9, 6, 1, 7, 0]\n",
      "Makespan:  1463.0\n",
      "\n",
      "Elapsed time: 0.0 seconds\n"
     ]
    }
   ],
   "source": [
    "print(\"Original solution: \", permutation)\n",
    "print(\"Makespan: \", Cmax)\n",
    "\n",
    "start_time = time.time()\n",
    "neighbor, neighbor_cmax = random_swap(permutation, rnd_data)\n",
    "elapsed_time = time.time() - start_time\n",
    "\n",
    "print(\"\\nNeighboor solution: \", neighbor)\n",
    "print(\"Makespan: \", neighbor_cmax)\n",
    "print(\"\\nElapsed time:\", elapsed_time, \"seconds\")"
   ]
  },
  {
   "cell_type": "code",
   "execution_count": 7,
   "id": "4aab5d0b-26f4-4db2-83cb-59fa266f86bf",
   "metadata": {},
   "outputs": [],
   "source": [
    "def best_first_swap(solution, processing_times):\n",
    "    num_jobs = len(solution)\n",
    "    best_cmax = evaluate_sequence(solution, processing_times)\n",
    "    best_neighbor = solution.copy()\n",
    "    for k1 in range(num_jobs):\n",
    "        for k2 in range(k1+1, num_jobs):\n",
    "            neighbor = solution.copy()\n",
    "            neighbor = swap(neighbor,k1,k2)\n",
    "            cmax = evaluate_sequence(neighbor, processing_times)\n",
    "            if cmax < best_cmax:\n",
    "                best_neighbor = neighbor\n",
    "                best_cmax = cmax\n",
    "                return best_neighbor, best_cmax\n",
    "    return best_neighbor, best_cmax"
   ]
  },
  {
   "cell_type": "code",
   "execution_count": 8,
   "id": "62fe24a1-bd81-48b6-b423-3b7748a1562b",
   "metadata": {},
   "outputs": [
    {
     "name": "stdout",
     "output_type": "stream",
     "text": [
      "Original solution:  [3, 5, 2, 8, 1, 9, 6, 4, 7, 0]\n",
      "Makespan:  1457.0\n",
      "\n",
      "Neighboor solution:  [5, 3, 2, 8, 1, 9, 6, 4, 7, 0]\n",
      "Makespan:  1393.0\n",
      "\n",
      "Elapsed time: 0.0 seconds\n"
     ]
    }
   ],
   "source": [
    "print(\"Original solution: \", permutation)\n",
    "print(\"Makespan: \", Cmax)\n",
    "\n",
    "start_time = time.time()\n",
    "neighbor, neighbor_cmax = best_first_swap(permutation, rnd_data)\n",
    "elapsed_time = time.time() - start_time\n",
    "\n",
    "print(\"\\nNeighboor solution: \", neighbor)\n",
    "print(\"Makespan: \", neighbor_cmax)\n",
    "print(\"\\nElapsed time:\", elapsed_time, \"seconds\")"
   ]
  },
  {
   "cell_type": "code",
   "execution_count": 9,
   "id": "3400517d-4c62-4fc4-9f17-69ecdfea6e3f",
   "metadata": {},
   "outputs": [],
   "source": [
    "def best_swap(solution, processing_times):\n",
    "    num_jobs = len(solution)\n",
    "    best_cmax = np.Infinity\n",
    "    for k1 in range(num_jobs):\n",
    "        for k2 in range(k1+1, num_jobs):\n",
    "            neighbor = solution.copy()\n",
    "            neighbor = swap(neighbor,k1,k2)\n",
    "            cmax = evaluate_sequence(neighbor, processing_times)\n",
    "            if cmax < best_cmax:\n",
    "                best_neighbor = neighbor\n",
    "                best_cmax = cmax\n",
    "    return best_neighbor, best_cmax"
   ]
  },
  {
   "cell_type": "code",
   "execution_count": 10,
   "id": "004a9d57-13c3-4fff-bd92-5479cce13819",
   "metadata": {},
   "outputs": [
    {
     "name": "stdout",
     "output_type": "stream",
     "text": [
      "Original solution:  [3, 5, 2, 8, 1, 9, 6, 4, 7, 0]\n",
      "Makespan:  1457.0\n",
      "\n",
      "Neighboor solution:  [3, 5, 6, 8, 1, 9, 2, 4, 7, 0]\n",
      "Makespan:  1379.0\n",
      "\n",
      "Elapsed time: 0.009977102279663086 seconds\n"
     ]
    }
   ],
   "source": [
    "print(\"Original solution: \", permutation)\n",
    "print(\"Makespan: \", Cmax)\n",
    "\n",
    "start_time = time.time()\n",
    "neighbor, neighbor_cmax = best_swap(permutation, rnd_data)\n",
    "elapsed_time = time.time() - start_time\n",
    "\n",
    "print(\"\\nNeighboor solution: \", neighbor)\n",
    "print(\"Makespan: \", neighbor_cmax)\n",
    "print(\"\\nElapsed time:\", elapsed_time, \"seconds\")"
   ]
  },
  {
   "cell_type": "code",
   "execution_count": 11,
   "id": "ac539f4d-2c22-4cd1-bceb-4b2a628a43ac",
   "metadata": {
    "tags": []
   },
   "outputs": [],
   "source": [
    "def best_swaps(solution, processing_times):\n",
    "    num_jobs = len(solution)\n",
    "    cmax = evaluate_sequence(solution, processing_times)\n",
    "    bests = []\n",
    "    for k1 in range(num_jobs):\n",
    "        for k2 in range(k1+1, num_jobs):\n",
    "            neighbor = solution.copy()\n",
    "            swap(neighbor,k1,k2)\n",
    "            neighbor_cmax = evaluate_sequence(neighbor, processing_times)\n",
    "            if neighbor_cmax < cmax:\n",
    "                bests.append((neighbor, neighbor_cmax))\n",
    "    return bests"
   ]
  },
  {
   "cell_type": "code",
   "execution_count": 12,
   "id": "23d6fbc4-6ec6-4998-9c98-4c8ca3c52fbe",
   "metadata": {},
   "outputs": [
    {
     "name": "stdout",
     "output_type": "stream",
     "text": [
      "Original solution:  [3, 5, 2, 8, 1, 9, 6, 4, 7, 0]\n",
      "Makespan:  1457.0\n",
      "\n",
      "\n",
      "Neighboors: [([5, 3, 2, 8, 1, 9, 6, 4, 7, 0], 1393.0), ([2, 5, 3, 8, 1, 9, 6, 4, 7, 0], 1413.0), ([8, 5, 2, 3, 1, 9, 6, 4, 7, 0], 1385.0), ([4, 5, 2, 8, 1, 9, 6, 3, 7, 0], 1436.0), ([3, 8, 2, 5, 1, 9, 6, 4, 7, 0], 1456.0), ([3, 5, 8, 2, 1, 9, 6, 4, 7, 0], 1401.0), ([3, 5, 1, 8, 2, 9, 6, 4, 7, 0], 1409.0), ([3, 5, 9, 8, 1, 2, 6, 4, 7, 0], 1455.0), ([3, 5, 6, 8, 1, 9, 2, 4, 7, 0], 1379.0), ([3, 5, 4, 8, 1, 9, 6, 2, 7, 0], 1437.0), ([3, 5, 0, 8, 1, 9, 6, 4, 7, 2], 1400.0), ([3, 5, 2, 1, 8, 9, 6, 4, 7, 0], 1416.0), ([3, 5, 2, 9, 1, 8, 6, 4, 7, 0], 1442.0), ([3, 5, 2, 4, 1, 9, 6, 8, 7, 0], 1428.0), ([3, 5, 2, 7, 1, 9, 6, 4, 8, 0], 1447.0), ([3, 5, 2, 0, 1, 9, 6, 4, 7, 8], 1400.0), ([3, 5, 2, 8, 0, 9, 6, 4, 7, 1], 1448.0), ([3, 5, 2, 8, 1, 6, 9, 4, 7, 0], 1451.0), ([3, 5, 2, 8, 1, 7, 6, 4, 9, 0], 1448.0), ([3, 5, 2, 8, 1, 9, 0, 4, 7, 6], 1430.0), ([3, 5, 2, 8, 1, 9, 6, 0, 7, 4], 1424.0)]\n"
     ]
    }
   ],
   "source": [
    "print(\"Original solution: \", permutation)\n",
    "print(\"Makespan: \", Cmax)\n",
    "\n",
    "start_time = time.time()\n",
    "bests= best_swaps(permutation, rnd_data)\n",
    "elapsed_time = time.time() - start_time\n",
    "\n",
    "print(\"\\n\\nNeighboors:\", bests)"
   ]
  },
  {
   "cell_type": "markdown",
   "id": "a560b467-2512-4134-87e7-1a25acef4a34",
   "metadata": {},
   "source": [
    "#### Insertion methods"
   ]
  },
  {
   "cell_type": "code",
   "execution_count": 13,
   "id": "f8374ebb-925b-4971-b070-63b9ecb644be",
   "metadata": {},
   "outputs": [],
   "source": [
    "def random_insertion(solution, processing_times):\n",
    "    i = np.random.choice(list(solution))\n",
    "    k = np.random.choice(list(solution))\n",
    "    while (i == k):\n",
    "        k = np.random.choice(list(solution))\n",
    "    neighbor = solution.copy()\n",
    "    neighbor.remove(solution[i])\n",
    "    neighbor.insert(k, solution[i])\n",
    "    return neighbor, evaluate_sequence(neighbor, processing_times)"
   ]
  },
  {
   "cell_type": "code",
   "execution_count": 14,
   "id": "71d8c528-1416-4616-b65c-98f3666b188f",
   "metadata": {},
   "outputs": [
    {
     "name": "stdout",
     "output_type": "stream",
     "text": [
      "Original solution:  [3, 5, 2, 8, 1, 9, 6, 4, 7, 0]\n",
      "Makespan:  1457.0\n",
      "\n",
      "Neighboor solution:  [3, 5, 2, 8, 1, 7, 9, 6, 4, 0]\n",
      "Makespan:  1484.0\n",
      "\n",
      "Elapsed time: 0.0005185604095458984 seconds\n"
     ]
    }
   ],
   "source": [
    "print(\"Original solution: \", permutation)\n",
    "print(\"Makespan: \", Cmax)\n",
    "\n",
    "start_time = time.time()\n",
    "neighbor, neighbor_cmax = random_insertion(permutation, rnd_data)\n",
    "elapsed_time = time.time() - start_time\n",
    "\n",
    "print(\"\\nNeighboor solution: \", neighbor)\n",
    "print(\"Makespan: \", neighbor_cmax)\n",
    "print(\"\\nElapsed time:\", elapsed_time, \"seconds\")"
   ]
  },
  {
   "cell_type": "code",
   "execution_count": 15,
   "id": "4e230e0c-4012-43be-84f1-7bdca28aa8d1",
   "metadata": {},
   "outputs": [],
   "source": [
    "def best_insertion(solution, processing_times):\n",
    "    num_jobs = len(solution)\n",
    "    best_cmax = np.Infinity\n",
    "    for k1 in range(num_jobs):\n",
    "        s = solution.copy()\n",
    "        s_job = solution[k1]\n",
    "        s.remove(s_job)\n",
    "        for k2 in range(num_jobs):\n",
    "            if k1 != k2:\n",
    "                neighbor = s.copy()\n",
    "                neighbor.insert(k2, s_job)\n",
    "                cmax = evaluate_sequence(neighbor, processing_times)\n",
    "                if cmax < best_cmax:\n",
    "                    best_neighbor = neighbor\n",
    "                    best_cmax = cmax\n",
    "    return best_neighbor, best_cmax"
   ]
  },
  {
   "cell_type": "code",
   "execution_count": 16,
   "id": "1f47c7d9-750d-4ae0-ab29-164cf178b89d",
   "metadata": {},
   "outputs": [
    {
     "name": "stdout",
     "output_type": "stream",
     "text": [
      "Original solution:  [3, 5, 2, 8, 1, 9, 6, 4, 7, 0]\n",
      "Makespan:  1457.0\n",
      "\n",
      "Neighboor solution:  [5, 2, 8, 3, 1, 9, 6, 4, 7, 0]\n",
      "Makespan:  1332.0\n",
      "\n",
      "Elapsed time: 0.02892279624938965 seconds\n"
     ]
    }
   ],
   "source": [
    "print(\"Original solution: \", permutation)\n",
    "print(\"Makespan: \", Cmax)\n",
    "\n",
    "start_time = time.time()\n",
    "neighbor, neighbor_cmax = best_insertion(permutation, rnd_data)\n",
    "elapsed_time = time.time() - start_time\n",
    "\n",
    "print(\"\\nNeighboor solution: \", neighbor)\n",
    "print(\"Makespan: \", neighbor_cmax)\n",
    "print(\"\\nElapsed time:\", elapsed_time, \"seconds\")"
   ]
  },
  {
   "cell_type": "code",
   "execution_count": 17,
   "id": "b00ad379-861e-4717-ad36-6f7f84081fc4",
   "metadata": {},
   "outputs": [],
   "source": [
    "def best_edge_insertion(solution, processing_times):\n",
    "    num_jobs = len(solution)\n",
    "    best_cmax = np.Infinity\n",
    "    for k1 in range(num_jobs-1):\n",
    "        s = solution.copy()\n",
    "        s_job1 = s[k1] \n",
    "        s_job2 = s[k1+1]\n",
    "        s.remove(s_job1)\n",
    "        s.remove(s_job2)\n",
    "        for k2 in range(num_jobs-1):\n",
    "            if(k1 != k2):\n",
    "                neighbor = s.copy()\n",
    "                neighbor.insert(k2, s_job1)\n",
    "                neighbor.insert(k2+1, s_job2)\n",
    "                cmax = evaluate_sequence(neighbor, processing_times)\n",
    "                if cmax < best_cmax:\n",
    "                    best_neighbor = neighbor\n",
    "                    best_cmax = cmax\n",
    "    return best_neighbor, best_cmax"
   ]
  },
  {
   "cell_type": "code",
   "execution_count": 18,
   "id": "b063869a-9c1e-4f74-beca-3fadebb7058d",
   "metadata": {},
   "outputs": [
    {
     "name": "stdout",
     "output_type": "stream",
     "text": [
      "Original solution:  [3, 5, 2, 8, 1, 9, 6, 4, 7, 0]\n",
      "Makespan:  1457.0\n",
      "\n",
      "Neighboor solution:  [5, 2, 3, 8, 1, 9, 6, 4, 7, 0]\n",
      "Makespan:  1363.0\n",
      "\n",
      "Elapsed time: 0.01795339584350586 seconds\n"
     ]
    }
   ],
   "source": [
    "print(\"Original solution: \", permutation)\n",
    "print(\"Makespan: \", Cmax)\n",
    "\n",
    "start_time = time.time()\n",
    "neighbor, neighbor_cmax = best_edge_insertion(permutation, rnd_data)\n",
    "elapsed_time = time.time() - start_time\n",
    "\n",
    "print(\"\\nNeighboor solution: \", neighbor)\n",
    "print(\"Makespan: \", neighbor_cmax)\n",
    "print(\"\\nElapsed time:\", elapsed_time, \"seconds\")"
   ]
  },
  {
   "cell_type": "markdown",
   "id": "ab575cb5-db64-496b-b3b2-63b66c4eb4da",
   "metadata": {},
   "source": [
    "## Hill Climbing"
   ]
  },
  {
   "cell_type": "markdown",
   "id": "34af2173-3f1a-4714-9e7b-630c30504162",
   "metadata": {},
   "source": [
    "#### Simple Hill climbing"
   ]
  },
  {
   "cell_type": "markdown",
   "id": "a47c4fde-8f53-4d33-9b05-a68fb69053ae",
   "metadata": {},
   "source": [
    "It examines the neighboring nodes one by one and selects the first neighboring node which optimizes the current cost as the next node. "
   ]
  },
  {
   "cell_type": "code",
   "execution_count": 19,
   "id": "da04b71a-d038-4f94-9249-51970f08411c",
   "metadata": {},
   "outputs": [],
   "source": [
    "def simple_hill_climbing(solution, processing_times, nb_iter=10000):\n",
    "    x = solution\n",
    "    cmax = evaluate_sequence(solution, processing_times)\n",
    "    iterations = 0\n",
    "    while iterations < nb_iter:\n",
    "        best_neighbor, best_cmax  = best_first_swap(x, processing_times)\n",
    "        if best_cmax == cmax:\n",
    "            return best_neighbor, best_cmax, iterations\n",
    "        x = best_neighbor\n",
    "        cmax = best_cmax\n",
    "        iterations += 1\n",
    "    return x, cmax, iterations"
   ]
  },
  {
   "cell_type": "code",
   "execution_count": 20,
   "id": "c07d478c-636d-429d-aa09-15545cf68ab4",
   "metadata": {},
   "outputs": [
    {
     "name": "stdout",
     "output_type": "stream",
     "text": [
      "Original solution:  [3, 5, 2, 8, 1, 9, 6, 4, 7, 0]\n",
      "Makespan:  1457.0\n",
      "\n",
      "Best solution found:  [5, 3, 6, 9, 2, 0, 1, 8, 7, 4]\n",
      "Makespan:  1228.0\n",
      "Number of iterations:  10\n",
      "\n",
      "Elapsed time: 0.08487796783447266 seconds\n"
     ]
    }
   ],
   "source": [
    "print(\"Original solution: \", permutation)\n",
    "print(\"Makespan: \", Cmax)\n",
    "\n",
    "start_time = time.time()\n",
    "best_solution, best_cmax, nb_iterations = simple_hill_climbing(permutation, rnd_data)\n",
    "elapsed_time = time.time() - start_time\n",
    "\n",
    "print(\"\\nBest solution found: \", best_solution)\n",
    "print(\"Makespan: \", best_cmax)\n",
    "print(\"Number of iterations: \", nb_iterations)\n",
    "print(\"\\nElapsed time:\", elapsed_time, \"seconds\")"
   ]
  },
  {
   "cell_type": "markdown",
   "id": "ed4bc07b-bdad-49b7-afc1-43495c0fa5d6",
   "metadata": {},
   "source": [
    "#### Steepest-Ascent Hill climbing"
   ]
  },
  {
   "cell_type": "code",
   "execution_count": 21,
   "id": "95d320c1-6831-49ce-8400-bd0bcbc279f5",
   "metadata": {},
   "outputs": [],
   "source": [
    "def steepest_ascent_hill_climbing(solution, processing_times, nb_iter=1000):\n",
    "    x = solution\n",
    "    cmax = evaluate_sequence(solution, processing_times)\n",
    "    iterations = 0\n",
    "    while iterations < nb_iter:\n",
    "        best_neighbor, best_cmax = best_swap(solution, processing_times)\n",
    "        if best_cmax > cmax:\n",
    "            return x, cmax\n",
    "        else:\n",
    "            x = best_neighbor\n",
    "            cmax = best_cmax\n",
    "            iterations += 1\n",
    "    return best_neighbor, best_cmax, iterations"
   ]
  },
  {
   "cell_type": "code",
   "execution_count": 22,
   "id": "5efdbee7-ff95-4b36-b121-2eb782287b5d",
   "metadata": {},
   "outputs": [
    {
     "name": "stdout",
     "output_type": "stream",
     "text": [
      "Original solution:  [3, 5, 2, 8, 1, 9, 6, 4, 7, 0]\n",
      "Makespan:  1457.0\n",
      "\n",
      "Best solution found:  [3, 5, 6, 8, 1, 9, 2, 4, 7, 0]\n",
      "Makespan:  1379.0\n",
      "Number of iterations:  1000\n",
      "\n",
      "Elapsed time: 11.794685363769531 seconds\n"
     ]
    }
   ],
   "source": [
    "print(\"Original solution: \", permutation)\n",
    "print(\"Makespan: \", Cmax)\n",
    "\n",
    "start_time = time.time()\n",
    "best_solution, best_cmax, nb_iterations = steepest_ascent_hill_climbing(permutation, rnd_data)\n",
    "elapsed_time = time.time() - start_time\n",
    "\n",
    "print(\"\\nBest solution found: \", best_solution)\n",
    "print(\"Makespan: \", best_cmax)\n",
    "print(\"Number of iterations: \", nb_iterations)\n",
    "print(\"\\nElapsed time:\", elapsed_time, \"seconds\")"
   ]
  },
  {
   "cell_type": "markdown",
   "id": "88dff591-ef9f-41f7-b1a4-41d89e2f0f6e",
   "metadata": {},
   "source": [
    "#### Stochastic Hill climbing"
   ]
  },
  {
   "cell_type": "code",
   "execution_count": 23,
   "id": "56c000e8-4e8c-4370-b5cc-598491ed0e73",
   "metadata": {},
   "outputs": [],
   "source": [
    "def stochastic_hill_climbing(solution, processing_times, nb_iter=1000):\n",
    "    x = solution\n",
    "    cmax = evaluate_sequence(solution, processing_times)\n",
    "    iterations = 0\n",
    "    while iterations < nb_iter:\n",
    "        best_neighbours  = best_swaps(x, processing_times)\n",
    "        if len(best_neighbours) == 0:\n",
    "            return x, cmax, iterations\n",
    "        i = random.randint(0,len(best_neighbours) - 1)\n",
    "        best_neighbor, best_cmax = best_neighbours[i]\n",
    "        if best_cmax > cmax:\n",
    "            return x, cmax, iterations\n",
    "        x = best_neighbor\n",
    "        cmax = best_cmax\n",
    "        iterations += 1\n",
    "    return best_neighbor, best_cmax, iterations"
   ]
  },
  {
   "cell_type": "code",
   "execution_count": 24,
   "id": "2762cc31-522c-4332-b7dc-dc742aaaa569",
   "metadata": {},
   "outputs": [
    {
     "name": "stdout",
     "output_type": "stream",
     "text": [
      "Original solution:  [3, 5, 2, 8, 1, 9, 6, 4, 7, 0]\n",
      "Makespan:  1457.0\n",
      "\n",
      "Best solution found:  [5, 3, 6, 9, 2, 0, 1, 8, 7, 4]\n",
      "Makespan:  1228.0\n",
      "Number of iterations:  12\n",
      "\n",
      "Elapsed time: 0.18952059745788574 seconds\n"
     ]
    }
   ],
   "source": [
    "print(\"Original solution: \", permutation)\n",
    "print(\"Makespan: \", Cmax)\n",
    "\n",
    "start_time = time.time()\n",
    "best_solution, best_cmax, nb_iterations = stochastic_hill_climbing(permutation, rnd_data)\n",
    "elapsed_time = time.time() - start_time\n",
    "\n",
    "print(\"\\nBest solution found: \", best_solution)\n",
    "print(\"Makespan: \", best_cmax)\n",
    "print(\"Number of iterations: \", nb_iterations)\n",
    "print(\"\\nElapsed time:\", elapsed_time, \"seconds\")"
   ]
  },
  {
   "cell_type": "markdown",
   "id": "c8a5b5c0-3fac-43ab-838c-353dcbe41ddf",
   "metadata": {},
   "source": [
    "## Simulated annealing"
   ]
  },
  {
   "cell_type": "code",
   "execution_count": 25,
   "id": "25e80a8a-198d-4d3f-86d7-845675e09add",
   "metadata": {},
   "outputs": [],
   "source": [
    "def get_neighbor(solution, processing_times):\n",
    "    i = random.randint(0, 5)\n",
    "    # Swapping methods\n",
    "    if i == 0:\n",
    "        neighbor, cost = random_swap(solution, processing_times)\n",
    "    elif i == 1:\n",
    "        neighbor, cost = best_swap(solution, processing_times)\n",
    "    elif i == 2:\n",
    "        neighbor, cost = best_first_swap(solution, processing_times)\n",
    "    # Insertion methods\n",
    "    elif i == 3:\n",
    "        neighbor, cost = random_insertion(solution, processing_times)\n",
    "    elif i == 4:\n",
    "        neighbor, cost = best_edge_insertion(solution, processing_times)\n",
    "    else:\n",
    "        neighbor, cost = best_insertion(solution, processing_times)\n",
    "    return neighbor, cost"
   ]
  },
  {
   "cell_type": "code",
   "execution_count": 26,
   "id": "5231a745-f2d5-4e7e-8dd5-8bdfefdfd19e",
   "metadata": {},
   "outputs": [],
   "source": [
    "def simulated_annealing(initial_solution, processing_times, initial_temp=90, final_temp=1, alpha=0.1):\n",
    "    current_temp = initial_temp\n",
    "    current_solution = initial_solution.copy()\n",
    "    current_cost = evaluate_sequence(initial_solution, processing_times)\n",
    "    while current_temp > final_temp:\n",
    "        neighbor, neighbor_cost  = get_neighbor(current_solution, processing_times)\n",
    "        cost_diff = current_cost - neighbor_cost\n",
    "        if cost_diff > 0:\n",
    "            current_solution = neighbor\n",
    "            current_cost = neighbor_cost\n",
    "        else:\n",
    "            if random.uniform(0, 1) < math.exp(-cost_diff / current_temp):\n",
    "                solution = neighbor\n",
    "        current_temp -= alpha\n",
    "    return current_solution, current_cost"
   ]
  },
  {
   "cell_type": "code",
   "execution_count": 27,
   "id": "024b0466-c819-485a-921d-ffe9e557946a",
   "metadata": {},
   "outputs": [
    {
     "name": "stdout",
     "output_type": "stream",
     "text": [
      "Best solution found:  [5, 3, 6, 9, 2, 1, 7, 0, 4, 8]\n",
      "Makespan:  1228.0\n",
      "Elapsed time: 11.03171181678772 seconds\n"
     ]
    }
   ],
   "source": [
    "start_time = time.time()\n",
    "best_solution, best_solution_length = simulated_annealing(permutation, rnd_data)\n",
    "elapsed_time = time.time() - start_time\n",
    "\n",
    "print(\"Best solution found: \", best_solution)\n",
    "print(\"Makespan: \", evaluate_sequence(best_solution, rnd_data))\n",
    "print(\"Elapsed time:\", elapsed_time, \"seconds\")"
   ]
  }
 ],
 "metadata": {
  "kernelspec": {
   "display_name": "Python 3 (ipykernel)",
   "language": "python",
   "name": "python3"
  },
  "language_info": {
   "codemirror_mode": {
    "name": "ipython",
    "version": 3
   },
   "file_extension": ".py",
   "mimetype": "text/x-python",
   "name": "python",
   "nbconvert_exporter": "python",
   "pygments_lexer": "ipython3",
   "version": "3.10.9"
  }
 },
 "nbformat": 4,
 "nbformat_minor": 5
}
